{
 "cells": [
  {
   "cell_type": "code",
   "execution_count": 1,
   "id": "6fd03318-2f27-418d-a2a3-d5ebdde7d5d7",
   "metadata": {},
   "outputs": [],
   "source": [
    "import pandas as pd\n",
    "import numpy as np\n",
    "import plotly.express as px\n",
    "\n",
    "pd.set_option('display.max_rows', None)\n",
    "pd.set_option('display.max_columns', None)\n",
    "pd.set_option('mode.chained_assignment',None)\n",
    "np.set_printoptions(threshold=np.inf)\n"
   ]
  },
  {
   "cell_type": "code",
   "execution_count": 2,
   "id": "1f4b9442-4818-4bee-862a-f11762b28995",
   "metadata": {},
   "outputs": [],
   "source": [
    "import sqlite3"
   ]
  },
  {
   "cell_type": "code",
   "execution_count": 4,
   "id": "91474659-4e39-43ff-a928-bff4df565c5d",
   "metadata": {},
   "outputs": [
    {
     "name": "stdout",
     "output_type": "stream",
     "text": [
      "C:/Users/benno/OneDrive/Data/Kaggle/Soccer/database.sqlite\n"
     ]
    }
   ],
   "source": [
    "import os\n",
    "\n",
    "for dirname, _, filenames in os.walk(\"C:/Users/benno/OneDrive/Data/Kaggle/Soccer/\"):\n",
    "    for filename in filenames:\n",
    "        print(os.path.join(dirname, filename))"
   ]
  },
  {
   "cell_type": "code",
   "execution_count": 806,
   "id": "6de1c543-79cb-4d96-a1c7-f04863210639",
   "metadata": {},
   "outputs": [],
   "source": [
    "database = \"C:/Users/benno/OneDrive/Data/Kaggle/Soccer/database.sqlite\"\n",
    "\n",
    "conn = sqlite3.connect(database)\n",
    "\n",
    "tables = pd.read_sql(\"\"\" SELECT * FROM sqlite_master WHERE type='table';\"\"\", conn)\n",
    "\n"
   ]
  },
  {
   "cell_type": "code",
   "execution_count": 8,
   "id": "b953758e-c9a5-456a-8f5e-edd41a306f53",
   "metadata": {},
   "outputs": [
    {
     "data": {
      "text/html": [
       "<div>\n",
       "<style scoped>\n",
       "    .dataframe tbody tr th:only-of-type {\n",
       "        vertical-align: middle;\n",
       "    }\n",
       "\n",
       "    .dataframe tbody tr th {\n",
       "        vertical-align: top;\n",
       "    }\n",
       "\n",
       "    .dataframe thead th {\n",
       "        text-align: right;\n",
       "    }\n",
       "</style>\n",
       "<table border=\"1\" class=\"dataframe\">\n",
       "  <thead>\n",
       "    <tr style=\"text-align: right;\">\n",
       "      <th></th>\n",
       "      <th>type</th>\n",
       "      <th>name</th>\n",
       "      <th>tbl_name</th>\n",
       "      <th>rootpage</th>\n",
       "      <th>sql</th>\n",
       "    </tr>\n",
       "  </thead>\n",
       "  <tbody>\n",
       "    <tr>\n",
       "      <th>0</th>\n",
       "      <td>table</td>\n",
       "      <td>sqlite_sequence</td>\n",
       "      <td>sqlite_sequence</td>\n",
       "      <td>4</td>\n",
       "      <td>CREATE TABLE sqlite_sequence(name,seq)</td>\n",
       "    </tr>\n",
       "    <tr>\n",
       "      <th>1</th>\n",
       "      <td>table</td>\n",
       "      <td>Player_Attributes</td>\n",
       "      <td>Player_Attributes</td>\n",
       "      <td>11</td>\n",
       "      <td>CREATE TABLE \"Player_Attributes\" (\\n\\t`id`\\tIN...</td>\n",
       "    </tr>\n",
       "    <tr>\n",
       "      <th>2</th>\n",
       "      <td>table</td>\n",
       "      <td>Player</td>\n",
       "      <td>Player</td>\n",
       "      <td>14</td>\n",
       "      <td>CREATE TABLE `Player` (\\n\\t`id`\\tINTEGER PRIMA...</td>\n",
       "    </tr>\n",
       "    <tr>\n",
       "      <th>3</th>\n",
       "      <td>table</td>\n",
       "      <td>Match</td>\n",
       "      <td>Match</td>\n",
       "      <td>18</td>\n",
       "      <td>CREATE TABLE `Match` (\\n\\t`id`\\tINTEGER PRIMAR...</td>\n",
       "    </tr>\n",
       "    <tr>\n",
       "      <th>4</th>\n",
       "      <td>table</td>\n",
       "      <td>League</td>\n",
       "      <td>League</td>\n",
       "      <td>24</td>\n",
       "      <td>CREATE TABLE `League` (\\n\\t`id`\\tINTEGER PRIMA...</td>\n",
       "    </tr>\n",
       "    <tr>\n",
       "      <th>5</th>\n",
       "      <td>table</td>\n",
       "      <td>Country</td>\n",
       "      <td>Country</td>\n",
       "      <td>26</td>\n",
       "      <td>CREATE TABLE `Country` (\\n\\t`id`\\tINTEGER PRIM...</td>\n",
       "    </tr>\n",
       "    <tr>\n",
       "      <th>6</th>\n",
       "      <td>table</td>\n",
       "      <td>Team</td>\n",
       "      <td>Team</td>\n",
       "      <td>29</td>\n",
       "      <td>CREATE TABLE \"Team\" (\\n\\t`id`\\tINTEGER PRIMARY...</td>\n",
       "    </tr>\n",
       "    <tr>\n",
       "      <th>7</th>\n",
       "      <td>table</td>\n",
       "      <td>Team_Attributes</td>\n",
       "      <td>Team_Attributes</td>\n",
       "      <td>2</td>\n",
       "      <td>CREATE TABLE `Team_Attributes` (\\n\\t`id`\\tINTE...</td>\n",
       "    </tr>\n",
       "  </tbody>\n",
       "</table>\n",
       "</div>"
      ],
      "text/plain": [
       "    type               name           tbl_name  rootpage  \\\n",
       "0  table    sqlite_sequence    sqlite_sequence         4   \n",
       "1  table  Player_Attributes  Player_Attributes        11   \n",
       "2  table             Player             Player        14   \n",
       "3  table              Match              Match        18   \n",
       "4  table             League             League        24   \n",
       "5  table            Country            Country        26   \n",
       "6  table               Team               Team        29   \n",
       "7  table    Team_Attributes    Team_Attributes         2   \n",
       "\n",
       "                                                 sql  \n",
       "0             CREATE TABLE sqlite_sequence(name,seq)  \n",
       "1  CREATE TABLE \"Player_Attributes\" (\\n\\t`id`\\tIN...  \n",
       "2  CREATE TABLE `Player` (\\n\\t`id`\\tINTEGER PRIMA...  \n",
       "3  CREATE TABLE `Match` (\\n\\t`id`\\tINTEGER PRIMAR...  \n",
       "4  CREATE TABLE `League` (\\n\\t`id`\\tINTEGER PRIMA...  \n",
       "5  CREATE TABLE `Country` (\\n\\t`id`\\tINTEGER PRIM...  \n",
       "6  CREATE TABLE \"Team\" (\\n\\t`id`\\tINTEGER PRIMARY...  \n",
       "7  CREATE TABLE `Team_Attributes` (\\n\\t`id`\\tINTE...  "
      ]
     },
     "execution_count": 8,
     "metadata": {},
     "output_type": "execute_result"
    }
   ],
   "source": [
    "tables"
   ]
  },
  {
   "cell_type": "code",
   "execution_count": 70,
   "id": "2fec6de5-1376-4cea-882c-eac317ca75ea",
   "metadata": {},
   "outputs": [
    {
     "data": {
      "text/html": [
       "<div>\n",
       "<style scoped>\n",
       "    .dataframe tbody tr th:only-of-type {\n",
       "        vertical-align: middle;\n",
       "    }\n",
       "\n",
       "    .dataframe tbody tr th {\n",
       "        vertical-align: top;\n",
       "    }\n",
       "\n",
       "    .dataframe thead th {\n",
       "        text-align: right;\n",
       "    }\n",
       "</style>\n",
       "<table border=\"1\" class=\"dataframe\">\n",
       "  <thead>\n",
       "    <tr style=\"text-align: right;\">\n",
       "      <th></th>\n",
       "      <th>id</th>\n",
       "      <th>team_fifa_api_id</th>\n",
       "      <th>team_api_id</th>\n",
       "      <th>date</th>\n",
       "      <th>buildUpPlaySpeed</th>\n",
       "      <th>buildUpPlaySpeedClass</th>\n",
       "      <th>buildUpPlayDribbling</th>\n",
       "      <th>buildUpPlayDribblingClass</th>\n",
       "      <th>buildUpPlayPassing</th>\n",
       "      <th>buildUpPlayPassingClass</th>\n",
       "      <th>buildUpPlayPositioningClass</th>\n",
       "      <th>chanceCreationPassing</th>\n",
       "      <th>chanceCreationPassingClass</th>\n",
       "      <th>chanceCreationCrossing</th>\n",
       "      <th>chanceCreationCrossingClass</th>\n",
       "      <th>chanceCreationShooting</th>\n",
       "      <th>chanceCreationShootingClass</th>\n",
       "      <th>chanceCreationPositioningClass</th>\n",
       "      <th>defencePressure</th>\n",
       "      <th>defencePressureClass</th>\n",
       "      <th>defenceAggression</th>\n",
       "      <th>defenceAggressionClass</th>\n",
       "      <th>defenceTeamWidth</th>\n",
       "      <th>defenceTeamWidthClass</th>\n",
       "      <th>defenceDefenderLineClass</th>\n",
       "    </tr>\n",
       "  </thead>\n",
       "  <tbody>\n",
       "    <tr>\n",
       "      <th>0</th>\n",
       "      <td>1</td>\n",
       "      <td>434</td>\n",
       "      <td>9930</td>\n",
       "      <td>2010-02-22 00:00:00</td>\n",
       "      <td>60</td>\n",
       "      <td>Balanced</td>\n",
       "      <td>NaN</td>\n",
       "      <td>Little</td>\n",
       "      <td>50</td>\n",
       "      <td>Mixed</td>\n",
       "      <td>Organised</td>\n",
       "      <td>60</td>\n",
       "      <td>Normal</td>\n",
       "      <td>65</td>\n",
       "      <td>Normal</td>\n",
       "      <td>55</td>\n",
       "      <td>Normal</td>\n",
       "      <td>Organised</td>\n",
       "      <td>50</td>\n",
       "      <td>Medium</td>\n",
       "      <td>55</td>\n",
       "      <td>Press</td>\n",
       "      <td>45</td>\n",
       "      <td>Normal</td>\n",
       "      <td>Cover</td>\n",
       "    </tr>\n",
       "    <tr>\n",
       "      <th>1</th>\n",
       "      <td>2</td>\n",
       "      <td>434</td>\n",
       "      <td>9930</td>\n",
       "      <td>2014-09-19 00:00:00</td>\n",
       "      <td>52</td>\n",
       "      <td>Balanced</td>\n",
       "      <td>48.0</td>\n",
       "      <td>Normal</td>\n",
       "      <td>56</td>\n",
       "      <td>Mixed</td>\n",
       "      <td>Organised</td>\n",
       "      <td>54</td>\n",
       "      <td>Normal</td>\n",
       "      <td>63</td>\n",
       "      <td>Normal</td>\n",
       "      <td>64</td>\n",
       "      <td>Normal</td>\n",
       "      <td>Organised</td>\n",
       "      <td>47</td>\n",
       "      <td>Medium</td>\n",
       "      <td>44</td>\n",
       "      <td>Press</td>\n",
       "      <td>54</td>\n",
       "      <td>Normal</td>\n",
       "      <td>Cover</td>\n",
       "    </tr>\n",
       "    <tr>\n",
       "      <th>2</th>\n",
       "      <td>3</td>\n",
       "      <td>434</td>\n",
       "      <td>9930</td>\n",
       "      <td>2015-09-10 00:00:00</td>\n",
       "      <td>47</td>\n",
       "      <td>Balanced</td>\n",
       "      <td>41.0</td>\n",
       "      <td>Normal</td>\n",
       "      <td>54</td>\n",
       "      <td>Mixed</td>\n",
       "      <td>Organised</td>\n",
       "      <td>54</td>\n",
       "      <td>Normal</td>\n",
       "      <td>63</td>\n",
       "      <td>Normal</td>\n",
       "      <td>64</td>\n",
       "      <td>Normal</td>\n",
       "      <td>Organised</td>\n",
       "      <td>47</td>\n",
       "      <td>Medium</td>\n",
       "      <td>44</td>\n",
       "      <td>Press</td>\n",
       "      <td>54</td>\n",
       "      <td>Normal</td>\n",
       "      <td>Cover</td>\n",
       "    </tr>\n",
       "    <tr>\n",
       "      <th>3</th>\n",
       "      <td>4</td>\n",
       "      <td>77</td>\n",
       "      <td>8485</td>\n",
       "      <td>2010-02-22 00:00:00</td>\n",
       "      <td>70</td>\n",
       "      <td>Fast</td>\n",
       "      <td>NaN</td>\n",
       "      <td>Little</td>\n",
       "      <td>70</td>\n",
       "      <td>Long</td>\n",
       "      <td>Organised</td>\n",
       "      <td>70</td>\n",
       "      <td>Risky</td>\n",
       "      <td>70</td>\n",
       "      <td>Lots</td>\n",
       "      <td>70</td>\n",
       "      <td>Lots</td>\n",
       "      <td>Organised</td>\n",
       "      <td>60</td>\n",
       "      <td>Medium</td>\n",
       "      <td>70</td>\n",
       "      <td>Double</td>\n",
       "      <td>70</td>\n",
       "      <td>Wide</td>\n",
       "      <td>Cover</td>\n",
       "    </tr>\n",
       "    <tr>\n",
       "      <th>4</th>\n",
       "      <td>5</td>\n",
       "      <td>77</td>\n",
       "      <td>8485</td>\n",
       "      <td>2011-02-22 00:00:00</td>\n",
       "      <td>47</td>\n",
       "      <td>Balanced</td>\n",
       "      <td>NaN</td>\n",
       "      <td>Little</td>\n",
       "      <td>52</td>\n",
       "      <td>Mixed</td>\n",
       "      <td>Organised</td>\n",
       "      <td>53</td>\n",
       "      <td>Normal</td>\n",
       "      <td>48</td>\n",
       "      <td>Normal</td>\n",
       "      <td>52</td>\n",
       "      <td>Normal</td>\n",
       "      <td>Organised</td>\n",
       "      <td>47</td>\n",
       "      <td>Medium</td>\n",
       "      <td>47</td>\n",
       "      <td>Press</td>\n",
       "      <td>52</td>\n",
       "      <td>Normal</td>\n",
       "      <td>Cover</td>\n",
       "    </tr>\n",
       "    <tr>\n",
       "      <th>5</th>\n",
       "      <td>6</td>\n",
       "      <td>77</td>\n",
       "      <td>8485</td>\n",
       "      <td>2012-02-22 00:00:00</td>\n",
       "      <td>58</td>\n",
       "      <td>Balanced</td>\n",
       "      <td>NaN</td>\n",
       "      <td>Little</td>\n",
       "      <td>62</td>\n",
       "      <td>Mixed</td>\n",
       "      <td>Organised</td>\n",
       "      <td>45</td>\n",
       "      <td>Normal</td>\n",
       "      <td>70</td>\n",
       "      <td>Lots</td>\n",
       "      <td>55</td>\n",
       "      <td>Normal</td>\n",
       "      <td>Organised</td>\n",
       "      <td>40</td>\n",
       "      <td>Medium</td>\n",
       "      <td>40</td>\n",
       "      <td>Press</td>\n",
       "      <td>60</td>\n",
       "      <td>Normal</td>\n",
       "      <td>Cover</td>\n",
       "    </tr>\n",
       "    <tr>\n",
       "      <th>6</th>\n",
       "      <td>7</td>\n",
       "      <td>77</td>\n",
       "      <td>8485</td>\n",
       "      <td>2013-09-20 00:00:00</td>\n",
       "      <td>62</td>\n",
       "      <td>Balanced</td>\n",
       "      <td>NaN</td>\n",
       "      <td>Little</td>\n",
       "      <td>45</td>\n",
       "      <td>Mixed</td>\n",
       "      <td>Organised</td>\n",
       "      <td>40</td>\n",
       "      <td>Normal</td>\n",
       "      <td>50</td>\n",
       "      <td>Normal</td>\n",
       "      <td>55</td>\n",
       "      <td>Normal</td>\n",
       "      <td>Organised</td>\n",
       "      <td>42</td>\n",
       "      <td>Medium</td>\n",
       "      <td>42</td>\n",
       "      <td>Press</td>\n",
       "      <td>60</td>\n",
       "      <td>Normal</td>\n",
       "      <td>Cover</td>\n",
       "    </tr>\n",
       "    <tr>\n",
       "      <th>7</th>\n",
       "      <td>8</td>\n",
       "      <td>77</td>\n",
       "      <td>8485</td>\n",
       "      <td>2014-09-19 00:00:00</td>\n",
       "      <td>58</td>\n",
       "      <td>Balanced</td>\n",
       "      <td>64.0</td>\n",
       "      <td>Normal</td>\n",
       "      <td>62</td>\n",
       "      <td>Mixed</td>\n",
       "      <td>Organised</td>\n",
       "      <td>56</td>\n",
       "      <td>Normal</td>\n",
       "      <td>68</td>\n",
       "      <td>Lots</td>\n",
       "      <td>57</td>\n",
       "      <td>Normal</td>\n",
       "      <td>Organised</td>\n",
       "      <td>41</td>\n",
       "      <td>Medium</td>\n",
       "      <td>42</td>\n",
       "      <td>Press</td>\n",
       "      <td>60</td>\n",
       "      <td>Normal</td>\n",
       "      <td>Cover</td>\n",
       "    </tr>\n",
       "    <tr>\n",
       "      <th>8</th>\n",
       "      <td>9</td>\n",
       "      <td>77</td>\n",
       "      <td>8485</td>\n",
       "      <td>2015-09-10 00:00:00</td>\n",
       "      <td>59</td>\n",
       "      <td>Balanced</td>\n",
       "      <td>64.0</td>\n",
       "      <td>Normal</td>\n",
       "      <td>53</td>\n",
       "      <td>Mixed</td>\n",
       "      <td>Organised</td>\n",
       "      <td>51</td>\n",
       "      <td>Normal</td>\n",
       "      <td>72</td>\n",
       "      <td>Lots</td>\n",
       "      <td>63</td>\n",
       "      <td>Normal</td>\n",
       "      <td>Free Form</td>\n",
       "      <td>49</td>\n",
       "      <td>Medium</td>\n",
       "      <td>45</td>\n",
       "      <td>Press</td>\n",
       "      <td>63</td>\n",
       "      <td>Normal</td>\n",
       "      <td>Cover</td>\n",
       "    </tr>\n",
       "    <tr>\n",
       "      <th>9</th>\n",
       "      <td>10</td>\n",
       "      <td>614</td>\n",
       "      <td>8576</td>\n",
       "      <td>2010-02-22 00:00:00</td>\n",
       "      <td>60</td>\n",
       "      <td>Balanced</td>\n",
       "      <td>NaN</td>\n",
       "      <td>Little</td>\n",
       "      <td>40</td>\n",
       "      <td>Mixed</td>\n",
       "      <td>Organised</td>\n",
       "      <td>45</td>\n",
       "      <td>Normal</td>\n",
       "      <td>35</td>\n",
       "      <td>Normal</td>\n",
       "      <td>55</td>\n",
       "      <td>Normal</td>\n",
       "      <td>Organised</td>\n",
       "      <td>30</td>\n",
       "      <td>Deep</td>\n",
       "      <td>70</td>\n",
       "      <td>Double</td>\n",
       "      <td>30</td>\n",
       "      <td>Narrow</td>\n",
       "      <td>Offside Trap</td>\n",
       "    </tr>\n",
       "  </tbody>\n",
       "</table>\n",
       "</div>"
      ],
      "text/plain": [
       "   id  team_fifa_api_id  team_api_id                 date  buildUpPlaySpeed  \\\n",
       "0   1               434         9930  2010-02-22 00:00:00                60   \n",
       "1   2               434         9930  2014-09-19 00:00:00                52   \n",
       "2   3               434         9930  2015-09-10 00:00:00                47   \n",
       "3   4                77         8485  2010-02-22 00:00:00                70   \n",
       "4   5                77         8485  2011-02-22 00:00:00                47   \n",
       "5   6                77         8485  2012-02-22 00:00:00                58   \n",
       "6   7                77         8485  2013-09-20 00:00:00                62   \n",
       "7   8                77         8485  2014-09-19 00:00:00                58   \n",
       "8   9                77         8485  2015-09-10 00:00:00                59   \n",
       "9  10               614         8576  2010-02-22 00:00:00                60   \n",
       "\n",
       "  buildUpPlaySpeedClass  buildUpPlayDribbling buildUpPlayDribblingClass  \\\n",
       "0              Balanced                   NaN                    Little   \n",
       "1              Balanced                  48.0                    Normal   \n",
       "2              Balanced                  41.0                    Normal   \n",
       "3                  Fast                   NaN                    Little   \n",
       "4              Balanced                   NaN                    Little   \n",
       "5              Balanced                   NaN                    Little   \n",
       "6              Balanced                   NaN                    Little   \n",
       "7              Balanced                  64.0                    Normal   \n",
       "8              Balanced                  64.0                    Normal   \n",
       "9              Balanced                   NaN                    Little   \n",
       "\n",
       "   buildUpPlayPassing buildUpPlayPassingClass buildUpPlayPositioningClass  \\\n",
       "0                  50                   Mixed                   Organised   \n",
       "1                  56                   Mixed                   Organised   \n",
       "2                  54                   Mixed                   Organised   \n",
       "3                  70                    Long                   Organised   \n",
       "4                  52                   Mixed                   Organised   \n",
       "5                  62                   Mixed                   Organised   \n",
       "6                  45                   Mixed                   Organised   \n",
       "7                  62                   Mixed                   Organised   \n",
       "8                  53                   Mixed                   Organised   \n",
       "9                  40                   Mixed                   Organised   \n",
       "\n",
       "   chanceCreationPassing chanceCreationPassingClass  chanceCreationCrossing  \\\n",
       "0                     60                     Normal                      65   \n",
       "1                     54                     Normal                      63   \n",
       "2                     54                     Normal                      63   \n",
       "3                     70                      Risky                      70   \n",
       "4                     53                     Normal                      48   \n",
       "5                     45                     Normal                      70   \n",
       "6                     40                     Normal                      50   \n",
       "7                     56                     Normal                      68   \n",
       "8                     51                     Normal                      72   \n",
       "9                     45                     Normal                      35   \n",
       "\n",
       "  chanceCreationCrossingClass  chanceCreationShooting  \\\n",
       "0                      Normal                      55   \n",
       "1                      Normal                      64   \n",
       "2                      Normal                      64   \n",
       "3                        Lots                      70   \n",
       "4                      Normal                      52   \n",
       "5                        Lots                      55   \n",
       "6                      Normal                      55   \n",
       "7                        Lots                      57   \n",
       "8                        Lots                      63   \n",
       "9                      Normal                      55   \n",
       "\n",
       "  chanceCreationShootingClass chanceCreationPositioningClass  defencePressure  \\\n",
       "0                      Normal                      Organised               50   \n",
       "1                      Normal                      Organised               47   \n",
       "2                      Normal                      Organised               47   \n",
       "3                        Lots                      Organised               60   \n",
       "4                      Normal                      Organised               47   \n",
       "5                      Normal                      Organised               40   \n",
       "6                      Normal                      Organised               42   \n",
       "7                      Normal                      Organised               41   \n",
       "8                      Normal                      Free Form               49   \n",
       "9                      Normal                      Organised               30   \n",
       "\n",
       "  defencePressureClass  defenceAggression defenceAggressionClass  \\\n",
       "0               Medium                 55                  Press   \n",
       "1               Medium                 44                  Press   \n",
       "2               Medium                 44                  Press   \n",
       "3               Medium                 70                 Double   \n",
       "4               Medium                 47                  Press   \n",
       "5               Medium                 40                  Press   \n",
       "6               Medium                 42                  Press   \n",
       "7               Medium                 42                  Press   \n",
       "8               Medium                 45                  Press   \n",
       "9                 Deep                 70                 Double   \n",
       "\n",
       "   defenceTeamWidth defenceTeamWidthClass defenceDefenderLineClass  \n",
       "0                45                Normal                    Cover  \n",
       "1                54                Normal                    Cover  \n",
       "2                54                Normal                    Cover  \n",
       "3                70                  Wide                    Cover  \n",
       "4                52                Normal                    Cover  \n",
       "5                60                Normal                    Cover  \n",
       "6                60                Normal                    Cover  \n",
       "7                60                Normal                    Cover  \n",
       "8                63                Normal                    Cover  \n",
       "9                30                Narrow             Offside Trap  "
      ]
     },
     "execution_count": 70,
     "metadata": {},
     "output_type": "execute_result"
    }
   ],
   "source": [
    "team_attrs[:10]"
   ]
  },
  {
   "cell_type": "code",
   "execution_count": 64,
   "id": "2b9075e4-8523-423e-a130-032567582466",
   "metadata": {},
   "outputs": [],
   "source": [
    "cols = [\"buildUpPlaySpeed\", \n",
    "        # \"buildUpPlayDribbling\", \n",
    "        \"buildUpPlayPassing\", \"chanceCreationPassing\", \n",
    "        \"chanceCreationCrossing\", \n",
    "        \"chanceCreationShooting\",\n",
    "        \"defencePressure\", \"defenceAggression\", \"defenceTeamWidth\" ]"
   ]
  },
  {
   "cell_type": "code",
   "execution_count": 43,
   "id": "c130c1f6-4ec1-4042-99c3-3a657aada477",
   "metadata": {},
   "outputs": [],
   "source": [
    "cols = [\"buildUpPlaySpeed\", \"buildUpPlayDribbling\", \"buildUpPlayPassing\", \"chanceCreationPassing\", \"chanceCreationCrossing\" ]"
   ]
  },
  {
   "cell_type": "code",
   "execution_count": 61,
   "id": "3ae7fc3f-be23-48c3-9cdd-b744096afa59",
   "metadata": {},
   "outputs": [],
   "source": [
    "cols = [\"buildUpPlaySpeed\", \"buildUpPlayPassing\", \"chanceCreationPassing\", \"chanceCreationCrossing\", \"chanceCreationShooting\",]"
   ]
  },
  {
   "cell_type": "code",
   "execution_count": 51,
   "id": "7254a14d-9b96-4aba-a815-1a20fe17048f",
   "metadata": {},
   "outputs": [],
   "source": [
    "def star_chart(soccer_dataset, idx):\n",
    "    samp = soccer_dataset[cols].iloc[idx, ::]\n",
    "    samp1 = pd.DataFrame(samp).reset_index().rename(columns={\"index\": \"dim\", idx: \"score\"})\n",
    "    return px.line_polar(samp1, r=\"score\", theta=\"dim\", line_close=True)"
   ]
  },
  {
   "cell_type": "code",
   "execution_count": 67,
   "id": "17af47b9-2101-4f72-a88a-fd84858ddae9",
   "metadata": {},
   "outputs": [
    {
     "data": {
      "application/vnd.plotly.v1+json": {
       "config": {
        "plotlyServerURL": "https://plot.ly"
       },
       "data": [
        {
         "hovertemplate": "score=%{r}<br>dim=%{theta}<extra></extra>",
         "legendgroup": "",
         "line": {
          "color": "#636efa",
          "dash": "solid"
         },
         "marker": {
          "symbol": "circle"
         },
         "mode": "lines",
         "name": "",
         "r": [
          65,
          45,
          65,
          65,
          50,
          45,
          45,
          50,
          65
         ],
         "showlegend": false,
         "subplot": "polar",
         "theta": [
          "buildUpPlaySpeed",
          "buildUpPlayPassing",
          "chanceCreationPassing",
          "chanceCreationCrossing",
          "chanceCreationShooting",
          "defencePressure",
          "defenceAggression",
          "defenceTeamWidth",
          "buildUpPlaySpeed"
         ],
         "type": "scatterpolar"
        }
       ],
       "layout": {
        "autosize": true,
        "legend": {
         "tracegroupgap": 0
        },
        "margin": {
         "t": 60
        },
        "polar": {
         "angularaxis": {
          "direction": "clockwise",
          "rotation": 90,
          "type": "category"
         },
         "domain": {
          "x": [
           0,
           1
          ],
          "y": [
           0,
           1
          ]
         },
         "radialaxis": {
          "autorange": true,
          "range": [
           0,
           65
          ],
          "type": "linear"
         }
        },
        "template": {
         "data": {
          "bar": [
           {
            "error_x": {
             "color": "#2a3f5f"
            },
            "error_y": {
             "color": "#2a3f5f"
            },
            "marker": {
             "line": {
              "color": "#E5ECF6",
              "width": 0.5
             },
             "pattern": {
              "fillmode": "overlay",
              "size": 10,
              "solidity": 0.2
             }
            },
            "type": "bar"
           }
          ],
          "barpolar": [
           {
            "marker": {
             "line": {
              "color": "#E5ECF6",
              "width": 0.5
             },
             "pattern": {
              "fillmode": "overlay",
              "size": 10,
              "solidity": 0.2
             }
            },
            "type": "barpolar"
           }
          ],
          "carpet": [
           {
            "aaxis": {
             "endlinecolor": "#2a3f5f",
             "gridcolor": "white",
             "linecolor": "white",
             "minorgridcolor": "white",
             "startlinecolor": "#2a3f5f"
            },
            "baxis": {
             "endlinecolor": "#2a3f5f",
             "gridcolor": "white",
             "linecolor": "white",
             "minorgridcolor": "white",
             "startlinecolor": "#2a3f5f"
            },
            "type": "carpet"
           }
          ],
          "choropleth": [
           {
            "colorbar": {
             "outlinewidth": 0,
             "ticks": ""
            },
            "type": "choropleth"
           }
          ],
          "contour": [
           {
            "colorbar": {
             "outlinewidth": 0,
             "ticks": ""
            },
            "colorscale": [
             [
              0,
              "#0d0887"
             ],
             [
              0.1111111111111111,
              "#46039f"
             ],
             [
              0.2222222222222222,
              "#7201a8"
             ],
             [
              0.3333333333333333,
              "#9c179e"
             ],
             [
              0.4444444444444444,
              "#bd3786"
             ],
             [
              0.5555555555555556,
              "#d8576b"
             ],
             [
              0.6666666666666666,
              "#ed7953"
             ],
             [
              0.7777777777777778,
              "#fb9f3a"
             ],
             [
              0.8888888888888888,
              "#fdca26"
             ],
             [
              1,
              "#f0f921"
             ]
            ],
            "type": "contour"
           }
          ],
          "contourcarpet": [
           {
            "colorbar": {
             "outlinewidth": 0,
             "ticks": ""
            },
            "type": "contourcarpet"
           }
          ],
          "heatmap": [
           {
            "colorbar": {
             "outlinewidth": 0,
             "ticks": ""
            },
            "colorscale": [
             [
              0,
              "#0d0887"
             ],
             [
              0.1111111111111111,
              "#46039f"
             ],
             [
              0.2222222222222222,
              "#7201a8"
             ],
             [
              0.3333333333333333,
              "#9c179e"
             ],
             [
              0.4444444444444444,
              "#bd3786"
             ],
             [
              0.5555555555555556,
              "#d8576b"
             ],
             [
              0.6666666666666666,
              "#ed7953"
             ],
             [
              0.7777777777777778,
              "#fb9f3a"
             ],
             [
              0.8888888888888888,
              "#fdca26"
             ],
             [
              1,
              "#f0f921"
             ]
            ],
            "type": "heatmap"
           }
          ],
          "heatmapgl": [
           {
            "colorbar": {
             "outlinewidth": 0,
             "ticks": ""
            },
            "colorscale": [
             [
              0,
              "#0d0887"
             ],
             [
              0.1111111111111111,
              "#46039f"
             ],
             [
              0.2222222222222222,
              "#7201a8"
             ],
             [
              0.3333333333333333,
              "#9c179e"
             ],
             [
              0.4444444444444444,
              "#bd3786"
             ],
             [
              0.5555555555555556,
              "#d8576b"
             ],
             [
              0.6666666666666666,
              "#ed7953"
             ],
             [
              0.7777777777777778,
              "#fb9f3a"
             ],
             [
              0.8888888888888888,
              "#fdca26"
             ],
             [
              1,
              "#f0f921"
             ]
            ],
            "type": "heatmapgl"
           }
          ],
          "histogram": [
           {
            "marker": {
             "pattern": {
              "fillmode": "overlay",
              "size": 10,
              "solidity": 0.2
             }
            },
            "type": "histogram"
           }
          ],
          "histogram2d": [
           {
            "colorbar": {
             "outlinewidth": 0,
             "ticks": ""
            },
            "colorscale": [
             [
              0,
              "#0d0887"
             ],
             [
              0.1111111111111111,
              "#46039f"
             ],
             [
              0.2222222222222222,
              "#7201a8"
             ],
             [
              0.3333333333333333,
              "#9c179e"
             ],
             [
              0.4444444444444444,
              "#bd3786"
             ],
             [
              0.5555555555555556,
              "#d8576b"
             ],
             [
              0.6666666666666666,
              "#ed7953"
             ],
             [
              0.7777777777777778,
              "#fb9f3a"
             ],
             [
              0.8888888888888888,
              "#fdca26"
             ],
             [
              1,
              "#f0f921"
             ]
            ],
            "type": "histogram2d"
           }
          ],
          "histogram2dcontour": [
           {
            "colorbar": {
             "outlinewidth": 0,
             "ticks": ""
            },
            "colorscale": [
             [
              0,
              "#0d0887"
             ],
             [
              0.1111111111111111,
              "#46039f"
             ],
             [
              0.2222222222222222,
              "#7201a8"
             ],
             [
              0.3333333333333333,
              "#9c179e"
             ],
             [
              0.4444444444444444,
              "#bd3786"
             ],
             [
              0.5555555555555556,
              "#d8576b"
             ],
             [
              0.6666666666666666,
              "#ed7953"
             ],
             [
              0.7777777777777778,
              "#fb9f3a"
             ],
             [
              0.8888888888888888,
              "#fdca26"
             ],
             [
              1,
              "#f0f921"
             ]
            ],
            "type": "histogram2dcontour"
           }
          ],
          "mesh3d": [
           {
            "colorbar": {
             "outlinewidth": 0,
             "ticks": ""
            },
            "type": "mesh3d"
           }
          ],
          "parcoords": [
           {
            "line": {
             "colorbar": {
              "outlinewidth": 0,
              "ticks": ""
             }
            },
            "type": "parcoords"
           }
          ],
          "pie": [
           {
            "automargin": true,
            "type": "pie"
           }
          ],
          "scatter": [
           {
            "fillpattern": {
             "fillmode": "overlay",
             "size": 10,
             "solidity": 0.2
            },
            "type": "scatter"
           }
          ],
          "scatter3d": [
           {
            "line": {
             "colorbar": {
              "outlinewidth": 0,
              "ticks": ""
             }
            },
            "marker": {
             "colorbar": {
              "outlinewidth": 0,
              "ticks": ""
             }
            },
            "type": "scatter3d"
           }
          ],
          "scattercarpet": [
           {
            "marker": {
             "colorbar": {
              "outlinewidth": 0,
              "ticks": ""
             }
            },
            "type": "scattercarpet"
           }
          ],
          "scattergeo": [
           {
            "marker": {
             "colorbar": {
              "outlinewidth": 0,
              "ticks": ""
             }
            },
            "type": "scattergeo"
           }
          ],
          "scattergl": [
           {
            "marker": {
             "colorbar": {
              "outlinewidth": 0,
              "ticks": ""
             }
            },
            "type": "scattergl"
           }
          ],
          "scattermapbox": [
           {
            "marker": {
             "colorbar": {
              "outlinewidth": 0,
              "ticks": ""
             }
            },
            "type": "scattermapbox"
           }
          ],
          "scatterpolar": [
           {
            "marker": {
             "colorbar": {
              "outlinewidth": 0,
              "ticks": ""
             }
            },
            "type": "scatterpolar"
           }
          ],
          "scatterpolargl": [
           {
            "marker": {
             "colorbar": {
              "outlinewidth": 0,
              "ticks": ""
             }
            },
            "type": "scatterpolargl"
           }
          ],
          "scatterternary": [
           {
            "marker": {
             "colorbar": {
              "outlinewidth": 0,
              "ticks": ""
             }
            },
            "type": "scatterternary"
           }
          ],
          "surface": [
           {
            "colorbar": {
             "outlinewidth": 0,
             "ticks": ""
            },
            "colorscale": [
             [
              0,
              "#0d0887"
             ],
             [
              0.1111111111111111,
              "#46039f"
             ],
             [
              0.2222222222222222,
              "#7201a8"
             ],
             [
              0.3333333333333333,
              "#9c179e"
             ],
             [
              0.4444444444444444,
              "#bd3786"
             ],
             [
              0.5555555555555556,
              "#d8576b"
             ],
             [
              0.6666666666666666,
              "#ed7953"
             ],
             [
              0.7777777777777778,
              "#fb9f3a"
             ],
             [
              0.8888888888888888,
              "#fdca26"
             ],
             [
              1,
              "#f0f921"
             ]
            ],
            "type": "surface"
           }
          ],
          "table": [
           {
            "cells": {
             "fill": {
              "color": "#EBF0F8"
             },
             "line": {
              "color": "white"
             }
            },
            "header": {
             "fill": {
              "color": "#C8D4E3"
             },
             "line": {
              "color": "white"
             }
            },
            "type": "table"
           }
          ]
         },
         "layout": {
          "annotationdefaults": {
           "arrowcolor": "#2a3f5f",
           "arrowhead": 0,
           "arrowwidth": 1
          },
          "autotypenumbers": "strict",
          "coloraxis": {
           "colorbar": {
            "outlinewidth": 0,
            "ticks": ""
           }
          },
          "colorscale": {
           "diverging": [
            [
             0,
             "#8e0152"
            ],
            [
             0.1,
             "#c51b7d"
            ],
            [
             0.2,
             "#de77ae"
            ],
            [
             0.3,
             "#f1b6da"
            ],
            [
             0.4,
             "#fde0ef"
            ],
            [
             0.5,
             "#f7f7f7"
            ],
            [
             0.6,
             "#e6f5d0"
            ],
            [
             0.7,
             "#b8e186"
            ],
            [
             0.8,
             "#7fbc41"
            ],
            [
             0.9,
             "#4d9221"
            ],
            [
             1,
             "#276419"
            ]
           ],
           "sequential": [
            [
             0,
             "#0d0887"
            ],
            [
             0.1111111111111111,
             "#46039f"
            ],
            [
             0.2222222222222222,
             "#7201a8"
            ],
            [
             0.3333333333333333,
             "#9c179e"
            ],
            [
             0.4444444444444444,
             "#bd3786"
            ],
            [
             0.5555555555555556,
             "#d8576b"
            ],
            [
             0.6666666666666666,
             "#ed7953"
            ],
            [
             0.7777777777777778,
             "#fb9f3a"
            ],
            [
             0.8888888888888888,
             "#fdca26"
            ],
            [
             1,
             "#f0f921"
            ]
           ],
           "sequentialminus": [
            [
             0,
             "#0d0887"
            ],
            [
             0.1111111111111111,
             "#46039f"
            ],
            [
             0.2222222222222222,
             "#7201a8"
            ],
            [
             0.3333333333333333,
             "#9c179e"
            ],
            [
             0.4444444444444444,
             "#bd3786"
            ],
            [
             0.5555555555555556,
             "#d8576b"
            ],
            [
             0.6666666666666666,
             "#ed7953"
            ],
            [
             0.7777777777777778,
             "#fb9f3a"
            ],
            [
             0.8888888888888888,
             "#fdca26"
            ],
            [
             1,
             "#f0f921"
            ]
           ]
          },
          "colorway": [
           "#636efa",
           "#EF553B",
           "#00cc96",
           "#ab63fa",
           "#FFA15A",
           "#19d3f3",
           "#FF6692",
           "#B6E880",
           "#FF97FF",
           "#FECB52"
          ],
          "font": {
           "color": "#2a3f5f"
          },
          "geo": {
           "bgcolor": "white",
           "lakecolor": "white",
           "landcolor": "#E5ECF6",
           "showlakes": true,
           "showland": true,
           "subunitcolor": "white"
          },
          "hoverlabel": {
           "align": "left"
          },
          "hovermode": "closest",
          "mapbox": {
           "style": "light"
          },
          "paper_bgcolor": "white",
          "plot_bgcolor": "#E5ECF6",
          "polar": {
           "angularaxis": {
            "gridcolor": "white",
            "linecolor": "white",
            "ticks": ""
           },
           "bgcolor": "#E5ECF6",
           "radialaxis": {
            "gridcolor": "white",
            "linecolor": "white",
            "ticks": ""
           }
          },
          "scene": {
           "xaxis": {
            "backgroundcolor": "#E5ECF6",
            "gridcolor": "white",
            "gridwidth": 2,
            "linecolor": "white",
            "showbackground": true,
            "ticks": "",
            "zerolinecolor": "white"
           },
           "yaxis": {
            "backgroundcolor": "#E5ECF6",
            "gridcolor": "white",
            "gridwidth": 2,
            "linecolor": "white",
            "showbackground": true,
            "ticks": "",
            "zerolinecolor": "white"
           },
           "zaxis": {
            "backgroundcolor": "#E5ECF6",
            "gridcolor": "white",
            "gridwidth": 2,
            "linecolor": "white",
            "showbackground": true,
            "ticks": "",
            "zerolinecolor": "white"
           }
          },
          "shapedefaults": {
           "line": {
            "color": "#2a3f5f"
           }
          },
          "ternary": {
           "aaxis": {
            "gridcolor": "white",
            "linecolor": "white",
            "ticks": ""
           },
           "baxis": {
            "gridcolor": "white",
            "linecolor": "white",
            "ticks": ""
           },
           "bgcolor": "#E5ECF6",
           "caxis": {
            "gridcolor": "white",
            "linecolor": "white",
            "ticks": ""
           }
          },
          "title": {
           "x": 0.05
          },
          "xaxis": {
           "automargin": true,
           "gridcolor": "white",
           "linecolor": "white",
           "ticks": "",
           "title": {
            "standoff": 15
           },
           "zerolinecolor": "white",
           "zerolinewidth": 2
          },
          "yaxis": {
           "automargin": true,
           "gridcolor": "white",
           "linecolor": "white",
           "ticks": "",
           "title": {
            "standoff": 15
           },
           "zerolinecolor": "white",
           "zerolinewidth": 2
          }
         }
        }
       }
      },
      "image/png": "[encoded data removed]",
      "text/html": [
       "<div>                            <div id=\"50aaeaae-342d-4371-b51e-387ef079e68a\" class=\"plotly-graph-div\" style=\"height:525px; width:100%;\"></div>            <script type=\"text/javascript\">                require([\"plotly\"], function(Plotly) {                    window.PLOTLYENV=window.PLOTLYENV || {};                                    if (document.getElementById(\"50aaeaae-342d-4371-b51e-387ef079e68a\")) {                    Plotly.newPlot(                        \"50aaeaae-342d-4371-b51e-387ef079e68a\",                        [{\"hovertemplate\":\"score=%{r}\\u003cbr\\u003edim=%{theta}\\u003cextra\\u003e\\u003c\\u002fextra\\u003e\",\"legendgroup\":\"\",\"line\":{\"color\":\"#636efa\",\"dash\":\"solid\"},\"marker\":{\"symbol\":\"circle\"},\"mode\":\"lines\",\"name\":\"\",\"r\":[65,45,65,65,50,45,45,50,65],\"showlegend\":false,\"subplot\":\"polar\",\"theta\":[\"buildUpPlaySpeed\",\"buildUpPlayPassing\",\"chanceCreationPassing\",\"chanceCreationCrossing\",\"chanceCreationShooting\",\"defencePressure\",\"defenceAggression\",\"defenceTeamWidth\",\"buildUpPlaySpeed\"],\"type\":\"scatterpolar\"}],                        {\"template\":{\"data\":{\"histogram2dcontour\":[{\"type\":\"histogram2dcontour\",\"colorbar\":{\"outlinewidth\":0,\"ticks\":\"\"},\"colorscale\":[[0.0,\"#0d0887\"],[0.1111111111111111,\"#46039f\"],[0.2222222222222222,\"#7201a8\"],[0.3333333333333333,\"#9c179e\"],[0.4444444444444444,\"#bd3786\"],[0.5555555555555556,\"#d8576b\"],[0.6666666666666666,\"#ed7953\"],[0.7777777777777778,\"#fb9f3a\"],[0.8888888888888888,\"#fdca26\"],[1.0,\"#f0f921\"]]}],\"choropleth\":[{\"type\":\"choropleth\",\"colorbar\":{\"outlinewidth\":0,\"ticks\":\"\"}}],\"histogram2d\":[{\"type\":\"histogram2d\",\"colorbar\":{\"outlinewidth\":0,\"ticks\":\"\"},\"colorscale\":[[0.0,\"#0d0887\"],[0.1111111111111111,\"#46039f\"],[0.2222222222222222,\"#7201a8\"],[0.3333333333333333,\"#9c179e\"],[0.4444444444444444,\"#bd3786\"],[0.5555555555555556,\"#d8576b\"],[0.6666666666666666,\"#ed7953\"],[0.7777777777777778,\"#fb9f3a\"],[0.8888888888888888,\"#fdca26\"],[1.0,\"#f0f921\"]]}],\"heatmap\":[{\"type\":\"heatmap\",\"colorbar\":{\"outlinewidth\":0,\"ticks\":\"\"},\"colorscale\":[[0.0,\"#0d0887\"],[0.1111111111111111,\"#46039f\"],[0.2222222222222222,\"#7201a8\"],[0.3333333333333333,\"#9c179e\"],[0.4444444444444444,\"#bd3786\"],[0.5555555555555556,\"#d8576b\"],[0.6666666666666666,\"#ed7953\"],[0.7777777777777778,\"#fb9f3a\"],[0.8888888888888888,\"#fdca26\"],[1.0,\"#f0f921\"]]}],\"heatmapgl\":[{\"type\":\"heatmapgl\",\"colorbar\":{\"outlinewidth\":0,\"ticks\":\"\"},\"colorscale\":[[0.0,\"#0d0887\"],[0.1111111111111111,\"#46039f\"],[0.2222222222222222,\"#7201a8\"],[0.3333333333333333,\"#9c179e\"],[0.4444444444444444,\"#bd3786\"],[0.5555555555555556,\"#d8576b\"],[0.6666666666666666,\"#ed7953\"],[0.7777777777777778,\"#fb9f3a\"],[0.8888888888888888,\"#fdca26\"],[1.0,\"#f0f921\"]]}],\"contourcarpet\":[{\"type\":\"contourcarpet\",\"colorbar\":{\"outlinewidth\":0,\"ticks\":\"\"}}],\"contour\":[{\"type\":\"contour\",\"colorbar\":{\"outlinewidth\":0,\"ticks\":\"\"},\"colorscale\":[[0.0,\"#0d0887\"],[0.1111111111111111,\"#46039f\"],[0.2222222222222222,\"#7201a8\"],[0.3333333333333333,\"#9c179e\"],[0.4444444444444444,\"#bd3786\"],[0.5555555555555556,\"#d8576b\"],[0.6666666666666666,\"#ed7953\"],[0.7777777777777778,\"#fb9f3a\"],[0.8888888888888888,\"#fdca26\"],[1.0,\"#f0f921\"]]}],\"surface\":[{\"type\":\"surface\",\"colorbar\":{\"outlinewidth\":0,\"ticks\":\"\"},\"colorscale\":[[0.0,\"#0d0887\"],[0.1111111111111111,\"#46039f\"],[0.2222222222222222,\"#7201a8\"],[0.3333333333333333,\"#9c179e\"],[0.4444444444444444,\"#bd3786\"],[0.5555555555555556,\"#d8576b\"],[0.6666666666666666,\"#ed7953\"],[0.7777777777777778,\"#fb9f3a\"],[0.8888888888888888,\"#fdca26\"],[1.0,\"#f0f921\"]]}],\"mesh3d\":[{\"type\":\"mesh3d\",\"colorbar\":{\"outlinewidth\":0,\"ticks\":\"\"}}],\"scatter\":[{\"fillpattern\":{\"fillmode\":\"overlay\",\"size\":10,\"solidity\":0.2},\"type\":\"scatter\"}],\"parcoords\":[{\"type\":\"parcoords\",\"line\":{\"colorbar\":{\"outlinewidth\":0,\"ticks\":\"\"}}}],\"scatterpolargl\":[{\"type\":\"scatterpolargl\",\"marker\":{\"colorbar\":{\"outlinewidth\":0,\"ticks\":\"\"}}}],\"bar\":[{\"error_x\":{\"color\":\"#2a3f5f\"},\"error_y\":{\"color\":\"#2a3f5f\"},\"marker\":{\"line\":{\"color\":\"#E5ECF6\",\"width\":0.5},\"pattern\":{\"fillmode\":\"overlay\",\"size\":10,\"solidity\":0.2}},\"type\":\"bar\"}],\"scattergeo\":[{\"type\":\"scattergeo\",\"marker\":{\"colorbar\":{\"outlinewidth\":0,\"ticks\":\"\"}}}],\"scatterpolar\":[{\"type\":\"scatterpolar\",\"marker\":{\"colorbar\":{\"outlinewidth\":0,\"ticks\":\"\"}}}],\"histogram\":[{\"marker\":{\"pattern\":{\"fillmode\":\"overlay\",\"size\":10,\"solidity\":0.2}},\"type\":\"histogram\"}],\"scattergl\":[{\"type\":\"scattergl\",\"marker\":{\"colorbar\":{\"outlinewidth\":0,\"ticks\":\"\"}}}],\"scatter3d\":[{\"type\":\"scatter3d\",\"line\":{\"colorbar\":{\"outlinewidth\":0,\"ticks\":\"\"}},\"marker\":{\"colorbar\":{\"outlinewidth\":0,\"ticks\":\"\"}}}],\"scattermapbox\":[{\"type\":\"scattermapbox\",\"marker\":{\"colorbar\":{\"outlinewidth\":0,\"ticks\":\"\"}}}],\"scatterternary\":[{\"type\":\"scatterternary\",\"marker\":{\"colorbar\":{\"outlinewidth\":0,\"ticks\":\"\"}}}],\"scattercarpet\":[{\"type\":\"scattercarpet\",\"marker\":{\"colorbar\":{\"outlinewidth\":0,\"ticks\":\"\"}}}],\"carpet\":[{\"aaxis\":{\"endlinecolor\":\"#2a3f5f\",\"gridcolor\":\"white\",\"linecolor\":\"white\",\"minorgridcolor\":\"white\",\"startlinecolor\":\"#2a3f5f\"},\"baxis\":{\"endlinecolor\":\"#2a3f5f\",\"gridcolor\":\"white\",\"linecolor\":\"white\",\"minorgridcolor\":\"white\",\"startlinecolor\":\"#2a3f5f\"},\"type\":\"carpet\"}],\"table\":[{\"cells\":{\"fill\":{\"color\":\"#EBF0F8\"},\"line\":{\"color\":\"white\"}},\"header\":{\"fill\":{\"color\":\"#C8D4E3\"},\"line\":{\"color\":\"white\"}},\"type\":\"table\"}],\"barpolar\":[{\"marker\":{\"line\":{\"color\":\"#E5ECF6\",\"width\":0.5},\"pattern\":{\"fillmode\":\"overlay\",\"size\":10,\"solidity\":0.2}},\"type\":\"barpolar\"}],\"pie\":[{\"automargin\":true,\"type\":\"pie\"}]},\"layout\":{\"autotypenumbers\":\"strict\",\"colorway\":[\"#636efa\",\"#EF553B\",\"#00cc96\",\"#ab63fa\",\"#FFA15A\",\"#19d3f3\",\"#FF6692\",\"#B6E880\",\"#FF97FF\",\"#FECB52\"],\"font\":{\"color\":\"#2a3f5f\"},\"hovermode\":\"closest\",\"hoverlabel\":{\"align\":\"left\"},\"paper_bgcolor\":\"white\",\"plot_bgcolor\":\"#E5ECF6\",\"polar\":{\"bgcolor\":\"#E5ECF6\",\"angularaxis\":{\"gridcolor\":\"white\",\"linecolor\":\"white\",\"ticks\":\"\"},\"radialaxis\":{\"gridcolor\":\"white\",\"linecolor\":\"white\",\"ticks\":\"\"}},\"ternary\":{\"bgcolor\":\"#E5ECF6\",\"aaxis\":{\"gridcolor\":\"white\",\"linecolor\":\"white\",\"ticks\":\"\"},\"baxis\":{\"gridcolor\":\"white\",\"linecolor\":\"white\",\"ticks\":\"\"},\"caxis\":{\"gridcolor\":\"white\",\"linecolor\":\"white\",\"ticks\":\"\"}},\"coloraxis\":{\"colorbar\":{\"outlinewidth\":0,\"ticks\":\"\"}},\"colorscale\":{\"sequential\":[[0.0,\"#0d0887\"],[0.1111111111111111,\"#46039f\"],[0.2222222222222222,\"#7201a8\"],[0.3333333333333333,\"#9c179e\"],[0.4444444444444444,\"#bd3786\"],[0.5555555555555556,\"#d8576b\"],[0.6666666666666666,\"#ed7953\"],[0.7777777777777778,\"#fb9f3a\"],[0.8888888888888888,\"#fdca26\"],[1.0,\"#f0f921\"]],\"sequentialminus\":[[0.0,\"#0d0887\"],[0.1111111111111111,\"#46039f\"],[0.2222222222222222,\"#7201a8\"],[0.3333333333333333,\"#9c179e\"],[0.4444444444444444,\"#bd3786\"],[0.5555555555555556,\"#d8576b\"],[0.6666666666666666,\"#ed7953\"],[0.7777777777777778,\"#fb9f3a\"],[0.8888888888888888,\"#fdca26\"],[1.0,\"#f0f921\"]],\"diverging\":[[0,\"#8e0152\"],[0.1,\"#c51b7d\"],[0.2,\"#de77ae\"],[0.3,\"#f1b6da\"],[0.4,\"#fde0ef\"],[0.5,\"#f7f7f7\"],[0.6,\"#e6f5d0\"],[0.7,\"#b8e186\"],[0.8,\"#7fbc41\"],[0.9,\"#4d9221\"],[1,\"#276419\"]]},\"xaxis\":{\"gridcolor\":\"white\",\"linecolor\":\"white\",\"ticks\":\"\",\"title\":{\"standoff\":15},\"zerolinecolor\":\"white\",\"automargin\":true,\"zerolinewidth\":2},\"yaxis\":{\"gridcolor\":\"white\",\"linecolor\":\"white\",\"ticks\":\"\",\"title\":{\"standoff\":15},\"zerolinecolor\":\"white\",\"automargin\":true,\"zerolinewidth\":2},\"scene\":{\"xaxis\":{\"backgroundcolor\":\"#E5ECF6\",\"gridcolor\":\"white\",\"linecolor\":\"white\",\"showbackground\":true,\"ticks\":\"\",\"zerolinecolor\":\"white\",\"gridwidth\":2},\"yaxis\":{\"backgroundcolor\":\"#E5ECF6\",\"gridcolor\":\"white\",\"linecolor\":\"white\",\"showbackground\":true,\"ticks\":\"\",\"zerolinecolor\":\"white\",\"gridwidth\":2},\"zaxis\":{\"backgroundcolor\":\"#E5ECF6\",\"gridcolor\":\"white\",\"linecolor\":\"white\",\"showbackground\":true,\"ticks\":\"\",\"zerolinecolor\":\"white\",\"gridwidth\":2}},\"shapedefaults\":{\"line\":{\"color\":\"#2a3f5f\"}},\"annotationdefaults\":{\"arrowcolor\":\"#2a3f5f\",\"arrowhead\":0,\"arrowwidth\":1},\"geo\":{\"bgcolor\":\"white\",\"landcolor\":\"#E5ECF6\",\"subunitcolor\":\"white\",\"showland\":true,\"showlakes\":true,\"lakecolor\":\"white\"},\"title\":{\"x\":0.05},\"mapbox\":{\"style\":\"light\"}}},\"polar\":{\"domain\":{\"x\":[0.0,1.0],\"y\":[0.0,1.0]},\"angularaxis\":{\"direction\":\"clockwise\",\"rotation\":90}},\"legend\":{\"tracegroupgap\":0},\"margin\":{\"t\":60}},                        {\"responsive\": true}                    ).then(function(){\n",
       "                            \n",
       "var gd = document.getElementById('50aaeaae-342d-4371-b51e-387ef079e68a');\n",
       "var x = new MutationObserver(function (mutations, observer) {{\n",
       "        var display = window.getComputedStyle(gd).display;\n",
       "        if (!display || display === 'none') {{\n",
       "            console.log([gd, 'removed!']);\n",
       "            Plotly.purge(gd);\n",
       "            observer.disconnect();\n",
       "        }}\n",
       "}});\n",
       "\n",
       "// Listen for the removal of the full notebook cells\n",
       "var notebookContainer = gd.closest('#notebook-container');\n",
       "if (notebookContainer) {{\n",
       "    x.observe(notebookContainer, {childList: true});\n",
       "}}\n",
       "\n",
       "// Listen for the clearing of the current output cell\n",
       "var outputEl = gd.closest('.output');\n",
       "if (outputEl) {{\n",
       "    x.observe(outputEl, {childList: true});\n",
       "}}\n",
       "\n",
       "                        })                };                });            </script>        </div>"
      ]
     },
     "metadata": {},
     "output_type": "display_data"
    }
   ],
   "source": [
    "star_chart(team_attrs, 10)"
   ]
  },
  {
   "cell_type": "code",
   "execution_count": 49,
   "id": "8fca11db-e1a2-4458-929f-d02d367cd97e",
   "metadata": {},
   "outputs": [
    {
     "data": {
      "application/vnd.plotly.v1+json": {
       "config": {
        "plotlyServerURL": "https://plot.ly"
       },
       "data": [
        {
         "hovertemplate": "score=%{r}<br>dim=%{theta}<extra></extra>",
         "legendgroup": "",
         "line": {
          "color": "#636efa",
          "dash": "solid"
         },
         "marker": {
          "symbol": "circle"
         },
         "mode": "lines",
         "name": "",
         "r": [
          58,
          null,
          62,
          45,
          70,
          58
         ],
         "showlegend": false,
         "subplot": "polar",
         "theta": [
          "buildUpPlaySpeed",
          "buildUpPlayDribbling",
          "buildUpPlayPassing",
          "chanceCreationPassing",
          "chanceCreationCrossing",
          "buildUpPlaySpeed"
         ],
         "type": "scatterpolar"
        }
       ],
       "layout": {
        "autosize": true,
        "legend": {
         "tracegroupgap": 0
        },
        "margin": {
         "t": 60
        },
        "polar": {
         "angularaxis": {
          "direction": "clockwise",
          "rotation": 90,
          "type": "category"
         },
         "domain": {
          "x": [
           0,
           1
          ],
          "y": [
           0,
           1
          ]
         },
         "radialaxis": {
          "autorange": true,
          "range": [
           0,
           70
          ],
          "type": "linear"
         }
        },
        "template": {
         "data": {
          "bar": [
           {
            "error_x": {
             "color": "#2a3f5f"
            },
            "error_y": {
             "color": "#2a3f5f"
            },
            "marker": {
             "line": {
              "color": "#E5ECF6",
              "width": 0.5
             },
             "pattern": {
              "fillmode": "overlay",
              "size": 10,
              "solidity": 0.2
             }
            },
            "type": "bar"
           }
          ],
          "barpolar": [
           {
            "marker": {
             "line": {
              "color": "#E5ECF6",
              "width": 0.5
             },
             "pattern": {
              "fillmode": "overlay",
              "size": 10,
              "solidity": 0.2
             }
            },
            "type": "barpolar"
           }
          ],
          "carpet": [
           {
            "aaxis": {
             "endlinecolor": "#2a3f5f",
             "gridcolor": "white",
             "linecolor": "white",
             "minorgridcolor": "white",
             "startlinecolor": "#2a3f5f"
            },
            "baxis": {
             "endlinecolor": "#2a3f5f",
             "gridcolor": "white",
             "linecolor": "white",
             "minorgridcolor": "white",
             "startlinecolor": "#2a3f5f"
            },
            "type": "carpet"
           }
          ],
          "choropleth": [
           {
            "colorbar": {
             "outlinewidth": 0,
             "ticks": ""
            },
            "type": "choropleth"
           }
          ],
          "contour": [
           {
            "colorbar": {
             "outlinewidth": 0,
             "ticks": ""
            },
            "colorscale": [
             [
              0,
              "#0d0887"
             ],
             [
              0.1111111111111111,
              "#46039f"
             ],
             [
              0.2222222222222222,
              "#7201a8"
             ],
             [
              0.3333333333333333,
              "#9c179e"
             ],
             [
              0.4444444444444444,
              "#bd3786"
             ],
             [
              0.5555555555555556,
              "#d8576b"
             ],
             [
              0.6666666666666666,
              "#ed7953"
             ],
             [
              0.7777777777777778,
              "#fb9f3a"
             ],
             [
              0.8888888888888888,
              "#fdca26"
             ],
             [
              1,
              "#f0f921"
             ]
            ],
            "type": "contour"
           }
          ],
          "contourcarpet": [
           {
            "colorbar": {
             "outlinewidth": 0,
             "ticks": ""
            },
            "type": "contourcarpet"
           }
          ],
          "heatmap": [
           {
            "colorbar": {
             "outlinewidth": 0,
             "ticks": ""
            },
            "colorscale": [
             [
              0,
              "#0d0887"
             ],
             [
              0.1111111111111111,
              "#46039f"
             ],
             [
              0.2222222222222222,
              "#7201a8"
             ],
             [
              0.3333333333333333,
              "#9c179e"
             ],
             [
              0.4444444444444444,
              "#bd3786"
             ],
             [
              0.5555555555555556,
              "#d8576b"
             ],
             [
              0.6666666666666666,
              "#ed7953"
             ],
             [
              0.7777777777777778,
              "#fb9f3a"
             ],
             [
              0.8888888888888888,
              "#fdca26"
             ],
             [
              1,
              "#f0f921"
             ]
            ],
            "type": "heatmap"
           }
          ],
          "heatmapgl": [
           {
            "colorbar": {
             "outlinewidth": 0,
             "ticks": ""
            },
            "colorscale": [
             [
              0,
              "#0d0887"
             ],
             [
              0.1111111111111111,
              "#46039f"
             ],
             [
              0.2222222222222222,
              "#7201a8"
             ],
             [
              0.3333333333333333,
              "#9c179e"
             ],
             [
              0.4444444444444444,
              "#bd3786"
             ],
             [
              0.5555555555555556,
              "#d8576b"
             ],
             [
              0.6666666666666666,
              "#ed7953"
             ],
             [
              0.7777777777777778,
              "#fb9f3a"
             ],
             [
              0.8888888888888888,
              "#fdca26"
             ],
             [
              1,
              "#f0f921"
             ]
            ],
            "type": "heatmapgl"
           }
          ],
          "histogram": [
           {
            "marker": {
             "pattern": {
              "fillmode": "overlay",
              "size": 10,
              "solidity": 0.2
             }
            },
            "type": "histogram"
           }
          ],
          "histogram2d": [
           {
            "colorbar": {
             "outlinewidth": 0,
             "ticks": ""
            },
            "colorscale": [
             [
              0,
              "#0d0887"
             ],
             [
              0.1111111111111111,
              "#46039f"
             ],
             [
              0.2222222222222222,
              "#7201a8"
             ],
             [
              0.3333333333333333,
              "#9c179e"
             ],
             [
              0.4444444444444444,
              "#bd3786"
             ],
             [
              0.5555555555555556,
              "#d8576b"
             ],
             [
              0.6666666666666666,
              "#ed7953"
             ],
             [
              0.7777777777777778,
              "#fb9f3a"
             ],
             [
              0.8888888888888888,
              "#fdca26"
             ],
             [
              1,
              "#f0f921"
             ]
            ],
            "type": "histogram2d"
           }
          ],
          "histogram2dcontour": [
           {
            "colorbar": {
             "outlinewidth": 0,
             "ticks": ""
            },
            "colorscale": [
             [
              0,
              "#0d0887"
             ],
             [
              0.1111111111111111,
              "#46039f"
             ],
             [
              0.2222222222222222,
              "#7201a8"
             ],
             [
              0.3333333333333333,
              "#9c179e"
             ],
             [
              0.4444444444444444,
              "#bd3786"
             ],
             [
              0.5555555555555556,
              "#d8576b"
             ],
             [
              0.6666666666666666,
              "#ed7953"
             ],
             [
              0.7777777777777778,
              "#fb9f3a"
             ],
             [
              0.8888888888888888,
              "#fdca26"
             ],
             [
              1,
              "#f0f921"
             ]
            ],
            "type": "histogram2dcontour"
           }
          ],
          "mesh3d": [
           {
            "colorbar": {
             "outlinewidth": 0,
             "ticks": ""
            },
            "type": "mesh3d"
           }
          ],
          "parcoords": [
           {
            "line": {
             "colorbar": {
              "outlinewidth": 0,
              "ticks": ""
             }
            },
            "type": "parcoords"
           }
          ],
          "pie": [
           {
            "automargin": true,
            "type": "pie"
           }
          ],
          "scatter": [
           {
            "fillpattern": {
             "fillmode": "overlay",
             "size": 10,
             "solidity": 0.2
            },
            "type": "scatter"
           }
          ],
          "scatter3d": [
           {
            "line": {
             "colorbar": {
              "outlinewidth": 0,
              "ticks": ""
             }
            },
            "marker": {
             "colorbar": {
              "outlinewidth": 0,
              "ticks": ""
             }
            },
            "type": "scatter3d"
           }
          ],
          "scattercarpet": [
           {
            "marker": {
             "colorbar": {
              "outlinewidth": 0,
              "ticks": ""
             }
            },
            "type": "scattercarpet"
           }
          ],
          "scattergeo": [
           {
            "marker": {
             "colorbar": {
              "outlinewidth": 0,
              "ticks": ""
             }
            },
            "type": "scattergeo"
           }
          ],
          "scattergl": [
           {
            "marker": {
             "colorbar": {
              "outlinewidth": 0,
              "ticks": ""
             }
            },
            "type": "scattergl"
           }
          ],
          "scattermapbox": [
           {
            "marker": {
             "colorbar": {
              "outlinewidth": 0,
              "ticks": ""
             }
            },
            "type": "scattermapbox"
           }
          ],
          "scatterpolar": [
           {
            "marker": {
             "colorbar": {
              "outlinewidth": 0,
              "ticks": ""
             }
            },
            "type": "scatterpolar"
           }
          ],
          "scatterpolargl": [
           {
            "marker": {
             "colorbar": {
              "outlinewidth": 0,
              "ticks": ""
             }
            },
            "type": "scatterpolargl"
           }
          ],
          "scatterternary": [
           {
            "marker": {
             "colorbar": {
              "outlinewidth": 0,
              "ticks": ""
             }
            },
            "type": "scatterternary"
           }
          ],
          "surface": [
           {
            "colorbar": {
             "outlinewidth": 0,
             "ticks": ""
            },
            "colorscale": [
             [
              0,
              "#0d0887"
             ],
             [
              0.1111111111111111,
              "#46039f"
             ],
             [
              0.2222222222222222,
              "#7201a8"
             ],
             [
              0.3333333333333333,
              "#9c179e"
             ],
             [
              0.4444444444444444,
              "#bd3786"
             ],
             [
              0.5555555555555556,
              "#d8576b"
             ],
             [
              0.6666666666666666,
              "#ed7953"
             ],
             [
              0.7777777777777778,
              "#fb9f3a"
             ],
             [
              0.8888888888888888,
              "#fdca26"
             ],
             [
              1,
              "#f0f921"
             ]
            ],
            "type": "surface"
           }
          ],
          "table": [
           {
            "cells": {
             "fill": {
              "color": "#EBF0F8"
             },
             "line": {
              "color": "white"
             }
            },
            "header": {
             "fill": {
              "color": "#C8D4E3"
             },
             "line": {
              "color": "white"
             }
            },
            "type": "table"
           }
          ]
         },
         "layout": {
          "annotationdefaults": {
           "arrowcolor": "#2a3f5f",
           "arrowhead": 0,
           "arrowwidth": 1
          },
          "autotypenumbers": "strict",
          "coloraxis": {
           "colorbar": {
            "outlinewidth": 0,
            "ticks": ""
           }
          },
          "colorscale": {
           "diverging": [
            [
             0,
             "#8e0152"
            ],
            [
             0.1,
             "#c51b7d"
            ],
            [
             0.2,
             "#de77ae"
            ],
            [
             0.3,
             "#f1b6da"
            ],
            [
             0.4,
             "#fde0ef"
            ],
            [
             0.5,
             "#f7f7f7"
            ],
            [
             0.6,
             "#e6f5d0"
            ],
            [
             0.7,
             "#b8e186"
            ],
            [
             0.8,
             "#7fbc41"
            ],
            [
             0.9,
             "#4d9221"
            ],
            [
             1,
             "#276419"
            ]
           ],
           "sequential": [
            [
             0,
             "#0d0887"
            ],
            [
             0.1111111111111111,
             "#46039f"
            ],
            [
             0.2222222222222222,
             "#7201a8"
            ],
            [
             0.3333333333333333,
             "#9c179e"
            ],
            [
             0.4444444444444444,
             "#bd3786"
            ],
            [
             0.5555555555555556,
             "#d8576b"
            ],
            [
             0.6666666666666666,
             "#ed7953"
            ],
            [
             0.7777777777777778,
             "#fb9f3a"
            ],
            [
             0.8888888888888888,
             "#fdca26"
            ],
            [
             1,
             "#f0f921"
            ]
           ],
           "sequentialminus": [
            [
             0,
             "#0d0887"
            ],
            [
             0.1111111111111111,
             "#46039f"
            ],
            [
             0.2222222222222222,
             "#7201a8"
            ],
            [
             0.3333333333333333,
             "#9c179e"
            ],
            [
             0.4444444444444444,
             "#bd3786"
            ],
            [
             0.5555555555555556,
             "#d8576b"
            ],
            [
             0.6666666666666666,
             "#ed7953"
            ],
            [
             0.7777777777777778,
             "#fb9f3a"
            ],
            [
             0.8888888888888888,
             "#fdca26"
            ],
            [
             1,
             "#f0f921"
            ]
           ]
          },
          "colorway": [
           "#636efa",
           "#EF553B",
           "#00cc96",
           "#ab63fa",
           "#FFA15A",
           "#19d3f3",
           "#FF6692",
           "#B6E880",
           "#FF97FF",
           "#FECB52"
          ],
          "font": {
           "color": "#2a3f5f"
          },
          "geo": {
           "bgcolor": "white",
           "lakecolor": "white",
           "landcolor": "#E5ECF6",
           "showlakes": true,
           "showland": true,
           "subunitcolor": "white"
          },
          "hoverlabel": {
           "align": "left"
          },
          "hovermode": "closest",
          "mapbox": {
           "style": "light"
          },
          "paper_bgcolor": "white",
          "plot_bgcolor": "#E5ECF6",
          "polar": {
           "angularaxis": {
            "gridcolor": "white",
            "linecolor": "white",
            "ticks": ""
           },
           "bgcolor": "#E5ECF6",
           "radialaxis": {
            "gridcolor": "white",
            "linecolor": "white",
            "ticks": ""
           }
          },
          "scene": {
           "xaxis": {
            "backgroundcolor": "#E5ECF6",
            "gridcolor": "white",
            "gridwidth": 2,
            "linecolor": "white",
            "showbackground": true,
            "ticks": "",
            "zerolinecolor": "white"
           },
           "yaxis": {
            "backgroundcolor": "#E5ECF6",
            "gridcolor": "white",
            "gridwidth": 2,
            "linecolor": "white",
            "showbackground": true,
            "ticks": "",
            "zerolinecolor": "white"
           },
           "zaxis": {
            "backgroundcolor": "#E5ECF6",
            "gridcolor": "white",
            "gridwidth": 2,
            "linecolor": "white",
            "showbackground": true,
            "ticks": "",
            "zerolinecolor": "white"
           }
          },
          "shapedefaults": {
           "line": {
            "color": "#2a3f5f"
           }
          },
          "ternary": {
           "aaxis": {
            "gridcolor": "white",
            "linecolor": "white",
            "ticks": ""
           },
           "baxis": {
            "gridcolor": "white",
            "linecolor": "white",
            "ticks": ""
           },
           "bgcolor": "#E5ECF6",
           "caxis": {
            "gridcolor": "white",
            "linecolor": "white",
            "ticks": ""
           }
          },
          "title": {
           "x": 0.05
          },
          "xaxis": {
           "automargin": true,
           "gridcolor": "white",
           "linecolor": "white",
           "ticks": "",
           "title": {
            "standoff": 15
           },
           "zerolinecolor": "white",
           "zerolinewidth": 2
          },
          "yaxis": {
           "automargin": true,
           "gridcolor": "white",
           "linecolor": "white",
           "ticks": "",
           "title": {
            "standoff": 15
           },
           "zerolinecolor": "white",
           "zerolinewidth": 2
          }
         }
        }
       }
      },
      "image/png": "[encoded data removed]",
      "text/html": [
       "<div>                            <div id=\"61be9b0e-93ab-44e1-b41f-05cc39a065a4\" class=\"plotly-graph-div\" style=\"height:525px; width:100%;\"></div>            <script type=\"text/javascript\">                require([\"plotly\"], function(Plotly) {                    window.PLOTLYENV=window.PLOTLYENV || {};                                    if (document.getElementById(\"61be9b0e-93ab-44e1-b41f-05cc39a065a4\")) {                    Plotly.newPlot(                        \"61be9b0e-93ab-44e1-b41f-05cc39a065a4\",                        [{\"hovertemplate\":\"score=%{r}\\u003cbr\\u003edim=%{theta}\\u003cextra\\u003e\\u003c\\u002fextra\\u003e\",\"legendgroup\":\"\",\"line\":{\"color\":\"#636efa\",\"dash\":\"solid\"},\"marker\":{\"symbol\":\"circle\"},\"mode\":\"lines\",\"name\":\"\",\"r\":[58.0,null,62.0,45.0,70.0,58.0],\"showlegend\":false,\"subplot\":\"polar\",\"theta\":[\"buildUpPlaySpeed\",\"buildUpPlayDribbling\",\"buildUpPlayPassing\",\"chanceCreationPassing\",\"chanceCreationCrossing\",\"buildUpPlaySpeed\"],\"type\":\"scatterpolar\"}],                        {\"template\":{\"data\":{\"histogram2dcontour\":[{\"type\":\"histogram2dcontour\",\"colorbar\":{\"outlinewidth\":0,\"ticks\":\"\"},\"colorscale\":[[0.0,\"#0d0887\"],[0.1111111111111111,\"#46039f\"],[0.2222222222222222,\"#7201a8\"],[0.3333333333333333,\"#9c179e\"],[0.4444444444444444,\"#bd3786\"],[0.5555555555555556,\"#d8576b\"],[0.6666666666666666,\"#ed7953\"],[0.7777777777777778,\"#fb9f3a\"],[0.8888888888888888,\"#fdca26\"],[1.0,\"#f0f921\"]]}],\"choropleth\":[{\"type\":\"choropleth\",\"colorbar\":{\"outlinewidth\":0,\"ticks\":\"\"}}],\"histogram2d\":[{\"type\":\"histogram2d\",\"colorbar\":{\"outlinewidth\":0,\"ticks\":\"\"},\"colorscale\":[[0.0,\"#0d0887\"],[0.1111111111111111,\"#46039f\"],[0.2222222222222222,\"#7201a8\"],[0.3333333333333333,\"#9c179e\"],[0.4444444444444444,\"#bd3786\"],[0.5555555555555556,\"#d8576b\"],[0.6666666666666666,\"#ed7953\"],[0.7777777777777778,\"#fb9f3a\"],[0.8888888888888888,\"#fdca26\"],[1.0,\"#f0f921\"]]}],\"heatmap\":[{\"type\":\"heatmap\",\"colorbar\":{\"outlinewidth\":0,\"ticks\":\"\"},\"colorscale\":[[0.0,\"#0d0887\"],[0.1111111111111111,\"#46039f\"],[0.2222222222222222,\"#7201a8\"],[0.3333333333333333,\"#9c179e\"],[0.4444444444444444,\"#bd3786\"],[0.5555555555555556,\"#d8576b\"],[0.6666666666666666,\"#ed7953\"],[0.7777777777777778,\"#fb9f3a\"],[0.8888888888888888,\"#fdca26\"],[1.0,\"#f0f921\"]]}],\"heatmapgl\":[{\"type\":\"heatmapgl\",\"colorbar\":{\"outlinewidth\":0,\"ticks\":\"\"},\"colorscale\":[[0.0,\"#0d0887\"],[0.1111111111111111,\"#46039f\"],[0.2222222222222222,\"#7201a8\"],[0.3333333333333333,\"#9c179e\"],[0.4444444444444444,\"#bd3786\"],[0.5555555555555556,\"#d8576b\"],[0.6666666666666666,\"#ed7953\"],[0.7777777777777778,\"#fb9f3a\"],[0.8888888888888888,\"#fdca26\"],[1.0,\"#f0f921\"]]}],\"contourcarpet\":[{\"type\":\"contourcarpet\",\"colorbar\":{\"outlinewidth\":0,\"ticks\":\"\"}}],\"contour\":[{\"type\":\"contour\",\"colorbar\":{\"outlinewidth\":0,\"ticks\":\"\"},\"colorscale\":[[0.0,\"#0d0887\"],[0.1111111111111111,\"#46039f\"],[0.2222222222222222,\"#7201a8\"],[0.3333333333333333,\"#9c179e\"],[0.4444444444444444,\"#bd3786\"],[0.5555555555555556,\"#d8576b\"],[0.6666666666666666,\"#ed7953\"],[0.7777777777777778,\"#fb9f3a\"],[0.8888888888888888,\"#fdca26\"],[1.0,\"#f0f921\"]]}],\"surface\":[{\"type\":\"surface\",\"colorbar\":{\"outlinewidth\":0,\"ticks\":\"\"},\"colorscale\":[[0.0,\"#0d0887\"],[0.1111111111111111,\"#46039f\"],[0.2222222222222222,\"#7201a8\"],[0.3333333333333333,\"#9c179e\"],[0.4444444444444444,\"#bd3786\"],[0.5555555555555556,\"#d8576b\"],[0.6666666666666666,\"#ed7953\"],[0.7777777777777778,\"#fb9f3a\"],[0.8888888888888888,\"#fdca26\"],[1.0,\"#f0f921\"]]}],\"mesh3d\":[{\"type\":\"mesh3d\",\"colorbar\":{\"outlinewidth\":0,\"ticks\":\"\"}}],\"scatter\":[{\"fillpattern\":{\"fillmode\":\"overlay\",\"size\":10,\"solidity\":0.2},\"type\":\"scatter\"}],\"parcoords\":[{\"type\":\"parcoords\",\"line\":{\"colorbar\":{\"outlinewidth\":0,\"ticks\":\"\"}}}],\"scatterpolargl\":[{\"type\":\"scatterpolargl\",\"marker\":{\"colorbar\":{\"outlinewidth\":0,\"ticks\":\"\"}}}],\"bar\":[{\"error_x\":{\"color\":\"#2a3f5f\"},\"error_y\":{\"color\":\"#2a3f5f\"},\"marker\":{\"line\":{\"color\":\"#E5ECF6\",\"width\":0.5},\"pattern\":{\"fillmode\":\"overlay\",\"size\":10,\"solidity\":0.2}},\"type\":\"bar\"}],\"scattergeo\":[{\"type\":\"scattergeo\",\"marker\":{\"colorbar\":{\"outlinewidth\":0,\"ticks\":\"\"}}}],\"scatterpolar\":[{\"type\":\"scatterpolar\",\"marker\":{\"colorbar\":{\"outlinewidth\":0,\"ticks\":\"\"}}}],\"histogram\":[{\"marker\":{\"pattern\":{\"fillmode\":\"overlay\",\"size\":10,\"solidity\":0.2}},\"type\":\"histogram\"}],\"scattergl\":[{\"type\":\"scattergl\",\"marker\":{\"colorbar\":{\"outlinewidth\":0,\"ticks\":\"\"}}}],\"scatter3d\":[{\"type\":\"scatter3d\",\"line\":{\"colorbar\":{\"outlinewidth\":0,\"ticks\":\"\"}},\"marker\":{\"colorbar\":{\"outlinewidth\":0,\"ticks\":\"\"}}}],\"scattermapbox\":[{\"type\":\"scattermapbox\",\"marker\":{\"colorbar\":{\"outlinewidth\":0,\"ticks\":\"\"}}}],\"scatterternary\":[{\"type\":\"scatterternary\",\"marker\":{\"colorbar\":{\"outlinewidth\":0,\"ticks\":\"\"}}}],\"scattercarpet\":[{\"type\":\"scattercarpet\",\"marker\":{\"colorbar\":{\"outlinewidth\":0,\"ticks\":\"\"}}}],\"carpet\":[{\"aaxis\":{\"endlinecolor\":\"#2a3f5f\",\"gridcolor\":\"white\",\"linecolor\":\"white\",\"minorgridcolor\":\"white\",\"startlinecolor\":\"#2a3f5f\"},\"baxis\":{\"endlinecolor\":\"#2a3f5f\",\"gridcolor\":\"white\",\"linecolor\":\"white\",\"minorgridcolor\":\"white\",\"startlinecolor\":\"#2a3f5f\"},\"type\":\"carpet\"}],\"table\":[{\"cells\":{\"fill\":{\"color\":\"#EBF0F8\"},\"line\":{\"color\":\"white\"}},\"header\":{\"fill\":{\"color\":\"#C8D4E3\"},\"line\":{\"color\":\"white\"}},\"type\":\"table\"}],\"barpolar\":[{\"marker\":{\"line\":{\"color\":\"#E5ECF6\",\"width\":0.5},\"pattern\":{\"fillmode\":\"overlay\",\"size\":10,\"solidity\":0.2}},\"type\":\"barpolar\"}],\"pie\":[{\"automargin\":true,\"type\":\"pie\"}]},\"layout\":{\"autotypenumbers\":\"strict\",\"colorway\":[\"#636efa\",\"#EF553B\",\"#00cc96\",\"#ab63fa\",\"#FFA15A\",\"#19d3f3\",\"#FF6692\",\"#B6E880\",\"#FF97FF\",\"#FECB52\"],\"font\":{\"color\":\"#2a3f5f\"},\"hovermode\":\"closest\",\"hoverlabel\":{\"align\":\"left\"},\"paper_bgcolor\":\"white\",\"plot_bgcolor\":\"#E5ECF6\",\"polar\":{\"bgcolor\":\"#E5ECF6\",\"angularaxis\":{\"gridcolor\":\"white\",\"linecolor\":\"white\",\"ticks\":\"\"},\"radialaxis\":{\"gridcolor\":\"white\",\"linecolor\":\"white\",\"ticks\":\"\"}},\"ternary\":{\"bgcolor\":\"#E5ECF6\",\"aaxis\":{\"gridcolor\":\"white\",\"linecolor\":\"white\",\"ticks\":\"\"},\"baxis\":{\"gridcolor\":\"white\",\"linecolor\":\"white\",\"ticks\":\"\"},\"caxis\":{\"gridcolor\":\"white\",\"linecolor\":\"white\",\"ticks\":\"\"}},\"coloraxis\":{\"colorbar\":{\"outlinewidth\":0,\"ticks\":\"\"}},\"colorscale\":{\"sequential\":[[0.0,\"#0d0887\"],[0.1111111111111111,\"#46039f\"],[0.2222222222222222,\"#7201a8\"],[0.3333333333333333,\"#9c179e\"],[0.4444444444444444,\"#bd3786\"],[0.5555555555555556,\"#d8576b\"],[0.6666666666666666,\"#ed7953\"],[0.7777777777777778,\"#fb9f3a\"],[0.8888888888888888,\"#fdca26\"],[1.0,\"#f0f921\"]],\"sequentialminus\":[[0.0,\"#0d0887\"],[0.1111111111111111,\"#46039f\"],[0.2222222222222222,\"#7201a8\"],[0.3333333333333333,\"#9c179e\"],[0.4444444444444444,\"#bd3786\"],[0.5555555555555556,\"#d8576b\"],[0.6666666666666666,\"#ed7953\"],[0.7777777777777778,\"#fb9f3a\"],[0.8888888888888888,\"#fdca26\"],[1.0,\"#f0f921\"]],\"diverging\":[[0,\"#8e0152\"],[0.1,\"#c51b7d\"],[0.2,\"#de77ae\"],[0.3,\"#f1b6da\"],[0.4,\"#fde0ef\"],[0.5,\"#f7f7f7\"],[0.6,\"#e6f5d0\"],[0.7,\"#b8e186\"],[0.8,\"#7fbc41\"],[0.9,\"#4d9221\"],[1,\"#276419\"]]},\"xaxis\":{\"gridcolor\":\"white\",\"linecolor\":\"white\",\"ticks\":\"\",\"title\":{\"standoff\":15},\"zerolinecolor\":\"white\",\"automargin\":true,\"zerolinewidth\":2},\"yaxis\":{\"gridcolor\":\"white\",\"linecolor\":\"white\",\"ticks\":\"\",\"title\":{\"standoff\":15},\"zerolinecolor\":\"white\",\"automargin\":true,\"zerolinewidth\":2},\"scene\":{\"xaxis\":{\"backgroundcolor\":\"#E5ECF6\",\"gridcolor\":\"white\",\"linecolor\":\"white\",\"showbackground\":true,\"ticks\":\"\",\"zerolinecolor\":\"white\",\"gridwidth\":2},\"yaxis\":{\"backgroundcolor\":\"#E5ECF6\",\"gridcolor\":\"white\",\"linecolor\":\"white\",\"showbackground\":true,\"ticks\":\"\",\"zerolinecolor\":\"white\",\"gridwidth\":2},\"zaxis\":{\"backgroundcolor\":\"#E5ECF6\",\"gridcolor\":\"white\",\"linecolor\":\"white\",\"showbackground\":true,\"ticks\":\"\",\"zerolinecolor\":\"white\",\"gridwidth\":2}},\"shapedefaults\":{\"line\":{\"color\":\"#2a3f5f\"}},\"annotationdefaults\":{\"arrowcolor\":\"#2a3f5f\",\"arrowhead\":0,\"arrowwidth\":1},\"geo\":{\"bgcolor\":\"white\",\"landcolor\":\"#E5ECF6\",\"subunitcolor\":\"white\",\"showland\":true,\"showlakes\":true,\"lakecolor\":\"white\"},\"title\":{\"x\":0.05},\"mapbox\":{\"style\":\"light\"}}},\"polar\":{\"domain\":{\"x\":[0.0,1.0],\"y\":[0.0,1.0]},\"angularaxis\":{\"direction\":\"clockwise\",\"rotation\":90}},\"legend\":{\"tracegroupgap\":0},\"margin\":{\"t\":60}},                        {\"responsive\": true}                    ).then(function(){\n",
       "                            \n",
       "var gd = document.getElementById('61be9b0e-93ab-44e1-b41f-05cc39a065a4');\n",
       "var x = new MutationObserver(function (mutations, observer) {{\n",
       "        var display = window.getComputedStyle(gd).display;\n",
       "        if (!display || display === 'none') {{\n",
       "            console.log([gd, 'removed!']);\n",
       "            Plotly.purge(gd);\n",
       "            observer.disconnect();\n",
       "        }}\n",
       "}});\n",
       "\n",
       "// Listen for the removal of the full notebook cells\n",
       "var notebookContainer = gd.closest('#notebook-container');\n",
       "if (notebookContainer) {{\n",
       "    x.observe(notebookContainer, {childList: true});\n",
       "}}\n",
       "\n",
       "// Listen for the clearing of the current output cell\n",
       "var outputEl = gd.closest('.output');\n",
       "if (outputEl) {{\n",
       "    x.observe(outputEl, {childList: true});\n",
       "}}\n",
       "\n",
       "                        })                };                });            </script>        </div>"
      ]
     },
     "metadata": {},
     "output_type": "display_data"
    }
   ],
   "source": [
    "samp = team_attrs[cols].iloc[5, ::]\n",
    "samp1 = pd.DataFrame(samp).reset_index().rename(columns={\"index\": \"dim\", 5: \"score\"})\n",
    "px.line_polar(samp1, r=\"score\", theta=\"dim\", line_close=True)"
   ]
  },
  {
   "cell_type": "code",
   "execution_count": 436,
   "id": "1bf95dfb-f395-4563-9e29-51116684ebd7",
   "metadata": {},
   "outputs": [
    {
     "data": {
      "text/html": [
       "<div>\n",
       "<style scoped>\n",
       "    .dataframe tbody tr th:only-of-type {\n",
       "        vertical-align: middle;\n",
       "    }\n",
       "\n",
       "    .dataframe tbody tr th {\n",
       "        vertical-align: top;\n",
       "    }\n",
       "\n",
       "    .dataframe thead th {\n",
       "        text-align: right;\n",
       "    }\n",
       "</style>\n",
       "<table border=\"1\" class=\"dataframe\">\n",
       "  <thead>\n",
       "    <tr style=\"text-align: right;\">\n",
       "      <th></th>\n",
       "      <th>id</th>\n",
       "      <th>country_id</th>\n",
       "      <th>name</th>\n",
       "    </tr>\n",
       "  </thead>\n",
       "  <tbody>\n",
       "    <tr>\n",
       "      <th>0</th>\n",
       "      <td>1</td>\n",
       "      <td>1</td>\n",
       "      <td>Belgium Jupiler League</td>\n",
       "    </tr>\n",
       "    <tr>\n",
       "      <th>1</th>\n",
       "      <td>1729</td>\n",
       "      <td>1729</td>\n",
       "      <td>England Premier League</td>\n",
       "    </tr>\n",
       "    <tr>\n",
       "      <th>2</th>\n",
       "      <td>4769</td>\n",
       "      <td>4769</td>\n",
       "      <td>France Ligue 1</td>\n",
       "    </tr>\n",
       "    <tr>\n",
       "      <th>3</th>\n",
       "      <td>7809</td>\n",
       "      <td>7809</td>\n",
       "      <td>Germany 1. Bundesliga</td>\n",
       "    </tr>\n",
       "    <tr>\n",
       "      <th>4</th>\n",
       "      <td>10257</td>\n",
       "      <td>10257</td>\n",
       "      <td>Italy Serie A</td>\n",
       "    </tr>\n",
       "  </tbody>\n",
       "</table>\n",
       "</div>"
      ],
      "text/plain": [
       "      id  country_id                    name\n",
       "0      1           1  Belgium Jupiler League\n",
       "1   1729        1729  England Premier League\n",
       "2   4769        4769          France Ligue 1\n",
       "3   7809        7809   Germany 1. Bundesliga\n",
       "4  10257       10257           Italy Serie A"
      ]
     },
     "execution_count": 436,
     "metadata": {},
     "output_type": "execute_result"
    }
   ],
   "source": [
    "league = pd.read_sql(\"\"\" SELECT * FROM league; \"\"\", conn)\n",
    "league[:5]"
   ]
  },
  {
   "cell_type": "code",
   "execution_count": 437,
   "id": "0f202c95-49ea-4512-8364-d7399d42757a",
   "metadata": {},
   "outputs": [
    {
     "data": {
      "text/html": [
       "<div>\n",
       "<style scoped>\n",
       "    .dataframe tbody tr th:only-of-type {\n",
       "        vertical-align: middle;\n",
       "    }\n",
       "\n",
       "    .dataframe tbody tr th {\n",
       "        vertical-align: top;\n",
       "    }\n",
       "\n",
       "    .dataframe thead th {\n",
       "        text-align: right;\n",
       "    }\n",
       "</style>\n",
       "<table border=\"1\" class=\"dataframe\">\n",
       "  <thead>\n",
       "    <tr style=\"text-align: right;\">\n",
       "      <th></th>\n",
       "      <th>id</th>\n",
       "      <th>name</th>\n",
       "    </tr>\n",
       "  </thead>\n",
       "  <tbody>\n",
       "    <tr>\n",
       "      <th>0</th>\n",
       "      <td>1</td>\n",
       "      <td>Belgium</td>\n",
       "    </tr>\n",
       "    <tr>\n",
       "      <th>1</th>\n",
       "      <td>1729</td>\n",
       "      <td>England</td>\n",
       "    </tr>\n",
       "    <tr>\n",
       "      <th>2</th>\n",
       "      <td>4769</td>\n",
       "      <td>France</td>\n",
       "    </tr>\n",
       "    <tr>\n",
       "      <th>3</th>\n",
       "      <td>7809</td>\n",
       "      <td>Germany</td>\n",
       "    </tr>\n",
       "    <tr>\n",
       "      <th>4</th>\n",
       "      <td>10257</td>\n",
       "      <td>Italy</td>\n",
       "    </tr>\n",
       "  </tbody>\n",
       "</table>\n",
       "</div>"
      ],
      "text/plain": [
       "      id     name\n",
       "0      1  Belgium\n",
       "1   1729  England\n",
       "2   4769   France\n",
       "3   7809  Germany\n",
       "4  10257    Italy"
      ]
     },
     "execution_count": 437,
     "metadata": {},
     "output_type": "execute_result"
    }
   ],
   "source": [
    "country = pd.read_sql(\"\"\" SELECT * FROM country; \"\"\", conn)\n",
    "country[:5]"
   ]
  },
  {
   "cell_type": "code",
   "execution_count": 171,
   "id": "d1169fa4-dfbd-4f82-8fb6-a14191a95deb",
   "metadata": {},
   "outputs": [],
   "source": [
    "# team = pd.read_sql(\"\"\" SELECT * FROM team_attributes JOIN team ON team_attributes.team_api_id = team.team_api_id; \"\"\", conn)\n",
    "# # team.dtypes"
   ]
  },
  {
   "cell_type": "code",
   "execution_count": 402,
   "id": "37b50141-4f9b-403c-a21f-09abfd1f645c",
   "metadata": {},
   "outputs": [],
   "source": [
    "# match = pd.read_sql(\"\"\" SELECT * FROM match JOIN team_attributes ON team_attributes.team_api_id = match.home_team_api_id JOIN team ON team.team_api_id = match.home_team_api_id; \"\"\", conn)\n",
    "# match[:5]"
   ]
  },
  {
   "cell_type": "code",
   "execution_count": 184,
   "id": "d720ec60-7380-40ea-bb71-1c94806668a2",
   "metadata": {},
   "outputs": [],
   "source": [
    "# the tables in question\n",
    "team_attr = pd.read_sql(\"\"\" SELECT * FROM team_attributes; \"\"\", conn)\n",
    "team_name = pd.read_sql(\"\"\" SELECT * FROM team; \"\"\", conn)\n",
    "match = pd.read_sql(\"\"\" SELECT * FROM match; \"\"\", conn)"
   ]
  },
  {
   "cell_type": "code",
   "execution_count": 809,
   "id": "31c86e4d-3e20-48d4-b2e3-44fb95cdd7f3",
   "metadata": {},
   "outputs": [
    {
     "data": {
      "text/html": [
       "<div>\n",
       "<style scoped>\n",
       "    .dataframe tbody tr th:only-of-type {\n",
       "        vertical-align: middle;\n",
       "    }\n",
       "\n",
       "    .dataframe tbody tr th {\n",
       "        vertical-align: top;\n",
       "    }\n",
       "\n",
       "    .dataframe thead th {\n",
       "        text-align: right;\n",
       "    }\n",
       "</style>\n",
       "<table border=\"1\" class=\"dataframe\">\n",
       "  <thead>\n",
       "    <tr style=\"text-align: right;\">\n",
       "      <th></th>\n",
       "      <th>id</th>\n",
       "      <th>country_id</th>\n",
       "      <th>league_id</th>\n",
       "      <th>season</th>\n",
       "      <th>stage</th>\n",
       "      <th>date</th>\n",
       "      <th>match_api_id</th>\n",
       "      <th>home_team_api_id</th>\n",
       "      <th>away_team_api_id</th>\n",
       "      <th>home_team_goal</th>\n",
       "      <th>away_team_goal</th>\n",
       "      <th>home_player_X1</th>\n",
       "      <th>home_player_X2</th>\n",
       "      <th>home_player_X3</th>\n",
       "      <th>home_player_X4</th>\n",
       "      <th>home_player_X5</th>\n",
       "      <th>home_player_X6</th>\n",
       "      <th>home_player_X7</th>\n",
       "      <th>home_player_X8</th>\n",
       "      <th>home_player_X9</th>\n",
       "      <th>home_player_X10</th>\n",
       "      <th>home_player_X11</th>\n",
       "      <th>away_player_X1</th>\n",
       "      <th>away_player_X2</th>\n",
       "      <th>away_player_X3</th>\n",
       "      <th>away_player_X4</th>\n",
       "      <th>away_player_X5</th>\n",
       "      <th>away_player_X6</th>\n",
       "      <th>away_player_X7</th>\n",
       "      <th>away_player_X8</th>\n",
       "      <th>away_player_X9</th>\n",
       "      <th>away_player_X10</th>\n",
       "      <th>away_player_X11</th>\n",
       "      <th>home_player_Y1</th>\n",
       "      <th>home_player_Y2</th>\n",
       "      <th>home_player_Y3</th>\n",
       "      <th>home_player_Y4</th>\n",
       "      <th>home_player_Y5</th>\n",
       "      <th>home_player_Y6</th>\n",
       "      <th>home_player_Y7</th>\n",
       "      <th>home_player_Y8</th>\n",
       "      <th>home_player_Y9</th>\n",
       "      <th>home_player_Y10</th>\n",
       "      <th>home_player_Y11</th>\n",
       "      <th>away_player_Y1</th>\n",
       "      <th>away_player_Y2</th>\n",
       "      <th>away_player_Y3</th>\n",
       "      <th>away_player_Y4</th>\n",
       "      <th>away_player_Y5</th>\n",
       "      <th>away_player_Y6</th>\n",
       "      <th>away_player_Y7</th>\n",
       "      <th>away_player_Y8</th>\n",
       "      <th>away_player_Y9</th>\n",
       "      <th>away_player_Y10</th>\n",
       "      <th>away_player_Y11</th>\n",
       "      <th>home_player_1</th>\n",
       "      <th>home_player_2</th>\n",
       "      <th>home_player_3</th>\n",
       "      <th>home_player_4</th>\n",
       "      <th>home_player_5</th>\n",
       "      <th>home_player_6</th>\n",
       "      <th>home_player_7</th>\n",
       "      <th>home_player_8</th>\n",
       "      <th>home_player_9</th>\n",
       "      <th>home_player_10</th>\n",
       "      <th>home_player_11</th>\n",
       "      <th>away_player_1</th>\n",
       "      <th>away_player_2</th>\n",
       "      <th>away_player_3</th>\n",
       "      <th>away_player_4</th>\n",
       "      <th>away_player_5</th>\n",
       "      <th>away_player_6</th>\n",
       "      <th>away_player_7</th>\n",
       "      <th>away_player_8</th>\n",
       "      <th>away_player_9</th>\n",
       "      <th>away_player_10</th>\n",
       "      <th>away_player_11</th>\n",
       "      <th>goal</th>\n",
       "      <th>shoton</th>\n",
       "      <th>shotoff</th>\n",
       "      <th>foulcommit</th>\n",
       "      <th>card</th>\n",
       "      <th>cross</th>\n",
       "      <th>corner</th>\n",
       "      <th>possession</th>\n",
       "      <th>B365H</th>\n",
       "      <th>B365D</th>\n",
       "      <th>B365A</th>\n",
       "      <th>BWH</th>\n",
       "      <th>BWD</th>\n",
       "      <th>BWA</th>\n",
       "      <th>IWH</th>\n",
       "      <th>IWD</th>\n",
       "      <th>IWA</th>\n",
       "      <th>LBH</th>\n",
       "      <th>LBD</th>\n",
       "      <th>LBA</th>\n",
       "      <th>PSH</th>\n",
       "      <th>PSD</th>\n",
       "      <th>PSA</th>\n",
       "      <th>WHH</th>\n",
       "      <th>WHD</th>\n",
       "      <th>WHA</th>\n",
       "      <th>SJH</th>\n",
       "      <th>SJD</th>\n",
       "      <th>SJA</th>\n",
       "      <th>VCH</th>\n",
       "      <th>VCD</th>\n",
       "      <th>VCA</th>\n",
       "      <th>GBH</th>\n",
       "      <th>GBD</th>\n",
       "      <th>GBA</th>\n",
       "      <th>BSH</th>\n",
       "      <th>BSD</th>\n",
       "      <th>BSA</th>\n",
       "    </tr>\n",
       "  </thead>\n",
       "  <tbody>\n",
       "    <tr>\n",
       "      <th>25969</th>\n",
       "      <td>25970</td>\n",
       "      <td>24558</td>\n",
       "      <td>24558</td>\n",
       "      <td>2015/2016</td>\n",
       "      <td>8</td>\n",
       "      <td>2015-09-12 00:00:00</td>\n",
       "      <td>1992086</td>\n",
       "      <td>9931</td>\n",
       "      <td>10190</td>\n",
       "      <td>2</td>\n",
       "      <td>1</td>\n",
       "      <td>1.0</td>\n",
       "      <td>2.0</td>\n",
       "      <td>4.0</td>\n",
       "      <td>6.0</td>\n",
       "      <td>8.0</td>\n",
       "      <td>4.0</td>\n",
       "      <td>6.0</td>\n",
       "      <td>3.0</td>\n",
       "      <td>5.0</td>\n",
       "      <td>7.0</td>\n",
       "      <td>5.0</td>\n",
       "      <td>1.0</td>\n",
       "      <td>2.0</td>\n",
       "      <td>4.0</td>\n",
       "      <td>6.0</td>\n",
       "      <td>8.0</td>\n",
       "      <td>5.0</td>\n",
       "      <td>2.0</td>\n",
       "      <td>4.0</td>\n",
       "      <td>6.0</td>\n",
       "      <td>8.0</td>\n",
       "      <td>5.0</td>\n",
       "      <td>1.0</td>\n",
       "      <td>3.0</td>\n",
       "      <td>3.0</td>\n",
       "      <td>3.0</td>\n",
       "      <td>3.0</td>\n",
       "      <td>6.0</td>\n",
       "      <td>6.0</td>\n",
       "      <td>8.0</td>\n",
       "      <td>8.0</td>\n",
       "      <td>8.0</td>\n",
       "      <td>11.0</td>\n",
       "      <td>1.0</td>\n",
       "      <td>3.0</td>\n",
       "      <td>3.0</td>\n",
       "      <td>3.0</td>\n",
       "      <td>3.0</td>\n",
       "      <td>6.0</td>\n",
       "      <td>8.0</td>\n",
       "      <td>8.0</td>\n",
       "      <td>8.0</td>\n",
       "      <td>8.0</td>\n",
       "      <td>11.0</td>\n",
       "      <td>156175.0</td>\n",
       "      <td>95216.0</td>\n",
       "      <td>172768.0</td>\n",
       "      <td>22834.0</td>\n",
       "      <td>30835.0</td>\n",
       "      <td>339992.0</td>\n",
       "      <td>114738.0</td>\n",
       "      <td>176206.0</td>\n",
       "      <td>34035.0</td>\n",
       "      <td>40274.0</td>\n",
       "      <td>23148.0</td>\n",
       "      <td>42231.0</td>\n",
       "      <td>678384.0</td>\n",
       "      <td>638592.0</td>\n",
       "      <td>67363.0</td>\n",
       "      <td>413155.0</td>\n",
       "      <td>45780.0</td>\n",
       "      <td>143790.0</td>\n",
       "      <td>66934.0</td>\n",
       "      <td>176298.0</td>\n",
       "      <td>92094.0</td>\n",
       "      <td>72628.0</td>\n",
       "      <td>None</td>\n",
       "      <td>None</td>\n",
       "      <td>None</td>\n",
       "      <td>None</td>\n",
       "      <td>None</td>\n",
       "      <td>None</td>\n",
       "      <td>None</td>\n",
       "      <td>None</td>\n",
       "      <td>NaN</td>\n",
       "      <td>NaN</td>\n",
       "      <td>NaN</td>\n",
       "      <td>NaN</td>\n",
       "      <td>NaN</td>\n",
       "      <td>NaN</td>\n",
       "      <td>NaN</td>\n",
       "      <td>NaN</td>\n",
       "      <td>NaN</td>\n",
       "      <td>NaN</td>\n",
       "      <td>NaN</td>\n",
       "      <td>NaN</td>\n",
       "      <td>NaN</td>\n",
       "      <td>NaN</td>\n",
       "      <td>NaN</td>\n",
       "      <td>NaN</td>\n",
       "      <td>NaN</td>\n",
       "      <td>NaN</td>\n",
       "      <td>NaN</td>\n",
       "      <td>NaN</td>\n",
       "      <td>NaN</td>\n",
       "      <td>NaN</td>\n",
       "      <td>NaN</td>\n",
       "      <td>NaN</td>\n",
       "      <td>NaN</td>\n",
       "      <td>NaN</td>\n",
       "      <td>NaN</td>\n",
       "      <td>NaN</td>\n",
       "      <td>NaN</td>\n",
       "      <td>NaN</td>\n",
       "    </tr>\n",
       "    <tr>\n",
       "      <th>25970</th>\n",
       "      <td>25971</td>\n",
       "      <td>24558</td>\n",
       "      <td>24558</td>\n",
       "      <td>2015/2016</td>\n",
       "      <td>8</td>\n",
       "      <td>2015-09-12 00:00:00</td>\n",
       "      <td>1992087</td>\n",
       "      <td>10192</td>\n",
       "      <td>9824</td>\n",
       "      <td>4</td>\n",
       "      <td>0</td>\n",
       "      <td>1.0</td>\n",
       "      <td>2.0</td>\n",
       "      <td>4.0</td>\n",
       "      <td>6.0</td>\n",
       "      <td>8.0</td>\n",
       "      <td>2.0</td>\n",
       "      <td>4.0</td>\n",
       "      <td>6.0</td>\n",
       "      <td>8.0</td>\n",
       "      <td>4.0</td>\n",
       "      <td>6.0</td>\n",
       "      <td>1.0</td>\n",
       "      <td>2.0</td>\n",
       "      <td>4.0</td>\n",
       "      <td>6.0</td>\n",
       "      <td>8.0</td>\n",
       "      <td>3.0</td>\n",
       "      <td>5.0</td>\n",
       "      <td>7.0</td>\n",
       "      <td>3.0</td>\n",
       "      <td>5.0</td>\n",
       "      <td>7.0</td>\n",
       "      <td>1.0</td>\n",
       "      <td>3.0</td>\n",
       "      <td>3.0</td>\n",
       "      <td>3.0</td>\n",
       "      <td>3.0</td>\n",
       "      <td>7.0</td>\n",
       "      <td>7.0</td>\n",
       "      <td>7.0</td>\n",
       "      <td>7.0</td>\n",
       "      <td>10.0</td>\n",
       "      <td>10.0</td>\n",
       "      <td>1.0</td>\n",
       "      <td>3.0</td>\n",
       "      <td>3.0</td>\n",
       "      <td>3.0</td>\n",
       "      <td>3.0</td>\n",
       "      <td>7.0</td>\n",
       "      <td>7.0</td>\n",
       "      <td>7.0</td>\n",
       "      <td>10.0</td>\n",
       "      <td>10.0</td>\n",
       "      <td>10.0</td>\n",
       "      <td>274787.0</td>\n",
       "      <td>492132.0</td>\n",
       "      <td>108451.0</td>\n",
       "      <td>25815.0</td>\n",
       "      <td>94553.0</td>\n",
       "      <td>384376.0</td>\n",
       "      <td>598355.0</td>\n",
       "      <td>320184.0</td>\n",
       "      <td>45174.0</td>\n",
       "      <td>71764.0</td>\n",
       "      <td>302079.0</td>\n",
       "      <td>33272.0</td>\n",
       "      <td>114735.0</td>\n",
       "      <td>25813.0</td>\n",
       "      <td>41621.0</td>\n",
       "      <td>358156.0</td>\n",
       "      <td>114011.0</td>\n",
       "      <td>42237.0</td>\n",
       "      <td>56868.0</td>\n",
       "      <td>209371.0</td>\n",
       "      <td>531309.0</td>\n",
       "      <td>113227.0</td>\n",
       "      <td>None</td>\n",
       "      <td>None</td>\n",
       "      <td>None</td>\n",
       "      <td>None</td>\n",
       "      <td>None</td>\n",
       "      <td>None</td>\n",
       "      <td>None</td>\n",
       "      <td>None</td>\n",
       "      <td>NaN</td>\n",
       "      <td>NaN</td>\n",
       "      <td>NaN</td>\n",
       "      <td>NaN</td>\n",
       "      <td>NaN</td>\n",
       "      <td>NaN</td>\n",
       "      <td>NaN</td>\n",
       "      <td>NaN</td>\n",
       "      <td>NaN</td>\n",
       "      <td>NaN</td>\n",
       "      <td>NaN</td>\n",
       "      <td>NaN</td>\n",
       "      <td>NaN</td>\n",
       "      <td>NaN</td>\n",
       "      <td>NaN</td>\n",
       "      <td>NaN</td>\n",
       "      <td>NaN</td>\n",
       "      <td>NaN</td>\n",
       "      <td>NaN</td>\n",
       "      <td>NaN</td>\n",
       "      <td>NaN</td>\n",
       "      <td>NaN</td>\n",
       "      <td>NaN</td>\n",
       "      <td>NaN</td>\n",
       "      <td>NaN</td>\n",
       "      <td>NaN</td>\n",
       "      <td>NaN</td>\n",
       "      <td>NaN</td>\n",
       "      <td>NaN</td>\n",
       "      <td>NaN</td>\n",
       "    </tr>\n",
       "    <tr>\n",
       "      <th>25971</th>\n",
       "      <td>25972</td>\n",
       "      <td>24558</td>\n",
       "      <td>24558</td>\n",
       "      <td>2015/2016</td>\n",
       "      <td>8</td>\n",
       "      <td>2015-09-13 00:00:00</td>\n",
       "      <td>1992088</td>\n",
       "      <td>10199</td>\n",
       "      <td>9956</td>\n",
       "      <td>3</td>\n",
       "      <td>3</td>\n",
       "      <td>1.0</td>\n",
       "      <td>2.0</td>\n",
       "      <td>4.0</td>\n",
       "      <td>6.0</td>\n",
       "      <td>8.0</td>\n",
       "      <td>5.0</td>\n",
       "      <td>4.0</td>\n",
       "      <td>6.0</td>\n",
       "      <td>5.0</td>\n",
       "      <td>4.0</td>\n",
       "      <td>6.0</td>\n",
       "      <td>1.0</td>\n",
       "      <td>2.0</td>\n",
       "      <td>4.0</td>\n",
       "      <td>6.0</td>\n",
       "      <td>8.0</td>\n",
       "      <td>4.0</td>\n",
       "      <td>6.0</td>\n",
       "      <td>3.0</td>\n",
       "      <td>5.0</td>\n",
       "      <td>7.0</td>\n",
       "      <td>5.0</td>\n",
       "      <td>1.0</td>\n",
       "      <td>3.0</td>\n",
       "      <td>3.0</td>\n",
       "      <td>3.0</td>\n",
       "      <td>3.0</td>\n",
       "      <td>6.0</td>\n",
       "      <td>7.0</td>\n",
       "      <td>7.0</td>\n",
       "      <td>9.0</td>\n",
       "      <td>11.0</td>\n",
       "      <td>11.0</td>\n",
       "      <td>1.0</td>\n",
       "      <td>3.0</td>\n",
       "      <td>3.0</td>\n",
       "      <td>3.0</td>\n",
       "      <td>3.0</td>\n",
       "      <td>6.0</td>\n",
       "      <td>6.0</td>\n",
       "      <td>8.0</td>\n",
       "      <td>8.0</td>\n",
       "      <td>8.0</td>\n",
       "      <td>11.0</td>\n",
       "      <td>42276.0</td>\n",
       "      <td>27232.0</td>\n",
       "      <td>178119.0</td>\n",
       "      <td>150007.0</td>\n",
       "      <td>42294.0</td>\n",
       "      <td>73977.0</td>\n",
       "      <td>114792.0</td>\n",
       "      <td>201704.0</td>\n",
       "      <td>36382.0</td>\n",
       "      <td>104646.0</td>\n",
       "      <td>34082.0</td>\n",
       "      <td>132814.0</td>\n",
       "      <td>274779.0</td>\n",
       "      <td>155075.0</td>\n",
       "      <td>294256.0</td>\n",
       "      <td>42258.0</td>\n",
       "      <td>173936.0</td>\n",
       "      <td>39979.0</td>\n",
       "      <td>147959.0</td>\n",
       "      <td>451983.0</td>\n",
       "      <td>80564.0</td>\n",
       "      <td>289472.0</td>\n",
       "      <td>None</td>\n",
       "      <td>None</td>\n",
       "      <td>None</td>\n",
       "      <td>None</td>\n",
       "      <td>None</td>\n",
       "      <td>None</td>\n",
       "      <td>None</td>\n",
       "      <td>None</td>\n",
       "      <td>NaN</td>\n",
       "      <td>NaN</td>\n",
       "      <td>NaN</td>\n",
       "      <td>NaN</td>\n",
       "      <td>NaN</td>\n",
       "      <td>NaN</td>\n",
       "      <td>NaN</td>\n",
       "      <td>NaN</td>\n",
       "      <td>NaN</td>\n",
       "      <td>NaN</td>\n",
       "      <td>NaN</td>\n",
       "      <td>NaN</td>\n",
       "      <td>NaN</td>\n",
       "      <td>NaN</td>\n",
       "      <td>NaN</td>\n",
       "      <td>NaN</td>\n",
       "      <td>NaN</td>\n",
       "      <td>NaN</td>\n",
       "      <td>NaN</td>\n",
       "      <td>NaN</td>\n",
       "      <td>NaN</td>\n",
       "      <td>NaN</td>\n",
       "      <td>NaN</td>\n",
       "      <td>NaN</td>\n",
       "      <td>NaN</td>\n",
       "      <td>NaN</td>\n",
       "      <td>NaN</td>\n",
       "      <td>NaN</td>\n",
       "      <td>NaN</td>\n",
       "      <td>NaN</td>\n",
       "    </tr>\n",
       "    <tr>\n",
       "      <th>25972</th>\n",
       "      <td>25973</td>\n",
       "      <td>24558</td>\n",
       "      <td>24558</td>\n",
       "      <td>2015/2016</td>\n",
       "      <td>8</td>\n",
       "      <td>2015-09-13 00:00:00</td>\n",
       "      <td>1992089</td>\n",
       "      <td>10243</td>\n",
       "      <td>10191</td>\n",
       "      <td>3</td>\n",
       "      <td>3</td>\n",
       "      <td>1.0</td>\n",
       "      <td>2.0</td>\n",
       "      <td>4.0</td>\n",
       "      <td>6.0</td>\n",
       "      <td>8.0</td>\n",
       "      <td>2.0</td>\n",
       "      <td>4.0</td>\n",
       "      <td>6.0</td>\n",
       "      <td>8.0</td>\n",
       "      <td>4.0</td>\n",
       "      <td>6.0</td>\n",
       "      <td>1.0</td>\n",
       "      <td>2.0</td>\n",
       "      <td>4.0</td>\n",
       "      <td>6.0</td>\n",
       "      <td>8.0</td>\n",
       "      <td>4.0</td>\n",
       "      <td>6.0</td>\n",
       "      <td>3.0</td>\n",
       "      <td>5.0</td>\n",
       "      <td>7.0</td>\n",
       "      <td>5.0</td>\n",
       "      <td>1.0</td>\n",
       "      <td>3.0</td>\n",
       "      <td>3.0</td>\n",
       "      <td>3.0</td>\n",
       "      <td>3.0</td>\n",
       "      <td>7.0</td>\n",
       "      <td>7.0</td>\n",
       "      <td>7.0</td>\n",
       "      <td>7.0</td>\n",
       "      <td>10.0</td>\n",
       "      <td>10.0</td>\n",
       "      <td>1.0</td>\n",
       "      <td>3.0</td>\n",
       "      <td>3.0</td>\n",
       "      <td>3.0</td>\n",
       "      <td>3.0</td>\n",
       "      <td>6.0</td>\n",
       "      <td>6.0</td>\n",
       "      <td>8.0</td>\n",
       "      <td>8.0</td>\n",
       "      <td>8.0</td>\n",
       "      <td>11.0</td>\n",
       "      <td>274776.0</td>\n",
       "      <td>451982.0</td>\n",
       "      <td>34268.0</td>\n",
       "      <td>197757.0</td>\n",
       "      <td>121080.0</td>\n",
       "      <td>462608.0</td>\n",
       "      <td>67008.0</td>\n",
       "      <td>632356.0</td>\n",
       "      <td>198082.0</td>\n",
       "      <td>194532.0</td>\n",
       "      <td>42262.0</td>\n",
       "      <td>67311.0</td>\n",
       "      <td>8800.0</td>\n",
       "      <td>320183.0</td>\n",
       "      <td>67304.0</td>\n",
       "      <td>67389.0</td>\n",
       "      <td>133126.0</td>\n",
       "      <td>186524.0</td>\n",
       "      <td>93223.0</td>\n",
       "      <td>121115.0</td>\n",
       "      <td>25809.0</td>\n",
       "      <td>289732.0</td>\n",
       "      <td>None</td>\n",
       "      <td>None</td>\n",
       "      <td>None</td>\n",
       "      <td>None</td>\n",
       "      <td>None</td>\n",
       "      <td>None</td>\n",
       "      <td>None</td>\n",
       "      <td>None</td>\n",
       "      <td>NaN</td>\n",
       "      <td>NaN</td>\n",
       "      <td>NaN</td>\n",
       "      <td>NaN</td>\n",
       "      <td>NaN</td>\n",
       "      <td>NaN</td>\n",
       "      <td>NaN</td>\n",
       "      <td>NaN</td>\n",
       "      <td>NaN</td>\n",
       "      <td>NaN</td>\n",
       "      <td>NaN</td>\n",
       "      <td>NaN</td>\n",
       "      <td>NaN</td>\n",
       "      <td>NaN</td>\n",
       "      <td>NaN</td>\n",
       "      <td>NaN</td>\n",
       "      <td>NaN</td>\n",
       "      <td>NaN</td>\n",
       "      <td>NaN</td>\n",
       "      <td>NaN</td>\n",
       "      <td>NaN</td>\n",
       "      <td>NaN</td>\n",
       "      <td>NaN</td>\n",
       "      <td>NaN</td>\n",
       "      <td>NaN</td>\n",
       "      <td>NaN</td>\n",
       "      <td>NaN</td>\n",
       "      <td>NaN</td>\n",
       "      <td>NaN</td>\n",
       "      <td>NaN</td>\n",
       "    </tr>\n",
       "    <tr>\n",
       "      <th>25973</th>\n",
       "      <td>25974</td>\n",
       "      <td>24558</td>\n",
       "      <td>24558</td>\n",
       "      <td>2015/2016</td>\n",
       "      <td>8</td>\n",
       "      <td>2015-09-13 00:00:00</td>\n",
       "      <td>1992090</td>\n",
       "      <td>10179</td>\n",
       "      <td>7896</td>\n",
       "      <td>3</td>\n",
       "      <td>0</td>\n",
       "      <td>1.0</td>\n",
       "      <td>2.0</td>\n",
       "      <td>4.0</td>\n",
       "      <td>6.0</td>\n",
       "      <td>8.0</td>\n",
       "      <td>4.0</td>\n",
       "      <td>6.0</td>\n",
       "      <td>3.0</td>\n",
       "      <td>5.0</td>\n",
       "      <td>7.0</td>\n",
       "      <td>5.0</td>\n",
       "      <td>1.0</td>\n",
       "      <td>2.0</td>\n",
       "      <td>4.0</td>\n",
       "      <td>6.0</td>\n",
       "      <td>8.0</td>\n",
       "      <td>5.0</td>\n",
       "      <td>4.0</td>\n",
       "      <td>6.0</td>\n",
       "      <td>3.0</td>\n",
       "      <td>5.0</td>\n",
       "      <td>7.0</td>\n",
       "      <td>1.0</td>\n",
       "      <td>3.0</td>\n",
       "      <td>3.0</td>\n",
       "      <td>3.0</td>\n",
       "      <td>3.0</td>\n",
       "      <td>6.0</td>\n",
       "      <td>6.0</td>\n",
       "      <td>8.0</td>\n",
       "      <td>8.0</td>\n",
       "      <td>8.0</td>\n",
       "      <td>11.0</td>\n",
       "      <td>1.0</td>\n",
       "      <td>3.0</td>\n",
       "      <td>3.0</td>\n",
       "      <td>3.0</td>\n",
       "      <td>3.0</td>\n",
       "      <td>6.0</td>\n",
       "      <td>8.0</td>\n",
       "      <td>8.0</td>\n",
       "      <td>10.0</td>\n",
       "      <td>10.0</td>\n",
       "      <td>10.0</td>\n",
       "      <td>10637.0</td>\n",
       "      <td>67349.0</td>\n",
       "      <td>202663.0</td>\n",
       "      <td>32597.0</td>\n",
       "      <td>114794.0</td>\n",
       "      <td>188114.0</td>\n",
       "      <td>25840.0</td>\n",
       "      <td>482200.0</td>\n",
       "      <td>538336.0</td>\n",
       "      <td>95230.0</td>\n",
       "      <td>275122.0</td>\n",
       "      <td>NaN</td>\n",
       "      <td>8881.0</td>\n",
       "      <td>39646.0</td>\n",
       "      <td>41415.0</td>\n",
       "      <td>282287.0</td>\n",
       "      <td>491221.0</td>\n",
       "      <td>150084.0</td>\n",
       "      <td>8893.0</td>\n",
       "      <td>140490.0</td>\n",
       "      <td>93229.0</td>\n",
       "      <td>178142.0</td>\n",
       "      <td>None</td>\n",
       "      <td>None</td>\n",
       "      <td>None</td>\n",
       "      <td>None</td>\n",
       "      <td>None</td>\n",
       "      <td>None</td>\n",
       "      <td>None</td>\n",
       "      <td>None</td>\n",
       "      <td>NaN</td>\n",
       "      <td>NaN</td>\n",
       "      <td>NaN</td>\n",
       "      <td>NaN</td>\n",
       "      <td>NaN</td>\n",
       "      <td>NaN</td>\n",
       "      <td>NaN</td>\n",
       "      <td>NaN</td>\n",
       "      <td>NaN</td>\n",
       "      <td>NaN</td>\n",
       "      <td>NaN</td>\n",
       "      <td>NaN</td>\n",
       "      <td>NaN</td>\n",
       "      <td>NaN</td>\n",
       "      <td>NaN</td>\n",
       "      <td>NaN</td>\n",
       "      <td>NaN</td>\n",
       "      <td>NaN</td>\n",
       "      <td>NaN</td>\n",
       "      <td>NaN</td>\n",
       "      <td>NaN</td>\n",
       "      <td>NaN</td>\n",
       "      <td>NaN</td>\n",
       "      <td>NaN</td>\n",
       "      <td>NaN</td>\n",
       "      <td>NaN</td>\n",
       "      <td>NaN</td>\n",
       "      <td>NaN</td>\n",
       "      <td>NaN</td>\n",
       "      <td>NaN</td>\n",
       "    </tr>\n",
       "    <tr>\n",
       "      <th>25974</th>\n",
       "      <td>25975</td>\n",
       "      <td>24558</td>\n",
       "      <td>24558</td>\n",
       "      <td>2015/2016</td>\n",
       "      <td>9</td>\n",
       "      <td>2015-09-22 00:00:00</td>\n",
       "      <td>1992091</td>\n",
       "      <td>10190</td>\n",
       "      <td>10191</td>\n",
       "      <td>1</td>\n",
       "      <td>0</td>\n",
       "      <td>1.0</td>\n",
       "      <td>2.0</td>\n",
       "      <td>4.0</td>\n",
       "      <td>6.0</td>\n",
       "      <td>8.0</td>\n",
       "      <td>4.0</td>\n",
       "      <td>6.0</td>\n",
       "      <td>3.0</td>\n",
       "      <td>5.0</td>\n",
       "      <td>7.0</td>\n",
       "      <td>5.0</td>\n",
       "      <td>1.0</td>\n",
       "      <td>2.0</td>\n",
       "      <td>4.0</td>\n",
       "      <td>6.0</td>\n",
       "      <td>8.0</td>\n",
       "      <td>4.0</td>\n",
       "      <td>6.0</td>\n",
       "      <td>3.0</td>\n",
       "      <td>5.0</td>\n",
       "      <td>7.0</td>\n",
       "      <td>5.0</td>\n",
       "      <td>1.0</td>\n",
       "      <td>3.0</td>\n",
       "      <td>3.0</td>\n",
       "      <td>3.0</td>\n",
       "      <td>3.0</td>\n",
       "      <td>6.0</td>\n",
       "      <td>6.0</td>\n",
       "      <td>8.0</td>\n",
       "      <td>8.0</td>\n",
       "      <td>8.0</td>\n",
       "      <td>11.0</td>\n",
       "      <td>1.0</td>\n",
       "      <td>3.0</td>\n",
       "      <td>3.0</td>\n",
       "      <td>3.0</td>\n",
       "      <td>3.0</td>\n",
       "      <td>6.0</td>\n",
       "      <td>6.0</td>\n",
       "      <td>8.0</td>\n",
       "      <td>8.0</td>\n",
       "      <td>8.0</td>\n",
       "      <td>11.0</td>\n",
       "      <td>42231.0</td>\n",
       "      <td>678384.0</td>\n",
       "      <td>95220.0</td>\n",
       "      <td>638592.0</td>\n",
       "      <td>413155.0</td>\n",
       "      <td>45780.0</td>\n",
       "      <td>171229.0</td>\n",
       "      <td>67333.0</td>\n",
       "      <td>119839.0</td>\n",
       "      <td>143790.0</td>\n",
       "      <td>195215.0</td>\n",
       "      <td>462944.0</td>\n",
       "      <td>563066.0</td>\n",
       "      <td>8800.0</td>\n",
       "      <td>67304.0</td>\n",
       "      <td>158253.0</td>\n",
       "      <td>133126.0</td>\n",
       "      <td>186524.0</td>\n",
       "      <td>93223.0</td>\n",
       "      <td>121115.0</td>\n",
       "      <td>232110.0</td>\n",
       "      <td>289732.0</td>\n",
       "      <td>None</td>\n",
       "      <td>None</td>\n",
       "      <td>None</td>\n",
       "      <td>None</td>\n",
       "      <td>None</td>\n",
       "      <td>None</td>\n",
       "      <td>None</td>\n",
       "      <td>None</td>\n",
       "      <td>NaN</td>\n",
       "      <td>NaN</td>\n",
       "      <td>NaN</td>\n",
       "      <td>NaN</td>\n",
       "      <td>NaN</td>\n",
       "      <td>NaN</td>\n",
       "      <td>NaN</td>\n",
       "      <td>NaN</td>\n",
       "      <td>NaN</td>\n",
       "      <td>NaN</td>\n",
       "      <td>NaN</td>\n",
       "      <td>NaN</td>\n",
       "      <td>NaN</td>\n",
       "      <td>NaN</td>\n",
       "      <td>NaN</td>\n",
       "      <td>NaN</td>\n",
       "      <td>NaN</td>\n",
       "      <td>NaN</td>\n",
       "      <td>NaN</td>\n",
       "      <td>NaN</td>\n",
       "      <td>NaN</td>\n",
       "      <td>NaN</td>\n",
       "      <td>NaN</td>\n",
       "      <td>NaN</td>\n",
       "      <td>NaN</td>\n",
       "      <td>NaN</td>\n",
       "      <td>NaN</td>\n",
       "      <td>NaN</td>\n",
       "      <td>NaN</td>\n",
       "      <td>NaN</td>\n",
       "    </tr>\n",
       "    <tr>\n",
       "      <th>25975</th>\n",
       "      <td>25976</td>\n",
       "      <td>24558</td>\n",
       "      <td>24558</td>\n",
       "      <td>2015/2016</td>\n",
       "      <td>9</td>\n",
       "      <td>2015-09-23 00:00:00</td>\n",
       "      <td>1992092</td>\n",
       "      <td>9824</td>\n",
       "      <td>10199</td>\n",
       "      <td>1</td>\n",
       "      <td>2</td>\n",
       "      <td>1.0</td>\n",
       "      <td>3.0</td>\n",
       "      <td>5.0</td>\n",
       "      <td>7.0</td>\n",
       "      <td>2.0</td>\n",
       "      <td>4.0</td>\n",
       "      <td>6.0</td>\n",
       "      <td>8.0</td>\n",
       "      <td>5.0</td>\n",
       "      <td>4.0</td>\n",
       "      <td>6.0</td>\n",
       "      <td>1.0</td>\n",
       "      <td>2.0</td>\n",
       "      <td>4.0</td>\n",
       "      <td>6.0</td>\n",
       "      <td>8.0</td>\n",
       "      <td>3.0</td>\n",
       "      <td>5.0</td>\n",
       "      <td>7.0</td>\n",
       "      <td>3.0</td>\n",
       "      <td>5.0</td>\n",
       "      <td>7.0</td>\n",
       "      <td>1.0</td>\n",
       "      <td>3.0</td>\n",
       "      <td>3.0</td>\n",
       "      <td>3.0</td>\n",
       "      <td>7.0</td>\n",
       "      <td>7.0</td>\n",
       "      <td>7.0</td>\n",
       "      <td>7.0</td>\n",
       "      <td>9.0</td>\n",
       "      <td>11.0</td>\n",
       "      <td>11.0</td>\n",
       "      <td>1.0</td>\n",
       "      <td>3.0</td>\n",
       "      <td>3.0</td>\n",
       "      <td>3.0</td>\n",
       "      <td>3.0</td>\n",
       "      <td>7.0</td>\n",
       "      <td>7.0</td>\n",
       "      <td>7.0</td>\n",
       "      <td>10.0</td>\n",
       "      <td>10.0</td>\n",
       "      <td>10.0</td>\n",
       "      <td>33272.0</td>\n",
       "      <td>41621.0</td>\n",
       "      <td>25813.0</td>\n",
       "      <td>257845.0</td>\n",
       "      <td>114735.0</td>\n",
       "      <td>42237.0</td>\n",
       "      <td>113227.0</td>\n",
       "      <td>358156.0</td>\n",
       "      <td>32343.0</td>\n",
       "      <td>531309.0</td>\n",
       "      <td>37257.0</td>\n",
       "      <td>42276.0</td>\n",
       "      <td>114792.0</td>\n",
       "      <td>150007.0</td>\n",
       "      <td>178119.0</td>\n",
       "      <td>27232.0</td>\n",
       "      <td>570830.0</td>\n",
       "      <td>260708.0</td>\n",
       "      <td>201704.0</td>\n",
       "      <td>36382.0</td>\n",
       "      <td>34082.0</td>\n",
       "      <td>95257.0</td>\n",
       "      <td>None</td>\n",
       "      <td>None</td>\n",
       "      <td>None</td>\n",
       "      <td>None</td>\n",
       "      <td>None</td>\n",
       "      <td>None</td>\n",
       "      <td>None</td>\n",
       "      <td>None</td>\n",
       "      <td>NaN</td>\n",
       "      <td>NaN</td>\n",
       "      <td>NaN</td>\n",
       "      <td>NaN</td>\n",
       "      <td>NaN</td>\n",
       "      <td>NaN</td>\n",
       "      <td>NaN</td>\n",
       "      <td>NaN</td>\n",
       "      <td>NaN</td>\n",
       "      <td>NaN</td>\n",
       "      <td>NaN</td>\n",
       "      <td>NaN</td>\n",
       "      <td>NaN</td>\n",
       "      <td>NaN</td>\n",
       "      <td>NaN</td>\n",
       "      <td>NaN</td>\n",
       "      <td>NaN</td>\n",
       "      <td>NaN</td>\n",
       "      <td>NaN</td>\n",
       "      <td>NaN</td>\n",
       "      <td>NaN</td>\n",
       "      <td>NaN</td>\n",
       "      <td>NaN</td>\n",
       "      <td>NaN</td>\n",
       "      <td>NaN</td>\n",
       "      <td>NaN</td>\n",
       "      <td>NaN</td>\n",
       "      <td>NaN</td>\n",
       "      <td>NaN</td>\n",
       "      <td>NaN</td>\n",
       "    </tr>\n",
       "    <tr>\n",
       "      <th>25976</th>\n",
       "      <td>25977</td>\n",
       "      <td>24558</td>\n",
       "      <td>24558</td>\n",
       "      <td>2015/2016</td>\n",
       "      <td>9</td>\n",
       "      <td>2015-09-23 00:00:00</td>\n",
       "      <td>1992093</td>\n",
       "      <td>9956</td>\n",
       "      <td>10179</td>\n",
       "      <td>2</td>\n",
       "      <td>0</td>\n",
       "      <td>1.0</td>\n",
       "      <td>2.0</td>\n",
       "      <td>4.0</td>\n",
       "      <td>6.0</td>\n",
       "      <td>8.0</td>\n",
       "      <td>4.0</td>\n",
       "      <td>6.0</td>\n",
       "      <td>3.0</td>\n",
       "      <td>5.0</td>\n",
       "      <td>7.0</td>\n",
       "      <td>5.0</td>\n",
       "      <td>1.0</td>\n",
       "      <td>2.0</td>\n",
       "      <td>4.0</td>\n",
       "      <td>6.0</td>\n",
       "      <td>8.0</td>\n",
       "      <td>4.0</td>\n",
       "      <td>6.0</td>\n",
       "      <td>3.0</td>\n",
       "      <td>5.0</td>\n",
       "      <td>7.0</td>\n",
       "      <td>5.0</td>\n",
       "      <td>1.0</td>\n",
       "      <td>3.0</td>\n",
       "      <td>3.0</td>\n",
       "      <td>3.0</td>\n",
       "      <td>3.0</td>\n",
       "      <td>6.0</td>\n",
       "      <td>6.0</td>\n",
       "      <td>8.0</td>\n",
       "      <td>8.0</td>\n",
       "      <td>8.0</td>\n",
       "      <td>11.0</td>\n",
       "      <td>1.0</td>\n",
       "      <td>3.0</td>\n",
       "      <td>3.0</td>\n",
       "      <td>3.0</td>\n",
       "      <td>3.0</td>\n",
       "      <td>6.0</td>\n",
       "      <td>6.0</td>\n",
       "      <td>8.0</td>\n",
       "      <td>8.0</td>\n",
       "      <td>8.0</td>\n",
       "      <td>11.0</td>\n",
       "      <td>157856.0</td>\n",
       "      <td>274779.0</td>\n",
       "      <td>177689.0</td>\n",
       "      <td>294256.0</td>\n",
       "      <td>42258.0</td>\n",
       "      <td>39979.0</td>\n",
       "      <td>173936.0</td>\n",
       "      <td>147959.0</td>\n",
       "      <td>451983.0</td>\n",
       "      <td>80564.0</td>\n",
       "      <td>289472.0</td>\n",
       "      <td>10637.0</td>\n",
       "      <td>67349.0</td>\n",
       "      <td>202663.0</td>\n",
       "      <td>32597.0</td>\n",
       "      <td>114794.0</td>\n",
       "      <td>188114.0</td>\n",
       "      <td>25840.0</td>\n",
       "      <td>482200.0</td>\n",
       "      <td>95230.0</td>\n",
       "      <td>451335.0</td>\n",
       "      <td>275122.0</td>\n",
       "      <td>None</td>\n",
       "      <td>None</td>\n",
       "      <td>None</td>\n",
       "      <td>None</td>\n",
       "      <td>None</td>\n",
       "      <td>None</td>\n",
       "      <td>None</td>\n",
       "      <td>None</td>\n",
       "      <td>NaN</td>\n",
       "      <td>NaN</td>\n",
       "      <td>NaN</td>\n",
       "      <td>NaN</td>\n",
       "      <td>NaN</td>\n",
       "      <td>NaN</td>\n",
       "      <td>NaN</td>\n",
       "      <td>NaN</td>\n",
       "      <td>NaN</td>\n",
       "      <td>NaN</td>\n",
       "      <td>NaN</td>\n",
       "      <td>NaN</td>\n",
       "      <td>NaN</td>\n",
       "      <td>NaN</td>\n",
       "      <td>NaN</td>\n",
       "      <td>NaN</td>\n",
       "      <td>NaN</td>\n",
       "      <td>NaN</td>\n",
       "      <td>NaN</td>\n",
       "      <td>NaN</td>\n",
       "      <td>NaN</td>\n",
       "      <td>NaN</td>\n",
       "      <td>NaN</td>\n",
       "      <td>NaN</td>\n",
       "      <td>NaN</td>\n",
       "      <td>NaN</td>\n",
       "      <td>NaN</td>\n",
       "      <td>NaN</td>\n",
       "      <td>NaN</td>\n",
       "      <td>NaN</td>\n",
       "    </tr>\n",
       "    <tr>\n",
       "      <th>25977</th>\n",
       "      <td>25978</td>\n",
       "      <td>24558</td>\n",
       "      <td>24558</td>\n",
       "      <td>2015/2016</td>\n",
       "      <td>9</td>\n",
       "      <td>2015-09-22 00:00:00</td>\n",
       "      <td>1992094</td>\n",
       "      <td>7896</td>\n",
       "      <td>10243</td>\n",
       "      <td>0</td>\n",
       "      <td>0</td>\n",
       "      <td>1.0</td>\n",
       "      <td>2.0</td>\n",
       "      <td>4.0</td>\n",
       "      <td>6.0</td>\n",
       "      <td>8.0</td>\n",
       "      <td>3.0</td>\n",
       "      <td>7.0</td>\n",
       "      <td>5.0</td>\n",
       "      <td>3.0</td>\n",
       "      <td>5.0</td>\n",
       "      <td>7.0</td>\n",
       "      <td>1.0</td>\n",
       "      <td>2.0</td>\n",
       "      <td>4.0</td>\n",
       "      <td>6.0</td>\n",
       "      <td>8.0</td>\n",
       "      <td>4.0</td>\n",
       "      <td>6.0</td>\n",
       "      <td>3.0</td>\n",
       "      <td>5.0</td>\n",
       "      <td>7.0</td>\n",
       "      <td>5.0</td>\n",
       "      <td>1.0</td>\n",
       "      <td>3.0</td>\n",
       "      <td>3.0</td>\n",
       "      <td>3.0</td>\n",
       "      <td>3.0</td>\n",
       "      <td>7.0</td>\n",
       "      <td>7.0</td>\n",
       "      <td>7.0</td>\n",
       "      <td>10.0</td>\n",
       "      <td>10.0</td>\n",
       "      <td>10.0</td>\n",
       "      <td>1.0</td>\n",
       "      <td>3.0</td>\n",
       "      <td>3.0</td>\n",
       "      <td>3.0</td>\n",
       "      <td>3.0</td>\n",
       "      <td>6.0</td>\n",
       "      <td>6.0</td>\n",
       "      <td>8.0</td>\n",
       "      <td>8.0</td>\n",
       "      <td>8.0</td>\n",
       "      <td>11.0</td>\n",
       "      <td>NaN</td>\n",
       "      <td>8881.0</td>\n",
       "      <td>173534.0</td>\n",
       "      <td>39646.0</td>\n",
       "      <td>282287.0</td>\n",
       "      <td>340790.0</td>\n",
       "      <td>393337.0</td>\n",
       "      <td>8893.0</td>\n",
       "      <td>614454.0</td>\n",
       "      <td>93229.0</td>\n",
       "      <td>178142.0</td>\n",
       "      <td>274776.0</td>\n",
       "      <td>121080.0</td>\n",
       "      <td>197757.0</td>\n",
       "      <td>260964.0</td>\n",
       "      <td>231614.0</td>\n",
       "      <td>113235.0</td>\n",
       "      <td>41116.0</td>\n",
       "      <td>462608.0</td>\n",
       "      <td>42262.0</td>\n",
       "      <td>92252.0</td>\n",
       "      <td>194532.0</td>\n",
       "      <td>None</td>\n",
       "      <td>None</td>\n",
       "      <td>None</td>\n",
       "      <td>None</td>\n",
       "      <td>None</td>\n",
       "      <td>None</td>\n",
       "      <td>None</td>\n",
       "      <td>None</td>\n",
       "      <td>NaN</td>\n",
       "      <td>NaN</td>\n",
       "      <td>NaN</td>\n",
       "      <td>NaN</td>\n",
       "      <td>NaN</td>\n",
       "      <td>NaN</td>\n",
       "      <td>NaN</td>\n",
       "      <td>NaN</td>\n",
       "      <td>NaN</td>\n",
       "      <td>NaN</td>\n",
       "      <td>NaN</td>\n",
       "      <td>NaN</td>\n",
       "      <td>NaN</td>\n",
       "      <td>NaN</td>\n",
       "      <td>NaN</td>\n",
       "      <td>NaN</td>\n",
       "      <td>NaN</td>\n",
       "      <td>NaN</td>\n",
       "      <td>NaN</td>\n",
       "      <td>NaN</td>\n",
       "      <td>NaN</td>\n",
       "      <td>NaN</td>\n",
       "      <td>NaN</td>\n",
       "      <td>NaN</td>\n",
       "      <td>NaN</td>\n",
       "      <td>NaN</td>\n",
       "      <td>NaN</td>\n",
       "      <td>NaN</td>\n",
       "      <td>NaN</td>\n",
       "      <td>NaN</td>\n",
       "    </tr>\n",
       "    <tr>\n",
       "      <th>25978</th>\n",
       "      <td>25979</td>\n",
       "      <td>24558</td>\n",
       "      <td>24558</td>\n",
       "      <td>2015/2016</td>\n",
       "      <td>9</td>\n",
       "      <td>2015-09-23 00:00:00</td>\n",
       "      <td>1992095</td>\n",
       "      <td>10192</td>\n",
       "      <td>9931</td>\n",
       "      <td>4</td>\n",
       "      <td>3</td>\n",
       "      <td>1.0</td>\n",
       "      <td>2.0</td>\n",
       "      <td>4.0</td>\n",
       "      <td>6.0</td>\n",
       "      <td>8.0</td>\n",
       "      <td>2.0</td>\n",
       "      <td>4.0</td>\n",
       "      <td>6.0</td>\n",
       "      <td>8.0</td>\n",
       "      <td>4.0</td>\n",
       "      <td>6.0</td>\n",
       "      <td>1.0</td>\n",
       "      <td>2.0</td>\n",
       "      <td>4.0</td>\n",
       "      <td>6.0</td>\n",
       "      <td>8.0</td>\n",
       "      <td>4.0</td>\n",
       "      <td>6.0</td>\n",
       "      <td>3.0</td>\n",
       "      <td>5.0</td>\n",
       "      <td>7.0</td>\n",
       "      <td>5.0</td>\n",
       "      <td>1.0</td>\n",
       "      <td>3.0</td>\n",
       "      <td>3.0</td>\n",
       "      <td>3.0</td>\n",
       "      <td>3.0</td>\n",
       "      <td>7.0</td>\n",
       "      <td>7.0</td>\n",
       "      <td>7.0</td>\n",
       "      <td>7.0</td>\n",
       "      <td>10.0</td>\n",
       "      <td>10.0</td>\n",
       "      <td>1.0</td>\n",
       "      <td>3.0</td>\n",
       "      <td>3.0</td>\n",
       "      <td>3.0</td>\n",
       "      <td>3.0</td>\n",
       "      <td>6.0</td>\n",
       "      <td>6.0</td>\n",
       "      <td>8.0</td>\n",
       "      <td>8.0</td>\n",
       "      <td>8.0</td>\n",
       "      <td>11.0</td>\n",
       "      <td>274787.0</td>\n",
       "      <td>492132.0</td>\n",
       "      <td>108451.0</td>\n",
       "      <td>25815.0</td>\n",
       "      <td>94553.0</td>\n",
       "      <td>384376.0</td>\n",
       "      <td>598355.0</td>\n",
       "      <td>36785.0</td>\n",
       "      <td>45174.0</td>\n",
       "      <td>302079.0</td>\n",
       "      <td>71764.0</td>\n",
       "      <td>156175.0</td>\n",
       "      <td>95216.0</td>\n",
       "      <td>172768.0</td>\n",
       "      <td>22834.0</td>\n",
       "      <td>458806.0</td>\n",
       "      <td>207234.0</td>\n",
       "      <td>25772.0</td>\n",
       "      <td>40274.0</td>\n",
       "      <td>34035.0</td>\n",
       "      <td>41726.0</td>\n",
       "      <td>527103.0</td>\n",
       "      <td>None</td>\n",
       "      <td>None</td>\n",
       "      <td>None</td>\n",
       "      <td>None</td>\n",
       "      <td>None</td>\n",
       "      <td>None</td>\n",
       "      <td>None</td>\n",
       "      <td>None</td>\n",
       "      <td>NaN</td>\n",
       "      <td>NaN</td>\n",
       "      <td>NaN</td>\n",
       "      <td>NaN</td>\n",
       "      <td>NaN</td>\n",
       "      <td>NaN</td>\n",
       "      <td>NaN</td>\n",
       "      <td>NaN</td>\n",
       "      <td>NaN</td>\n",
       "      <td>NaN</td>\n",
       "      <td>NaN</td>\n",
       "      <td>NaN</td>\n",
       "      <td>NaN</td>\n",
       "      <td>NaN</td>\n",
       "      <td>NaN</td>\n",
       "      <td>NaN</td>\n",
       "      <td>NaN</td>\n",
       "      <td>NaN</td>\n",
       "      <td>NaN</td>\n",
       "      <td>NaN</td>\n",
       "      <td>NaN</td>\n",
       "      <td>NaN</td>\n",
       "      <td>NaN</td>\n",
       "      <td>NaN</td>\n",
       "      <td>NaN</td>\n",
       "      <td>NaN</td>\n",
       "      <td>NaN</td>\n",
       "      <td>NaN</td>\n",
       "      <td>NaN</td>\n",
       "      <td>NaN</td>\n",
       "    </tr>\n",
       "  </tbody>\n",
       "</table>\n",
       "</div>"
      ],
      "text/plain": [
       "          id  country_id  league_id     season  stage                 date  \\\n",
       "25969  25970       24558      24558  2015/2016      8  2015-09-12 00:00:00   \n",
       "25970  25971       24558      24558  2015/2016      8  2015-09-12 00:00:00   \n",
       "25971  25972       24558      24558  2015/2016      8  2015-09-13 00:00:00   \n",
       "25972  25973       24558      24558  2015/2016      8  2015-09-13 00:00:00   \n",
       "25973  25974       24558      24558  2015/2016      8  2015-09-13 00:00:00   \n",
       "25974  25975       24558      24558  2015/2016      9  2015-09-22 00:00:00   \n",
       "25975  25976       24558      24558  2015/2016      9  2015-09-23 00:00:00   \n",
       "25976  25977       24558      24558  2015/2016      9  2015-09-23 00:00:00   \n",
       "25977  25978       24558      24558  2015/2016      9  2015-09-22 00:00:00   \n",
       "25978  25979       24558      24558  2015/2016      9  2015-09-23 00:00:00   \n",
       "\n",
       "       match_api_id  home_team_api_id  away_team_api_id  home_team_goal  \\\n",
       "25969       1992086              9931             10190               2   \n",
       "25970       1992087             10192              9824               4   \n",
       "25971       1992088             10199              9956               3   \n",
       "25972       1992089             10243             10191               3   \n",
       "25973       1992090             10179              7896               3   \n",
       "25974       1992091             10190             10191               1   \n",
       "25975       1992092              9824             10199               1   \n",
       "25976       1992093              9956             10179               2   \n",
       "25977       1992094              7896             10243               0   \n",
       "25978       1992095             10192              9931               4   \n",
       "\n",
       "       away_team_goal  home_player_X1  home_player_X2  home_player_X3  \\\n",
       "25969               1             1.0             2.0             4.0   \n",
       "25970               0             1.0             2.0             4.0   \n",
       "25971               3             1.0             2.0             4.0   \n",
       "25972               3             1.0             2.0             4.0   \n",
       "25973               0             1.0             2.0             4.0   \n",
       "25974               0             1.0             2.0             4.0   \n",
       "25975               2             1.0             3.0             5.0   \n",
       "25976               0             1.0             2.0             4.0   \n",
       "25977               0             1.0             2.0             4.0   \n",
       "25978               3             1.0             2.0             4.0   \n",
       "\n",
       "       home_player_X4  home_player_X5  home_player_X6  home_player_X7  \\\n",
       "25969             6.0             8.0             4.0             6.0   \n",
       "25970             6.0             8.0             2.0             4.0   \n",
       "25971             6.0             8.0             5.0             4.0   \n",
       "25972             6.0             8.0             2.0             4.0   \n",
       "25973             6.0             8.0             4.0             6.0   \n",
       "25974             6.0             8.0             4.0             6.0   \n",
       "25975             7.0             2.0             4.0             6.0   \n",
       "25976             6.0             8.0             4.0             6.0   \n",
       "25977             6.0             8.0             3.0             7.0   \n",
       "25978             6.0             8.0             2.0             4.0   \n",
       "\n",
       "       home_player_X8  home_player_X9  home_player_X10  home_player_X11  \\\n",
       "25969             3.0             5.0              7.0              5.0   \n",
       "25970             6.0             8.0              4.0              6.0   \n",
       "25971             6.0             5.0              4.0              6.0   \n",
       "25972             6.0             8.0              4.0              6.0   \n",
       "25973             3.0             5.0              7.0              5.0   \n",
       "25974             3.0             5.0              7.0              5.0   \n",
       "25975             8.0             5.0              4.0              6.0   \n",
       "25976             3.0             5.0              7.0              5.0   \n",
       "25977             5.0             3.0              5.0              7.0   \n",
       "25978             6.0             8.0              4.0              6.0   \n",
       "\n",
       "       away_player_X1  away_player_X2  away_player_X3  away_player_X4  \\\n",
       "25969             1.0             2.0             4.0             6.0   \n",
       "25970             1.0             2.0             4.0             6.0   \n",
       "25971             1.0             2.0             4.0             6.0   \n",
       "25972             1.0             2.0             4.0             6.0   \n",
       "25973             1.0             2.0             4.0             6.0   \n",
       "25974             1.0             2.0             4.0             6.0   \n",
       "25975             1.0             2.0             4.0             6.0   \n",
       "25976             1.0             2.0             4.0             6.0   \n",
       "25977             1.0             2.0             4.0             6.0   \n",
       "25978             1.0             2.0             4.0             6.0   \n",
       "\n",
       "       away_player_X5  away_player_X6  away_player_X7  away_player_X8  \\\n",
       "25969             8.0             5.0             2.0             4.0   \n",
       "25970             8.0             3.0             5.0             7.0   \n",
       "25971             8.0             4.0             6.0             3.0   \n",
       "25972             8.0             4.0             6.0             3.0   \n",
       "25973             8.0             5.0             4.0             6.0   \n",
       "25974             8.0             4.0             6.0             3.0   \n",
       "25975             8.0             3.0             5.0             7.0   \n",
       "25976             8.0             4.0             6.0             3.0   \n",
       "25977             8.0             4.0             6.0             3.0   \n",
       "25978             8.0             4.0             6.0             3.0   \n",
       "\n",
       "       away_player_X9  away_player_X10  away_player_X11  home_player_Y1  \\\n",
       "25969             6.0              8.0              5.0             1.0   \n",
       "25970             3.0              5.0              7.0             1.0   \n",
       "25971             5.0              7.0              5.0             1.0   \n",
       "25972             5.0              7.0              5.0             1.0   \n",
       "25973             3.0              5.0              7.0             1.0   \n",
       "25974             5.0              7.0              5.0             1.0   \n",
       "25975             3.0              5.0              7.0             1.0   \n",
       "25976             5.0              7.0              5.0             1.0   \n",
       "25977             5.0              7.0              5.0             1.0   \n",
       "25978             5.0              7.0              5.0             1.0   \n",
       "\n",
       "       home_player_Y2  home_player_Y3  home_player_Y4  home_player_Y5  \\\n",
       "25969             3.0             3.0             3.0             3.0   \n",
       "25970             3.0             3.0             3.0             3.0   \n",
       "25971             3.0             3.0             3.0             3.0   \n",
       "25972             3.0             3.0             3.0             3.0   \n",
       "25973             3.0             3.0             3.0             3.0   \n",
       "25974             3.0             3.0             3.0             3.0   \n",
       "25975             3.0             3.0             3.0             7.0   \n",
       "25976             3.0             3.0             3.0             3.0   \n",
       "25977             3.0             3.0             3.0             3.0   \n",
       "25978             3.0             3.0             3.0             3.0   \n",
       "\n",
       "       home_player_Y6  home_player_Y7  home_player_Y8  home_player_Y9  \\\n",
       "25969             6.0             6.0             8.0             8.0   \n",
       "25970             7.0             7.0             7.0             7.0   \n",
       "25971             6.0             7.0             7.0             9.0   \n",
       "25972             7.0             7.0             7.0             7.0   \n",
       "25973             6.0             6.0             8.0             8.0   \n",
       "25974             6.0             6.0             8.0             8.0   \n",
       "25975             7.0             7.0             7.0             9.0   \n",
       "25976             6.0             6.0             8.0             8.0   \n",
       "25977             7.0             7.0             7.0            10.0   \n",
       "25978             7.0             7.0             7.0             7.0   \n",
       "\n",
       "       home_player_Y10  home_player_Y11  away_player_Y1  away_player_Y2  \\\n",
       "25969              8.0             11.0             1.0             3.0   \n",
       "25970             10.0             10.0             1.0             3.0   \n",
       "25971             11.0             11.0             1.0             3.0   \n",
       "25972             10.0             10.0             1.0             3.0   \n",
       "25973              8.0             11.0             1.0             3.0   \n",
       "25974              8.0             11.0             1.0             3.0   \n",
       "25975             11.0             11.0             1.0             3.0   \n",
       "25976              8.0             11.0             1.0             3.0   \n",
       "25977             10.0             10.0             1.0             3.0   \n",
       "25978             10.0             10.0             1.0             3.0   \n",
       "\n",
       "       away_player_Y3  away_player_Y4  away_player_Y5  away_player_Y6  \\\n",
       "25969             3.0             3.0             3.0             6.0   \n",
       "25970             3.0             3.0             3.0             7.0   \n",
       "25971             3.0             3.0             3.0             6.0   \n",
       "25972             3.0             3.0             3.0             6.0   \n",
       "25973             3.0             3.0             3.0             6.0   \n",
       "25974             3.0             3.0             3.0             6.0   \n",
       "25975             3.0             3.0             3.0             7.0   \n",
       "25976             3.0             3.0             3.0             6.0   \n",
       "25977             3.0             3.0             3.0             6.0   \n",
       "25978             3.0             3.0             3.0             6.0   \n",
       "\n",
       "       away_player_Y7  away_player_Y8  away_player_Y9  away_player_Y10  \\\n",
       "25969             8.0             8.0             8.0              8.0   \n",
       "25970             7.0             7.0            10.0             10.0   \n",
       "25971             6.0             8.0             8.0              8.0   \n",
       "25972             6.0             8.0             8.0              8.0   \n",
       "25973             8.0             8.0            10.0             10.0   \n",
       "25974             6.0             8.0             8.0              8.0   \n",
       "25975             7.0             7.0            10.0             10.0   \n",
       "25976             6.0             8.0             8.0              8.0   \n",
       "25977             6.0             8.0             8.0              8.0   \n",
       "25978             6.0             8.0             8.0              8.0   \n",
       "\n",
       "       away_player_Y11  home_player_1  home_player_2  home_player_3  \\\n",
       "25969             11.0       156175.0        95216.0       172768.0   \n",
       "25970             10.0       274787.0       492132.0       108451.0   \n",
       "25971             11.0        42276.0        27232.0       178119.0   \n",
       "25972             11.0       274776.0       451982.0        34268.0   \n",
       "25973             10.0        10637.0        67349.0       202663.0   \n",
       "25974             11.0        42231.0       678384.0        95220.0   \n",
       "25975             10.0        33272.0        41621.0        25813.0   \n",
       "25976             11.0       157856.0       274779.0       177689.0   \n",
       "25977             11.0            NaN         8881.0       173534.0   \n",
       "25978             11.0       274787.0       492132.0       108451.0   \n",
       "\n",
       "       home_player_4  home_player_5  home_player_6  home_player_7  \\\n",
       "25969        22834.0        30835.0       339992.0       114738.0   \n",
       "25970        25815.0        94553.0       384376.0       598355.0   \n",
       "25971       150007.0        42294.0        73977.0       114792.0   \n",
       "25972       197757.0       121080.0       462608.0        67008.0   \n",
       "25973        32597.0       114794.0       188114.0        25840.0   \n",
       "25974       638592.0       413155.0        45780.0       171229.0   \n",
       "25975       257845.0       114735.0        42237.0       113227.0   \n",
       "25976       294256.0        42258.0        39979.0       173936.0   \n",
       "25977        39646.0       282287.0       340790.0       393337.0   \n",
       "25978        25815.0        94553.0       384376.0       598355.0   \n",
       "\n",
       "       home_player_8  home_player_9  home_player_10  home_player_11  \\\n",
       "25969       176206.0        34035.0         40274.0         23148.0   \n",
       "25970       320184.0        45174.0         71764.0        302079.0   \n",
       "25971       201704.0        36382.0        104646.0         34082.0   \n",
       "25972       632356.0       198082.0        194532.0         42262.0   \n",
       "25973       482200.0       538336.0         95230.0        275122.0   \n",
       "25974        67333.0       119839.0        143790.0        195215.0   \n",
       "25975       358156.0        32343.0        531309.0         37257.0   \n",
       "25976       147959.0       451983.0         80564.0        289472.0   \n",
       "25977         8893.0       614454.0         93229.0        178142.0   \n",
       "25978        36785.0        45174.0        302079.0         71764.0   \n",
       "\n",
       "       away_player_1  away_player_2  away_player_3  away_player_4  \\\n",
       "25969        42231.0       678384.0       638592.0        67363.0   \n",
       "25970        33272.0       114735.0        25813.0        41621.0   \n",
       "25971       132814.0       274779.0       155075.0       294256.0   \n",
       "25972        67311.0         8800.0       320183.0        67304.0   \n",
       "25973            NaN         8881.0        39646.0        41415.0   \n",
       "25974       462944.0       563066.0         8800.0        67304.0   \n",
       "25975        42276.0       114792.0       150007.0       178119.0   \n",
       "25976        10637.0        67349.0       202663.0        32597.0   \n",
       "25977       274776.0       121080.0       197757.0       260964.0   \n",
       "25978       156175.0        95216.0       172768.0        22834.0   \n",
       "\n",
       "       away_player_5  away_player_6  away_player_7  away_player_8  \\\n",
       "25969       413155.0        45780.0       143790.0        66934.0   \n",
       "25970       358156.0       114011.0        42237.0        56868.0   \n",
       "25971        42258.0       173936.0        39979.0       147959.0   \n",
       "25972        67389.0       133126.0       186524.0        93223.0   \n",
       "25973       282287.0       491221.0       150084.0         8893.0   \n",
       "25974       158253.0       133126.0       186524.0        93223.0   \n",
       "25975        27232.0       570830.0       260708.0       201704.0   \n",
       "25976       114794.0       188114.0        25840.0       482200.0   \n",
       "25977       231614.0       113235.0        41116.0       462608.0   \n",
       "25978       458806.0       207234.0        25772.0        40274.0   \n",
       "\n",
       "       away_player_9  away_player_10  away_player_11  goal shoton shotoff  \\\n",
       "25969       176298.0         92094.0         72628.0  None   None    None   \n",
       "25970       209371.0        531309.0        113227.0  None   None    None   \n",
       "25971       451983.0         80564.0        289472.0  None   None    None   \n",
       "25972       121115.0         25809.0        289732.0  None   None    None   \n",
       "25973       140490.0         93229.0        178142.0  None   None    None   \n",
       "25974       121115.0        232110.0        289732.0  None   None    None   \n",
       "25975        36382.0         34082.0         95257.0  None   None    None   \n",
       "25976        95230.0        451335.0        275122.0  None   None    None   \n",
       "25977        42262.0         92252.0        194532.0  None   None    None   \n",
       "25978        34035.0         41726.0        527103.0  None   None    None   \n",
       "\n",
       "      foulcommit  card cross corner possession  B365H  B365D  B365A  BWH  BWD  \\\n",
       "25969       None  None  None   None       None    NaN    NaN    NaN  NaN  NaN   \n",
       "25970       None  None  None   None       None    NaN    NaN    NaN  NaN  NaN   \n",
       "25971       None  None  None   None       None    NaN    NaN    NaN  NaN  NaN   \n",
       "25972       None  None  None   None       None    NaN    NaN    NaN  NaN  NaN   \n",
       "25973       None  None  None   None       None    NaN    NaN    NaN  NaN  NaN   \n",
       "25974       None  None  None   None       None    NaN    NaN    NaN  NaN  NaN   \n",
       "25975       None  None  None   None       None    NaN    NaN    NaN  NaN  NaN   \n",
       "25976       None  None  None   None       None    NaN    NaN    NaN  NaN  NaN   \n",
       "25977       None  None  None   None       None    NaN    NaN    NaN  NaN  NaN   \n",
       "25978       None  None  None   None       None    NaN    NaN    NaN  NaN  NaN   \n",
       "\n",
       "       BWA  IWH  IWD  IWA  LBH  LBD  LBA  PSH  PSD  PSA  WHH  WHD  WHA  SJH  \\\n",
       "25969  NaN  NaN  NaN  NaN  NaN  NaN  NaN  NaN  NaN  NaN  NaN  NaN  NaN  NaN   \n",
       "25970  NaN  NaN  NaN  NaN  NaN  NaN  NaN  NaN  NaN  NaN  NaN  NaN  NaN  NaN   \n",
       "25971  NaN  NaN  NaN  NaN  NaN  NaN  NaN  NaN  NaN  NaN  NaN  NaN  NaN  NaN   \n",
       "25972  NaN  NaN  NaN  NaN  NaN  NaN  NaN  NaN  NaN  NaN  NaN  NaN  NaN  NaN   \n",
       "25973  NaN  NaN  NaN  NaN  NaN  NaN  NaN  NaN  NaN  NaN  NaN  NaN  NaN  NaN   \n",
       "25974  NaN  NaN  NaN  NaN  NaN  NaN  NaN  NaN  NaN  NaN  NaN  NaN  NaN  NaN   \n",
       "25975  NaN  NaN  NaN  NaN  NaN  NaN  NaN  NaN  NaN  NaN  NaN  NaN  NaN  NaN   \n",
       "25976  NaN  NaN  NaN  NaN  NaN  NaN  NaN  NaN  NaN  NaN  NaN  NaN  NaN  NaN   \n",
       "25977  NaN  NaN  NaN  NaN  NaN  NaN  NaN  NaN  NaN  NaN  NaN  NaN  NaN  NaN   \n",
       "25978  NaN  NaN  NaN  NaN  NaN  NaN  NaN  NaN  NaN  NaN  NaN  NaN  NaN  NaN   \n",
       "\n",
       "       SJD  SJA  VCH  VCD  VCA  GBH  GBD  GBA  BSH  BSD  BSA  \n",
       "25969  NaN  NaN  NaN  NaN  NaN  NaN  NaN  NaN  NaN  NaN  NaN  \n",
       "25970  NaN  NaN  NaN  NaN  NaN  NaN  NaN  NaN  NaN  NaN  NaN  \n",
       "25971  NaN  NaN  NaN  NaN  NaN  NaN  NaN  NaN  NaN  NaN  NaN  \n",
       "25972  NaN  NaN  NaN  NaN  NaN  NaN  NaN  NaN  NaN  NaN  NaN  \n",
       "25973  NaN  NaN  NaN  NaN  NaN  NaN  NaN  NaN  NaN  NaN  NaN  \n",
       "25974  NaN  NaN  NaN  NaN  NaN  NaN  NaN  NaN  NaN  NaN  NaN  \n",
       "25975  NaN  NaN  NaN  NaN  NaN  NaN  NaN  NaN  NaN  NaN  NaN  \n",
       "25976  NaN  NaN  NaN  NaN  NaN  NaN  NaN  NaN  NaN  NaN  NaN  \n",
       "25977  NaN  NaN  NaN  NaN  NaN  NaN  NaN  NaN  NaN  NaN  NaN  \n",
       "25978  NaN  NaN  NaN  NaN  NaN  NaN  NaN  NaN  NaN  NaN  NaN  "
      ]
     },
     "execution_count": 809,
     "metadata": {},
     "output_type": "execute_result"
    }
   ],
   "source": [
    "# investigate for below cell:\n",
    "# team_attr[:5] # team_api_id -> 299 unique values.\n",
    "match[-10:] #home_team_api_id\n",
    "# team_attr[:5] # team_api_id -> 288 unique values. ->>>> we can only have 288 rows.\n"
   ]
  },
  {
   "cell_type": "code",
   "execution_count": 301,
   "id": "87e81f65-3c6e-4a49-b694-6aef63257a6f",
   "metadata": {},
   "outputs": [
    {
     "data": {
      "text/plain": [
       "288"
      ]
     },
     "execution_count": 301,
     "metadata": {},
     "output_type": "execute_result"
    }
   ],
   "source": [
    "# are those 288 values in the 299 values?\n",
    "newteams = []\n",
    "for j in team_name[\"team_api_id\"].values:\n",
    "    if j in team_attr[\"team_api_id\"].values:\n",
    "        newteams.append(j)\n",
    "\n",
    "# yes they are.\n",
    "len(newteams)"
   ]
  },
  {
   "cell_type": "code",
   "execution_count": 255,
   "id": "c4ba9fea-81db-421e-8b4d-e728e30d2fe6",
   "metadata": {},
   "outputs": [],
   "source": [
    "# columns we want are:\n",
    "team_attr[\"team_api_id\"]\n",
    "team_name[\"team_api_id\"]\n",
    "match[\"home_team_api_id\"]"
   ]
  },
  {
   "cell_type": "code",
   "execution_count": 188,
   "id": "3051ec44-76a7-4909-83dc-bb9ddf541260",
   "metadata": {},
   "outputs": [
    {
     "data": {
      "text/plain": [
       "(1458, 299, 25979)"
      ]
     },
     "execution_count": 188,
     "metadata": {},
     "output_type": "execute_result"
    }
   ],
   "source": [
    "# lengths are:\n",
    "len(team_attr),len(team_name), len(match)"
   ]
  },
  {
   "cell_type": "code",
   "execution_count": null,
   "id": "f04814b2-6c88-43bf-bbc4-807e671a6468",
   "metadata": {},
   "outputs": [],
   "source": []
  },
  {
   "cell_type": "code",
   "execution_count": 311,
   "id": "715b5343-369d-4351-88af-892863a927a8",
   "metadata": {},
   "outputs": [],
   "source": [
    "# # how many uniques, from \"team attribute id\" should be in the final dataframe\n",
    "# summary_dataframe_small(team_attr) # 288 -> the values for our polar coordinates chart\n",
    "# summary_dataframe_small(team_name) # 299 -> the name\n",
    "# summary_dataframe_small(match)     # 299 -> the wins/losses\n",
    "\n",
    "# # 288, as we need those y values"
   ]
  },
  {
   "cell_type": "code",
   "execution_count": null,
   "id": "46d060e2-fa4c-4bc1-a7e7-b79163c85381",
   "metadata": {},
   "outputs": [],
   "source": [
    "# merge"
   ]
  },
  {
   "cell_type": "code",
   "execution_count": null,
   "id": "36466b52-df5f-4a1c-9e51-bfb6076fc9f2",
   "metadata": {},
   "outputs": [],
   "source": [
    "# check uniques for team_api_id\n",
    "# team ttr\n",
    "# team name\n",
    "# team 3"
   ]
  },
  {
   "cell_type": "code",
   "execution_count": 312,
   "id": "956d4d27-8f3b-4992-aa80-6fd8e7b808c5",
   "metadata": {},
   "outputs": [],
   "source": [
    "# merge the team datasets, finish with 288 unique values that have team_api_id and team_name"
   ]
  },
  {
   "cell_type": "code",
   "execution_count": 302,
   "id": "f46d1142-675d-44e2-9295-5eed7df4cfbd",
   "metadata": {},
   "outputs": [],
   "source": [
    "team2 = team_attr.merge(team_name, on=\"team_api_id\")"
   ]
  },
  {
   "cell_type": "code",
   "execution_count": 307,
   "id": "e07a0854-c504-49af-bded-42dadeb4d346",
   "metadata": {},
   "outputs": [
    {
     "data": {
      "text/plain": [
       "288"
      ]
     },
     "execution_count": 307,
     "metadata": {},
     "output_type": "execute_result"
    }
   ],
   "source": [
    "# just the most recent data\n",
    "team3 = team2.drop_duplicates(\"team_api_id\", keep=\"last\")\n",
    "len(team3)"
   ]
  },
  {
   "cell_type": "code",
   "execution_count": null,
   "id": "9a9b93ae-7d80-4ac3-83ad-1da6d789b736",
   "metadata": {},
   "outputs": [],
   "source": [
    "# there are multiple team ID \n",
    "# looks like entries are from different points in time # RED FLAG\n",
    "### -> solved"
   ]
  },
  {
   "cell_type": "code",
   "execution_count": null,
   "id": "971473b0-f138-48e3-b75b-360f0a818723",
   "metadata": {},
   "outputs": [],
   "source": [
    "# successful merge"
   ]
  },
  {
   "cell_type": "code",
   "execution_count": 309,
   "id": "cbce09c7-c172-4690-863a-7c3714e63fa1",
   "metadata": {},
   "outputs": [
    {
     "data": {
      "text/plain": [
       "288"
      ]
     },
     "execution_count": 309,
     "metadata": {},
     "output_type": "execute_result"
    }
   ],
   "source": [
    "len(team3) # only want these rows"
   ]
  },
  {
   "cell_type": "code",
   "execution_count": 310,
   "id": "a105f5e5-8f53-483d-8417-692abd762893",
   "metadata": {},
   "outputs": [
    {
     "data": {
      "text/plain": [
       "25979"
      ]
     },
     "execution_count": 310,
     "metadata": {},
     "output_type": "execute_result"
    }
   ],
   "source": [
    "len(match) # best way to aggregate all this data? -> just the most recent"
   ]
  },
  {
   "cell_type": "code",
   "execution_count": null,
   "id": "86d80cf9-510b-477d-b18b-0a866bcc341b",
   "metadata": {},
   "outputs": [],
   "source": [
    "# take only the results from the last season [avoid too much averaging; less interesting data]\n",
    "# -> 3326\n",
    "# actually take only the most recent game.\n",
    "# -> \n",
    "# then groupby, as different teams may have played different amounts of games\n",
    "# -"
   ]
  },
  {
   "cell_type": "code",
   "execution_count": 349,
   "id": "77283637-0da1-4433-a061-7b9aa351fff5",
   "metadata": {},
   "outputs": [
    {
     "name": "stdout",
     "output_type": "stream",
     "text": [
      "3325\n"
     ]
    },
    {
     "data": {
      "text/plain": [
       "188"
      ]
     },
     "execution_count": 349,
     "metadata": {},
     "output_type": "execute_result"
    }
   ],
   "source": [
    "# first select by 2015/2016 [practice]\n",
    "# then only keep most recent -> it's a chance dashboard, and it's more fun to see an **actual** score, vs 1.33\n",
    "\n",
    "mask_match = ( match[\"season\"] == \"2014/2015\" )\n",
    "match2 = match[mask_match]\n",
    "print(len(match2))\n",
    "len(match2[\"away_team_api_id\"].unique())"
   ]
  },
  {
   "cell_type": "code",
   "execution_count": null,
   "id": "5b6addd1-9e63-47b5-8165-83fce3cd2091",
   "metadata": {},
   "outputs": [],
   "source": [
    "# looks like there's only 188 unique teams that played in the most recent season\n",
    "# this is the same for home and away\n",
    "# -> let's examine the 2014/2015 season \n",
    "# see above cell"
   ]
  },
  {
   "cell_type": "code",
   "execution_count": 423,
   "id": "2efbba23-e821-480b-869a-9b8d9b7ddf37",
   "metadata": {},
   "outputs": [
    {
     "data": {
      "text/html": [
       "<div>\n",
       "<style scoped>\n",
       "    .dataframe tbody tr th:only-of-type {\n",
       "        vertical-align: middle;\n",
       "    }\n",
       "\n",
       "    .dataframe tbody tr th {\n",
       "        vertical-align: top;\n",
       "    }\n",
       "\n",
       "    .dataframe thead th {\n",
       "        text-align: right;\n",
       "    }\n",
       "</style>\n",
       "<table border=\"1\" class=\"dataframe\">\n",
       "  <thead>\n",
       "    <tr style=\"text-align: right;\">\n",
       "      <th></th>\n",
       "      <th>id</th>\n",
       "      <th>country_id</th>\n",
       "      <th>league_id</th>\n",
       "      <th>season</th>\n",
       "      <th>stage</th>\n",
       "      <th>date</th>\n",
       "      <th>match_api_id</th>\n",
       "      <th>home_team_api_id</th>\n",
       "      <th>away_team_api_id</th>\n",
       "      <th>home_team_goal</th>\n",
       "      <th>away_team_goal</th>\n",
       "      <th>home_player_X1</th>\n",
       "      <th>home_player_X2</th>\n",
       "      <th>home_player_X3</th>\n",
       "      <th>home_player_X4</th>\n",
       "      <th>home_player_X5</th>\n",
       "      <th>home_player_X6</th>\n",
       "      <th>home_player_X7</th>\n",
       "      <th>home_player_X8</th>\n",
       "      <th>home_player_X9</th>\n",
       "      <th>home_player_X10</th>\n",
       "      <th>home_player_X11</th>\n",
       "      <th>away_player_X1</th>\n",
       "      <th>away_player_X2</th>\n",
       "      <th>away_player_X3</th>\n",
       "      <th>away_player_X4</th>\n",
       "      <th>away_player_X5</th>\n",
       "      <th>away_player_X6</th>\n",
       "      <th>away_player_X7</th>\n",
       "      <th>away_player_X8</th>\n",
       "      <th>away_player_X9</th>\n",
       "      <th>away_player_X10</th>\n",
       "      <th>away_player_X11</th>\n",
       "      <th>home_player_Y1</th>\n",
       "      <th>home_player_Y2</th>\n",
       "      <th>home_player_Y3</th>\n",
       "      <th>home_player_Y4</th>\n",
       "      <th>home_player_Y5</th>\n",
       "      <th>home_player_Y6</th>\n",
       "      <th>home_player_Y7</th>\n",
       "      <th>home_player_Y8</th>\n",
       "      <th>home_player_Y9</th>\n",
       "      <th>home_player_Y10</th>\n",
       "      <th>home_player_Y11</th>\n",
       "      <th>away_player_Y1</th>\n",
       "      <th>away_player_Y2</th>\n",
       "      <th>away_player_Y3</th>\n",
       "      <th>away_player_Y4</th>\n",
       "      <th>away_player_Y5</th>\n",
       "      <th>away_player_Y6</th>\n",
       "      <th>away_player_Y7</th>\n",
       "      <th>away_player_Y8</th>\n",
       "      <th>away_player_Y9</th>\n",
       "      <th>away_player_Y10</th>\n",
       "      <th>away_player_Y11</th>\n",
       "      <th>home_player_1</th>\n",
       "      <th>home_player_2</th>\n",
       "      <th>home_player_3</th>\n",
       "      <th>home_player_4</th>\n",
       "      <th>home_player_5</th>\n",
       "      <th>home_player_6</th>\n",
       "      <th>home_player_7</th>\n",
       "      <th>home_player_8</th>\n",
       "      <th>home_player_9</th>\n",
       "      <th>home_player_10</th>\n",
       "      <th>home_player_11</th>\n",
       "      <th>away_player_1</th>\n",
       "      <th>away_player_2</th>\n",
       "      <th>away_player_3</th>\n",
       "      <th>away_player_4</th>\n",
       "      <th>away_player_5</th>\n",
       "      <th>away_player_6</th>\n",
       "      <th>away_player_7</th>\n",
       "      <th>away_player_8</th>\n",
       "      <th>away_player_9</th>\n",
       "      <th>away_player_10</th>\n",
       "      <th>away_player_11</th>\n",
       "      <th>goal</th>\n",
       "      <th>shoton</th>\n",
       "      <th>shotoff</th>\n",
       "      <th>foulcommit</th>\n",
       "      <th>card</th>\n",
       "      <th>cross</th>\n",
       "      <th>corner</th>\n",
       "      <th>possession</th>\n",
       "      <th>B365H</th>\n",
       "      <th>B365D</th>\n",
       "      <th>B365A</th>\n",
       "      <th>BWH</th>\n",
       "      <th>BWD</th>\n",
       "      <th>BWA</th>\n",
       "      <th>IWH</th>\n",
       "      <th>IWD</th>\n",
       "      <th>IWA</th>\n",
       "      <th>LBH</th>\n",
       "      <th>LBD</th>\n",
       "      <th>LBA</th>\n",
       "      <th>PSH</th>\n",
       "      <th>PSD</th>\n",
       "      <th>PSA</th>\n",
       "      <th>WHH</th>\n",
       "      <th>WHD</th>\n",
       "      <th>WHA</th>\n",
       "      <th>SJH</th>\n",
       "      <th>SJD</th>\n",
       "      <th>SJA</th>\n",
       "      <th>VCH</th>\n",
       "      <th>VCD</th>\n",
       "      <th>VCA</th>\n",
       "      <th>GBH</th>\n",
       "      <th>GBD</th>\n",
       "      <th>GBA</th>\n",
       "      <th>BSH</th>\n",
       "      <th>BSD</th>\n",
       "      <th>BSA</th>\n",
       "    </tr>\n",
       "  </thead>\n",
       "  <tbody>\n",
       "    <tr>\n",
       "      <th>1248</th>\n",
       "      <td>1249</td>\n",
       "      <td>1</td>\n",
       "      <td>1</td>\n",
       "      <td>2014/2015</td>\n",
       "      <td>1</td>\n",
       "      <td>2014-07-25 00:00:00</td>\n",
       "      <td>1717817</td>\n",
       "      <td>9985</td>\n",
       "      <td>9986</td>\n",
       "      <td>3</td>\n",
       "      <td>0</td>\n",
       "      <td>1.0</td>\n",
       "      <td>2.0</td>\n",
       "      <td>4.0</td>\n",
       "      <td>6.0</td>\n",
       "      <td>8.0</td>\n",
       "      <td>2.0</td>\n",
       "      <td>4.0</td>\n",
       "      <td>6.0</td>\n",
       "      <td>8.0</td>\n",
       "      <td>4.0</td>\n",
       "      <td>6.0</td>\n",
       "      <td>1.0</td>\n",
       "      <td>2.0</td>\n",
       "      <td>4.0</td>\n",
       "      <td>6.0</td>\n",
       "      <td>8.0</td>\n",
       "      <td>2.0</td>\n",
       "      <td>4.0</td>\n",
       "      <td>6.0</td>\n",
       "      <td>8.0</td>\n",
       "      <td>5.0</td>\n",
       "      <td>5.0</td>\n",
       "      <td>1.0</td>\n",
       "      <td>3.0</td>\n",
       "      <td>3.0</td>\n",
       "      <td>3.0</td>\n",
       "      <td>3.0</td>\n",
       "      <td>7.0</td>\n",
       "      <td>7.0</td>\n",
       "      <td>7.0</td>\n",
       "      <td>7.0</td>\n",
       "      <td>10.0</td>\n",
       "      <td>10.0</td>\n",
       "      <td>1.0</td>\n",
       "      <td>3.0</td>\n",
       "      <td>3.0</td>\n",
       "      <td>3.0</td>\n",
       "      <td>3.0</td>\n",
       "      <td>7.0</td>\n",
       "      <td>7.0</td>\n",
       "      <td>7.0</td>\n",
       "      <td>7.0</td>\n",
       "      <td>9.0</td>\n",
       "      <td>11.0</td>\n",
       "      <td>20747.0</td>\n",
       "      <td>26631.0</td>\n",
       "      <td>277848.0</td>\n",
       "      <td>171338.0</td>\n",
       "      <td>33620.0</td>\n",
       "      <td>148335.0</td>\n",
       "      <td>449276.0</td>\n",
       "      <td>447455.0</td>\n",
       "      <td>104389.0</td>\n",
       "      <td>25957.0</td>\n",
       "      <td>306117.0</td>\n",
       "      <td>214340.0</td>\n",
       "      <td>110878.0</td>\n",
       "      <td>280083.0</td>\n",
       "      <td>33605.0</td>\n",
       "      <td>46458.0</td>\n",
       "      <td>166679.0</td>\n",
       "      <td>239599.0</td>\n",
       "      <td>179059.0</td>\n",
       "      <td>521204.0</td>\n",
       "      <td>240478.0</td>\n",
       "      <td>97699.0</td>\n",
       "      <td>None</td>\n",
       "      <td>None</td>\n",
       "      <td>None</td>\n",
       "      <td>None</td>\n",
       "      <td>None</td>\n",
       "      <td>None</td>\n",
       "      <td>None</td>\n",
       "      <td>None</td>\n",
       "      <td>1.36</td>\n",
       "      <td>4.75</td>\n",
       "      <td>8.50</td>\n",
       "      <td>1.35</td>\n",
       "      <td>4.60</td>\n",
       "      <td>7.00</td>\n",
       "      <td>1.35</td>\n",
       "      <td>4.2</td>\n",
       "      <td>7.5</td>\n",
       "      <td>1.30</td>\n",
       "      <td>5.0</td>\n",
       "      <td>9.50</td>\n",
       "      <td>1.41</td>\n",
       "      <td>4.98</td>\n",
       "      <td>8.19</td>\n",
       "      <td>1.36</td>\n",
       "      <td>4.5</td>\n",
       "      <td>7.50</td>\n",
       "      <td>1.36</td>\n",
       "      <td>4.80</td>\n",
       "      <td>7.00</td>\n",
       "      <td>1.33</td>\n",
       "      <td>4.8</td>\n",
       "      <td>8.00</td>\n",
       "      <td>NaN</td>\n",
       "      <td>NaN</td>\n",
       "      <td>NaN</td>\n",
       "      <td>NaN</td>\n",
       "      <td>NaN</td>\n",
       "      <td>NaN</td>\n",
       "    </tr>\n",
       "    <tr>\n",
       "      <th>1249</th>\n",
       "      <td>1250</td>\n",
       "      <td>1</td>\n",
       "      <td>1</td>\n",
       "      <td>2014/2015</td>\n",
       "      <td>1</td>\n",
       "      <td>2014-07-26 00:00:00</td>\n",
       "      <td>1717818</td>\n",
       "      <td>8475</td>\n",
       "      <td>8342</td>\n",
       "      <td>0</td>\n",
       "      <td>2</td>\n",
       "      <td>1.0</td>\n",
       "      <td>1.0</td>\n",
       "      <td>3.0</td>\n",
       "      <td>5.0</td>\n",
       "      <td>7.0</td>\n",
       "      <td>9.0</td>\n",
       "      <td>3.0</td>\n",
       "      <td>5.0</td>\n",
       "      <td>7.0</td>\n",
       "      <td>4.0</td>\n",
       "      <td>6.0</td>\n",
       "      <td>1.0</td>\n",
       "      <td>2.0</td>\n",
       "      <td>4.0</td>\n",
       "      <td>6.0</td>\n",
       "      <td>8.0</td>\n",
       "      <td>2.0</td>\n",
       "      <td>4.0</td>\n",
       "      <td>6.0</td>\n",
       "      <td>8.0</td>\n",
       "      <td>5.0</td>\n",
       "      <td>5.0</td>\n",
       "      <td>1.0</td>\n",
       "      <td>3.0</td>\n",
       "      <td>3.0</td>\n",
       "      <td>3.0</td>\n",
       "      <td>3.0</td>\n",
       "      <td>3.0</td>\n",
       "      <td>7.0</td>\n",
       "      <td>7.0</td>\n",
       "      <td>7.0</td>\n",
       "      <td>10.0</td>\n",
       "      <td>10.0</td>\n",
       "      <td>1.0</td>\n",
       "      <td>3.0</td>\n",
       "      <td>3.0</td>\n",
       "      <td>3.0</td>\n",
       "      <td>3.0</td>\n",
       "      <td>7.0</td>\n",
       "      <td>7.0</td>\n",
       "      <td>7.0</td>\n",
       "      <td>7.0</td>\n",
       "      <td>9.0</td>\n",
       "      <td>11.0</td>\n",
       "      <td>208699.0</td>\n",
       "      <td>37963.0</td>\n",
       "      <td>208348.0</td>\n",
       "      <td>38339.0</td>\n",
       "      <td>26606.0</td>\n",
       "      <td>8930.0</td>\n",
       "      <td>32760.0</td>\n",
       "      <td>104410.0</td>\n",
       "      <td>104411.0</td>\n",
       "      <td>80592.0</td>\n",
       "      <td>78902.0</td>\n",
       "      <td>185644.0</td>\n",
       "      <td>277771.0</td>\n",
       "      <td>445873.0</td>\n",
       "      <td>209922.0</td>\n",
       "      <td>178293.0</td>\n",
       "      <td>179310.0</td>\n",
       "      <td>26440.0</td>\n",
       "      <td>39962.0</td>\n",
       "      <td>14557.0</td>\n",
       "      <td>465726.0</td>\n",
       "      <td>259507.0</td>\n",
       "      <td>None</td>\n",
       "      <td>None</td>\n",
       "      <td>None</td>\n",
       "      <td>None</td>\n",
       "      <td>None</td>\n",
       "      <td>None</td>\n",
       "      <td>None</td>\n",
       "      <td>None</td>\n",
       "      <td>4.20</td>\n",
       "      <td>3.60</td>\n",
       "      <td>1.83</td>\n",
       "      <td>4.00</td>\n",
       "      <td>3.40</td>\n",
       "      <td>1.80</td>\n",
       "      <td>4.00</td>\n",
       "      <td>3.2</td>\n",
       "      <td>1.8</td>\n",
       "      <td>4.33</td>\n",
       "      <td>3.6</td>\n",
       "      <td>1.72</td>\n",
       "      <td>4.45</td>\n",
       "      <td>3.73</td>\n",
       "      <td>1.86</td>\n",
       "      <td>4.00</td>\n",
       "      <td>3.4</td>\n",
       "      <td>1.83</td>\n",
       "      <td>4.33</td>\n",
       "      <td>3.40</td>\n",
       "      <td>1.83</td>\n",
       "      <td>4.20</td>\n",
       "      <td>3.6</td>\n",
       "      <td>1.80</td>\n",
       "      <td>NaN</td>\n",
       "      <td>NaN</td>\n",
       "      <td>NaN</td>\n",
       "      <td>NaN</td>\n",
       "      <td>NaN</td>\n",
       "      <td>NaN</td>\n",
       "    </tr>\n",
       "    <tr>\n",
       "      <th>1250</th>\n",
       "      <td>1251</td>\n",
       "      <td>1</td>\n",
       "      <td>1</td>\n",
       "      <td>2014/2015</td>\n",
       "      <td>1</td>\n",
       "      <td>2014-07-26 00:00:00</td>\n",
       "      <td>1717819</td>\n",
       "      <td>9984</td>\n",
       "      <td>9991</td>\n",
       "      <td>0</td>\n",
       "      <td>0</td>\n",
       "      <td>1.0</td>\n",
       "      <td>2.0</td>\n",
       "      <td>4.0</td>\n",
       "      <td>6.0</td>\n",
       "      <td>8.0</td>\n",
       "      <td>2.0</td>\n",
       "      <td>4.0</td>\n",
       "      <td>6.0</td>\n",
       "      <td>8.0</td>\n",
       "      <td>5.0</td>\n",
       "      <td>5.0</td>\n",
       "      <td>1.0</td>\n",
       "      <td>1.0</td>\n",
       "      <td>3.0</td>\n",
       "      <td>5.0</td>\n",
       "      <td>7.0</td>\n",
       "      <td>9.0</td>\n",
       "      <td>3.0</td>\n",
       "      <td>5.0</td>\n",
       "      <td>7.0</td>\n",
       "      <td>4.0</td>\n",
       "      <td>6.0</td>\n",
       "      <td>1.0</td>\n",
       "      <td>3.0</td>\n",
       "      <td>3.0</td>\n",
       "      <td>3.0</td>\n",
       "      <td>3.0</td>\n",
       "      <td>7.0</td>\n",
       "      <td>7.0</td>\n",
       "      <td>7.0</td>\n",
       "      <td>7.0</td>\n",
       "      <td>9.0</td>\n",
       "      <td>11.0</td>\n",
       "      <td>1.0</td>\n",
       "      <td>3.0</td>\n",
       "      <td>3.0</td>\n",
       "      <td>3.0</td>\n",
       "      <td>3.0</td>\n",
       "      <td>3.0</td>\n",
       "      <td>7.0</td>\n",
       "      <td>7.0</td>\n",
       "      <td>7.0</td>\n",
       "      <td>10.0</td>\n",
       "      <td>10.0</td>\n",
       "      <td>67949.0</td>\n",
       "      <td>38789.0</td>\n",
       "      <td>38337.0</td>\n",
       "      <td>466443.0</td>\n",
       "      <td>202471.0</td>\n",
       "      <td>150240.0</td>\n",
       "      <td>111194.0</td>\n",
       "      <td>178165.0</td>\n",
       "      <td>209855.0</td>\n",
       "      <td>33662.0</td>\n",
       "      <td>231006.0</td>\n",
       "      <td>181069.0</td>\n",
       "      <td>346142.0</td>\n",
       "      <td>97359.0</td>\n",
       "      <td>149279.0</td>\n",
       "      <td>186621.0</td>\n",
       "      <td>39625.0</td>\n",
       "      <td>280443.0</td>\n",
       "      <td>208929.0</td>\n",
       "      <td>40521.0</td>\n",
       "      <td>79247.0</td>\n",
       "      <td>289248.0</td>\n",
       "      <td>None</td>\n",
       "      <td>None</td>\n",
       "      <td>None</td>\n",
       "      <td>None</td>\n",
       "      <td>None</td>\n",
       "      <td>None</td>\n",
       "      <td>None</td>\n",
       "      <td>None</td>\n",
       "      <td>3.60</td>\n",
       "      <td>3.50</td>\n",
       "      <td>2.00</td>\n",
       "      <td>3.60</td>\n",
       "      <td>3.25</td>\n",
       "      <td>1.95</td>\n",
       "      <td>3.60</td>\n",
       "      <td>3.2</td>\n",
       "      <td>1.9</td>\n",
       "      <td>3.60</td>\n",
       "      <td>3.3</td>\n",
       "      <td>1.95</td>\n",
       "      <td>3.95</td>\n",
       "      <td>3.63</td>\n",
       "      <td>1.99</td>\n",
       "      <td>3.40</td>\n",
       "      <td>3.4</td>\n",
       "      <td>2.00</td>\n",
       "      <td>3.80</td>\n",
       "      <td>3.30</td>\n",
       "      <td>1.95</td>\n",
       "      <td>3.75</td>\n",
       "      <td>3.5</td>\n",
       "      <td>1.95</td>\n",
       "      <td>NaN</td>\n",
       "      <td>NaN</td>\n",
       "      <td>NaN</td>\n",
       "      <td>NaN</td>\n",
       "      <td>NaN</td>\n",
       "      <td>NaN</td>\n",
       "    </tr>\n",
       "    <tr>\n",
       "      <th>1251</th>\n",
       "      <td>1252</td>\n",
       "      <td>1</td>\n",
       "      <td>1</td>\n",
       "      <td>2014/2015</td>\n",
       "      <td>1</td>\n",
       "      <td>2014-07-26 00:00:00</td>\n",
       "      <td>1717820</td>\n",
       "      <td>9989</td>\n",
       "      <td>8573</td>\n",
       "      <td>2</td>\n",
       "      <td>0</td>\n",
       "      <td>1.0</td>\n",
       "      <td>2.0</td>\n",
       "      <td>4.0</td>\n",
       "      <td>6.0</td>\n",
       "      <td>8.0</td>\n",
       "      <td>4.0</td>\n",
       "      <td>6.0</td>\n",
       "      <td>8.0</td>\n",
       "      <td>5.0</td>\n",
       "      <td>2.0</td>\n",
       "      <td>5.0</td>\n",
       "      <td>1.0</td>\n",
       "      <td>2.0</td>\n",
       "      <td>4.0</td>\n",
       "      <td>6.0</td>\n",
       "      <td>8.0</td>\n",
       "      <td>2.0</td>\n",
       "      <td>4.0</td>\n",
       "      <td>6.0</td>\n",
       "      <td>8.0</td>\n",
       "      <td>5.0</td>\n",
       "      <td>5.0</td>\n",
       "      <td>1.0</td>\n",
       "      <td>3.0</td>\n",
       "      <td>3.0</td>\n",
       "      <td>3.0</td>\n",
       "      <td>3.0</td>\n",
       "      <td>7.0</td>\n",
       "      <td>7.0</td>\n",
       "      <td>7.0</td>\n",
       "      <td>9.0</td>\n",
       "      <td>7.0</td>\n",
       "      <td>11.0</td>\n",
       "      <td>1.0</td>\n",
       "      <td>3.0</td>\n",
       "      <td>3.0</td>\n",
       "      <td>3.0</td>\n",
       "      <td>3.0</td>\n",
       "      <td>7.0</td>\n",
       "      <td>7.0</td>\n",
       "      <td>7.0</td>\n",
       "      <td>7.0</td>\n",
       "      <td>9.0</td>\n",
       "      <td>11.0</td>\n",
       "      <td>270473.0</td>\n",
       "      <td>426892.0</td>\n",
       "      <td>178486.0</td>\n",
       "      <td>513810.0</td>\n",
       "      <td>532766.0</td>\n",
       "      <td>210423.0</td>\n",
       "      <td>181071.0</td>\n",
       "      <td>389202.0</td>\n",
       "      <td>149258.0</td>\n",
       "      <td>36863.0</td>\n",
       "      <td>286117.0</td>\n",
       "      <td>107806.0</td>\n",
       "      <td>36832.0</td>\n",
       "      <td>134233.0</td>\n",
       "      <td>149334.0</td>\n",
       "      <td>39859.0</td>\n",
       "      <td>131531.0</td>\n",
       "      <td>201811.0</td>\n",
       "      <td>38365.0</td>\n",
       "      <td>45490.0</td>\n",
       "      <td>265123.0</td>\n",
       "      <td>148329.0</td>\n",
       "      <td>None</td>\n",
       "      <td>None</td>\n",
       "      <td>None</td>\n",
       "      <td>None</td>\n",
       "      <td>None</td>\n",
       "      <td>None</td>\n",
       "      <td>None</td>\n",
       "      <td>None</td>\n",
       "      <td>2.40</td>\n",
       "      <td>3.20</td>\n",
       "      <td>3.00</td>\n",
       "      <td>2.35</td>\n",
       "      <td>3.20</td>\n",
       "      <td>2.80</td>\n",
       "      <td>2.40</td>\n",
       "      <td>3.1</td>\n",
       "      <td>2.7</td>\n",
       "      <td>2.37</td>\n",
       "      <td>3.1</td>\n",
       "      <td>2.90</td>\n",
       "      <td>2.46</td>\n",
       "      <td>3.30</td>\n",
       "      <td>3.12</td>\n",
       "      <td>2.38</td>\n",
       "      <td>3.2</td>\n",
       "      <td>2.80</td>\n",
       "      <td>2.38</td>\n",
       "      <td>3.20</td>\n",
       "      <td>2.88</td>\n",
       "      <td>2.38</td>\n",
       "      <td>3.2</td>\n",
       "      <td>2.90</td>\n",
       "      <td>NaN</td>\n",
       "      <td>NaN</td>\n",
       "      <td>NaN</td>\n",
       "      <td>NaN</td>\n",
       "      <td>NaN</td>\n",
       "      <td>NaN</td>\n",
       "    </tr>\n",
       "    <tr>\n",
       "      <th>1252</th>\n",
       "      <td>1253</td>\n",
       "      <td>1</td>\n",
       "      <td>1</td>\n",
       "      <td>2014/2015</td>\n",
       "      <td>1</td>\n",
       "      <td>2014-07-26 00:00:00</td>\n",
       "      <td>1717821</td>\n",
       "      <td>10001</td>\n",
       "      <td>9994</td>\n",
       "      <td>1</td>\n",
       "      <td>0</td>\n",
       "      <td>1.0</td>\n",
       "      <td>2.0</td>\n",
       "      <td>4.0</td>\n",
       "      <td>6.0</td>\n",
       "      <td>8.0</td>\n",
       "      <td>2.0</td>\n",
       "      <td>4.0</td>\n",
       "      <td>6.0</td>\n",
       "      <td>8.0</td>\n",
       "      <td>4.0</td>\n",
       "      <td>6.0</td>\n",
       "      <td>1.0</td>\n",
       "      <td>2.0</td>\n",
       "      <td>4.0</td>\n",
       "      <td>6.0</td>\n",
       "      <td>8.0</td>\n",
       "      <td>3.0</td>\n",
       "      <td>5.0</td>\n",
       "      <td>7.0</td>\n",
       "      <td>3.0</td>\n",
       "      <td>5.0</td>\n",
       "      <td>7.0</td>\n",
       "      <td>1.0</td>\n",
       "      <td>3.0</td>\n",
       "      <td>3.0</td>\n",
       "      <td>3.0</td>\n",
       "      <td>3.0</td>\n",
       "      <td>7.0</td>\n",
       "      <td>7.0</td>\n",
       "      <td>7.0</td>\n",
       "      <td>7.0</td>\n",
       "      <td>10.0</td>\n",
       "      <td>10.0</td>\n",
       "      <td>1.0</td>\n",
       "      <td>3.0</td>\n",
       "      <td>3.0</td>\n",
       "      <td>3.0</td>\n",
       "      <td>3.0</td>\n",
       "      <td>7.0</td>\n",
       "      <td>7.0</td>\n",
       "      <td>7.0</td>\n",
       "      <td>10.0</td>\n",
       "      <td>10.0</td>\n",
       "      <td>10.0</td>\n",
       "      <td>346114.0</td>\n",
       "      <td>179241.0</td>\n",
       "      <td>37965.0</td>\n",
       "      <td>306731.0</td>\n",
       "      <td>209782.0</td>\n",
       "      <td>166664.0</td>\n",
       "      <td>67957.0</td>\n",
       "      <td>33683.0</td>\n",
       "      <td>38323.0</td>\n",
       "      <td>212598.0</td>\n",
       "      <td>346651.0</td>\n",
       "      <td>37937.0</td>\n",
       "      <td>173983.0</td>\n",
       "      <td>25791.0</td>\n",
       "      <td>203755.0</td>\n",
       "      <td>149150.0</td>\n",
       "      <td>67898.0</td>\n",
       "      <td>38290.0</td>\n",
       "      <td>203666.0</td>\n",
       "      <td>NaN</td>\n",
       "      <td>212285.0</td>\n",
       "      <td>38777.0</td>\n",
       "      <td>None</td>\n",
       "      <td>None</td>\n",
       "      <td>None</td>\n",
       "      <td>None</td>\n",
       "      <td>None</td>\n",
       "      <td>None</td>\n",
       "      <td>None</td>\n",
       "      <td>None</td>\n",
       "      <td>3.00</td>\n",
       "      <td>3.40</td>\n",
       "      <td>2.30</td>\n",
       "      <td>2.85</td>\n",
       "      <td>3.30</td>\n",
       "      <td>2.25</td>\n",
       "      <td>2.80</td>\n",
       "      <td>3.1</td>\n",
       "      <td>2.3</td>\n",
       "      <td>3.20</td>\n",
       "      <td>3.4</td>\n",
       "      <td>2.10</td>\n",
       "      <td>3.12</td>\n",
       "      <td>3.49</td>\n",
       "      <td>2.37</td>\n",
       "      <td>3.10</td>\n",
       "      <td>3.3</td>\n",
       "      <td>2.15</td>\n",
       "      <td>3.13</td>\n",
       "      <td>3.25</td>\n",
       "      <td>2.25</td>\n",
       "      <td>3.00</td>\n",
       "      <td>3.4</td>\n",
       "      <td>2.25</td>\n",
       "      <td>NaN</td>\n",
       "      <td>NaN</td>\n",
       "      <td>NaN</td>\n",
       "      <td>NaN</td>\n",
       "      <td>NaN</td>\n",
       "      <td>NaN</td>\n",
       "    </tr>\n",
       "  </tbody>\n",
       "</table>\n",
       "</div>"
      ],
      "text/plain": [
       "        id  country_id  league_id     season  stage                 date  \\\n",
       "1248  1249           1          1  2014/2015      1  2014-07-25 00:00:00   \n",
       "1249  1250           1          1  2014/2015      1  2014-07-26 00:00:00   \n",
       "1250  1251           1          1  2014/2015      1  2014-07-26 00:00:00   \n",
       "1251  1252           1          1  2014/2015      1  2014-07-26 00:00:00   \n",
       "1252  1253           1          1  2014/2015      1  2014-07-26 00:00:00   \n",
       "\n",
       "      match_api_id  home_team_api_id  away_team_api_id  home_team_goal  \\\n",
       "1248       1717817              9985              9986               3   \n",
       "1249       1717818              8475              8342               0   \n",
       "1250       1717819              9984              9991               0   \n",
       "1251       1717820              9989              8573               2   \n",
       "1252       1717821             10001              9994               1   \n",
       "\n",
       "      away_team_goal  home_player_X1  home_player_X2  home_player_X3  \\\n",
       "1248               0             1.0             2.0             4.0   \n",
       "1249               2             1.0             1.0             3.0   \n",
       "1250               0             1.0             2.0             4.0   \n",
       "1251               0             1.0             2.0             4.0   \n",
       "1252               0             1.0             2.0             4.0   \n",
       "\n",
       "      home_player_X4  home_player_X5  home_player_X6  home_player_X7  \\\n",
       "1248             6.0             8.0             2.0             4.0   \n",
       "1249             5.0             7.0             9.0             3.0   \n",
       "1250             6.0             8.0             2.0             4.0   \n",
       "1251             6.0             8.0             4.0             6.0   \n",
       "1252             6.0             8.0             2.0             4.0   \n",
       "\n",
       "      home_player_X8  home_player_X9  home_player_X10  home_player_X11  \\\n",
       "1248             6.0             8.0              4.0              6.0   \n",
       "1249             5.0             7.0              4.0              6.0   \n",
       "1250             6.0             8.0              5.0              5.0   \n",
       "1251             8.0             5.0              2.0              5.0   \n",
       "1252             6.0             8.0              4.0              6.0   \n",
       "\n",
       "      away_player_X1  away_player_X2  away_player_X3  away_player_X4  \\\n",
       "1248             1.0             2.0             4.0             6.0   \n",
       "1249             1.0             2.0             4.0             6.0   \n",
       "1250             1.0             1.0             3.0             5.0   \n",
       "1251             1.0             2.0             4.0             6.0   \n",
       "1252             1.0             2.0             4.0             6.0   \n",
       "\n",
       "      away_player_X5  away_player_X6  away_player_X7  away_player_X8  \\\n",
       "1248             8.0             2.0             4.0             6.0   \n",
       "1249             8.0             2.0             4.0             6.0   \n",
       "1250             7.0             9.0             3.0             5.0   \n",
       "1251             8.0             2.0             4.0             6.0   \n",
       "1252             8.0             3.0             5.0             7.0   \n",
       "\n",
       "      away_player_X9  away_player_X10  away_player_X11  home_player_Y1  \\\n",
       "1248             8.0              5.0              5.0             1.0   \n",
       "1249             8.0              5.0              5.0             1.0   \n",
       "1250             7.0              4.0              6.0             1.0   \n",
       "1251             8.0              5.0              5.0             1.0   \n",
       "1252             3.0              5.0              7.0             1.0   \n",
       "\n",
       "      home_player_Y2  home_player_Y3  home_player_Y4  home_player_Y5  \\\n",
       "1248             3.0             3.0             3.0             3.0   \n",
       "1249             3.0             3.0             3.0             3.0   \n",
       "1250             3.0             3.0             3.0             3.0   \n",
       "1251             3.0             3.0             3.0             3.0   \n",
       "1252             3.0             3.0             3.0             3.0   \n",
       "\n",
       "      home_player_Y6  home_player_Y7  home_player_Y8  home_player_Y9  \\\n",
       "1248             7.0             7.0             7.0             7.0   \n",
       "1249             3.0             7.0             7.0             7.0   \n",
       "1250             7.0             7.0             7.0             7.0   \n",
       "1251             7.0             7.0             7.0             9.0   \n",
       "1252             7.0             7.0             7.0             7.0   \n",
       "\n",
       "      home_player_Y10  home_player_Y11  away_player_Y1  away_player_Y2  \\\n",
       "1248             10.0             10.0             1.0             3.0   \n",
       "1249             10.0             10.0             1.0             3.0   \n",
       "1250              9.0             11.0             1.0             3.0   \n",
       "1251              7.0             11.0             1.0             3.0   \n",
       "1252             10.0             10.0             1.0             3.0   \n",
       "\n",
       "      away_player_Y3  away_player_Y4  away_player_Y5  away_player_Y6  \\\n",
       "1248             3.0             3.0             3.0             7.0   \n",
       "1249             3.0             3.0             3.0             7.0   \n",
       "1250             3.0             3.0             3.0             3.0   \n",
       "1251             3.0             3.0             3.0             7.0   \n",
       "1252             3.0             3.0             3.0             7.0   \n",
       "\n",
       "      away_player_Y7  away_player_Y8  away_player_Y9  away_player_Y10  \\\n",
       "1248             7.0             7.0             7.0              9.0   \n",
       "1249             7.0             7.0             7.0              9.0   \n",
       "1250             7.0             7.0             7.0             10.0   \n",
       "1251             7.0             7.0             7.0              9.0   \n",
       "1252             7.0             7.0            10.0             10.0   \n",
       "\n",
       "      away_player_Y11  home_player_1  home_player_2  home_player_3  \\\n",
       "1248             11.0        20747.0        26631.0       277848.0   \n",
       "1249             11.0       208699.0        37963.0       208348.0   \n",
       "1250             10.0        67949.0        38789.0        38337.0   \n",
       "1251             11.0       270473.0       426892.0       178486.0   \n",
       "1252             10.0       346114.0       179241.0        37965.0   \n",
       "\n",
       "      home_player_4  home_player_5  home_player_6  home_player_7  \\\n",
       "1248       171338.0        33620.0       148335.0       449276.0   \n",
       "1249        38339.0        26606.0         8930.0        32760.0   \n",
       "1250       466443.0       202471.0       150240.0       111194.0   \n",
       "1251       513810.0       532766.0       210423.0       181071.0   \n",
       "1252       306731.0       209782.0       166664.0        67957.0   \n",
       "\n",
       "      home_player_8  home_player_9  home_player_10  home_player_11  \\\n",
       "1248       447455.0       104389.0         25957.0        306117.0   \n",
       "1249       104410.0       104411.0         80592.0         78902.0   \n",
       "1250       178165.0       209855.0         33662.0        231006.0   \n",
       "1251       389202.0       149258.0         36863.0        286117.0   \n",
       "1252        33683.0        38323.0        212598.0        346651.0   \n",
       "\n",
       "      away_player_1  away_player_2  away_player_3  away_player_4  \\\n",
       "1248       214340.0       110878.0       280083.0        33605.0   \n",
       "1249       185644.0       277771.0       445873.0       209922.0   \n",
       "1250       181069.0       346142.0        97359.0       149279.0   \n",
       "1251       107806.0        36832.0       134233.0       149334.0   \n",
       "1252        37937.0       173983.0        25791.0       203755.0   \n",
       "\n",
       "      away_player_5  away_player_6  away_player_7  away_player_8  \\\n",
       "1248        46458.0       166679.0       239599.0       179059.0   \n",
       "1249       178293.0       179310.0        26440.0        39962.0   \n",
       "1250       186621.0        39625.0       280443.0       208929.0   \n",
       "1251        39859.0       131531.0       201811.0        38365.0   \n",
       "1252       149150.0        67898.0        38290.0       203666.0   \n",
       "\n",
       "      away_player_9  away_player_10  away_player_11  goal shoton shotoff  \\\n",
       "1248       521204.0        240478.0         97699.0  None   None    None   \n",
       "1249        14557.0        465726.0        259507.0  None   None    None   \n",
       "1250        40521.0         79247.0        289248.0  None   None    None   \n",
       "1251        45490.0        265123.0        148329.0  None   None    None   \n",
       "1252            NaN        212285.0         38777.0  None   None    None   \n",
       "\n",
       "     foulcommit  card cross corner possession  B365H  B365D  B365A   BWH  \\\n",
       "1248       None  None  None   None       None   1.36   4.75   8.50  1.35   \n",
       "1249       None  None  None   None       None   4.20   3.60   1.83  4.00   \n",
       "1250       None  None  None   None       None   3.60   3.50   2.00  3.60   \n",
       "1251       None  None  None   None       None   2.40   3.20   3.00  2.35   \n",
       "1252       None  None  None   None       None   3.00   3.40   2.30  2.85   \n",
       "\n",
       "       BWD   BWA   IWH  IWD  IWA   LBH  LBD   LBA   PSH   PSD   PSA   WHH  \\\n",
       "1248  4.60  7.00  1.35  4.2  7.5  1.30  5.0  9.50  1.41  4.98  8.19  1.36   \n",
       "1249  3.40  1.80  4.00  3.2  1.8  4.33  3.6  1.72  4.45  3.73  1.86  4.00   \n",
       "1250  3.25  1.95  3.60  3.2  1.9  3.60  3.3  1.95  3.95  3.63  1.99  3.40   \n",
       "1251  3.20  2.80  2.40  3.1  2.7  2.37  3.1  2.90  2.46  3.30  3.12  2.38   \n",
       "1252  3.30  2.25  2.80  3.1  2.3  3.20  3.4  2.10  3.12  3.49  2.37  3.10   \n",
       "\n",
       "      WHD   WHA   SJH   SJD   SJA   VCH  VCD   VCA  GBH  GBD  GBA  BSH  BSD  \\\n",
       "1248  4.5  7.50  1.36  4.80  7.00  1.33  4.8  8.00  NaN  NaN  NaN  NaN  NaN   \n",
       "1249  3.4  1.83  4.33  3.40  1.83  4.20  3.6  1.80  NaN  NaN  NaN  NaN  NaN   \n",
       "1250  3.4  2.00  3.80  3.30  1.95  3.75  3.5  1.95  NaN  NaN  NaN  NaN  NaN   \n",
       "1251  3.2  2.80  2.38  3.20  2.88  2.38  3.2  2.90  NaN  NaN  NaN  NaN  NaN   \n",
       "1252  3.3  2.15  3.13  3.25  2.25  3.00  3.4  2.25  NaN  NaN  NaN  NaN  NaN   \n",
       "\n",
       "      BSA  \n",
       "1248  NaN  \n",
       "1249  NaN  \n",
       "1250  NaN  \n",
       "1251  NaN  \n",
       "1252  NaN  "
      ]
     },
     "execution_count": 423,
     "metadata": {},
     "output_type": "execute_result"
    }
   ],
   "source": [
    "# above is fine: now let's add in country and league_id\n",
    "league[:5] # merge on league[\"country_id\"], keep [\"name\"]\n",
    "country[:5] # merge on country[\"id\"], keep [\"name\"]\n",
    "match2[:5] # eventually merge on [\"country_id\"]"
   ]
  },
  {
   "cell_type": "code",
   "execution_count": 438,
   "id": "ac8c9b3e-d091-44f0-9408-bd5d9f37318f",
   "metadata": {},
   "outputs": [
    {
     "data": {
      "text/html": [
       "<div>\n",
       "<style scoped>\n",
       "    .dataframe tbody tr th:only-of-type {\n",
       "        vertical-align: middle;\n",
       "    }\n",
       "\n",
       "    .dataframe tbody tr th {\n",
       "        vertical-align: top;\n",
       "    }\n",
       "\n",
       "    .dataframe thead th {\n",
       "        text-align: right;\n",
       "    }\n",
       "</style>\n",
       "<table border=\"1\" class=\"dataframe\">\n",
       "  <thead>\n",
       "    <tr style=\"text-align: right;\">\n",
       "      <th></th>\n",
       "      <th>id</th>\n",
       "      <th>country_id</th>\n",
       "      <th>league_name</th>\n",
       "    </tr>\n",
       "  </thead>\n",
       "  <tbody>\n",
       "    <tr>\n",
       "      <th>0</th>\n",
       "      <td>1</td>\n",
       "      <td>1</td>\n",
       "      <td>Belgium Jupiler League</td>\n",
       "    </tr>\n",
       "    <tr>\n",
       "      <th>1</th>\n",
       "      <td>1729</td>\n",
       "      <td>1729</td>\n",
       "      <td>England Premier League</td>\n",
       "    </tr>\n",
       "    <tr>\n",
       "      <th>2</th>\n",
       "      <td>4769</td>\n",
       "      <td>4769</td>\n",
       "      <td>France Ligue 1</td>\n",
       "    </tr>\n",
       "    <tr>\n",
       "      <th>3</th>\n",
       "      <td>7809</td>\n",
       "      <td>7809</td>\n",
       "      <td>Germany 1. Bundesliga</td>\n",
       "    </tr>\n",
       "    <tr>\n",
       "      <th>4</th>\n",
       "      <td>10257</td>\n",
       "      <td>10257</td>\n",
       "      <td>Italy Serie A</td>\n",
       "    </tr>\n",
       "  </tbody>\n",
       "</table>\n",
       "</div>"
      ],
      "text/plain": [
       "      id  country_id             league_name\n",
       "0      1           1  Belgium Jupiler League\n",
       "1   1729        1729  England Premier League\n",
       "2   4769        4769          France Ligue 1\n",
       "3   7809        7809   Germany 1. Bundesliga\n",
       "4  10257       10257           Italy Serie A"
      ]
     },
     "execution_count": 438,
     "metadata": {},
     "output_type": "execute_result"
    }
   ],
   "source": [
    "country = country.rename(columns={\"name\": \"country_name\", \"id\": \"country_id\"})\n",
    "league = league.rename(columns={\"name\": \"league_name\"})\n",
    "league[:5]"
   ]
  },
  {
   "cell_type": "code",
   "execution_count": 429,
   "id": "429373eb-ea52-44db-8dd4-9ba5e505a010",
   "metadata": {},
   "outputs": [
    {
     "data": {
      "text/plain": [
       "11"
      ]
     },
     "execution_count": 429,
     "metadata": {},
     "output_type": "execute_result"
    }
   ],
   "source": [
    "len(league)"
   ]
  },
  {
   "cell_type": "code",
   "execution_count": 469,
   "id": "d665a1ec-64e8-4393-8305-2d6c8070657b",
   "metadata": {},
   "outputs": [],
   "source": [
    "c_l_names = league.merge(country, how=\"inner\",  on=[\"country_id\"])"
   ]
  },
  {
   "cell_type": "code",
   "execution_count": 470,
   "id": "ec0de738-d671-4301-8417-5ead589b327c",
   "metadata": {},
   "outputs": [
    {
     "data": {
      "text/plain": [
       "11"
      ]
     },
     "execution_count": 470,
     "metadata": {},
     "output_type": "execute_result"
    }
   ],
   "source": [
    "len(c_l_names[\"country_id\"].unique())"
   ]
  },
  {
   "cell_type": "code",
   "execution_count": 471,
   "id": "f72d48c3-5037-48a6-aab2-27dc58e76915",
   "metadata": {},
   "outputs": [
    {
     "data": {
      "text/plain": [
       "11"
      ]
     },
     "execution_count": 471,
     "metadata": {},
     "output_type": "execute_result"
    }
   ],
   "source": [
    "len(c_l_names[\"country_id\"])"
   ]
  },
  {
   "cell_type": "code",
   "execution_count": 472,
   "id": "5c22ffec-e92e-460b-a975-c43a6a4f81a1",
   "metadata": {},
   "outputs": [],
   "source": [
    "c_l_names2 = c_l_names.drop([\"id\"], axis=1)"
   ]
  },
  {
   "cell_type": "code",
   "execution_count": 473,
   "id": "2be136c2-1d64-4511-9c6f-ee9cd16c03f8",
   "metadata": {},
   "outputs": [
    {
     "data": {
      "text/html": [
       "<div>\n",
       "<style scoped>\n",
       "    .dataframe tbody tr th:only-of-type {\n",
       "        vertical-align: middle;\n",
       "    }\n",
       "\n",
       "    .dataframe tbody tr th {\n",
       "        vertical-align: top;\n",
       "    }\n",
       "\n",
       "    .dataframe thead th {\n",
       "        text-align: right;\n",
       "    }\n",
       "</style>\n",
       "<table border=\"1\" class=\"dataframe\">\n",
       "  <thead>\n",
       "    <tr style=\"text-align: right;\">\n",
       "      <th></th>\n",
       "      <th>country_id</th>\n",
       "      <th>league_name</th>\n",
       "      <th>country_name</th>\n",
       "    </tr>\n",
       "  </thead>\n",
       "  <tbody>\n",
       "    <tr>\n",
       "      <th>0</th>\n",
       "      <td>1</td>\n",
       "      <td>Belgium Jupiler League</td>\n",
       "      <td>Belgium</td>\n",
       "    </tr>\n",
       "    <tr>\n",
       "      <th>1</th>\n",
       "      <td>1729</td>\n",
       "      <td>England Premier League</td>\n",
       "      <td>England</td>\n",
       "    </tr>\n",
       "    <tr>\n",
       "      <th>2</th>\n",
       "      <td>4769</td>\n",
       "      <td>France Ligue 1</td>\n",
       "      <td>France</td>\n",
       "    </tr>\n",
       "    <tr>\n",
       "      <th>3</th>\n",
       "      <td>7809</td>\n",
       "      <td>Germany 1. Bundesliga</td>\n",
       "      <td>Germany</td>\n",
       "    </tr>\n",
       "    <tr>\n",
       "      <th>4</th>\n",
       "      <td>10257</td>\n",
       "      <td>Italy Serie A</td>\n",
       "      <td>Italy</td>\n",
       "    </tr>\n",
       "  </tbody>\n",
       "</table>\n",
       "</div>"
      ],
      "text/plain": [
       "   country_id             league_name country_name\n",
       "0           1  Belgium Jupiler League      Belgium\n",
       "1        1729  England Premier League      England\n",
       "2        4769          France Ligue 1       France\n",
       "3        7809   Germany 1. Bundesliga      Germany\n",
       "4       10257           Italy Serie A        Italy"
      ]
     },
     "execution_count": 473,
     "metadata": {},
     "output_type": "execute_result"
    }
   ],
   "source": [
    "c_l_names2[:5] # merge on country_id"
   ]
  },
  {
   "cell_type": "code",
   "execution_count": 474,
   "id": "a0388a90-5b6a-438f-adfb-1fd7388b7e41",
   "metadata": {},
   "outputs": [
    {
     "data": {
      "text/plain": [
       "11"
      ]
     },
     "execution_count": 474,
     "metadata": {},
     "output_type": "execute_result"
    }
   ],
   "source": [
    "len(c_l_names2)"
   ]
  },
  {
   "cell_type": "code",
   "execution_count": 505,
   "id": "1acd42f1-27b4-40d9-b3e4-ddcad17e0df2",
   "metadata": {},
   "outputs": [],
   "source": [
    "match2[:5] # merge on league_id"
   ]
  },
  {
   "cell_type": "code",
   "execution_count": 508,
   "id": "5fa8c976-14ef-4797-925e-89c1a9149b34",
   "metadata": {},
   "outputs": [
    {
     "data": {
      "text/plain": [
       "array([    1,  1729,  4769,  7809, 10257, 13274, 15722, 17642, 19694,\n",
       "       21518, 24558])"
      ]
     },
     "execution_count": 508,
     "metadata": {},
     "output_type": "execute_result"
    }
   ],
   "source": [
    "match2[\"country_id\"].unique()"
   ]
  },
  {
   "cell_type": "code",
   "execution_count": 503,
   "id": "fa369a3c-5931-4983-9060-85e8b3493b12",
   "metadata": {},
   "outputs": [
    {
     "data": {
      "text/plain": [
       "array([    1,  1729,  4769,  7809, 10257, 13274, 15722, 17642, 19694,\n",
       "       21518, 24558])"
      ]
     },
     "execution_count": 503,
     "metadata": {},
     "output_type": "execute_result"
    }
   ],
   "source": [
    "c_l_names2[\"country_id\"].unique()"
   ]
  },
  {
   "cell_type": "code",
   "execution_count": 509,
   "id": "9dedcfc7-3c4c-4184-9443-03dd4a0f200b",
   "metadata": {},
   "outputs": [],
   "source": [
    "# it seems counterintuitive to merge Country with Match, as there could be UEFA or inter-national matches. But Team does not have the country attribute.\n",
    "\n",
    "match3 = match2.merge(c_l_names2, how=\"left\", left_on=\"country_id\", right_on=\"country_id\")"
   ]
  },
  {
   "cell_type": "code",
   "execution_count": 512,
   "id": "b0bd764d-8cf1-46c6-ab68-708860efbb18",
   "metadata": {},
   "outputs": [
    {
     "data": {
      "text/plain": [
       "11"
      ]
     },
     "execution_count": 512,
     "metadata": {},
     "output_type": "execute_result"
    }
   ],
   "source": [
    "len(match3[\"league_name\"].unique())"
   ]
  },
  {
   "cell_type": "code",
   "execution_count": 513,
   "id": "bea69042-7975-4f72-bf0c-647b4cd3d1c6",
   "metadata": {},
   "outputs": [
    {
     "data": {
      "text/plain": [
       "11"
      ]
     },
     "execution_count": 513,
     "metadata": {},
     "output_type": "execute_result"
    }
   ],
   "source": [
    "len(match3[\"country_name\"].unique())"
   ]
  },
  {
   "cell_type": "code",
   "execution_count": null,
   "id": "5b75c25e-0795-431c-b3b0-d8a0193e2201",
   "metadata": {},
   "outputs": [],
   "source": [
    "# done merging country and league with match"
   ]
  },
  {
   "cell_type": "code",
   "execution_count": 491,
   "id": "5141850d-3a6b-40f7-8cb8-92e501cca528",
   "metadata": {},
   "outputs": [],
   "source": [
    "# now merge the team3 with it match\n",
    "## -> problem: two teams per match\n",
    "## -> answer: the final chart has two polarcoords, so let's make one home and one away; therefore, we can just make two dataframes, one home and one away"
   ]
  },
  {
   "cell_type": "code",
   "execution_count": 516,
   "id": "f37addef-1b99-4d35-83e6-83371a73f35d",
   "metadata": {},
   "outputs": [
    {
     "data": {
      "text/plain": [
       "188"
      ]
     },
     "execution_count": 516,
     "metadata": {},
     "output_type": "execute_result"
    }
   ],
   "source": [
    "match4_home = match3.drop_duplicates(subset=\"home_team_api_id\", keep=\"last\")\n",
    "match4_away = match3.drop_duplicates(subset=\"away_team_api_id\", keep=\"last\")\n",
    "\n",
    "len(match4_home)\n",
    "len(match4_away)"
   ]
  },
  {
   "cell_type": "code",
   "execution_count": 517,
   "id": "7adfc27d-50ee-4df0-ac5f-318a2979ba0a",
   "metadata": {},
   "outputs": [],
   "source": [
    "team1415_home = match4_home.merge(team3, how='left', left_on=['home_team_api_id'], right_on=['team_api_id'])"
   ]
  },
  {
   "cell_type": "code",
   "execution_count": 518,
   "id": "8153d16b",
   "metadata": {},
   "outputs": [],
   "source": [
    "team1415_away = match4_away.merge(team3, how='left', left_on=['away_team_api_id'], right_on=['team_api_id'])"
   ]
  },
  {
   "cell_type": "code",
   "execution_count": 519,
   "id": "e720a8df-fb14-4ac3-b341-0207b7035688",
   "metadata": {},
   "outputs": [
    {
     "data": {
      "text/plain": [
       "(188, 188)"
      ]
     },
     "execution_count": 519,
     "metadata": {},
     "output_type": "execute_result"
    }
   ],
   "source": [
    "len(team1415_away), len(team1415_home)"
   ]
  },
  {
   "cell_type": "code",
   "execution_count": 521,
   "id": "80aa8e16-68ff-404c-83de-74f2d0ea7cb0",
   "metadata": {},
   "outputs": [
    {
     "data": {
      "text/plain": [
       "(188, 188)"
      ]
     },
     "execution_count": 521,
     "metadata": {},
     "output_type": "execute_result"
    }
   ],
   "source": [
    "len(team1415_home[\"team_long_name\"].unique()), len(team1415_away[\"team_long_name\"].unique())"
   ]
  },
  {
   "cell_type": "code",
   "execution_count": null,
   "id": "e6846128-a1db-43da-9bce-29c298e3ca80",
   "metadata": {},
   "outputs": [],
   "source": [
    "# check to make sure the home teams and away teams correctly match the team names"
   ]
  },
  {
   "cell_type": "code",
   "execution_count": null,
   "id": "cbf316df-4f98-49c3-a7b0-099fd155638f",
   "metadata": {},
   "outputs": [],
   "source": [
    "# now: simplifym then nans..."
   ]
  },
  {
   "cell_type": "code",
   "execution_count": 374,
   "id": "105fa17b-2da6-434a-979c-9aa65891d52b",
   "metadata": {},
   "outputs": [
    {
     "data": {
      "text/plain": [
       "188"
      ]
     },
     "execution_count": 374,
     "metadata": {},
     "output_type": "execute_result"
    }
   ],
   "source": [
    "len(team1415_home) # 188 teams\n",
    "len(team1415_away) # 188 teams"
   ]
  },
  {
   "cell_type": "code",
   "execution_count": 376,
   "id": "e822302e-6a9c-4011-ae15-1ac480588deb",
   "metadata": {},
   "outputs": [
    {
     "data": {
      "text/plain": [
       "Index(['id', 'country_id', 'league_id', 'season', 'stage', 'date_x',\n",
       "       'match_api_id', 'home_team_api_id', 'away_team_api_id',\n",
       "       'home_team_goal',\n",
       "       ...\n",
       "       'defencePressureClass', 'defenceAggression', 'defenceAggressionClass',\n",
       "       'defenceTeamWidth', 'defenceTeamWidthClass', 'defenceDefenderLineClass',\n",
       "       'id_y', 'team_fifa_api_id_y', 'team_long_name', 'team_short_name'],\n",
       "      dtype='object', length=144)"
      ]
     },
     "execution_count": 376,
     "metadata": {},
     "output_type": "execute_result"
    }
   ],
   "source": [
    "team1415_home[:3].columns"
   ]
  },
  {
   "cell_type": "code",
   "execution_count": 778,
   "id": "2e68b44f-fdbb-4602-93ef-46c66e4ca370",
   "metadata": {},
   "outputs": [],
   "source": [
    "cols_home = [\"home_team_api_id\", \"home_team_goal\", \"away_team_goal\", \"team_long_name\", \"team_short_name\", \"country_name\", \"league_name\", \"country_id\", \"league_id\", \"match_api_id\", \n",
    "             \"buildUpPlaySpeedClass\", \"buildUpPlayDribblingClass\",  \"buildUpPlayPassingClass\",\"buildUpPlayPositioningClass\", \"chanceCreationCrossingClass\", \"chanceCreationShootingClass\", \"chanceCreationPositioningClass\", \"chanceCreationPassingClass\",\"defencePressureClass\",\"defenceAggressionClass\",\"defenceTeamWidthClass\", \n",
    "             \"buildUpPlaySpeed\", \"buildUpPlayDribbling\", \"buildUpPlayPassing\",  \"chanceCreationPassing\",  \"chanceCreationCrossing\", \"chanceCreationShooting\",  \"defencePressure\",  \"defenceAggression\",  \"defenceTeamWidth\",  ]\n",
    "\n",
    "cols_away= [\"away_team_api_id\", \"away_team_goal\", \"home_team_goal\", \"team_long_name\", \"team_short_name\", \"country_name\", \"league_name\", \"country_id\", \"league_id\", \"match_api_id\", \n",
    "             \"buildUpPlaySpeedClass\", \"buildUpPlayDribblingClass\",  \"buildUpPlayPassingClass\",\"buildUpPlayPositioningClass\", \"chanceCreationCrossingClass\", \"chanceCreationShootingClass\", \"chanceCreationPositioningClass\", \"chanceCreationPassingClass\",\"defencePressureClass\",\"defenceAggressionClass\",\"defenceTeamWidthClass\", \n",
    "             \"buildUpPlaySpeed\", \"buildUpPlayDribbling\", \"buildUpPlayPassing\",  \"chanceCreationPassing\",  \"chanceCreationCrossing\", \"chanceCreationShooting\",  \"defencePressure\",  \"defenceAggression\",  \"defenceTeamWidth\",  ]\n"
   ]
  },
  {
   "cell_type": "code",
   "execution_count": 779,
   "id": "06697d5b-b5ca-44ce-a8c0-3e8c5fdc631c",
   "metadata": {},
   "outputs": [],
   "source": [
    "soccer_h = team1415_home[cols_home]\n",
    "soccer_a = team1415_away[cols_away]"
   ]
  },
  {
   "cell_type": "code",
   "execution_count": 780,
   "id": "9b072051-e27e-4ed5-824c-e4394c80467f",
   "metadata": {},
   "outputs": [
    {
     "data": {
      "text/html": [
       "<div>\n",
       "<style scoped>\n",
       "    .dataframe tbody tr th:only-of-type {\n",
       "        vertical-align: middle;\n",
       "    }\n",
       "\n",
       "    .dataframe tbody tr th {\n",
       "        vertical-align: top;\n",
       "    }\n",
       "\n",
       "    .dataframe thead th {\n",
       "        text-align: right;\n",
       "    }\n",
       "</style>\n",
       "<table border=\"1\" class=\"dataframe\">\n",
       "  <thead>\n",
       "    <tr style=\"text-align: right;\">\n",
       "      <th></th>\n",
       "      <th>features</th>\n",
       "      <th>dtypes</th>\n",
       "      <th>nulls</th>\n",
       "      <th>nonnuls / 1.0</th>\n",
       "      <th>uniques</th>\n",
       "    </tr>\n",
       "  </thead>\n",
       "  <tbody>\n",
       "    <tr>\n",
       "      <th>0</th>\n",
       "      <td>away_team_api_id</td>\n",
       "      <td>int64</td>\n",
       "      <td>0</td>\n",
       "      <td>1.000000</td>\n",
       "      <td>188</td>\n",
       "    </tr>\n",
       "    <tr>\n",
       "      <th>1</th>\n",
       "      <td>away_team_goal</td>\n",
       "      <td>int64</td>\n",
       "      <td>0</td>\n",
       "      <td>1.000000</td>\n",
       "      <td>6</td>\n",
       "    </tr>\n",
       "    <tr>\n",
       "      <th>2</th>\n",
       "      <td>home_team_goal</td>\n",
       "      <td>int64</td>\n",
       "      <td>0</td>\n",
       "      <td>1.000000</td>\n",
       "      <td>8</td>\n",
       "    </tr>\n",
       "    <tr>\n",
       "      <th>3</th>\n",
       "      <td>team_long_name</td>\n",
       "      <td>object</td>\n",
       "      <td>0</td>\n",
       "      <td>1.000000</td>\n",
       "      <td>188</td>\n",
       "    </tr>\n",
       "    <tr>\n",
       "      <th>4</th>\n",
       "      <td>team_short_name</td>\n",
       "      <td>object</td>\n",
       "      <td>0</td>\n",
       "      <td>1.000000</td>\n",
       "      <td>173</td>\n",
       "    </tr>\n",
       "    <tr>\n",
       "      <th>5</th>\n",
       "      <td>country_name</td>\n",
       "      <td>object</td>\n",
       "      <td>0</td>\n",
       "      <td>1.000000</td>\n",
       "      <td>11</td>\n",
       "    </tr>\n",
       "    <tr>\n",
       "      <th>6</th>\n",
       "      <td>league_name</td>\n",
       "      <td>object</td>\n",
       "      <td>0</td>\n",
       "      <td>1.000000</td>\n",
       "      <td>11</td>\n",
       "    </tr>\n",
       "    <tr>\n",
       "      <th>7</th>\n",
       "      <td>country_id</td>\n",
       "      <td>int64</td>\n",
       "      <td>0</td>\n",
       "      <td>1.000000</td>\n",
       "      <td>11</td>\n",
       "    </tr>\n",
       "    <tr>\n",
       "      <th>8</th>\n",
       "      <td>league_id</td>\n",
       "      <td>int64</td>\n",
       "      <td>0</td>\n",
       "      <td>1.000000</td>\n",
       "      <td>11</td>\n",
       "    </tr>\n",
       "    <tr>\n",
       "      <th>9</th>\n",
       "      <td>match_api_id</td>\n",
       "      <td>int64</td>\n",
       "      <td>0</td>\n",
       "      <td>1.000000</td>\n",
       "      <td>188</td>\n",
       "    </tr>\n",
       "    <tr>\n",
       "      <th>10</th>\n",
       "      <td>buildUpPlaySpeedClass</td>\n",
       "      <td>object</td>\n",
       "      <td>0</td>\n",
       "      <td>1.000000</td>\n",
       "      <td>3</td>\n",
       "    </tr>\n",
       "    <tr>\n",
       "      <th>11</th>\n",
       "      <td>buildUpPlayDribblingClass</td>\n",
       "      <td>object</td>\n",
       "      <td>0</td>\n",
       "      <td>1.000000</td>\n",
       "      <td>3</td>\n",
       "    </tr>\n",
       "    <tr>\n",
       "      <th>12</th>\n",
       "      <td>buildUpPlayPassingClass</td>\n",
       "      <td>object</td>\n",
       "      <td>0</td>\n",
       "      <td>1.000000</td>\n",
       "      <td>3</td>\n",
       "    </tr>\n",
       "    <tr>\n",
       "      <th>13</th>\n",
       "      <td>buildUpPlayPositioningClass</td>\n",
       "      <td>object</td>\n",
       "      <td>0</td>\n",
       "      <td>1.000000</td>\n",
       "      <td>2</td>\n",
       "    </tr>\n",
       "    <tr>\n",
       "      <th>14</th>\n",
       "      <td>chanceCreationCrossingClass</td>\n",
       "      <td>object</td>\n",
       "      <td>0</td>\n",
       "      <td>1.000000</td>\n",
       "      <td>3</td>\n",
       "    </tr>\n",
       "    <tr>\n",
       "      <th>15</th>\n",
       "      <td>chanceCreationShootingClass</td>\n",
       "      <td>object</td>\n",
       "      <td>0</td>\n",
       "      <td>1.000000</td>\n",
       "      <td>3</td>\n",
       "    </tr>\n",
       "    <tr>\n",
       "      <th>16</th>\n",
       "      <td>chanceCreationPositioningClass</td>\n",
       "      <td>object</td>\n",
       "      <td>0</td>\n",
       "      <td>1.000000</td>\n",
       "      <td>2</td>\n",
       "    </tr>\n",
       "    <tr>\n",
       "      <th>17</th>\n",
       "      <td>chanceCreationPassingClass</td>\n",
       "      <td>object</td>\n",
       "      <td>0</td>\n",
       "      <td>1.000000</td>\n",
       "      <td>3</td>\n",
       "    </tr>\n",
       "    <tr>\n",
       "      <th>18</th>\n",
       "      <td>defencePressureClass</td>\n",
       "      <td>object</td>\n",
       "      <td>0</td>\n",
       "      <td>1.000000</td>\n",
       "      <td>3</td>\n",
       "    </tr>\n",
       "    <tr>\n",
       "      <th>19</th>\n",
       "      <td>defenceAggressionClass</td>\n",
       "      <td>object</td>\n",
       "      <td>0</td>\n",
       "      <td>1.000000</td>\n",
       "      <td>3</td>\n",
       "    </tr>\n",
       "    <tr>\n",
       "      <th>20</th>\n",
       "      <td>defenceTeamWidthClass</td>\n",
       "      <td>object</td>\n",
       "      <td>0</td>\n",
       "      <td>1.000000</td>\n",
       "      <td>3</td>\n",
       "    </tr>\n",
       "    <tr>\n",
       "      <th>21</th>\n",
       "      <td>buildUpPlaySpeed</td>\n",
       "      <td>int64</td>\n",
       "      <td>0</td>\n",
       "      <td>1.000000</td>\n",
       "      <td>43</td>\n",
       "    </tr>\n",
       "    <tr>\n",
       "      <th>22</th>\n",
       "      <td>buildUpPlayDribbling</td>\n",
       "      <td>float64</td>\n",
       "      <td>1</td>\n",
       "      <td>0.994681</td>\n",
       "      <td>42</td>\n",
       "    </tr>\n",
       "    <tr>\n",
       "      <th>23</th>\n",
       "      <td>buildUpPlayPassing</td>\n",
       "      <td>int64</td>\n",
       "      <td>0</td>\n",
       "      <td>1.000000</td>\n",
       "      <td>42</td>\n",
       "    </tr>\n",
       "    <tr>\n",
       "      <th>24</th>\n",
       "      <td>chanceCreationPassing</td>\n",
       "      <td>int64</td>\n",
       "      <td>0</td>\n",
       "      <td>1.000000</td>\n",
       "      <td>42</td>\n",
       "    </tr>\n",
       "    <tr>\n",
       "      <th>25</th>\n",
       "      <td>chanceCreationCrossing</td>\n",
       "      <td>int64</td>\n",
       "      <td>0</td>\n",
       "      <td>1.000000</td>\n",
       "      <td>41</td>\n",
       "    </tr>\n",
       "    <tr>\n",
       "      <th>26</th>\n",
       "      <td>chanceCreationShooting</td>\n",
       "      <td>int64</td>\n",
       "      <td>0</td>\n",
       "      <td>1.000000</td>\n",
       "      <td>48</td>\n",
       "    </tr>\n",
       "    <tr>\n",
       "      <th>27</th>\n",
       "      <td>defencePressure</td>\n",
       "      <td>int64</td>\n",
       "      <td>0</td>\n",
       "      <td>1.000000</td>\n",
       "      <td>41</td>\n",
       "    </tr>\n",
       "    <tr>\n",
       "      <th>28</th>\n",
       "      <td>defenceAggression</td>\n",
       "      <td>int64</td>\n",
       "      <td>0</td>\n",
       "      <td>1.000000</td>\n",
       "      <td>37</td>\n",
       "    </tr>\n",
       "    <tr>\n",
       "      <th>29</th>\n",
       "      <td>defenceTeamWidth</td>\n",
       "      <td>int64</td>\n",
       "      <td>0</td>\n",
       "      <td>1.000000</td>\n",
       "      <td>36</td>\n",
       "    </tr>\n",
       "  </tbody>\n",
       "</table>\n",
       "</div>"
      ],
      "text/plain": [
       "                          features   dtypes  nulls  nonnuls / 1.0  uniques\n",
       "0                 away_team_api_id    int64      0       1.000000      188\n",
       "1                   away_team_goal    int64      0       1.000000        6\n",
       "2                   home_team_goal    int64      0       1.000000        8\n",
       "3                   team_long_name   object      0       1.000000      188\n",
       "4                  team_short_name   object      0       1.000000      173\n",
       "5                     country_name   object      0       1.000000       11\n",
       "6                      league_name   object      0       1.000000       11\n",
       "7                       country_id    int64      0       1.000000       11\n",
       "8                        league_id    int64      0       1.000000       11\n",
       "9                     match_api_id    int64      0       1.000000      188\n",
       "10           buildUpPlaySpeedClass   object      0       1.000000        3\n",
       "11       buildUpPlayDribblingClass   object      0       1.000000        3\n",
       "12         buildUpPlayPassingClass   object      0       1.000000        3\n",
       "13     buildUpPlayPositioningClass   object      0       1.000000        2\n",
       "14     chanceCreationCrossingClass   object      0       1.000000        3\n",
       "15     chanceCreationShootingClass   object      0       1.000000        3\n",
       "16  chanceCreationPositioningClass   object      0       1.000000        2\n",
       "17      chanceCreationPassingClass   object      0       1.000000        3\n",
       "18            defencePressureClass   object      0       1.000000        3\n",
       "19          defenceAggressionClass   object      0       1.000000        3\n",
       "20           defenceTeamWidthClass   object      0       1.000000        3\n",
       "21                buildUpPlaySpeed    int64      0       1.000000       43\n",
       "22            buildUpPlayDribbling  float64      1       0.994681       42\n",
       "23              buildUpPlayPassing    int64      0       1.000000       42\n",
       "24           chanceCreationPassing    int64      0       1.000000       42\n",
       "25          chanceCreationCrossing    int64      0       1.000000       41\n",
       "26          chanceCreationShooting    int64      0       1.000000       48\n",
       "27                 defencePressure    int64      0       1.000000       41\n",
       "28               defenceAggression    int64      0       1.000000       37\n",
       "29                defenceTeamWidth    int64      0       1.000000       36"
      ]
     },
     "execution_count": 780,
     "metadata": {},
     "output_type": "execute_result"
    }
   ],
   "source": [
    "# simplifed in \"chanceCreationCrossing\" columns\n",
    "# nan present\n",
    "summary_dataframe_small(soccer_a)"
   ]
  },
  {
   "cell_type": "code",
   "execution_count": 781,
   "id": "fa0d9ae9-6cb6-4520-b08e-82ecec9ba0f0",
   "metadata": {},
   "outputs": [],
   "source": [
    "# how to fill this nan?\n",
    "# 1. mean of multiple columns\n",
    "    # 1. mean of the same team?\n",
    "    # 2. mean of teams with similar stats?\n",
    "        # same league, same class for similar columns, same bucket for similar columns"
   ]
  },
  {
   "cell_type": "code",
   "execution_count": 782,
   "id": "383b82dc-b8cf-47cf-9ae3-a116f9cfb5dc",
   "metadata": {},
   "outputs": [
    {
     "data": {
      "text/html": [
       "<div>\n",
       "<style scoped>\n",
       "    .dataframe tbody tr th:only-of-type {\n",
       "        vertical-align: middle;\n",
       "    }\n",
       "\n",
       "    .dataframe tbody tr th {\n",
       "        vertical-align: top;\n",
       "    }\n",
       "\n",
       "    .dataframe thead th {\n",
       "        text-align: right;\n",
       "    }\n",
       "</style>\n",
       "<table border=\"1\" class=\"dataframe\">\n",
       "  <thead>\n",
       "    <tr style=\"text-align: right;\">\n",
       "      <th></th>\n",
       "      <th>away_team_api_id</th>\n",
       "      <th>away_team_goal</th>\n",
       "      <th>home_team_goal</th>\n",
       "      <th>team_long_name</th>\n",
       "      <th>team_short_name</th>\n",
       "      <th>country_name</th>\n",
       "      <th>league_name</th>\n",
       "      <th>country_id</th>\n",
       "      <th>league_id</th>\n",
       "      <th>match_api_id</th>\n",
       "      <th>buildUpPlaySpeedClass</th>\n",
       "      <th>buildUpPlayDribblingClass</th>\n",
       "      <th>buildUpPlayPassingClass</th>\n",
       "      <th>buildUpPlayPositioningClass</th>\n",
       "      <th>chanceCreationCrossingClass</th>\n",
       "      <th>chanceCreationShootingClass</th>\n",
       "      <th>chanceCreationPositioningClass</th>\n",
       "      <th>chanceCreationPassingClass</th>\n",
       "      <th>defencePressureClass</th>\n",
       "      <th>defenceAggressionClass</th>\n",
       "      <th>defenceTeamWidthClass</th>\n",
       "      <th>buildUpPlaySpeed</th>\n",
       "      <th>buildUpPlayDribbling</th>\n",
       "      <th>buildUpPlayPassing</th>\n",
       "      <th>chanceCreationPassing</th>\n",
       "      <th>chanceCreationCrossing</th>\n",
       "      <th>chanceCreationShooting</th>\n",
       "      <th>defencePressure</th>\n",
       "      <th>defenceAggression</th>\n",
       "      <th>defenceTeamWidth</th>\n",
       "    </tr>\n",
       "  </thead>\n",
       "  <tbody>\n",
       "    <tr>\n",
       "      <th>126</th>\n",
       "      <td>8020</td>\n",
       "      <td>3</td>\n",
       "      <td>0</td>\n",
       "      <td>Polonia Bytom</td>\n",
       "      <td>GOR</td>\n",
       "      <td>Poland</td>\n",
       "      <td>Poland Ekstraklasa</td>\n",
       "      <td>15722</td>\n",
       "      <td>15722</td>\n",
       "      <td>1722162</td>\n",
       "      <td>Balanced</td>\n",
       "      <td>Little</td>\n",
       "      <td>Mixed</td>\n",
       "      <td>Organised</td>\n",
       "      <td>Little</td>\n",
       "      <td>Normal</td>\n",
       "      <td>Organised</td>\n",
       "      <td>Normal</td>\n",
       "      <td>Medium</td>\n",
       "      <td>Press</td>\n",
       "      <td>Normal</td>\n",
       "      <td>46</td>\n",
       "      <td>NaN</td>\n",
       "      <td>38</td>\n",
       "      <td>36</td>\n",
       "      <td>33</td>\n",
       "      <td>53</td>\n",
       "      <td>53</td>\n",
       "      <td>54</td>\n",
       "      <td>55</td>\n",
       "    </tr>\n",
       "  </tbody>\n",
       "</table>\n",
       "</div>"
      ],
      "text/plain": [
       "     away_team_api_id  away_team_goal  home_team_goal team_long_name  \\\n",
       "126              8020               3               0  Polonia Bytom   \n",
       "\n",
       "    team_short_name country_name         league_name  country_id  league_id  \\\n",
       "126             GOR       Poland  Poland Ekstraklasa       15722      15722   \n",
       "\n",
       "     match_api_id buildUpPlaySpeedClass buildUpPlayDribblingClass  \\\n",
       "126       1722162              Balanced                    Little   \n",
       "\n",
       "    buildUpPlayPassingClass buildUpPlayPositioningClass  \\\n",
       "126                   Mixed                   Organised   \n",
       "\n",
       "    chanceCreationCrossingClass chanceCreationShootingClass  \\\n",
       "126                      Little                      Normal   \n",
       "\n",
       "    chanceCreationPositioningClass chanceCreationPassingClass  \\\n",
       "126                      Organised                     Normal   \n",
       "\n",
       "    defencePressureClass defenceAggressionClass defenceTeamWidthClass  \\\n",
       "126               Medium                  Press                Normal   \n",
       "\n",
       "     buildUpPlaySpeed  buildUpPlayDribbling  buildUpPlayPassing  \\\n",
       "126                46                   NaN                  38   \n",
       "\n",
       "     chanceCreationPassing  chanceCreationCrossing  chanceCreationShooting  \\\n",
       "126                     36                      33                      53   \n",
       "\n",
       "     defencePressure  defenceAggression  defenceTeamWidth  \n",
       "126               53                 54                55  "
      ]
     },
     "execution_count": 782,
     "metadata": {},
     "output_type": "execute_result"
    }
   ],
   "source": [
    "mask_nan1 = ( soccer_a[\"buildUpPlayDribbling\"].isnull() )\n",
    "soccer_a[mask_nan1]"
   ]
  },
  {
   "cell_type": "code",
   "execution_count": 783,
   "id": "fd9909ce-b0e4-4c8a-a1da-85dce10734d7",
   "metadata": {},
   "outputs": [
    {
     "data": {
      "text/html": [
       "<div>\n",
       "<style scoped>\n",
       "    .dataframe tbody tr th:only-of-type {\n",
       "        vertical-align: middle;\n",
       "    }\n",
       "\n",
       "    .dataframe tbody tr th {\n",
       "        vertical-align: top;\n",
       "    }\n",
       "\n",
       "    .dataframe thead th {\n",
       "        text-align: right;\n",
       "    }\n",
       "</style>\n",
       "<table border=\"1\" class=\"dataframe\">\n",
       "  <thead>\n",
       "    <tr style=\"text-align: right;\">\n",
       "      <th></th>\n",
       "      <th>away_team_api_id</th>\n",
       "      <th>away_team_goal</th>\n",
       "      <th>home_team_goal</th>\n",
       "      <th>team_long_name</th>\n",
       "      <th>team_short_name</th>\n",
       "      <th>country_name</th>\n",
       "      <th>league_name</th>\n",
       "      <th>country_id</th>\n",
       "      <th>league_id</th>\n",
       "      <th>match_api_id</th>\n",
       "      <th>buildUpPlaySpeedClass</th>\n",
       "      <th>buildUpPlayDribblingClass</th>\n",
       "      <th>buildUpPlayPassingClass</th>\n",
       "      <th>buildUpPlayPositioningClass</th>\n",
       "      <th>chanceCreationCrossingClass</th>\n",
       "      <th>chanceCreationShootingClass</th>\n",
       "      <th>chanceCreationPositioningClass</th>\n",
       "      <th>chanceCreationPassingClass</th>\n",
       "      <th>defencePressureClass</th>\n",
       "      <th>defenceAggressionClass</th>\n",
       "      <th>defenceTeamWidthClass</th>\n",
       "      <th>buildUpPlaySpeed</th>\n",
       "      <th>buildUpPlayDribbling</th>\n",
       "      <th>buildUpPlayPassing</th>\n",
       "      <th>chanceCreationPassing</th>\n",
       "      <th>chanceCreationCrossing</th>\n",
       "      <th>chanceCreationShooting</th>\n",
       "      <th>defencePressure</th>\n",
       "      <th>defenceAggression</th>\n",
       "      <th>defenceTeamWidth</th>\n",
       "    </tr>\n",
       "  </thead>\n",
       "  <tbody>\n",
       "    <tr>\n",
       "      <th>126</th>\n",
       "      <td>8020</td>\n",
       "      <td>3</td>\n",
       "      <td>0</td>\n",
       "      <td>Polonia Bytom</td>\n",
       "      <td>GOR</td>\n",
       "      <td>Poland</td>\n",
       "      <td>Poland Ekstraklasa</td>\n",
       "      <td>15722</td>\n",
       "      <td>15722</td>\n",
       "      <td>1722162</td>\n",
       "      <td>Balanced</td>\n",
       "      <td>Little</td>\n",
       "      <td>Mixed</td>\n",
       "      <td>Organised</td>\n",
       "      <td>Little</td>\n",
       "      <td>Normal</td>\n",
       "      <td>Organised</td>\n",
       "      <td>Normal</td>\n",
       "      <td>Medium</td>\n",
       "      <td>Press</td>\n",
       "      <td>Normal</td>\n",
       "      <td>46</td>\n",
       "      <td>NaN</td>\n",
       "      <td>38</td>\n",
       "      <td>36</td>\n",
       "      <td>33</td>\n",
       "      <td>53</td>\n",
       "      <td>53</td>\n",
       "      <td>54</td>\n",
       "      <td>55</td>\n",
       "    </tr>\n",
       "  </tbody>\n",
       "</table>\n",
       "</div>"
      ],
      "text/plain": [
       "     away_team_api_id  away_team_goal  home_team_goal team_long_name  \\\n",
       "126              8020               3               0  Polonia Bytom   \n",
       "\n",
       "    team_short_name country_name         league_name  country_id  league_id  \\\n",
       "126             GOR       Poland  Poland Ekstraklasa       15722      15722   \n",
       "\n",
       "     match_api_id buildUpPlaySpeedClass buildUpPlayDribblingClass  \\\n",
       "126       1722162              Balanced                    Little   \n",
       "\n",
       "    buildUpPlayPassingClass buildUpPlayPositioningClass  \\\n",
       "126                   Mixed                   Organised   \n",
       "\n",
       "    chanceCreationCrossingClass chanceCreationShootingClass  \\\n",
       "126                      Little                      Normal   \n",
       "\n",
       "    chanceCreationPositioningClass chanceCreationPassingClass  \\\n",
       "126                      Organised                     Normal   \n",
       "\n",
       "    defencePressureClass defenceAggressionClass defenceTeamWidthClass  \\\n",
       "126               Medium                  Press                Normal   \n",
       "\n",
       "     buildUpPlaySpeed  buildUpPlayDribbling  buildUpPlayPassing  \\\n",
       "126                46                   NaN                  38   \n",
       "\n",
       "     chanceCreationPassing  chanceCreationCrossing  chanceCreationShooting  \\\n",
       "126                     36                      33                      53   \n",
       "\n",
       "     defencePressure  defenceAggression  defenceTeamWidth  \n",
       "126               53                 54                55  "
      ]
     },
     "execution_count": 783,
     "metadata": {},
     "output_type": "execute_result"
    }
   ],
   "source": [
    "mask_nan2 = ( soccer_a[\"away_team_api_id\"]==8020 )\n",
    "soccer_a[mask_nan2]"
   ]
  },
  {
   "cell_type": "code",
   "execution_count": 784,
   "id": "9ff4233d-e021-4cf5-aac7-f15027c21117",
   "metadata": {},
   "outputs": [
    {
     "data": {
      "text/html": [
       "<div>\n",
       "<style scoped>\n",
       "    .dataframe tbody tr th:only-of-type {\n",
       "        vertical-align: middle;\n",
       "    }\n",
       "\n",
       "    .dataframe tbody tr th {\n",
       "        vertical-align: top;\n",
       "    }\n",
       "\n",
       "    .dataframe thead th {\n",
       "        text-align: right;\n",
       "    }\n",
       "</style>\n",
       "<table border=\"1\" class=\"dataframe\">\n",
       "  <thead>\n",
       "    <tr style=\"text-align: right;\">\n",
       "      <th></th>\n",
       "      <th>home_team_api_id</th>\n",
       "      <th>home_team_goal</th>\n",
       "      <th>away_team_goal</th>\n",
       "      <th>team_long_name</th>\n",
       "      <th>team_short_name</th>\n",
       "      <th>country_name</th>\n",
       "      <th>league_name</th>\n",
       "      <th>country_id</th>\n",
       "      <th>league_id</th>\n",
       "      <th>match_api_id</th>\n",
       "      <th>buildUpPlaySpeedClass</th>\n",
       "      <th>buildUpPlayDribblingClass</th>\n",
       "      <th>buildUpPlayPassingClass</th>\n",
       "      <th>buildUpPlayPositioningClass</th>\n",
       "      <th>chanceCreationCrossingClass</th>\n",
       "      <th>chanceCreationShootingClass</th>\n",
       "      <th>chanceCreationPositioningClass</th>\n",
       "      <th>chanceCreationPassingClass</th>\n",
       "      <th>defencePressureClass</th>\n",
       "      <th>defenceAggressionClass</th>\n",
       "      <th>defenceTeamWidthClass</th>\n",
       "      <th>buildUpPlaySpeed</th>\n",
       "      <th>buildUpPlayDribbling</th>\n",
       "      <th>buildUpPlayPassing</th>\n",
       "      <th>chanceCreationPassing</th>\n",
       "      <th>chanceCreationCrossing</th>\n",
       "      <th>chanceCreationShooting</th>\n",
       "      <th>defencePressure</th>\n",
       "      <th>defenceAggression</th>\n",
       "      <th>defenceTeamWidth</th>\n",
       "    </tr>\n",
       "  </thead>\n",
       "  <tbody>\n",
       "    <tr>\n",
       "      <th>117</th>\n",
       "      <td>8020</td>\n",
       "      <td>1</td>\n",
       "      <td>2</td>\n",
       "      <td>Polonia Bytom</td>\n",
       "      <td>GOR</td>\n",
       "      <td>Poland</td>\n",
       "      <td>Poland Ekstraklasa</td>\n",
       "      <td>15722</td>\n",
       "      <td>15722</td>\n",
       "      <td>1722153</td>\n",
       "      <td>Balanced</td>\n",
       "      <td>Little</td>\n",
       "      <td>Mixed</td>\n",
       "      <td>Organised</td>\n",
       "      <td>Little</td>\n",
       "      <td>Normal</td>\n",
       "      <td>Organised</td>\n",
       "      <td>Normal</td>\n",
       "      <td>Medium</td>\n",
       "      <td>Press</td>\n",
       "      <td>Normal</td>\n",
       "      <td>46</td>\n",
       "      <td>NaN</td>\n",
       "      <td>38</td>\n",
       "      <td>36</td>\n",
       "      <td>33</td>\n",
       "      <td>53</td>\n",
       "      <td>53</td>\n",
       "      <td>54</td>\n",
       "      <td>55</td>\n",
       "    </tr>\n",
       "  </tbody>\n",
       "</table>\n",
       "</div>"
      ],
      "text/plain": [
       "     home_team_api_id  home_team_goal  away_team_goal team_long_name  \\\n",
       "117              8020               1               2  Polonia Bytom   \n",
       "\n",
       "    team_short_name country_name         league_name  country_id  league_id  \\\n",
       "117             GOR       Poland  Poland Ekstraklasa       15722      15722   \n",
       "\n",
       "     match_api_id buildUpPlaySpeedClass buildUpPlayDribblingClass  \\\n",
       "117       1722153              Balanced                    Little   \n",
       "\n",
       "    buildUpPlayPassingClass buildUpPlayPositioningClass  \\\n",
       "117                   Mixed                   Organised   \n",
       "\n",
       "    chanceCreationCrossingClass chanceCreationShootingClass  \\\n",
       "117                      Little                      Normal   \n",
       "\n",
       "    chanceCreationPositioningClass chanceCreationPassingClass  \\\n",
       "117                      Organised                     Normal   \n",
       "\n",
       "    defencePressureClass defenceAggressionClass defenceTeamWidthClass  \\\n",
       "117               Medium                  Press                Normal   \n",
       "\n",
       "     buildUpPlaySpeed  buildUpPlayDribbling  buildUpPlayPassing  \\\n",
       "117                46                   NaN                  38   \n",
       "\n",
       "     chanceCreationPassing  chanceCreationCrossing  chanceCreationShooting  \\\n",
       "117                     36                      33                      53   \n",
       "\n",
       "     defencePressure  defenceAggression  defenceTeamWidth  \n",
       "117               53                 54                55  "
      ]
     },
     "execution_count": 784,
     "metadata": {},
     "output_type": "execute_result"
    }
   ],
   "source": [
    "mask_nan1 = ( soccer_h[\"buildUpPlayDribbling\"].isnull() )\n",
    "soccer_h[mask_nan1]"
   ]
  },
  {
   "cell_type": "code",
   "execution_count": 785,
   "id": "254c34fc-14e9-4e2d-863d-b8b32e3d5291",
   "metadata": {},
   "outputs": [
    {
     "data": {
      "text/html": [
       "<div>\n",
       "<style scoped>\n",
       "    .dataframe tbody tr th:only-of-type {\n",
       "        vertical-align: middle;\n",
       "    }\n",
       "\n",
       "    .dataframe tbody tr th {\n",
       "        vertical-align: top;\n",
       "    }\n",
       "\n",
       "    .dataframe thead th {\n",
       "        text-align: right;\n",
       "    }\n",
       "</style>\n",
       "<table border=\"1\" class=\"dataframe\">\n",
       "  <thead>\n",
       "    <tr style=\"text-align: right;\">\n",
       "      <th></th>\n",
       "      <th>home_team_api_id</th>\n",
       "      <th>home_team_goal</th>\n",
       "      <th>away_team_goal</th>\n",
       "      <th>team_long_name</th>\n",
       "      <th>team_short_name</th>\n",
       "      <th>country_name</th>\n",
       "      <th>league_name</th>\n",
       "      <th>country_id</th>\n",
       "      <th>league_id</th>\n",
       "      <th>match_api_id</th>\n",
       "      <th>buildUpPlaySpeedClass</th>\n",
       "      <th>buildUpPlayDribblingClass</th>\n",
       "      <th>buildUpPlayPassingClass</th>\n",
       "      <th>buildUpPlayPositioningClass</th>\n",
       "      <th>chanceCreationCrossingClass</th>\n",
       "      <th>chanceCreationShootingClass</th>\n",
       "      <th>chanceCreationPositioningClass</th>\n",
       "      <th>chanceCreationPassingClass</th>\n",
       "      <th>defencePressureClass</th>\n",
       "      <th>defenceAggressionClass</th>\n",
       "      <th>defenceTeamWidthClass</th>\n",
       "      <th>buildUpPlaySpeed</th>\n",
       "      <th>buildUpPlayDribbling</th>\n",
       "      <th>buildUpPlayPassing</th>\n",
       "      <th>chanceCreationPassing</th>\n",
       "      <th>chanceCreationCrossing</th>\n",
       "      <th>chanceCreationShooting</th>\n",
       "      <th>defencePressure</th>\n",
       "      <th>defenceAggression</th>\n",
       "      <th>defenceTeamWidth</th>\n",
       "    </tr>\n",
       "  </thead>\n",
       "  <tbody>\n",
       "    <tr>\n",
       "      <th>117</th>\n",
       "      <td>8020</td>\n",
       "      <td>1</td>\n",
       "      <td>2</td>\n",
       "      <td>Polonia Bytom</td>\n",
       "      <td>GOR</td>\n",
       "      <td>Poland</td>\n",
       "      <td>Poland Ekstraklasa</td>\n",
       "      <td>15722</td>\n",
       "      <td>15722</td>\n",
       "      <td>1722153</td>\n",
       "      <td>Balanced</td>\n",
       "      <td>Little</td>\n",
       "      <td>Mixed</td>\n",
       "      <td>Organised</td>\n",
       "      <td>Little</td>\n",
       "      <td>Normal</td>\n",
       "      <td>Organised</td>\n",
       "      <td>Normal</td>\n",
       "      <td>Medium</td>\n",
       "      <td>Press</td>\n",
       "      <td>Normal</td>\n",
       "      <td>46</td>\n",
       "      <td>NaN</td>\n",
       "      <td>38</td>\n",
       "      <td>36</td>\n",
       "      <td>33</td>\n",
       "      <td>53</td>\n",
       "      <td>53</td>\n",
       "      <td>54</td>\n",
       "      <td>55</td>\n",
       "    </tr>\n",
       "  </tbody>\n",
       "</table>\n",
       "</div>"
      ],
      "text/plain": [
       "     home_team_api_id  home_team_goal  away_team_goal team_long_name  \\\n",
       "117              8020               1               2  Polonia Bytom   \n",
       "\n",
       "    team_short_name country_name         league_name  country_id  league_id  \\\n",
       "117             GOR       Poland  Poland Ekstraklasa       15722      15722   \n",
       "\n",
       "     match_api_id buildUpPlaySpeedClass buildUpPlayDribblingClass  \\\n",
       "117       1722153              Balanced                    Little   \n",
       "\n",
       "    buildUpPlayPassingClass buildUpPlayPositioningClass  \\\n",
       "117                   Mixed                   Organised   \n",
       "\n",
       "    chanceCreationCrossingClass chanceCreationShootingClass  \\\n",
       "117                      Little                      Normal   \n",
       "\n",
       "    chanceCreationPositioningClass chanceCreationPassingClass  \\\n",
       "117                      Organised                     Normal   \n",
       "\n",
       "    defencePressureClass defenceAggressionClass defenceTeamWidthClass  \\\n",
       "117               Medium                  Press                Normal   \n",
       "\n",
       "     buildUpPlaySpeed  buildUpPlayDribbling  buildUpPlayPassing  \\\n",
       "117                46                   NaN                  38   \n",
       "\n",
       "     chanceCreationPassing  chanceCreationCrossing  chanceCreationShooting  \\\n",
       "117                     36                      33                      53   \n",
       "\n",
       "     defencePressure  defenceAggression  defenceTeamWidth  \n",
       "117               53                 54                55  "
      ]
     },
     "execution_count": 785,
     "metadata": {},
     "output_type": "execute_result"
    }
   ],
   "source": [
    "mask_nan2 = ( soccer_h[\"home_team_api_id\"]==8020 )\n",
    "soccer_h[mask_nan2]"
   ]
  },
  {
   "cell_type": "code",
   "execution_count": 786,
   "id": "98e4cf8f-6eb3-45ae-8ac9-ca4078ac4ecc",
   "metadata": {},
   "outputs": [
    {
     "data": {
      "text/html": [
       "<div>\n",
       "<style scoped>\n",
       "    .dataframe tbody tr th:only-of-type {\n",
       "        vertical-align: middle;\n",
       "    }\n",
       "\n",
       "    .dataframe tbody tr th {\n",
       "        vertical-align: top;\n",
       "    }\n",
       "\n",
       "    .dataframe thead th {\n",
       "        text-align: right;\n",
       "    }\n",
       "</style>\n",
       "<table border=\"1\" class=\"dataframe\">\n",
       "  <thead>\n",
       "    <tr style=\"text-align: right;\">\n",
       "      <th></th>\n",
       "      <th>id_x</th>\n",
       "      <th>team_fifa_api_id_x</th>\n",
       "      <th>team_api_id</th>\n",
       "      <th>date</th>\n",
       "      <th>buildUpPlaySpeed</th>\n",
       "      <th>buildUpPlaySpeedClass</th>\n",
       "      <th>buildUpPlayDribbling</th>\n",
       "      <th>buildUpPlayDribblingClass</th>\n",
       "      <th>buildUpPlayPassing</th>\n",
       "      <th>buildUpPlayPassingClass</th>\n",
       "      <th>buildUpPlayPositioningClass</th>\n",
       "      <th>chanceCreationPassing</th>\n",
       "      <th>chanceCreationPassingClass</th>\n",
       "      <th>chanceCreationCrossing</th>\n",
       "      <th>chanceCreationCrossingClass</th>\n",
       "      <th>chanceCreationShooting</th>\n",
       "      <th>chanceCreationShootingClass</th>\n",
       "      <th>chanceCreationPositioningClass</th>\n",
       "      <th>defencePressure</th>\n",
       "      <th>defencePressureClass</th>\n",
       "      <th>defenceAggression</th>\n",
       "      <th>defenceAggressionClass</th>\n",
       "      <th>defenceTeamWidth</th>\n",
       "      <th>defenceTeamWidthClass</th>\n",
       "      <th>defenceDefenderLineClass</th>\n",
       "      <th>id_y</th>\n",
       "      <th>team_fifa_api_id_y</th>\n",
       "      <th>team_long_name</th>\n",
       "      <th>team_short_name</th>\n",
       "    </tr>\n",
       "  </thead>\n",
       "  <tbody>\n",
       "    <tr>\n",
       "      <th>522</th>\n",
       "      <td>523</td>\n",
       "      <td>111429</td>\n",
       "      <td>8020</td>\n",
       "      <td>2010-02-22 00:00:00</td>\n",
       "      <td>30</td>\n",
       "      <td>Slow</td>\n",
       "      <td>NaN</td>\n",
       "      <td>Little</td>\n",
       "      <td>50</td>\n",
       "      <td>Mixed</td>\n",
       "      <td>Organised</td>\n",
       "      <td>45</td>\n",
       "      <td>Normal</td>\n",
       "      <td>35</td>\n",
       "      <td>Normal</td>\n",
       "      <td>70</td>\n",
       "      <td>Lots</td>\n",
       "      <td>Organised</td>\n",
       "      <td>60</td>\n",
       "      <td>Medium</td>\n",
       "      <td>70</td>\n",
       "      <td>Double</td>\n",
       "      <td>55</td>\n",
       "      <td>Normal</td>\n",
       "      <td>Cover</td>\n",
       "      <td>31445</td>\n",
       "      <td>111429.0</td>\n",
       "      <td>Polonia Bytom</td>\n",
       "      <td>GOR</td>\n",
       "    </tr>\n",
       "    <tr>\n",
       "      <th>523</th>\n",
       "      <td>524</td>\n",
       "      <td>111429</td>\n",
       "      <td>8020</td>\n",
       "      <td>2011-02-22 00:00:00</td>\n",
       "      <td>46</td>\n",
       "      <td>Balanced</td>\n",
       "      <td>NaN</td>\n",
       "      <td>Little</td>\n",
       "      <td>38</td>\n",
       "      <td>Mixed</td>\n",
       "      <td>Organised</td>\n",
       "      <td>36</td>\n",
       "      <td>Normal</td>\n",
       "      <td>33</td>\n",
       "      <td>Little</td>\n",
       "      <td>53</td>\n",
       "      <td>Normal</td>\n",
       "      <td>Organised</td>\n",
       "      <td>53</td>\n",
       "      <td>Medium</td>\n",
       "      <td>54</td>\n",
       "      <td>Press</td>\n",
       "      <td>55</td>\n",
       "      <td>Normal</td>\n",
       "      <td>Cover</td>\n",
       "      <td>31445</td>\n",
       "      <td>111429.0</td>\n",
       "      <td>Polonia Bytom</td>\n",
       "      <td>GOR</td>\n",
       "    </tr>\n",
       "  </tbody>\n",
       "</table>\n",
       "</div>"
      ],
      "text/plain": [
       "     id_x  team_fifa_api_id_x  team_api_id                 date  \\\n",
       "522   523              111429         8020  2010-02-22 00:00:00   \n",
       "523   524              111429         8020  2011-02-22 00:00:00   \n",
       "\n",
       "     buildUpPlaySpeed buildUpPlaySpeedClass  buildUpPlayDribbling  \\\n",
       "522                30                  Slow                   NaN   \n",
       "523                46              Balanced                   NaN   \n",
       "\n",
       "    buildUpPlayDribblingClass  buildUpPlayPassing buildUpPlayPassingClass  \\\n",
       "522                    Little                  50                   Mixed   \n",
       "523                    Little                  38                   Mixed   \n",
       "\n",
       "    buildUpPlayPositioningClass  chanceCreationPassing  \\\n",
       "522                   Organised                     45   \n",
       "523                   Organised                     36   \n",
       "\n",
       "    chanceCreationPassingClass  chanceCreationCrossing  \\\n",
       "522                     Normal                      35   \n",
       "523                     Normal                      33   \n",
       "\n",
       "    chanceCreationCrossingClass  chanceCreationShooting  \\\n",
       "522                      Normal                      70   \n",
       "523                      Little                      53   \n",
       "\n",
       "    chanceCreationShootingClass chanceCreationPositioningClass  \\\n",
       "522                        Lots                      Organised   \n",
       "523                      Normal                      Organised   \n",
       "\n",
       "     defencePressure defencePressureClass  defenceAggression  \\\n",
       "522               60               Medium                 70   \n",
       "523               53               Medium                 54   \n",
       "\n",
       "    defenceAggressionClass  defenceTeamWidth defenceTeamWidthClass  \\\n",
       "522                 Double                55                Normal   \n",
       "523                  Press                55                Normal   \n",
       "\n",
       "    defenceDefenderLineClass   id_y  team_fifa_api_id_y team_long_name  \\\n",
       "522                    Cover  31445            111429.0  Polonia Bytom   \n",
       "523                    Cover  31445            111429.0  Polonia Bytom   \n",
       "\n",
       "    team_short_name  \n",
       "522             GOR  \n",
       "523             GOR  "
      ]
     },
     "execution_count": 786,
     "metadata": {},
     "output_type": "execute_result"
    }
   ],
   "source": [
    "# actually might just be able to use a \"not as recent\" scoring metric, which in my view is more accurate than taking the means of numbers this club was never associated with.\n",
    "# no such luck. older dates are also blank.\n",
    "team2[team2[\"team_api_id\"]==8020]"
   ]
  },
  {
   "cell_type": "code",
   "execution_count": 787,
   "id": "20d9f4a1-7b9d-4ac4-899b-5bb8f6b99969",
   "metadata": {},
   "outputs": [],
   "source": [
    "# all columns\n",
    "cat_cols = [\"league_name\", \"buildUpPlaySpeedClass\", \"buildUpPlayDribblingClass\",  \"buildUpPlayPassingClass\", \"chanceCreationCrossingClass\", \"chanceCreationShootingClass\", \"chanceCreationPositioningClass\",\"defencePressureClass\",\"defenceAggressionClass\",\"defenceTeamWidthClass\"]\n",
    "cont_cols = [\"buildUpPlaySpeed\", \"buildUpPlayDribbling\", \"buildUpPlayPassing\", \"chanceCreationPassing\", \"chanceCreationCrossing\", \"chanceCreationShooting\",  \"defencePressure\",  \"defenceAggression\",  \"defenceTeamWidth\",  ]"
   ]
  },
  {
   "cell_type": "code",
   "execution_count": 788,
   "id": "a53d43e6-d406-4011-ad63-3e0ca9945b46",
   "metadata": {},
   "outputs": [],
   "source": [
    "soccer_nans = soccer_a.copy()"
   ]
  },
  {
   "cell_type": "code",
   "execution_count": 789,
   "id": "691de2b2-32c4-43d9-8d05-a9d61314806f",
   "metadata": {},
   "outputs": [],
   "source": [
    "# how to do a qcut on multiple columns\n",
    "cuts = []\n",
    "\n",
    "cont2cols = [\"buildUpPlaySpeed\", \"buildUpPlayDribbling\", \"buildUpPlayPassing\"]\n",
    "\n",
    "for col in cont2cols:\n",
    "    cuts.append(pd.qcut(soccer_a[col], 2, labels=[\"one\", \"two\"], retbins=False, precision=3, duplicates='raise'))\n",
    "\n",
    "cont_bucks_df = pd.concat(cuts, axis=1)"
   ]
  },
  {
   "cell_type": "code",
   "execution_count": 790,
   "id": "e22bf54e-ebfd-4dbd-b714-0c995ff03e9f",
   "metadata": {},
   "outputs": [],
   "source": [
    "soccer_a_cats = soccer_nans.merge(cont_bucks_df, right_index=True, left_index=True, suffixes=(\"\", \"_cat\"))\n",
    "soccer_a_cats = soccer_a_cats.T.drop_duplicates().T"
   ]
  },
  {
   "cell_type": "code",
   "execution_count": 791,
   "id": "ed1cd840-b73f-4a9a-a594-58caafa180fe",
   "metadata": {},
   "outputs": [
    {
     "data": {
      "text/html": [
       "<div>\n",
       "<style scoped>\n",
       "    .dataframe tbody tr th:only-of-type {\n",
       "        vertical-align: middle;\n",
       "    }\n",
       "\n",
       "    .dataframe tbody tr th {\n",
       "        vertical-align: top;\n",
       "    }\n",
       "\n",
       "    .dataframe thead th {\n",
       "        text-align: right;\n",
       "    }\n",
       "</style>\n",
       "<table border=\"1\" class=\"dataframe\">\n",
       "  <thead>\n",
       "    <tr style=\"text-align: right;\">\n",
       "      <th></th>\n",
       "      <th>away_team_api_id</th>\n",
       "      <th>away_team_goal</th>\n",
       "      <th>home_team_goal</th>\n",
       "      <th>team_long_name</th>\n",
       "      <th>team_short_name</th>\n",
       "      <th>country_name</th>\n",
       "      <th>league_name</th>\n",
       "      <th>country_id</th>\n",
       "      <th>match_api_id</th>\n",
       "      <th>buildUpPlaySpeedClass</th>\n",
       "      <th>buildUpPlayDribblingClass</th>\n",
       "      <th>buildUpPlayPassingClass</th>\n",
       "      <th>buildUpPlayPositioningClass</th>\n",
       "      <th>chanceCreationCrossingClass</th>\n",
       "      <th>chanceCreationShootingClass</th>\n",
       "      <th>chanceCreationPositioningClass</th>\n",
       "      <th>chanceCreationPassingClass</th>\n",
       "      <th>defencePressureClass</th>\n",
       "      <th>defenceAggressionClass</th>\n",
       "      <th>defenceTeamWidthClass</th>\n",
       "      <th>buildUpPlaySpeed</th>\n",
       "      <th>buildUpPlayDribbling</th>\n",
       "      <th>buildUpPlayPassing</th>\n",
       "      <th>chanceCreationPassing</th>\n",
       "      <th>chanceCreationCrossing</th>\n",
       "      <th>chanceCreationShooting</th>\n",
       "      <th>defencePressure</th>\n",
       "      <th>defenceAggression</th>\n",
       "      <th>defenceTeamWidth</th>\n",
       "      <th>buildUpPlaySpeed_cat</th>\n",
       "      <th>buildUpPlayDribbling_cat</th>\n",
       "      <th>buildUpPlayPassing_cat</th>\n",
       "    </tr>\n",
       "  </thead>\n",
       "  <tbody>\n",
       "    <tr>\n",
       "      <th>0</th>\n",
       "      <td>8573</td>\n",
       "      <td>5</td>\n",
       "      <td>3</td>\n",
       "      <td>KV Oostende</td>\n",
       "      <td>OOS</td>\n",
       "      <td>Belgium</td>\n",
       "      <td>Belgium Jupiler League</td>\n",
       "      <td>1</td>\n",
       "      <td>1717865</td>\n",
       "      <td>Balanced</td>\n",
       "      <td>Normal</td>\n",
       "      <td>Mixed</td>\n",
       "      <td>Organised</td>\n",
       "      <td>Normal</td>\n",
       "      <td>Normal</td>\n",
       "      <td>Organised</td>\n",
       "      <td>Normal</td>\n",
       "      <td>Medium</td>\n",
       "      <td>Press</td>\n",
       "      <td>Normal</td>\n",
       "      <td>52</td>\n",
       "      <td>49.0</td>\n",
       "      <td>54</td>\n",
       "      <td>45</td>\n",
       "      <td>42</td>\n",
       "      <td>53</td>\n",
       "      <td>42</td>\n",
       "      <td>47</td>\n",
       "      <td>44</td>\n",
       "      <td>one</td>\n",
       "      <td>two</td>\n",
       "      <td>two</td>\n",
       "    </tr>\n",
       "    <tr>\n",
       "      <th>1</th>\n",
       "      <td>8571</td>\n",
       "      <td>0</td>\n",
       "      <td>5</td>\n",
       "      <td>KV Kortrijk</td>\n",
       "      <td>KOR</td>\n",
       "      <td>Belgium</td>\n",
       "      <td>Belgium Jupiler League</td>\n",
       "      <td>1</td>\n",
       "      <td>1717873</td>\n",
       "      <td>Balanced</td>\n",
       "      <td>Normal</td>\n",
       "      <td>Mixed</td>\n",
       "      <td>Organised</td>\n",
       "      <td>Lots</td>\n",
       "      <td>Little</td>\n",
       "      <td>Organised</td>\n",
       "      <td>Normal</td>\n",
       "      <td>Medium</td>\n",
       "      <td>Press</td>\n",
       "      <td>Normal</td>\n",
       "      <td>42</td>\n",
       "      <td>40.0</td>\n",
       "      <td>47</td>\n",
       "      <td>37</td>\n",
       "      <td>67</td>\n",
       "      <td>30</td>\n",
       "      <td>46</td>\n",
       "      <td>45</td>\n",
       "      <td>52</td>\n",
       "      <td>one</td>\n",
       "      <td>one</td>\n",
       "      <td>one</td>\n",
       "    </tr>\n",
       "    <tr>\n",
       "      <th>2</th>\n",
       "      <td>9984</td>\n",
       "      <td>2</td>\n",
       "      <td>3</td>\n",
       "      <td>KSV Cercle Brugge</td>\n",
       "      <td>CEB</td>\n",
       "      <td>Belgium</td>\n",
       "      <td>Belgium Jupiler League</td>\n",
       "      <td>1</td>\n",
       "      <td>1717874</td>\n",
       "      <td>Balanced</td>\n",
       "      <td>Normal</td>\n",
       "      <td>Mixed</td>\n",
       "      <td>Organised</td>\n",
       "      <td>Normal</td>\n",
       "      <td>Normal</td>\n",
       "      <td>Organised</td>\n",
       "      <td>Normal</td>\n",
       "      <td>Medium</td>\n",
       "      <td>Press</td>\n",
       "      <td>Normal</td>\n",
       "      <td>53</td>\n",
       "      <td>49.0</td>\n",
       "      <td>43</td>\n",
       "      <td>52</td>\n",
       "      <td>58</td>\n",
       "      <td>42</td>\n",
       "      <td>59</td>\n",
       "      <td>47</td>\n",
       "      <td>62</td>\n",
       "      <td>one</td>\n",
       "      <td>two</td>\n",
       "      <td>one</td>\n",
       "    </tr>\n",
       "  </tbody>\n",
       "</table>\n",
       "</div>"
      ],
      "text/plain": [
       "  away_team_api_id away_team_goal home_team_goal     team_long_name  \\\n",
       "0             8573              5              3        KV Oostende   \n",
       "1             8571              0              5        KV Kortrijk   \n",
       "2             9984              2              3  KSV Cercle Brugge   \n",
       "\n",
       "  team_short_name country_name             league_name country_id  \\\n",
       "0             OOS      Belgium  Belgium Jupiler League          1   \n",
       "1             KOR      Belgium  Belgium Jupiler League          1   \n",
       "2             CEB      Belgium  Belgium Jupiler League          1   \n",
       "\n",
       "  match_api_id buildUpPlaySpeedClass buildUpPlayDribblingClass  \\\n",
       "0      1717865              Balanced                    Normal   \n",
       "1      1717873              Balanced                    Normal   \n",
       "2      1717874              Balanced                    Normal   \n",
       "\n",
       "  buildUpPlayPassingClass buildUpPlayPositioningClass  \\\n",
       "0                   Mixed                   Organised   \n",
       "1                   Mixed                   Organised   \n",
       "2                   Mixed                   Organised   \n",
       "\n",
       "  chanceCreationCrossingClass chanceCreationShootingClass  \\\n",
       "0                      Normal                      Normal   \n",
       "1                        Lots                      Little   \n",
       "2                      Normal                      Normal   \n",
       "\n",
       "  chanceCreationPositioningClass chanceCreationPassingClass  \\\n",
       "0                      Organised                     Normal   \n",
       "1                      Organised                     Normal   \n",
       "2                      Organised                     Normal   \n",
       "\n",
       "  defencePressureClass defenceAggressionClass defenceTeamWidthClass  \\\n",
       "0               Medium                  Press                Normal   \n",
       "1               Medium                  Press                Normal   \n",
       "2               Medium                  Press                Normal   \n",
       "\n",
       "  buildUpPlaySpeed buildUpPlayDribbling buildUpPlayPassing  \\\n",
       "0               52                 49.0                 54   \n",
       "1               42                 40.0                 47   \n",
       "2               53                 49.0                 43   \n",
       "\n",
       "  chanceCreationPassing chanceCreationCrossing chanceCreationShooting  \\\n",
       "0                    45                     42                     53   \n",
       "1                    37                     67                     30   \n",
       "2                    52                     58                     42   \n",
       "\n",
       "  defencePressure defenceAggression defenceTeamWidth buildUpPlaySpeed_cat  \\\n",
       "0              42                47               44                  one   \n",
       "1              46                45               52                  one   \n",
       "2              59                47               62                  one   \n",
       "\n",
       "  buildUpPlayDribbling_cat buildUpPlayPassing_cat  \n",
       "0                      two                    two  \n",
       "1                      one                    one  \n",
       "2                      two                    one  "
      ]
     },
     "execution_count": 791,
     "metadata": {},
     "output_type": "execute_result"
    }
   ],
   "source": [
    "soccer_a_cats[:3]"
   ]
  },
  {
   "cell_type": "code",
   "execution_count": 792,
   "id": "36bb5d2b-e7a7-49a6-9c6c-dd33d95e1d03",
   "metadata": {},
   "outputs": [],
   "source": [
    "# lets get interpoler with it\n",
    "\n",
    "# -> hello again! we don't need to go back, as allthe important metrics can only apply to one team, and are true across home and away dataframes. the SCORE is all that changes. So basically, we can  just use either home or away, as long as we keep the score separate.\n",
    "\n",
    "# ok. so we're talkign about Build Up Passing here...\n",
    "cat2cols = [\"league_name\", \"buildUpPlaySpeedClass\", \"buildUpPlayPassingClass\", \"chanceCreationPositioningClass\", ]\n",
    "\n",
    "#then let's make sure to sample only from teams at that play level...\n",
    "# cont2cols = [\"buildUpPlaySpeed\", \"buildUpPlayDribbling\", \"buildUpPlayPassing\"]\n",
    "#check above for qcut columns operation; below result\n",
    "cont2cols = [\"buildUpPlaySpeed_cat\", \"buildUpPlayPassing_cat\"]\n",
    "\n",
    "# final columns to grab the mean from\n",
    "catcontcols = cat2cols + cont2cols\n",
    "\n",
    "# total column doesn't find anything; data is too sparse\n",
    "soccer_a_cats[\"buildUpPlayDribbling\"] = soccer_a_cats.groupby(catcontcols)[\"buildUpPlayDribbling\"].transform(lambda x: x.fillna(x.mean()))"
   ]
  },
  {
   "cell_type": "code",
   "execution_count": 793,
   "id": "f644778b-3769-42f4-a04e-e65d3af19082",
   "metadata": {},
   "outputs": [
    {
     "data": {
      "text/html": [
       "<div>\n",
       "<style scoped>\n",
       "    .dataframe tbody tr th:only-of-type {\n",
       "        vertical-align: middle;\n",
       "    }\n",
       "\n",
       "    .dataframe tbody tr th {\n",
       "        vertical-align: top;\n",
       "    }\n",
       "\n",
       "    .dataframe thead th {\n",
       "        text-align: right;\n",
       "    }\n",
       "</style>\n",
       "<table border=\"1\" class=\"dataframe\">\n",
       "  <thead>\n",
       "    <tr style=\"text-align: right;\">\n",
       "      <th></th>\n",
       "      <th>away_team_api_id</th>\n",
       "      <th>away_team_goal</th>\n",
       "      <th>home_team_goal</th>\n",
       "      <th>team_long_name</th>\n",
       "      <th>team_short_name</th>\n",
       "      <th>country_name</th>\n",
       "      <th>league_name</th>\n",
       "      <th>country_id</th>\n",
       "      <th>match_api_id</th>\n",
       "      <th>buildUpPlaySpeedClass</th>\n",
       "      <th>buildUpPlayDribblingClass</th>\n",
       "      <th>buildUpPlayPassingClass</th>\n",
       "      <th>buildUpPlayPositioningClass</th>\n",
       "      <th>chanceCreationCrossingClass</th>\n",
       "      <th>chanceCreationShootingClass</th>\n",
       "      <th>chanceCreationPositioningClass</th>\n",
       "      <th>chanceCreationPassingClass</th>\n",
       "      <th>defencePressureClass</th>\n",
       "      <th>defenceAggressionClass</th>\n",
       "      <th>defenceTeamWidthClass</th>\n",
       "      <th>buildUpPlaySpeed</th>\n",
       "      <th>buildUpPlayDribbling</th>\n",
       "      <th>buildUpPlayPassing</th>\n",
       "      <th>chanceCreationPassing</th>\n",
       "      <th>chanceCreationCrossing</th>\n",
       "      <th>chanceCreationShooting</th>\n",
       "      <th>defencePressure</th>\n",
       "      <th>defenceAggression</th>\n",
       "      <th>defenceTeamWidth</th>\n",
       "      <th>buildUpPlaySpeed_cat</th>\n",
       "      <th>buildUpPlayDribbling_cat</th>\n",
       "      <th>buildUpPlayPassing_cat</th>\n",
       "    </tr>\n",
       "  </thead>\n",
       "  <tbody>\n",
       "    <tr>\n",
       "      <th>126</th>\n",
       "      <td>8020</td>\n",
       "      <td>3</td>\n",
       "      <td>0</td>\n",
       "      <td>Polonia Bytom</td>\n",
       "      <td>GOR</td>\n",
       "      <td>Poland</td>\n",
       "      <td>Poland Ekstraklasa</td>\n",
       "      <td>15722</td>\n",
       "      <td>1722162</td>\n",
       "      <td>Balanced</td>\n",
       "      <td>Little</td>\n",
       "      <td>Mixed</td>\n",
       "      <td>Organised</td>\n",
       "      <td>Little</td>\n",
       "      <td>Normal</td>\n",
       "      <td>Organised</td>\n",
       "      <td>Normal</td>\n",
       "      <td>Medium</td>\n",
       "      <td>Press</td>\n",
       "      <td>Normal</td>\n",
       "      <td>46</td>\n",
       "      <td>47.5</td>\n",
       "      <td>38</td>\n",
       "      <td>36</td>\n",
       "      <td>33</td>\n",
       "      <td>53</td>\n",
       "      <td>53</td>\n",
       "      <td>54</td>\n",
       "      <td>55</td>\n",
       "      <td>one</td>\n",
       "      <td>NaN</td>\n",
       "      <td>one</td>\n",
       "    </tr>\n",
       "  </tbody>\n",
       "</table>\n",
       "</div>"
      ],
      "text/plain": [
       "    away_team_api_id away_team_goal home_team_goal team_long_name  \\\n",
       "126             8020              3              0  Polonia Bytom   \n",
       "\n",
       "    team_short_name country_name         league_name country_id match_api_id  \\\n",
       "126             GOR       Poland  Poland Ekstraklasa      15722      1722162   \n",
       "\n",
       "    buildUpPlaySpeedClass buildUpPlayDribblingClass buildUpPlayPassingClass  \\\n",
       "126              Balanced                    Little                   Mixed   \n",
       "\n",
       "    buildUpPlayPositioningClass chanceCreationCrossingClass  \\\n",
       "126                   Organised                      Little   \n",
       "\n",
       "    chanceCreationShootingClass chanceCreationPositioningClass  \\\n",
       "126                      Normal                      Organised   \n",
       "\n",
       "    chanceCreationPassingClass defencePressureClass defenceAggressionClass  \\\n",
       "126                     Normal               Medium                  Press   \n",
       "\n",
       "    defenceTeamWidthClass buildUpPlaySpeed  buildUpPlayDribbling  \\\n",
       "126                Normal               46                  47.5   \n",
       "\n",
       "    buildUpPlayPassing chanceCreationPassing chanceCreationCrossing  \\\n",
       "126                 38                    36                     33   \n",
       "\n",
       "    chanceCreationShooting defencePressure defenceAggression defenceTeamWidth  \\\n",
       "126                     53              53                54               55   \n",
       "\n",
       "    buildUpPlaySpeed_cat buildUpPlayDribbling_cat buildUpPlayPassing_cat  \n",
       "126                  one                      NaN                    one  "
      ]
     },
     "execution_count": 793,
     "metadata": {},
     "output_type": "execute_result"
    }
   ],
   "source": [
    "mask_nan2 = ( soccer_a_cats[\"away_team_api_id\"]==8020 )\n",
    "soccer_a_cats[mask_nan2]"
   ]
  },
  {
   "cell_type": "code",
   "execution_count": 794,
   "id": "24cfeac4-193d-4a3a-8a13-30d5fad1ff79",
   "metadata": {},
   "outputs": [
    {
     "data": {
      "text/html": [
       "<div>\n",
       "<style scoped>\n",
       "    .dataframe tbody tr th:only-of-type {\n",
       "        vertical-align: middle;\n",
       "    }\n",
       "\n",
       "    .dataframe tbody tr th {\n",
       "        vertical-align: top;\n",
       "    }\n",
       "\n",
       "    .dataframe thead th {\n",
       "        text-align: right;\n",
       "    }\n",
       "</style>\n",
       "<table border=\"1\" class=\"dataframe\">\n",
       "  <thead>\n",
       "    <tr style=\"text-align: right;\">\n",
       "      <th></th>\n",
       "      <th>home_team_api_id</th>\n",
       "      <th>home_team_goal</th>\n",
       "      <th>away_team_goal</th>\n",
       "      <th>team_long_name</th>\n",
       "      <th>team_short_name</th>\n",
       "      <th>country_name</th>\n",
       "      <th>league_name</th>\n",
       "      <th>country_id</th>\n",
       "      <th>league_id</th>\n",
       "      <th>match_api_id</th>\n",
       "      <th>buildUpPlaySpeedClass</th>\n",
       "      <th>buildUpPlayDribblingClass</th>\n",
       "      <th>buildUpPlayPassingClass</th>\n",
       "      <th>buildUpPlayPositioningClass</th>\n",
       "      <th>chanceCreationCrossingClass</th>\n",
       "      <th>chanceCreationShootingClass</th>\n",
       "      <th>chanceCreationPositioningClass</th>\n",
       "      <th>chanceCreationPassingClass</th>\n",
       "      <th>defencePressureClass</th>\n",
       "      <th>defenceAggressionClass</th>\n",
       "      <th>defenceTeamWidthClass</th>\n",
       "      <th>buildUpPlaySpeed</th>\n",
       "      <th>buildUpPlayDribbling</th>\n",
       "      <th>buildUpPlayPassing</th>\n",
       "      <th>chanceCreationPassing</th>\n",
       "      <th>chanceCreationCrossing</th>\n",
       "      <th>chanceCreationShooting</th>\n",
       "      <th>defencePressure</th>\n",
       "      <th>defenceAggression</th>\n",
       "      <th>defenceTeamWidth</th>\n",
       "    </tr>\n",
       "  </thead>\n",
       "  <tbody>\n",
       "    <tr>\n",
       "      <th>117</th>\n",
       "      <td>8020</td>\n",
       "      <td>1</td>\n",
       "      <td>2</td>\n",
       "      <td>Polonia Bytom</td>\n",
       "      <td>GOR</td>\n",
       "      <td>Poland</td>\n",
       "      <td>Poland Ekstraklasa</td>\n",
       "      <td>15722</td>\n",
       "      <td>15722</td>\n",
       "      <td>1722153</td>\n",
       "      <td>Balanced</td>\n",
       "      <td>Little</td>\n",
       "      <td>Mixed</td>\n",
       "      <td>Organised</td>\n",
       "      <td>Little</td>\n",
       "      <td>Normal</td>\n",
       "      <td>Organised</td>\n",
       "      <td>Normal</td>\n",
       "      <td>Medium</td>\n",
       "      <td>Press</td>\n",
       "      <td>Normal</td>\n",
       "      <td>46</td>\n",
       "      <td>NaN</td>\n",
       "      <td>38</td>\n",
       "      <td>36</td>\n",
       "      <td>33</td>\n",
       "      <td>53</td>\n",
       "      <td>53</td>\n",
       "      <td>54</td>\n",
       "      <td>55</td>\n",
       "    </tr>\n",
       "  </tbody>\n",
       "</table>\n",
       "</div>"
      ],
      "text/plain": [
       "     home_team_api_id  home_team_goal  away_team_goal team_long_name  \\\n",
       "117              8020               1               2  Polonia Bytom   \n",
       "\n",
       "    team_short_name country_name         league_name  country_id  league_id  \\\n",
       "117             GOR       Poland  Poland Ekstraklasa       15722      15722   \n",
       "\n",
       "     match_api_id buildUpPlaySpeedClass buildUpPlayDribblingClass  \\\n",
       "117       1722153              Balanced                    Little   \n",
       "\n",
       "    buildUpPlayPassingClass buildUpPlayPositioningClass  \\\n",
       "117                   Mixed                   Organised   \n",
       "\n",
       "    chanceCreationCrossingClass chanceCreationShootingClass  \\\n",
       "117                      Little                      Normal   \n",
       "\n",
       "    chanceCreationPositioningClass chanceCreationPassingClass  \\\n",
       "117                      Organised                     Normal   \n",
       "\n",
       "    defencePressureClass defenceAggressionClass defenceTeamWidthClass  \\\n",
       "117               Medium                  Press                Normal   \n",
       "\n",
       "     buildUpPlaySpeed  buildUpPlayDribbling  buildUpPlayPassing  \\\n",
       "117                46                   NaN                  38   \n",
       "\n",
       "     chanceCreationPassing  chanceCreationCrossing  chanceCreationShooting  \\\n",
       "117                     36                      33                      53   \n",
       "\n",
       "     defencePressure  defenceAggression  defenceTeamWidth  \n",
       "117               53                 54                55  "
      ]
     },
     "execution_count": 794,
     "metadata": {},
     "output_type": "execute_result"
    }
   ],
   "source": [
    "mask_nan3 = ( soccer_h[\"home_team_api_id\"]==8020 )\n",
    "soccer_h[mask_nan3]"
   ]
  },
  {
   "cell_type": "code",
   "execution_count": 795,
   "id": "773c5402-3b8d-4e31-95a2-43b66c54374a",
   "metadata": {},
   "outputs": [],
   "source": [
    "soccer_a[\"buildUpPlayDribbling\"] = soccer_a_cats[\"buildUpPlayDribbling\"]"
   ]
  },
  {
   "cell_type": "code",
   "execution_count": 796,
   "id": "f37c9514-e4f4-4fcc-9988-409d9aab3bcb",
   "metadata": {},
   "outputs": [
    {
     "data": {
      "text/html": [
       "<div>\n",
       "<style scoped>\n",
       "    .dataframe tbody tr th:only-of-type {\n",
       "        vertical-align: middle;\n",
       "    }\n",
       "\n",
       "    .dataframe tbody tr th {\n",
       "        vertical-align: top;\n",
       "    }\n",
       "\n",
       "    .dataframe thead th {\n",
       "        text-align: right;\n",
       "    }\n",
       "</style>\n",
       "<table border=\"1\" class=\"dataframe\">\n",
       "  <thead>\n",
       "    <tr style=\"text-align: right;\">\n",
       "      <th></th>\n",
       "      <th>away_team_api_id</th>\n",
       "      <th>away_team_goal</th>\n",
       "      <th>home_team_goal</th>\n",
       "      <th>team_long_name</th>\n",
       "      <th>team_short_name</th>\n",
       "      <th>country_name</th>\n",
       "      <th>league_name</th>\n",
       "      <th>country_id</th>\n",
       "      <th>league_id</th>\n",
       "      <th>match_api_id</th>\n",
       "      <th>buildUpPlaySpeedClass</th>\n",
       "      <th>buildUpPlayDribblingClass</th>\n",
       "      <th>buildUpPlayPassingClass</th>\n",
       "      <th>buildUpPlayPositioningClass</th>\n",
       "      <th>chanceCreationCrossingClass</th>\n",
       "      <th>chanceCreationShootingClass</th>\n",
       "      <th>chanceCreationPositioningClass</th>\n",
       "      <th>chanceCreationPassingClass</th>\n",
       "      <th>defencePressureClass</th>\n",
       "      <th>defenceAggressionClass</th>\n",
       "      <th>defenceTeamWidthClass</th>\n",
       "      <th>buildUpPlaySpeed</th>\n",
       "      <th>buildUpPlayDribbling</th>\n",
       "      <th>buildUpPlayPassing</th>\n",
       "      <th>chanceCreationPassing</th>\n",
       "      <th>chanceCreationCrossing</th>\n",
       "      <th>chanceCreationShooting</th>\n",
       "      <th>defencePressure</th>\n",
       "      <th>defenceAggression</th>\n",
       "      <th>defenceTeamWidth</th>\n",
       "    </tr>\n",
       "  </thead>\n",
       "  <tbody>\n",
       "    <tr>\n",
       "      <th>126</th>\n",
       "      <td>8020</td>\n",
       "      <td>3</td>\n",
       "      <td>0</td>\n",
       "      <td>Polonia Bytom</td>\n",
       "      <td>GOR</td>\n",
       "      <td>Poland</td>\n",
       "      <td>Poland Ekstraklasa</td>\n",
       "      <td>15722</td>\n",
       "      <td>15722</td>\n",
       "      <td>1722162</td>\n",
       "      <td>Balanced</td>\n",
       "      <td>Little</td>\n",
       "      <td>Mixed</td>\n",
       "      <td>Organised</td>\n",
       "      <td>Little</td>\n",
       "      <td>Normal</td>\n",
       "      <td>Organised</td>\n",
       "      <td>Normal</td>\n",
       "      <td>Medium</td>\n",
       "      <td>Press</td>\n",
       "      <td>Normal</td>\n",
       "      <td>46</td>\n",
       "      <td>47.5</td>\n",
       "      <td>38</td>\n",
       "      <td>36</td>\n",
       "      <td>33</td>\n",
       "      <td>53</td>\n",
       "      <td>53</td>\n",
       "      <td>54</td>\n",
       "      <td>55</td>\n",
       "    </tr>\n",
       "  </tbody>\n",
       "</table>\n",
       "</div>"
      ],
      "text/plain": [
       "     away_team_api_id  away_team_goal  home_team_goal team_long_name  \\\n",
       "126              8020               3               0  Polonia Bytom   \n",
       "\n",
       "    team_short_name country_name         league_name  country_id  league_id  \\\n",
       "126             GOR       Poland  Poland Ekstraklasa       15722      15722   \n",
       "\n",
       "     match_api_id buildUpPlaySpeedClass buildUpPlayDribblingClass  \\\n",
       "126       1722162              Balanced                    Little   \n",
       "\n",
       "    buildUpPlayPassingClass buildUpPlayPositioningClass  \\\n",
       "126                   Mixed                   Organised   \n",
       "\n",
       "    chanceCreationCrossingClass chanceCreationShootingClass  \\\n",
       "126                      Little                      Normal   \n",
       "\n",
       "    chanceCreationPositioningClass chanceCreationPassingClass  \\\n",
       "126                      Organised                     Normal   \n",
       "\n",
       "    defencePressureClass defenceAggressionClass defenceTeamWidthClass  \\\n",
       "126               Medium                  Press                Normal   \n",
       "\n",
       "     buildUpPlaySpeed  buildUpPlayDribbling  buildUpPlayPassing  \\\n",
       "126                46                  47.5                  38   \n",
       "\n",
       "     chanceCreationPassing  chanceCreationCrossing  chanceCreationShooting  \\\n",
       "126                     36                      33                      53   \n",
       "\n",
       "     defencePressure  defenceAggression  defenceTeamWidth  \n",
       "126               53                 54                55  "
      ]
     },
     "execution_count": 796,
     "metadata": {},
     "output_type": "execute_result"
    }
   ],
   "source": [
    "mask_nan4 = ( soccer_a[\"away_team_api_id\"]==8020 )\n",
    "soccer_a[mask_nan4]"
   ]
  },
  {
   "cell_type": "code",
   "execution_count": null,
   "id": "c60739b4-db0f-4912-843c-6618a6d8ca1d",
   "metadata": {},
   "outputs": [],
   "source": [
    "# use the same value from a for h [since it's just one don't need to copy the entire function; this use case is very rare since it's got home and away frames]"
   ]
  },
  {
   "cell_type": "code",
   "execution_count": 797,
   "id": "0028bb30-1743-425e-9aea-4ebf8f9e150d",
   "metadata": {},
   "outputs": [],
   "source": [
    "mask_nan4 = ( soccer_h[\"home_team_api_id\"]==8020 )\n",
    "soccer_h = soccer_h.fillna(47.5)"
   ]
  },
  {
   "cell_type": "code",
   "execution_count": 798,
   "id": "ca5988ac-efab-4661-b7ee-21a3544b9830",
   "metadata": {},
   "outputs": [
    {
     "data": {
      "text/html": [
       "<div>\n",
       "<style scoped>\n",
       "    .dataframe tbody tr th:only-of-type {\n",
       "        vertical-align: middle;\n",
       "    }\n",
       "\n",
       "    .dataframe tbody tr th {\n",
       "        vertical-align: top;\n",
       "    }\n",
       "\n",
       "    .dataframe thead th {\n",
       "        text-align: right;\n",
       "    }\n",
       "</style>\n",
       "<table border=\"1\" class=\"dataframe\">\n",
       "  <thead>\n",
       "    <tr style=\"text-align: right;\">\n",
       "      <th></th>\n",
       "      <th>features</th>\n",
       "      <th>dtypes</th>\n",
       "      <th>nulls</th>\n",
       "      <th>nonnuls / 1.0</th>\n",
       "      <th>uniques</th>\n",
       "    </tr>\n",
       "  </thead>\n",
       "  <tbody>\n",
       "    <tr>\n",
       "      <th>0</th>\n",
       "      <td>home_team_api_id</td>\n",
       "      <td>int64</td>\n",
       "      <td>0</td>\n",
       "      <td>1.0</td>\n",
       "      <td>188</td>\n",
       "    </tr>\n",
       "    <tr>\n",
       "      <th>1</th>\n",
       "      <td>home_team_goal</td>\n",
       "      <td>int64</td>\n",
       "      <td>0</td>\n",
       "      <td>1.0</td>\n",
       "      <td>7</td>\n",
       "    </tr>\n",
       "    <tr>\n",
       "      <th>2</th>\n",
       "      <td>away_team_goal</td>\n",
       "      <td>int64</td>\n",
       "      <td>0</td>\n",
       "      <td>1.0</td>\n",
       "      <td>6</td>\n",
       "    </tr>\n",
       "    <tr>\n",
       "      <th>3</th>\n",
       "      <td>team_long_name</td>\n",
       "      <td>object</td>\n",
       "      <td>0</td>\n",
       "      <td>1.0</td>\n",
       "      <td>188</td>\n",
       "    </tr>\n",
       "    <tr>\n",
       "      <th>4</th>\n",
       "      <td>team_short_name</td>\n",
       "      <td>object</td>\n",
       "      <td>0</td>\n",
       "      <td>1.0</td>\n",
       "      <td>173</td>\n",
       "    </tr>\n",
       "    <tr>\n",
       "      <th>5</th>\n",
       "      <td>country_name</td>\n",
       "      <td>object</td>\n",
       "      <td>0</td>\n",
       "      <td>1.0</td>\n",
       "      <td>11</td>\n",
       "    </tr>\n",
       "    <tr>\n",
       "      <th>6</th>\n",
       "      <td>league_name</td>\n",
       "      <td>object</td>\n",
       "      <td>0</td>\n",
       "      <td>1.0</td>\n",
       "      <td>11</td>\n",
       "    </tr>\n",
       "    <tr>\n",
       "      <th>7</th>\n",
       "      <td>country_id</td>\n",
       "      <td>int64</td>\n",
       "      <td>0</td>\n",
       "      <td>1.0</td>\n",
       "      <td>11</td>\n",
       "    </tr>\n",
       "    <tr>\n",
       "      <th>8</th>\n",
       "      <td>league_id</td>\n",
       "      <td>int64</td>\n",
       "      <td>0</td>\n",
       "      <td>1.0</td>\n",
       "      <td>11</td>\n",
       "    </tr>\n",
       "    <tr>\n",
       "      <th>9</th>\n",
       "      <td>match_api_id</td>\n",
       "      <td>int64</td>\n",
       "      <td>0</td>\n",
       "      <td>1.0</td>\n",
       "      <td>188</td>\n",
       "    </tr>\n",
       "    <tr>\n",
       "      <th>10</th>\n",
       "      <td>buildUpPlaySpeedClass</td>\n",
       "      <td>object</td>\n",
       "      <td>0</td>\n",
       "      <td>1.0</td>\n",
       "      <td>3</td>\n",
       "    </tr>\n",
       "    <tr>\n",
       "      <th>11</th>\n",
       "      <td>buildUpPlayDribblingClass</td>\n",
       "      <td>object</td>\n",
       "      <td>0</td>\n",
       "      <td>1.0</td>\n",
       "      <td>3</td>\n",
       "    </tr>\n",
       "    <tr>\n",
       "      <th>12</th>\n",
       "      <td>buildUpPlayPassingClass</td>\n",
       "      <td>object</td>\n",
       "      <td>0</td>\n",
       "      <td>1.0</td>\n",
       "      <td>3</td>\n",
       "    </tr>\n",
       "    <tr>\n",
       "      <th>13</th>\n",
       "      <td>buildUpPlayPositioningClass</td>\n",
       "      <td>object</td>\n",
       "      <td>0</td>\n",
       "      <td>1.0</td>\n",
       "      <td>2</td>\n",
       "    </tr>\n",
       "    <tr>\n",
       "      <th>14</th>\n",
       "      <td>chanceCreationCrossingClass</td>\n",
       "      <td>object</td>\n",
       "      <td>0</td>\n",
       "      <td>1.0</td>\n",
       "      <td>3</td>\n",
       "    </tr>\n",
       "    <tr>\n",
       "      <th>15</th>\n",
       "      <td>chanceCreationShootingClass</td>\n",
       "      <td>object</td>\n",
       "      <td>0</td>\n",
       "      <td>1.0</td>\n",
       "      <td>3</td>\n",
       "    </tr>\n",
       "    <tr>\n",
       "      <th>16</th>\n",
       "      <td>chanceCreationPositioningClass</td>\n",
       "      <td>object</td>\n",
       "      <td>0</td>\n",
       "      <td>1.0</td>\n",
       "      <td>2</td>\n",
       "    </tr>\n",
       "    <tr>\n",
       "      <th>17</th>\n",
       "      <td>chanceCreationPassingClass</td>\n",
       "      <td>object</td>\n",
       "      <td>0</td>\n",
       "      <td>1.0</td>\n",
       "      <td>3</td>\n",
       "    </tr>\n",
       "    <tr>\n",
       "      <th>18</th>\n",
       "      <td>defencePressureClass</td>\n",
       "      <td>object</td>\n",
       "      <td>0</td>\n",
       "      <td>1.0</td>\n",
       "      <td>3</td>\n",
       "    </tr>\n",
       "    <tr>\n",
       "      <th>19</th>\n",
       "      <td>defenceAggressionClass</td>\n",
       "      <td>object</td>\n",
       "      <td>0</td>\n",
       "      <td>1.0</td>\n",
       "      <td>3</td>\n",
       "    </tr>\n",
       "    <tr>\n",
       "      <th>20</th>\n",
       "      <td>defenceTeamWidthClass</td>\n",
       "      <td>object</td>\n",
       "      <td>0</td>\n",
       "      <td>1.0</td>\n",
       "      <td>3</td>\n",
       "    </tr>\n",
       "    <tr>\n",
       "      <th>21</th>\n",
       "      <td>buildUpPlaySpeed</td>\n",
       "      <td>int64</td>\n",
       "      <td>0</td>\n",
       "      <td>1.0</td>\n",
       "      <td>43</td>\n",
       "    </tr>\n",
       "    <tr>\n",
       "      <th>22</th>\n",
       "      <td>buildUpPlayDribbling</td>\n",
       "      <td>float64</td>\n",
       "      <td>0</td>\n",
       "      <td>1.0</td>\n",
       "      <td>43</td>\n",
       "    </tr>\n",
       "    <tr>\n",
       "      <th>23</th>\n",
       "      <td>buildUpPlayPassing</td>\n",
       "      <td>int64</td>\n",
       "      <td>0</td>\n",
       "      <td>1.0</td>\n",
       "      <td>42</td>\n",
       "    </tr>\n",
       "    <tr>\n",
       "      <th>24</th>\n",
       "      <td>chanceCreationPassing</td>\n",
       "      <td>int64</td>\n",
       "      <td>0</td>\n",
       "      <td>1.0</td>\n",
       "      <td>42</td>\n",
       "    </tr>\n",
       "    <tr>\n",
       "      <th>25</th>\n",
       "      <td>chanceCreationCrossing</td>\n",
       "      <td>int64</td>\n",
       "      <td>0</td>\n",
       "      <td>1.0</td>\n",
       "      <td>41</td>\n",
       "    </tr>\n",
       "    <tr>\n",
       "      <th>26</th>\n",
       "      <td>chanceCreationShooting</td>\n",
       "      <td>int64</td>\n",
       "      <td>0</td>\n",
       "      <td>1.0</td>\n",
       "      <td>48</td>\n",
       "    </tr>\n",
       "    <tr>\n",
       "      <th>27</th>\n",
       "      <td>defencePressure</td>\n",
       "      <td>int64</td>\n",
       "      <td>0</td>\n",
       "      <td>1.0</td>\n",
       "      <td>41</td>\n",
       "    </tr>\n",
       "    <tr>\n",
       "      <th>28</th>\n",
       "      <td>defenceAggression</td>\n",
       "      <td>int64</td>\n",
       "      <td>0</td>\n",
       "      <td>1.0</td>\n",
       "      <td>37</td>\n",
       "    </tr>\n",
       "    <tr>\n",
       "      <th>29</th>\n",
       "      <td>defenceTeamWidth</td>\n",
       "      <td>int64</td>\n",
       "      <td>0</td>\n",
       "      <td>1.0</td>\n",
       "      <td>36</td>\n",
       "    </tr>\n",
       "  </tbody>\n",
       "</table>\n",
       "</div>"
      ],
      "text/plain": [
       "                          features   dtypes  nulls  nonnuls / 1.0  uniques\n",
       "0                 home_team_api_id    int64      0            1.0      188\n",
       "1                   home_team_goal    int64      0            1.0        7\n",
       "2                   away_team_goal    int64      0            1.0        6\n",
       "3                   team_long_name   object      0            1.0      188\n",
       "4                  team_short_name   object      0            1.0      173\n",
       "5                     country_name   object      0            1.0       11\n",
       "6                      league_name   object      0            1.0       11\n",
       "7                       country_id    int64      0            1.0       11\n",
       "8                        league_id    int64      0            1.0       11\n",
       "9                     match_api_id    int64      0            1.0      188\n",
       "10           buildUpPlaySpeedClass   object      0            1.0        3\n",
       "11       buildUpPlayDribblingClass   object      0            1.0        3\n",
       "12         buildUpPlayPassingClass   object      0            1.0        3\n",
       "13     buildUpPlayPositioningClass   object      0            1.0        2\n",
       "14     chanceCreationCrossingClass   object      0            1.0        3\n",
       "15     chanceCreationShootingClass   object      0            1.0        3\n",
       "16  chanceCreationPositioningClass   object      0            1.0        2\n",
       "17      chanceCreationPassingClass   object      0            1.0        3\n",
       "18            defencePressureClass   object      0            1.0        3\n",
       "19          defenceAggressionClass   object      0            1.0        3\n",
       "20           defenceTeamWidthClass   object      0            1.0        3\n",
       "21                buildUpPlaySpeed    int64      0            1.0       43\n",
       "22            buildUpPlayDribbling  float64      0            1.0       43\n",
       "23              buildUpPlayPassing    int64      0            1.0       42\n",
       "24           chanceCreationPassing    int64      0            1.0       42\n",
       "25          chanceCreationCrossing    int64      0            1.0       41\n",
       "26          chanceCreationShooting    int64      0            1.0       48\n",
       "27                 defencePressure    int64      0            1.0       41\n",
       "28               defenceAggression    int64      0            1.0       37\n",
       "29                defenceTeamWidth    int64      0            1.0       36"
      ]
     },
     "execution_count": 798,
     "metadata": {},
     "output_type": "execute_result"
    }
   ],
   "source": [
    "summary_dataframe_small(soccer_h)"
   ]
  },
  {
   "cell_type": "code",
   "execution_count": 799,
   "id": "c0020f9e-a1ec-4964-a2c9-0bdbfc8d7c95",
   "metadata": {},
   "outputs": [
    {
     "data": {
      "text/html": [
       "<div>\n",
       "<style scoped>\n",
       "    .dataframe tbody tr th:only-of-type {\n",
       "        vertical-align: middle;\n",
       "    }\n",
       "\n",
       "    .dataframe tbody tr th {\n",
       "        vertical-align: top;\n",
       "    }\n",
       "\n",
       "    .dataframe thead th {\n",
       "        text-align: right;\n",
       "    }\n",
       "</style>\n",
       "<table border=\"1\" class=\"dataframe\">\n",
       "  <thead>\n",
       "    <tr style=\"text-align: right;\">\n",
       "      <th></th>\n",
       "      <th>away_team_api_id</th>\n",
       "      <th>away_team_goal</th>\n",
       "      <th>home_team_goal</th>\n",
       "      <th>team_long_name</th>\n",
       "      <th>team_short_name</th>\n",
       "      <th>country_name</th>\n",
       "      <th>league_name</th>\n",
       "      <th>country_id</th>\n",
       "      <th>league_id</th>\n",
       "      <th>match_api_id</th>\n",
       "      <th>buildUpPlaySpeedClass</th>\n",
       "      <th>buildUpPlayDribblingClass</th>\n",
       "      <th>buildUpPlayPassingClass</th>\n",
       "      <th>buildUpPlayPositioningClass</th>\n",
       "      <th>chanceCreationCrossingClass</th>\n",
       "      <th>chanceCreationShootingClass</th>\n",
       "      <th>chanceCreationPositioningClass</th>\n",
       "      <th>chanceCreationPassingClass</th>\n",
       "      <th>defencePressureClass</th>\n",
       "      <th>defenceAggressionClass</th>\n",
       "      <th>defenceTeamWidthClass</th>\n",
       "      <th>buildUpPlaySpeed</th>\n",
       "      <th>buildUpPlayDribbling</th>\n",
       "      <th>buildUpPlayPassing</th>\n",
       "      <th>chanceCreationPassing</th>\n",
       "      <th>chanceCreationCrossing</th>\n",
       "      <th>chanceCreationShooting</th>\n",
       "      <th>defencePressure</th>\n",
       "      <th>defenceAggression</th>\n",
       "      <th>defenceTeamWidth</th>\n",
       "    </tr>\n",
       "  </thead>\n",
       "  <tbody>\n",
       "    <tr>\n",
       "      <th>0</th>\n",
       "      <td>8573</td>\n",
       "      <td>5</td>\n",
       "      <td>3</td>\n",
       "      <td>KV Oostende</td>\n",
       "      <td>OOS</td>\n",
       "      <td>Belgium</td>\n",
       "      <td>Belgium Jupiler League</td>\n",
       "      <td>1</td>\n",
       "      <td>1</td>\n",
       "      <td>1717865</td>\n",
       "      <td>Balanced</td>\n",
       "      <td>Normal</td>\n",
       "      <td>Mixed</td>\n",
       "      <td>Organised</td>\n",
       "      <td>Normal</td>\n",
       "      <td>Normal</td>\n",
       "      <td>Organised</td>\n",
       "      <td>Normal</td>\n",
       "      <td>Medium</td>\n",
       "      <td>Press</td>\n",
       "      <td>Normal</td>\n",
       "      <td>52</td>\n",
       "      <td>49.0</td>\n",
       "      <td>54</td>\n",
       "      <td>45</td>\n",
       "      <td>42</td>\n",
       "      <td>53</td>\n",
       "      <td>42</td>\n",
       "      <td>47</td>\n",
       "      <td>44</td>\n",
       "    </tr>\n",
       "    <tr>\n",
       "      <th>1</th>\n",
       "      <td>8571</td>\n",
       "      <td>0</td>\n",
       "      <td>5</td>\n",
       "      <td>KV Kortrijk</td>\n",
       "      <td>KOR</td>\n",
       "      <td>Belgium</td>\n",
       "      <td>Belgium Jupiler League</td>\n",
       "      <td>1</td>\n",
       "      <td>1</td>\n",
       "      <td>1717873</td>\n",
       "      <td>Balanced</td>\n",
       "      <td>Normal</td>\n",
       "      <td>Mixed</td>\n",
       "      <td>Organised</td>\n",
       "      <td>Lots</td>\n",
       "      <td>Little</td>\n",
       "      <td>Organised</td>\n",
       "      <td>Normal</td>\n",
       "      <td>Medium</td>\n",
       "      <td>Press</td>\n",
       "      <td>Normal</td>\n",
       "      <td>42</td>\n",
       "      <td>40.0</td>\n",
       "      <td>47</td>\n",
       "      <td>37</td>\n",
       "      <td>67</td>\n",
       "      <td>30</td>\n",
       "      <td>46</td>\n",
       "      <td>45</td>\n",
       "      <td>52</td>\n",
       "    </tr>\n",
       "    <tr>\n",
       "      <th>2</th>\n",
       "      <td>9984</td>\n",
       "      <td>2</td>\n",
       "      <td>3</td>\n",
       "      <td>KSV Cercle Brugge</td>\n",
       "      <td>CEB</td>\n",
       "      <td>Belgium</td>\n",
       "      <td>Belgium Jupiler League</td>\n",
       "      <td>1</td>\n",
       "      <td>1</td>\n",
       "      <td>1717874</td>\n",
       "      <td>Balanced</td>\n",
       "      <td>Normal</td>\n",
       "      <td>Mixed</td>\n",
       "      <td>Organised</td>\n",
       "      <td>Normal</td>\n",
       "      <td>Normal</td>\n",
       "      <td>Organised</td>\n",
       "      <td>Normal</td>\n",
       "      <td>Medium</td>\n",
       "      <td>Press</td>\n",
       "      <td>Normal</td>\n",
       "      <td>53</td>\n",
       "      <td>49.0</td>\n",
       "      <td>43</td>\n",
       "      <td>52</td>\n",
       "      <td>58</td>\n",
       "      <td>42</td>\n",
       "      <td>59</td>\n",
       "      <td>47</td>\n",
       "      <td>62</td>\n",
       "    </tr>\n",
       "  </tbody>\n",
       "</table>\n",
       "</div>"
      ],
      "text/plain": [
       "   away_team_api_id  away_team_goal  home_team_goal     team_long_name  \\\n",
       "0              8573               5               3        KV Oostende   \n",
       "1              8571               0               5        KV Kortrijk   \n",
       "2              9984               2               3  KSV Cercle Brugge   \n",
       "\n",
       "  team_short_name country_name             league_name  country_id  league_id  \\\n",
       "0             OOS      Belgium  Belgium Jupiler League           1          1   \n",
       "1             KOR      Belgium  Belgium Jupiler League           1          1   \n",
       "2             CEB      Belgium  Belgium Jupiler League           1          1   \n",
       "\n",
       "   match_api_id buildUpPlaySpeedClass buildUpPlayDribblingClass  \\\n",
       "0       1717865              Balanced                    Normal   \n",
       "1       1717873              Balanced                    Normal   \n",
       "2       1717874              Balanced                    Normal   \n",
       "\n",
       "  buildUpPlayPassingClass buildUpPlayPositioningClass  \\\n",
       "0                   Mixed                   Organised   \n",
       "1                   Mixed                   Organised   \n",
       "2                   Mixed                   Organised   \n",
       "\n",
       "  chanceCreationCrossingClass chanceCreationShootingClass  \\\n",
       "0                      Normal                      Normal   \n",
       "1                        Lots                      Little   \n",
       "2                      Normal                      Normal   \n",
       "\n",
       "  chanceCreationPositioningClass chanceCreationPassingClass  \\\n",
       "0                      Organised                     Normal   \n",
       "1                      Organised                     Normal   \n",
       "2                      Organised                     Normal   \n",
       "\n",
       "  defencePressureClass defenceAggressionClass defenceTeamWidthClass  \\\n",
       "0               Medium                  Press                Normal   \n",
       "1               Medium                  Press                Normal   \n",
       "2               Medium                  Press                Normal   \n",
       "\n",
       "   buildUpPlaySpeed  buildUpPlayDribbling  buildUpPlayPassing  \\\n",
       "0                52                  49.0                  54   \n",
       "1                42                  40.0                  47   \n",
       "2                53                  49.0                  43   \n",
       "\n",
       "   chanceCreationPassing  chanceCreationCrossing  chanceCreationShooting  \\\n",
       "0                     45                      42                      53   \n",
       "1                     37                      67                      30   \n",
       "2                     52                      58                      42   \n",
       "\n",
       "   defencePressure  defenceAggression  defenceTeamWidth  \n",
       "0               42                 47                44  \n",
       "1               46                 45                52  \n",
       "2               59                 47                62  "
      ]
     },
     "execution_count": 799,
     "metadata": {},
     "output_type": "execute_result"
    }
   ],
   "source": [
    "soccer_a[:3]"
   ]
  },
  {
   "cell_type": "code",
   "execution_count": 157,
   "id": "179c1a8c-3e89-4ce3-b618-835fb7aa43a8",
   "metadata": {},
   "outputs": [],
   "source": [
    "# # how does that work home-win away-win home-loss away-loss work? doble counting !?\n",
    "# figured out, using MOST RECENT game, with no aggregation (sum is out bc different amount of games, mean could work but it gives half numbersand frankly it's fun to have the scores be more dynamic, thank you CLT)\n",
    "# gb = match.groupby([\"home_team_api_id\"]).agg({\"home_win\": \"sum\", \"away_win\": \"sum\", \"draw\": \"sum\"}).rename(columns={\"home_win\": \"win\", \"away_win\": \"loss\"})\n",
    "# gb[\"sum\"] = gb.sum(axis=1)"
   ]
  },
  {
   "cell_type": "code",
   "execution_count": 813,
   "id": "eef62243-5358-45a3-8617-7ff8f67f1d19",
   "metadata": {},
   "outputs": [
    {
     "data": {
      "text/plain": [
       "Index(['home_team_api_id', 'home_team_goal', 'away_team_goal',\n",
       "       'team_long_name', 'team_short_name', 'country_name', 'league_name',\n",
       "       'country_id', 'league_id', 'match_api_id', 'buildUpPlaySpeedClass',\n",
       "       'buildUpPlayDribblingClass', 'buildUpPlayPassingClass',\n",
       "       'buildUpPlayPositioningClass', 'chanceCreationCrossingClass',\n",
       "       'chanceCreationShootingClass', 'chanceCreationPositioningClass',\n",
       "       'chanceCreationPassingClass', 'defencePressureClass',\n",
       "       'defenceAggressionClass', 'defenceTeamWidthClass', 'buildUpPlaySpeed',\n",
       "       'buildUpPlayDribbling', 'buildUpPlayPassing', 'chanceCreationPassing',\n",
       "       'chanceCreationCrossing', 'chanceCreationShooting', 'defencePressure',\n",
       "       'defenceAggression', 'defenceTeamWidth'],\n",
       "      dtype='object')"
      ]
     },
     "execution_count": 813,
     "metadata": {},
     "output_type": "execute_result"
    }
   ],
   "source": [
    "soccer_h.columns"
   ]
  },
  {
   "cell_type": "code",
   "execution_count": 815,
   "id": "c66f4a38-1ae8-4da8-93e2-db1666c037da",
   "metadata": {},
   "outputs": [
    {
     "data": {
      "text/html": [
       "<div>\n",
       "<style scoped>\n",
       "    .dataframe tbody tr th:only-of-type {\n",
       "        vertical-align: middle;\n",
       "    }\n",
       "\n",
       "    .dataframe tbody tr th {\n",
       "        vertical-align: top;\n",
       "    }\n",
       "\n",
       "    .dataframe thead th {\n",
       "        text-align: right;\n",
       "    }\n",
       "</style>\n",
       "<table border=\"1\" class=\"dataframe\">\n",
       "  <thead>\n",
       "    <tr style=\"text-align: right;\">\n",
       "      <th></th>\n",
       "      <th>home_team_api_id</th>\n",
       "      <th>home_team_goal</th>\n",
       "      <th>away_team_goal</th>\n",
       "      <th>team_long_name</th>\n",
       "      <th>team_short_name</th>\n",
       "      <th>country_name</th>\n",
       "      <th>league_name</th>\n",
       "      <th>country_id</th>\n",
       "      <th>league_id</th>\n",
       "      <th>match_api_id</th>\n",
       "      <th>buildUpPlaySpeedClass</th>\n",
       "      <th>buildUpPlayDribblingClass</th>\n",
       "      <th>buildUpPlayPassingClass</th>\n",
       "      <th>buildUpPlayPositioningClass</th>\n",
       "      <th>chanceCreationCrossingClass</th>\n",
       "      <th>chanceCreationShootingClass</th>\n",
       "      <th>chanceCreationPositioningClass</th>\n",
       "      <th>chanceCreationPassingClass</th>\n",
       "      <th>defencePressureClass</th>\n",
       "      <th>defenceAggressionClass</th>\n",
       "      <th>defenceTeamWidthClass</th>\n",
       "      <th>buildUpPlaySpeed</th>\n",
       "      <th>buildUpPlayDribbling</th>\n",
       "      <th>buildUpPlayPassing</th>\n",
       "      <th>chanceCreationPassing</th>\n",
       "      <th>chanceCreationCrossing</th>\n",
       "      <th>chanceCreationShooting</th>\n",
       "      <th>defencePressure</th>\n",
       "      <th>defenceAggression</th>\n",
       "      <th>defenceTeamWidth</th>\n",
       "    </tr>\n",
       "  </thead>\n",
       "  <tbody>\n",
       "    <tr>\n",
       "      <th>0</th>\n",
       "      <td>9989</td>\n",
       "      <td>2</td>\n",
       "      <td>2</td>\n",
       "      <td>Lierse SK</td>\n",
       "      <td>LIE</td>\n",
       "      <td>Belgium</td>\n",
       "      <td>Belgium Jupiler League</td>\n",
       "      <td>1</td>\n",
       "      <td>1</td>\n",
       "      <td>1717871</td>\n",
       "      <td>Fast</td>\n",
       "      <td>Normal</td>\n",
       "      <td>Mixed</td>\n",
       "      <td>Organised</td>\n",
       "      <td>Normal</td>\n",
       "      <td>Normal</td>\n",
       "      <td>Organised</td>\n",
       "      <td>Normal</td>\n",
       "      <td>Medium</td>\n",
       "      <td>Press</td>\n",
       "      <td>Normal</td>\n",
       "      <td>69</td>\n",
       "      <td>44.0</td>\n",
       "      <td>58</td>\n",
       "      <td>56</td>\n",
       "      <td>52</td>\n",
       "      <td>61</td>\n",
       "      <td>38</td>\n",
       "      <td>49</td>\n",
       "      <td>65</td>\n",
       "    </tr>\n",
       "    <tr>\n",
       "      <th>1</th>\n",
       "      <td>8342</td>\n",
       "      <td>5</td>\n",
       "      <td>0</td>\n",
       "      <td>Club Brugge KV</td>\n",
       "      <td>CLB</td>\n",
       "      <td>Belgium</td>\n",
       "      <td>Belgium Jupiler League</td>\n",
       "      <td>1</td>\n",
       "      <td>1</td>\n",
       "      <td>1717873</td>\n",
       "      <td>Balanced</td>\n",
       "      <td>Normal</td>\n",
       "      <td>Mixed</td>\n",
       "      <td>Organised</td>\n",
       "      <td>Normal</td>\n",
       "      <td>Normal</td>\n",
       "      <td>Organised</td>\n",
       "      <td>Normal</td>\n",
       "      <td>Medium</td>\n",
       "      <td>Press</td>\n",
       "      <td>Normal</td>\n",
       "      <td>42</td>\n",
       "      <td>52.0</td>\n",
       "      <td>45</td>\n",
       "      <td>42</td>\n",
       "      <td>57</td>\n",
       "      <td>47</td>\n",
       "      <td>51</td>\n",
       "      <td>50</td>\n",
       "      <td>57</td>\n",
       "    </tr>\n",
       "    <tr>\n",
       "      <th>2</th>\n",
       "      <td>8635</td>\n",
       "      <td>3</td>\n",
       "      <td>2</td>\n",
       "      <td>RSC Anderlecht</td>\n",
       "      <td>AND</td>\n",
       "      <td>Belgium</td>\n",
       "      <td>Belgium Jupiler League</td>\n",
       "      <td>1</td>\n",
       "      <td>1</td>\n",
       "      <td>1717874</td>\n",
       "      <td>Balanced</td>\n",
       "      <td>Normal</td>\n",
       "      <td>Mixed</td>\n",
       "      <td>Organised</td>\n",
       "      <td>Normal</td>\n",
       "      <td>Normal</td>\n",
       "      <td>Organised</td>\n",
       "      <td>Normal</td>\n",
       "      <td>Medium</td>\n",
       "      <td>Press</td>\n",
       "      <td>Normal</td>\n",
       "      <td>52</td>\n",
       "      <td>46.0</td>\n",
       "      <td>51</td>\n",
       "      <td>60</td>\n",
       "      <td>53</td>\n",
       "      <td>47</td>\n",
       "      <td>53</td>\n",
       "      <td>50</td>\n",
       "      <td>61</td>\n",
       "    </tr>\n",
       "  </tbody>\n",
       "</table>\n",
       "</div>"
      ],
      "text/plain": [
       "   home_team_api_id  home_team_goal  away_team_goal  team_long_name  \\\n",
       "0              9989               2               2       Lierse SK   \n",
       "1              8342               5               0  Club Brugge KV   \n",
       "2              8635               3               2  RSC Anderlecht   \n",
       "\n",
       "  team_short_name country_name             league_name  country_id  league_id  \\\n",
       "0             LIE      Belgium  Belgium Jupiler League           1          1   \n",
       "1             CLB      Belgium  Belgium Jupiler League           1          1   \n",
       "2             AND      Belgium  Belgium Jupiler League           1          1   \n",
       "\n",
       "   match_api_id buildUpPlaySpeedClass buildUpPlayDribblingClass  \\\n",
       "0       1717871                  Fast                    Normal   \n",
       "1       1717873              Balanced                    Normal   \n",
       "2       1717874              Balanced                    Normal   \n",
       "\n",
       "  buildUpPlayPassingClass buildUpPlayPositioningClass  \\\n",
       "0                   Mixed                   Organised   \n",
       "1                   Mixed                   Organised   \n",
       "2                   Mixed                   Organised   \n",
       "\n",
       "  chanceCreationCrossingClass chanceCreationShootingClass  \\\n",
       "0                      Normal                      Normal   \n",
       "1                      Normal                      Normal   \n",
       "2                      Normal                      Normal   \n",
       "\n",
       "  chanceCreationPositioningClass chanceCreationPassingClass  \\\n",
       "0                      Organised                     Normal   \n",
       "1                      Organised                     Normal   \n",
       "2                      Organised                     Normal   \n",
       "\n",
       "  defencePressureClass defenceAggressionClass defenceTeamWidthClass  \\\n",
       "0               Medium                  Press                Normal   \n",
       "1               Medium                  Press                Normal   \n",
       "2               Medium                  Press                Normal   \n",
       "\n",
       "   buildUpPlaySpeed  buildUpPlayDribbling  buildUpPlayPassing  \\\n",
       "0                69                  44.0                  58   \n",
       "1                42                  52.0                  45   \n",
       "2                52                  46.0                  51   \n",
       "\n",
       "   chanceCreationPassing  chanceCreationCrossing  chanceCreationShooting  \\\n",
       "0                     56                      52                      61   \n",
       "1                     42                      57                      47   \n",
       "2                     60                      53                      47   \n",
       "\n",
       "   defencePressure  defenceAggression  defenceTeamWidth  \n",
       "0               38                 49                65  \n",
       "1               51                 50                57  \n",
       "2               53                 50                61  "
      ]
     },
     "execution_count": 815,
     "metadata": {},
     "output_type": "execute_result"
    }
   ],
   "source": [
    "soccer_a[:3]\n",
    "soccer_h[:3]"
   ]
  },
  {
   "cell_type": "code",
   "execution_count": 814,
   "id": "e6a52fc0-e2fd-43ab-bdec-fb2b6a079067",
   "metadata": {},
   "outputs": [
    {
     "ename": "ValueError",
     "evalue": "Location based indexing can only have [integer, integer slice (START point is INCLUDED, END point is EXCLUDED), listlike of integers, boolean array] types",
     "output_type": "error",
     "traceback": [
      "\u001b[1;31m---------------------------------------------------------------------------\u001b[0m",
      "\u001b[1;31mValueError\u001b[0m                                Traceback (most recent call last)",
      "File \u001b[1;32m~\\Languages\\Lib\\site-packages\\pandas\\core\\indexing.py:966\u001b[0m, in \u001b[0;36m_LocationIndexer._validate_tuple_indexer\u001b[1;34m(self, key)\u001b[0m\n\u001b[0;32m    965\u001b[0m \u001b[38;5;28;01mtry\u001b[39;00m:\n\u001b[1;32m--> 966\u001b[0m     \u001b[38;5;28;43mself\u001b[39;49m\u001b[38;5;241;43m.\u001b[39;49m\u001b[43m_validate_key\u001b[49m\u001b[43m(\u001b[49m\u001b[43mk\u001b[49m\u001b[43m,\u001b[49m\u001b[43m \u001b[49m\u001b[43mi\u001b[49m\u001b[43m)\u001b[49m\n\u001b[0;32m    967\u001b[0m \u001b[38;5;28;01mexcept\u001b[39;00m \u001b[38;5;167;01mValueError\u001b[39;00m \u001b[38;5;28;01mas\u001b[39;00m err:\n",
      "File \u001b[1;32m~\\Languages\\Lib\\site-packages\\pandas\\core\\indexing.py:1614\u001b[0m, in \u001b[0;36m_iLocIndexer._validate_key\u001b[1;34m(self, key, axis)\u001b[0m\n\u001b[0;32m   1613\u001b[0m \u001b[38;5;28;01melse\u001b[39;00m:\n\u001b[1;32m-> 1614\u001b[0m     \u001b[38;5;28;01mraise\u001b[39;00m \u001b[38;5;167;01mValueError\u001b[39;00m(\u001b[38;5;124mf\u001b[39m\u001b[38;5;124m\"\u001b[39m\u001b[38;5;124mCan only index by location with a [\u001b[39m\u001b[38;5;132;01m{\u001b[39;00m\u001b[38;5;28mself\u001b[39m\u001b[38;5;241m.\u001b[39m_valid_types\u001b[38;5;132;01m}\u001b[39;00m\u001b[38;5;124m]\u001b[39m\u001b[38;5;124m\"\u001b[39m)\n",
      "\u001b[1;31mValueError\u001b[0m: Can only index by location with a [integer, integer slice (START point is INCLUDED, END point is EXCLUDED), listlike of integers, boolean array]",
      "\nThe above exception was the direct cause of the following exception:\n",
      "\u001b[1;31mValueError\u001b[0m                                Traceback (most recent call last)",
      "Cell \u001b[1;32mIn[814], line 3\u001b[0m\n\u001b[0;32m      1\u001b[0m x\u001b[38;5;241m=\u001b[39m[\u001b[38;5;124m\"\u001b[39m\u001b[38;5;124mA\u001b[39m\u001b[38;5;124m\"\u001b[39m]\n\u001b[1;32m----> 3\u001b[0m y \u001b[38;5;241m=\u001b[39m \u001b[43msoccer_h\u001b[49m\u001b[38;5;241;43m.\u001b[39;49m\u001b[43miloc\u001b[49m\u001b[43m[\u001b[49m\u001b[38;5;241;43m0\u001b[39;49m\u001b[43m,\u001b[49m\u001b[43m \u001b[49m\u001b[38;5;124;43m\"\u001b[39;49m\u001b[38;5;124;43mhome_team_goal\u001b[39;49m\u001b[38;5;124;43m\"\u001b[39;49m\u001b[43m]\u001b[49m\n",
      "File \u001b[1;32m~\\Languages\\Lib\\site-packages\\pandas\\core\\indexing.py:1184\u001b[0m, in \u001b[0;36m_LocationIndexer.__getitem__\u001b[1;34m(self, key)\u001b[0m\n\u001b[0;32m   1182\u001b[0m     \u001b[38;5;28;01mif\u001b[39;00m \u001b[38;5;28mself\u001b[39m\u001b[38;5;241m.\u001b[39m_is_scalar_access(key):\n\u001b[0;32m   1183\u001b[0m         \u001b[38;5;28;01mreturn\u001b[39;00m \u001b[38;5;28mself\u001b[39m\u001b[38;5;241m.\u001b[39mobj\u001b[38;5;241m.\u001b[39m_get_value(\u001b[38;5;241m*\u001b[39mkey, takeable\u001b[38;5;241m=\u001b[39m\u001b[38;5;28mself\u001b[39m\u001b[38;5;241m.\u001b[39m_takeable)\n\u001b[1;32m-> 1184\u001b[0m     \u001b[38;5;28;01mreturn\u001b[39;00m \u001b[38;5;28;43mself\u001b[39;49m\u001b[38;5;241;43m.\u001b[39;49m\u001b[43m_getitem_tuple\u001b[49m\u001b[43m(\u001b[49m\u001b[43mkey\u001b[49m\u001b[43m)\u001b[49m\n\u001b[0;32m   1185\u001b[0m \u001b[38;5;28;01melse\u001b[39;00m:\n\u001b[0;32m   1186\u001b[0m     \u001b[38;5;66;03m# we by definition only have the 0th axis\u001b[39;00m\n\u001b[0;32m   1187\u001b[0m     axis \u001b[38;5;241m=\u001b[39m \u001b[38;5;28mself\u001b[39m\u001b[38;5;241m.\u001b[39maxis \u001b[38;5;129;01mor\u001b[39;00m \u001b[38;5;241m0\u001b[39m\n",
      "File \u001b[1;32m~\\Languages\\Lib\\site-packages\\pandas\\core\\indexing.py:1690\u001b[0m, in \u001b[0;36m_iLocIndexer._getitem_tuple\u001b[1;34m(self, tup)\u001b[0m\n\u001b[0;32m   1689\u001b[0m \u001b[38;5;28;01mdef\u001b[39;00m \u001b[38;5;21m_getitem_tuple\u001b[39m(\u001b[38;5;28mself\u001b[39m, tup: \u001b[38;5;28mtuple\u001b[39m):\n\u001b[1;32m-> 1690\u001b[0m     tup \u001b[38;5;241m=\u001b[39m \u001b[38;5;28;43mself\u001b[39;49m\u001b[38;5;241;43m.\u001b[39;49m\u001b[43m_validate_tuple_indexer\u001b[49m\u001b[43m(\u001b[49m\u001b[43mtup\u001b[49m\u001b[43m)\u001b[49m\n\u001b[0;32m   1691\u001b[0m     \u001b[38;5;28;01mwith\u001b[39;00m suppress(IndexingError):\n\u001b[0;32m   1692\u001b[0m         \u001b[38;5;28;01mreturn\u001b[39;00m \u001b[38;5;28mself\u001b[39m\u001b[38;5;241m.\u001b[39m_getitem_lowerdim(tup)\n",
      "File \u001b[1;32m~\\Languages\\Lib\\site-packages\\pandas\\core\\indexing.py:968\u001b[0m, in \u001b[0;36m_LocationIndexer._validate_tuple_indexer\u001b[1;34m(self, key)\u001b[0m\n\u001b[0;32m    966\u001b[0m         \u001b[38;5;28mself\u001b[39m\u001b[38;5;241m.\u001b[39m_validate_key(k, i)\n\u001b[0;32m    967\u001b[0m     \u001b[38;5;28;01mexcept\u001b[39;00m \u001b[38;5;167;01mValueError\u001b[39;00m \u001b[38;5;28;01mas\u001b[39;00m err:\n\u001b[1;32m--> 968\u001b[0m         \u001b[38;5;28;01mraise\u001b[39;00m \u001b[38;5;167;01mValueError\u001b[39;00m(\n\u001b[0;32m    969\u001b[0m             \u001b[38;5;124m\"\u001b[39m\u001b[38;5;124mLocation based indexing can only have \u001b[39m\u001b[38;5;124m\"\u001b[39m\n\u001b[0;32m    970\u001b[0m             \u001b[38;5;124mf\u001b[39m\u001b[38;5;124m\"\u001b[39m\u001b[38;5;124m[\u001b[39m\u001b[38;5;132;01m{\u001b[39;00m\u001b[38;5;28mself\u001b[39m\u001b[38;5;241m.\u001b[39m_valid_types\u001b[38;5;132;01m}\u001b[39;00m\u001b[38;5;124m] types\u001b[39m\u001b[38;5;124m\"\u001b[39m\n\u001b[0;32m    971\u001b[0m         ) \u001b[38;5;28;01mfrom\u001b[39;00m \u001b[38;5;21;01merr\u001b[39;00m\n\u001b[0;32m    972\u001b[0m \u001b[38;5;28;01mreturn\u001b[39;00m key\n",
      "\u001b[1;31mValueError\u001b[0m: Location based indexing can only have [integer, integer slice (START point is INCLUDED, END point is EXCLUDED), listlike of integers, boolean array] types"
     ]
    }
   ],
   "source": [
    "x=[\"A\"]\n",
    "\n",
    "y = soccer_h.iloc[0, \"home_team_goal\"]"
   ]
  },
  {
   "cell_type": "code",
   "execution_count": 148,
   "id": "a8bfbaa9-1d15-460d-9455-bf50878971ce",
   "metadata": {},
   "outputs": [
    {
     "data": {
      "application/vnd.plotly.v1+json": {
       "config": {
        "plotlyServerURL": "https://plot.ly"
       },
       "data": [
        {
         "type": "bar",
         "x": [
          "1601"
         ],
         "y": [
          0.45
         ]
        },
        {
         "type": "bar",
         "x": [
          "1601"
         ],
         "y": [
          -0.31666666666666665
         ]
        },
        {
         "type": "bar",
         "x": [
          "1601"
         ],
         "y": [
          0.23333333333333334
         ]
        },
        {
         "type": "bar",
         "x": [
          "1773"
         ],
         "y": [
          0.35555555555555557
         ]
        },
        {
         "type": "bar",
         "x": [
          "1773"
         ],
         "y": [
          -0.35555555555555557
         ]
        },
        {
         "type": "bar",
         "x": [
          "1773"
         ],
         "y": [
          0.28888888888888886
         ]
        }
       ],
       "layout": {
        "autosize": true,
        "barmode": "relative",
        "template": {
         "data": {
          "bar": [
           {
            "error_x": {
             "color": "#2a3f5f"
            },
            "error_y": {
             "color": "#2a3f5f"
            },
            "marker": {
             "line": {
              "color": "#E5ECF6",
              "width": 0.5
             },
             "pattern": {
              "fillmode": "overlay",
              "size": 10,
              "solidity": 0.2
             }
            },
            "type": "bar"
           }
          ],
          "barpolar": [
           {
            "marker": {
             "line": {
              "color": "#E5ECF6",
              "width": 0.5
             },
             "pattern": {
              "fillmode": "overlay",
              "size": 10,
              "solidity": 0.2
             }
            },
            "type": "barpolar"
           }
          ],
          "carpet": [
           {
            "aaxis": {
             "endlinecolor": "#2a3f5f",
             "gridcolor": "white",
             "linecolor": "white",
             "minorgridcolor": "white",
             "startlinecolor": "#2a3f5f"
            },
            "baxis": {
             "endlinecolor": "#2a3f5f",
             "gridcolor": "white",
             "linecolor": "white",
             "minorgridcolor": "white",
             "startlinecolor": "#2a3f5f"
            },
            "type": "carpet"
           }
          ],
          "choropleth": [
           {
            "colorbar": {
             "outlinewidth": 0,
             "ticks": ""
            },
            "type": "choropleth"
           }
          ],
          "contour": [
           {
            "colorbar": {
             "outlinewidth": 0,
             "ticks": ""
            },
            "colorscale": [
             [
              0,
              "#0d0887"
             ],
             [
              0.1111111111111111,
              "#46039f"
             ],
             [
              0.2222222222222222,
              "#7201a8"
             ],
             [
              0.3333333333333333,
              "#9c179e"
             ],
             [
              0.4444444444444444,
              "#bd3786"
             ],
             [
              0.5555555555555556,
              "#d8576b"
             ],
             [
              0.6666666666666666,
              "#ed7953"
             ],
             [
              0.7777777777777778,
              "#fb9f3a"
             ],
             [
              0.8888888888888888,
              "#fdca26"
             ],
             [
              1,
              "#f0f921"
             ]
            ],
            "type": "contour"
           }
          ],
          "contourcarpet": [
           {
            "colorbar": {
             "outlinewidth": 0,
             "ticks": ""
            },
            "type": "contourcarpet"
           }
          ],
          "heatmap": [
           {
            "colorbar": {
             "outlinewidth": 0,
             "ticks": ""
            },
            "colorscale": [
             [
              0,
              "#0d0887"
             ],
             [
              0.1111111111111111,
              "#46039f"
             ],
             [
              0.2222222222222222,
              "#7201a8"
             ],
             [
              0.3333333333333333,
              "#9c179e"
             ],
             [
              0.4444444444444444,
              "#bd3786"
             ],
             [
              0.5555555555555556,
              "#d8576b"
             ],
             [
              0.6666666666666666,
              "#ed7953"
             ],
             [
              0.7777777777777778,
              "#fb9f3a"
             ],
             [
              0.8888888888888888,
              "#fdca26"
             ],
             [
              1,
              "#f0f921"
             ]
            ],
            "type": "heatmap"
           }
          ],
          "heatmapgl": [
           {
            "colorbar": {
             "outlinewidth": 0,
             "ticks": ""
            },
            "colorscale": [
             [
              0,
              "#0d0887"
             ],
             [
              0.1111111111111111,
              "#46039f"
             ],
             [
              0.2222222222222222,
              "#7201a8"
             ],
             [
              0.3333333333333333,
              "#9c179e"
             ],
             [
              0.4444444444444444,
              "#bd3786"
             ],
             [
              0.5555555555555556,
              "#d8576b"
             ],
             [
              0.6666666666666666,
              "#ed7953"
             ],
             [
              0.7777777777777778,
              "#fb9f3a"
             ],
             [
              0.8888888888888888,
              "#fdca26"
             ],
             [
              1,
              "#f0f921"
             ]
            ],
            "type": "heatmapgl"
           }
          ],
          "histogram": [
           {
            "marker": {
             "pattern": {
              "fillmode": "overlay",
              "size": 10,
              "solidity": 0.2
             }
            },
            "type": "histogram"
           }
          ],
          "histogram2d": [
           {
            "colorbar": {
             "outlinewidth": 0,
             "ticks": ""
            },
            "colorscale": [
             [
              0,
              "#0d0887"
             ],
             [
              0.1111111111111111,
              "#46039f"
             ],
             [
              0.2222222222222222,
              "#7201a8"
             ],
             [
              0.3333333333333333,
              "#9c179e"
             ],
             [
              0.4444444444444444,
              "#bd3786"
             ],
             [
              0.5555555555555556,
              "#d8576b"
             ],
             [
              0.6666666666666666,
              "#ed7953"
             ],
             [
              0.7777777777777778,
              "#fb9f3a"
             ],
             [
              0.8888888888888888,
              "#fdca26"
             ],
             [
              1,
              "#f0f921"
             ]
            ],
            "type": "histogram2d"
           }
          ],
          "histogram2dcontour": [
           {
            "colorbar": {
             "outlinewidth": 0,
             "ticks": ""
            },
            "colorscale": [
             [
              0,
              "#0d0887"
             ],
             [
              0.1111111111111111,
              "#46039f"
             ],
             [
              0.2222222222222222,
              "#7201a8"
             ],
             [
              0.3333333333333333,
              "#9c179e"
             ],
             [
              0.4444444444444444,
              "#bd3786"
             ],
             [
              0.5555555555555556,
              "#d8576b"
             ],
             [
              0.6666666666666666,
              "#ed7953"
             ],
             [
              0.7777777777777778,
              "#fb9f3a"
             ],
             [
              0.8888888888888888,
              "#fdca26"
             ],
             [
              1,
              "#f0f921"
             ]
            ],
            "type": "histogram2dcontour"
           }
          ],
          "mesh3d": [
           {
            "colorbar": {
             "outlinewidth": 0,
             "ticks": ""
            },
            "type": "mesh3d"
           }
          ],
          "parcoords": [
           {
            "line": {
             "colorbar": {
              "outlinewidth": 0,
              "ticks": ""
             }
            },
            "type": "parcoords"
           }
          ],
          "pie": [
           {
            "automargin": true,
            "type": "pie"
           }
          ],
          "scatter": [
           {
            "fillpattern": {
             "fillmode": "overlay",
             "size": 10,
             "solidity": 0.2
            },
            "type": "scatter"
           }
          ],
          "scatter3d": [
           {
            "line": {
             "colorbar": {
              "outlinewidth": 0,
              "ticks": ""
             }
            },
            "marker": {
             "colorbar": {
              "outlinewidth": 0,
              "ticks": ""
             }
            },
            "type": "scatter3d"
           }
          ],
          "scattercarpet": [
           {
            "marker": {
             "colorbar": {
              "outlinewidth": 0,
              "ticks": ""
             }
            },
            "type": "scattercarpet"
           }
          ],
          "scattergeo": [
           {
            "marker": {
             "colorbar": {
              "outlinewidth": 0,
              "ticks": ""
             }
            },
            "type": "scattergeo"
           }
          ],
          "scattergl": [
           {
            "marker": {
             "colorbar": {
              "outlinewidth": 0,
              "ticks": ""
             }
            },
            "type": "scattergl"
           }
          ],
          "scattermapbox": [
           {
            "marker": {
             "colorbar": {
              "outlinewidth": 0,
              "ticks": ""
             }
            },
            "type": "scattermapbox"
           }
          ],
          "scatterpolar": [
           {
            "marker": {
             "colorbar": {
              "outlinewidth": 0,
              "ticks": ""
             }
            },
            "type": "scatterpolar"
           }
          ],
          "scatterpolargl": [
           {
            "marker": {
             "colorbar": {
              "outlinewidth": 0,
              "ticks": ""
             }
            },
            "type": "scatterpolargl"
           }
          ],
          "scatterternary": [
           {
            "marker": {
             "colorbar": {
              "outlinewidth": 0,
              "ticks": ""
             }
            },
            "type": "scatterternary"
           }
          ],
          "surface": [
           {
            "colorbar": {
             "outlinewidth": 0,
             "ticks": ""
            },
            "colorscale": [
             [
              0,
              "#0d0887"
             ],
             [
              0.1111111111111111,
              "#46039f"
             ],
             [
              0.2222222222222222,
              "#7201a8"
             ],
             [
              0.3333333333333333,
              "#9c179e"
             ],
             [
              0.4444444444444444,
              "#bd3786"
             ],
             [
              0.5555555555555556,
              "#d8576b"
             ],
             [
              0.6666666666666666,
              "#ed7953"
             ],
             [
              0.7777777777777778,
              "#fb9f3a"
             ],
             [
              0.8888888888888888,
              "#fdca26"
             ],
             [
              1,
              "#f0f921"
             ]
            ],
            "type": "surface"
           }
          ],
          "table": [
           {
            "cells": {
             "fill": {
              "color": "#EBF0F8"
             },
             "line": {
              "color": "white"
             }
            },
            "header": {
             "fill": {
              "color": "#C8D4E3"
             },
             "line": {
              "color": "white"
             }
            },
            "type": "table"
           }
          ]
         },
         "layout": {
          "annotationdefaults": {
           "arrowcolor": "#2a3f5f",
           "arrowhead": 0,
           "arrowwidth": 1
          },
          "autotypenumbers": "strict",
          "coloraxis": {
           "colorbar": {
            "outlinewidth": 0,
            "ticks": ""
           }
          },
          "colorscale": {
           "diverging": [
            [
             0,
             "#8e0152"
            ],
            [
             0.1,
             "#c51b7d"
            ],
            [
             0.2,
             "#de77ae"
            ],
            [
             0.3,
             "#f1b6da"
            ],
            [
             0.4,
             "#fde0ef"
            ],
            [
             0.5,
             "#f7f7f7"
            ],
            [
             0.6,
             "#e6f5d0"
            ],
            [
             0.7,
             "#b8e186"
            ],
            [
             0.8,
             "#7fbc41"
            ],
            [
             0.9,
             "#4d9221"
            ],
            [
             1,
             "#276419"
            ]
           ],
           "sequential": [
            [
             0,
             "#0d0887"
            ],
            [
             0.1111111111111111,
             "#46039f"
            ],
            [
             0.2222222222222222,
             "#7201a8"
            ],
            [
             0.3333333333333333,
             "#9c179e"
            ],
            [
             0.4444444444444444,
             "#bd3786"
            ],
            [
             0.5555555555555556,
             "#d8576b"
            ],
            [
             0.6666666666666666,
             "#ed7953"
            ],
            [
             0.7777777777777778,
             "#fb9f3a"
            ],
            [
             0.8888888888888888,
             "#fdca26"
            ],
            [
             1,
             "#f0f921"
            ]
           ],
           "sequentialminus": [
            [
             0,
             "#0d0887"
            ],
            [
             0.1111111111111111,
             "#46039f"
            ],
            [
             0.2222222222222222,
             "#7201a8"
            ],
            [
             0.3333333333333333,
             "#9c179e"
            ],
            [
             0.4444444444444444,
             "#bd3786"
            ],
            [
             0.5555555555555556,
             "#d8576b"
            ],
            [
             0.6666666666666666,
             "#ed7953"
            ],
            [
             0.7777777777777778,
             "#fb9f3a"
            ],
            [
             0.8888888888888888,
             "#fdca26"
            ],
            [
             1,
             "#f0f921"
            ]
           ]
          },
          "colorway": [
           "#636efa",
           "#EF553B",
           "#00cc96",
           "#ab63fa",
           "#FFA15A",
           "#19d3f3",
           "#FF6692",
           "#B6E880",
           "#FF97FF",
           "#FECB52"
          ],
          "font": {
           "color": "#2a3f5f"
          },
          "geo": {
           "bgcolor": "white",
           "lakecolor": "white",
           "landcolor": "#E5ECF6",
           "showlakes": true,
           "showland": true,
           "subunitcolor": "white"
          },
          "hoverlabel": {
           "align": "left"
          },
          "hovermode": "closest",
          "mapbox": {
           "style": "light"
          },
          "paper_bgcolor": "white",
          "plot_bgcolor": "#E5ECF6",
          "polar": {
           "angularaxis": {
            "gridcolor": "white",
            "linecolor": "white",
            "ticks": ""
           },
           "bgcolor": "#E5ECF6",
           "radialaxis": {
            "gridcolor": "white",
            "linecolor": "white",
            "ticks": ""
           }
          },
          "scene": {
           "xaxis": {
            "backgroundcolor": "#E5ECF6",
            "gridcolor": "white",
            "gridwidth": 2,
            "linecolor": "white",
            "showbackground": true,
            "ticks": "",
            "zerolinecolor": "white"
           },
           "yaxis": {
            "backgroundcolor": "#E5ECF6",
            "gridcolor": "white",
            "gridwidth": 2,
            "linecolor": "white",
            "showbackground": true,
            "ticks": "",
            "zerolinecolor": "white"
           },
           "zaxis": {
            "backgroundcolor": "#E5ECF6",
            "gridcolor": "white",
            "gridwidth": 2,
            "linecolor": "white",
            "showbackground": true,
            "ticks": "",
            "zerolinecolor": "white"
           }
          },
          "shapedefaults": {
           "line": {
            "color": "#2a3f5f"
           }
          },
          "ternary": {
           "aaxis": {
            "gridcolor": "white",
            "linecolor": "white",
            "ticks": ""
           },
           "baxis": {
            "gridcolor": "white",
            "linecolor": "white",
            "ticks": ""
           },
           "bgcolor": "#E5ECF6",
           "caxis": {
            "gridcolor": "white",
            "linecolor": "white",
            "ticks": ""
           }
          },
          "title": {
           "x": 0.05
          },
          "xaxis": {
           "automargin": true,
           "gridcolor": "white",
           "linecolor": "white",
           "ticks": "",
           "title": {
            "standoff": 15
           },
           "zerolinecolor": "white",
           "zerolinewidth": 2
          },
          "yaxis": {
           "automargin": true,
           "gridcolor": "white",
           "linecolor": "white",
           "ticks": "",
           "title": {
            "standoff": 15
           },
           "zerolinecolor": "white",
           "zerolinewidth": 2
          }
         }
        },
        "title": {
         "text": "Relative Barmode"
        },
        "xaxis": {
         "autorange": true,
         "range": [
          -0.5,
          1.5
         ],
         "type": "category"
        },
        "yaxis": {
         "autorange": true,
         "range": [
          -0.41327160493827164,
          0.7410493827160494
         ],
         "type": "linear"
        }
       }
      },
      "image/png": "[encoded data removed]",
      "text/html": [
       "<div>                            <div id=\"9d4057e9-7dca-4640-a862-7ecf7a1e5d9c\" class=\"plotly-graph-div\" style=\"height:525px; width:100%;\"></div>            <script type=\"text/javascript\">                require([\"plotly\"], function(Plotly) {                    window.PLOTLYENV=window.PLOTLYENV || {};                                    if (document.getElementById(\"9d4057e9-7dca-4640-a862-7ecf7a1e5d9c\")) {                    Plotly.newPlot(                        \"9d4057e9-7dca-4640-a862-7ecf7a1e5d9c\",                        [{\"x\":[\"1601\"],\"y\":[0.45],\"type\":\"bar\"},{\"x\":[\"1601\"],\"y\":[-0.31666666666666665],\"type\":\"bar\"},{\"x\":[\"1601\"],\"y\":[0.23333333333333334],\"type\":\"bar\"},{\"x\":[\"1773\"],\"y\":[0.35555555555555557],\"type\":\"bar\"},{\"x\":[\"1773\"],\"y\":[-0.35555555555555557],\"type\":\"bar\"},{\"x\":[\"1773\"],\"y\":[0.28888888888888886],\"type\":\"bar\"}],                        {\"template\":{\"data\":{\"histogram2dcontour\":[{\"type\":\"histogram2dcontour\",\"colorbar\":{\"outlinewidth\":0,\"ticks\":\"\"},\"colorscale\":[[0.0,\"#0d0887\"],[0.1111111111111111,\"#46039f\"],[0.2222222222222222,\"#7201a8\"],[0.3333333333333333,\"#9c179e\"],[0.4444444444444444,\"#bd3786\"],[0.5555555555555556,\"#d8576b\"],[0.6666666666666666,\"#ed7953\"],[0.7777777777777778,\"#fb9f3a\"],[0.8888888888888888,\"#fdca26\"],[1.0,\"#f0f921\"]]}],\"choropleth\":[{\"type\":\"choropleth\",\"colorbar\":{\"outlinewidth\":0,\"ticks\":\"\"}}],\"histogram2d\":[{\"type\":\"histogram2d\",\"colorbar\":{\"outlinewidth\":0,\"ticks\":\"\"},\"colorscale\":[[0.0,\"#0d0887\"],[0.1111111111111111,\"#46039f\"],[0.2222222222222222,\"#7201a8\"],[0.3333333333333333,\"#9c179e\"],[0.4444444444444444,\"#bd3786\"],[0.5555555555555556,\"#d8576b\"],[0.6666666666666666,\"#ed7953\"],[0.7777777777777778,\"#fb9f3a\"],[0.8888888888888888,\"#fdca26\"],[1.0,\"#f0f921\"]]}],\"heatmap\":[{\"type\":\"heatmap\",\"colorbar\":{\"outlinewidth\":0,\"ticks\":\"\"},\"colorscale\":[[0.0,\"#0d0887\"],[0.1111111111111111,\"#46039f\"],[0.2222222222222222,\"#7201a8\"],[0.3333333333333333,\"#9c179e\"],[0.4444444444444444,\"#bd3786\"],[0.5555555555555556,\"#d8576b\"],[0.6666666666666666,\"#ed7953\"],[0.7777777777777778,\"#fb9f3a\"],[0.8888888888888888,\"#fdca26\"],[1.0,\"#f0f921\"]]}],\"heatmapgl\":[{\"type\":\"heatmapgl\",\"colorbar\":{\"outlinewidth\":0,\"ticks\":\"\"},\"colorscale\":[[0.0,\"#0d0887\"],[0.1111111111111111,\"#46039f\"],[0.2222222222222222,\"#7201a8\"],[0.3333333333333333,\"#9c179e\"],[0.4444444444444444,\"#bd3786\"],[0.5555555555555556,\"#d8576b\"],[0.6666666666666666,\"#ed7953\"],[0.7777777777777778,\"#fb9f3a\"],[0.8888888888888888,\"#fdca26\"],[1.0,\"#f0f921\"]]}],\"contourcarpet\":[{\"type\":\"contourcarpet\",\"colorbar\":{\"outlinewidth\":0,\"ticks\":\"\"}}],\"contour\":[{\"type\":\"contour\",\"colorbar\":{\"outlinewidth\":0,\"ticks\":\"\"},\"colorscale\":[[0.0,\"#0d0887\"],[0.1111111111111111,\"#46039f\"],[0.2222222222222222,\"#7201a8\"],[0.3333333333333333,\"#9c179e\"],[0.4444444444444444,\"#bd3786\"],[0.5555555555555556,\"#d8576b\"],[0.6666666666666666,\"#ed7953\"],[0.7777777777777778,\"#fb9f3a\"],[0.8888888888888888,\"#fdca26\"],[1.0,\"#f0f921\"]]}],\"surface\":[{\"type\":\"surface\",\"colorbar\":{\"outlinewidth\":0,\"ticks\":\"\"},\"colorscale\":[[0.0,\"#0d0887\"],[0.1111111111111111,\"#46039f\"],[0.2222222222222222,\"#7201a8\"],[0.3333333333333333,\"#9c179e\"],[0.4444444444444444,\"#bd3786\"],[0.5555555555555556,\"#d8576b\"],[0.6666666666666666,\"#ed7953\"],[0.7777777777777778,\"#fb9f3a\"],[0.8888888888888888,\"#fdca26\"],[1.0,\"#f0f921\"]]}],\"mesh3d\":[{\"type\":\"mesh3d\",\"colorbar\":{\"outlinewidth\":0,\"ticks\":\"\"}}],\"scatter\":[{\"fillpattern\":{\"fillmode\":\"overlay\",\"size\":10,\"solidity\":0.2},\"type\":\"scatter\"}],\"parcoords\":[{\"type\":\"parcoords\",\"line\":{\"colorbar\":{\"outlinewidth\":0,\"ticks\":\"\"}}}],\"scatterpolargl\":[{\"type\":\"scatterpolargl\",\"marker\":{\"colorbar\":{\"outlinewidth\":0,\"ticks\":\"\"}}}],\"bar\":[{\"error_x\":{\"color\":\"#2a3f5f\"},\"error_y\":{\"color\":\"#2a3f5f\"},\"marker\":{\"line\":{\"color\":\"#E5ECF6\",\"width\":0.5},\"pattern\":{\"fillmode\":\"overlay\",\"size\":10,\"solidity\":0.2}},\"type\":\"bar\"}],\"scattergeo\":[{\"type\":\"scattergeo\",\"marker\":{\"colorbar\":{\"outlinewidth\":0,\"ticks\":\"\"}}}],\"scatterpolar\":[{\"type\":\"scatterpolar\",\"marker\":{\"colorbar\":{\"outlinewidth\":0,\"ticks\":\"\"}}}],\"histogram\":[{\"marker\":{\"pattern\":{\"fillmode\":\"overlay\",\"size\":10,\"solidity\":0.2}},\"type\":\"histogram\"}],\"scattergl\":[{\"type\":\"scattergl\",\"marker\":{\"colorbar\":{\"outlinewidth\":0,\"ticks\":\"\"}}}],\"scatter3d\":[{\"type\":\"scatter3d\",\"line\":{\"colorbar\":{\"outlinewidth\":0,\"ticks\":\"\"}},\"marker\":{\"colorbar\":{\"outlinewidth\":0,\"ticks\":\"\"}}}],\"scattermapbox\":[{\"type\":\"scattermapbox\",\"marker\":{\"colorbar\":{\"outlinewidth\":0,\"ticks\":\"\"}}}],\"scatterternary\":[{\"type\":\"scatterternary\",\"marker\":{\"colorbar\":{\"outlinewidth\":0,\"ticks\":\"\"}}}],\"scattercarpet\":[{\"type\":\"scattercarpet\",\"marker\":{\"colorbar\":{\"outlinewidth\":0,\"ticks\":\"\"}}}],\"carpet\":[{\"aaxis\":{\"endlinecolor\":\"#2a3f5f\",\"gridcolor\":\"white\",\"linecolor\":\"white\",\"minorgridcolor\":\"white\",\"startlinecolor\":\"#2a3f5f\"},\"baxis\":{\"endlinecolor\":\"#2a3f5f\",\"gridcolor\":\"white\",\"linecolor\":\"white\",\"minorgridcolor\":\"white\",\"startlinecolor\":\"#2a3f5f\"},\"type\":\"carpet\"}],\"table\":[{\"cells\":{\"fill\":{\"color\":\"#EBF0F8\"},\"line\":{\"color\":\"white\"}},\"header\":{\"fill\":{\"color\":\"#C8D4E3\"},\"line\":{\"color\":\"white\"}},\"type\":\"table\"}],\"barpolar\":[{\"marker\":{\"line\":{\"color\":\"#E5ECF6\",\"width\":0.5},\"pattern\":{\"fillmode\":\"overlay\",\"size\":10,\"solidity\":0.2}},\"type\":\"barpolar\"}],\"pie\":[{\"automargin\":true,\"type\":\"pie\"}]},\"layout\":{\"autotypenumbers\":\"strict\",\"colorway\":[\"#636efa\",\"#EF553B\",\"#00cc96\",\"#ab63fa\",\"#FFA15A\",\"#19d3f3\",\"#FF6692\",\"#B6E880\",\"#FF97FF\",\"#FECB52\"],\"font\":{\"color\":\"#2a3f5f\"},\"hovermode\":\"closest\",\"hoverlabel\":{\"align\":\"left\"},\"paper_bgcolor\":\"white\",\"plot_bgcolor\":\"#E5ECF6\",\"polar\":{\"bgcolor\":\"#E5ECF6\",\"angularaxis\":{\"gridcolor\":\"white\",\"linecolor\":\"white\",\"ticks\":\"\"},\"radialaxis\":{\"gridcolor\":\"white\",\"linecolor\":\"white\",\"ticks\":\"\"}},\"ternary\":{\"bgcolor\":\"#E5ECF6\",\"aaxis\":{\"gridcolor\":\"white\",\"linecolor\":\"white\",\"ticks\":\"\"},\"baxis\":{\"gridcolor\":\"white\",\"linecolor\":\"white\",\"ticks\":\"\"},\"caxis\":{\"gridcolor\":\"white\",\"linecolor\":\"white\",\"ticks\":\"\"}},\"coloraxis\":{\"colorbar\":{\"outlinewidth\":0,\"ticks\":\"\"}},\"colorscale\":{\"sequential\":[[0.0,\"#0d0887\"],[0.1111111111111111,\"#46039f\"],[0.2222222222222222,\"#7201a8\"],[0.3333333333333333,\"#9c179e\"],[0.4444444444444444,\"#bd3786\"],[0.5555555555555556,\"#d8576b\"],[0.6666666666666666,\"#ed7953\"],[0.7777777777777778,\"#fb9f3a\"],[0.8888888888888888,\"#fdca26\"],[1.0,\"#f0f921\"]],\"sequentialminus\":[[0.0,\"#0d0887\"],[0.1111111111111111,\"#46039f\"],[0.2222222222222222,\"#7201a8\"],[0.3333333333333333,\"#9c179e\"],[0.4444444444444444,\"#bd3786\"],[0.5555555555555556,\"#d8576b\"],[0.6666666666666666,\"#ed7953\"],[0.7777777777777778,\"#fb9f3a\"],[0.8888888888888888,\"#fdca26\"],[1.0,\"#f0f921\"]],\"diverging\":[[0,\"#8e0152\"],[0.1,\"#c51b7d\"],[0.2,\"#de77ae\"],[0.3,\"#f1b6da\"],[0.4,\"#fde0ef\"],[0.5,\"#f7f7f7\"],[0.6,\"#e6f5d0\"],[0.7,\"#b8e186\"],[0.8,\"#7fbc41\"],[0.9,\"#4d9221\"],[1,\"#276419\"]]},\"xaxis\":{\"gridcolor\":\"white\",\"linecolor\":\"white\",\"ticks\":\"\",\"title\":{\"standoff\":15},\"zerolinecolor\":\"white\",\"automargin\":true,\"zerolinewidth\":2},\"yaxis\":{\"gridcolor\":\"white\",\"linecolor\":\"white\",\"ticks\":\"\",\"title\":{\"standoff\":15},\"zerolinecolor\":\"white\",\"automargin\":true,\"zerolinewidth\":2},\"scene\":{\"xaxis\":{\"backgroundcolor\":\"#E5ECF6\",\"gridcolor\":\"white\",\"linecolor\":\"white\",\"showbackground\":true,\"ticks\":\"\",\"zerolinecolor\":\"white\",\"gridwidth\":2},\"yaxis\":{\"backgroundcolor\":\"#E5ECF6\",\"gridcolor\":\"white\",\"linecolor\":\"white\",\"showbackground\":true,\"ticks\":\"\",\"zerolinecolor\":\"white\",\"gridwidth\":2},\"zaxis\":{\"backgroundcolor\":\"#E5ECF6\",\"gridcolor\":\"white\",\"linecolor\":\"white\",\"showbackground\":true,\"ticks\":\"\",\"zerolinecolor\":\"white\",\"gridwidth\":2}},\"shapedefaults\":{\"line\":{\"color\":\"#2a3f5f\"}},\"annotationdefaults\":{\"arrowcolor\":\"#2a3f5f\",\"arrowhead\":0,\"arrowwidth\":1},\"geo\":{\"bgcolor\":\"white\",\"landcolor\":\"#E5ECF6\",\"subunitcolor\":\"white\",\"showland\":true,\"showlakes\":true,\"lakecolor\":\"white\"},\"title\":{\"x\":0.05},\"mapbox\":{\"style\":\"light\"}}},\"title\":{\"text\":\"Relative Barmode\"},\"barmode\":\"relative\"},                        {\"responsive\": true}                    ).then(function(){\n",
       "                            \n",
       "var gd = document.getElementById('9d4057e9-7dca-4640-a862-7ecf7a1e5d9c');\n",
       "var x = new MutationObserver(function (mutations, observer) {{\n",
       "        var display = window.getComputedStyle(gd).display;\n",
       "        if (!display || display === 'none') {{\n",
       "            console.log([gd, 'removed!']);\n",
       "            Plotly.purge(gd);\n",
       "            observer.disconnect();\n",
       "        }}\n",
       "}});\n",
       "\n",
       "// Listen for the removal of the full notebook cells\n",
       "var notebookContainer = gd.closest('#notebook-container');\n",
       "if (notebookContainer) {{\n",
       "    x.observe(notebookContainer, {childList: true});\n",
       "}}\n",
       "\n",
       "// Listen for the clearing of the current output cell\n",
       "var outputEl = gd.closest('.output');\n",
       "if (outputEl) {{\n",
       "    x.observe(outputEl, {childList: true});\n",
       "}}\n",
       "\n",
       "                        })                };                });            </script>        </div>"
      ]
     },
     "metadata": {},
     "output_type": "display_data"
    }
   ],
   "source": [
    "import plotly.graph_objects as go\n",
    "\n",
    "trace1 = go.Bar(x=[str(x[0])], y=[y1[0]])\n",
    "trace2 = go.Bar(x=[str(x[0])], y=[y2[0]])\n",
    "trace3 = go.Bar(x=[str(x[0])], y=[y3[0]])\n",
    "\n",
    "trace4 = go.Bar(x=[str(x[1])], y=[y1[1]])\n",
    "trace5 = go.Bar(x=[str(x[1])], y=[y2[1]])\n",
    "trace6 = go.Bar(x=[str(x[1])], y=[y3[1]])\n",
    "\n",
    "\n",
    "traces = [trace1, trace2, trace3, trace4, trace5, trace6]\n",
    "\n",
    "fig = go.Figure(traces)\n",
    "fig.update_layout(barmode='relative', title_text='Relative Barmode')\n",
    "fig.show()"
   ]
  },
  {
   "cell_type": "code",
   "execution_count": 807,
   "id": "1e1c4bde-a94f-43a9-bd16-3f69f52de536",
   "metadata": {},
   "outputs": [
    {
     "ename": "KeyboardInterrupt",
     "evalue": "",
     "output_type": "error",
     "traceback": [
      "\u001b[1;31m---------------------------------------------------------------------------\u001b[0m",
      "\u001b[1;31mKeyboardInterrupt\u001b[0m                         Traceback (most recent call last)",
      "Cell \u001b[1;32mIn[807], line 1\u001b[0m\n\u001b[1;32m----> 1\u001b[0m player \u001b[38;5;241m=\u001b[39m \u001b[43mpd\u001b[49m\u001b[38;5;241;43m.\u001b[39;49m\u001b[43mread_sql\u001b[49m\u001b[43m(\u001b[49m\u001b[38;5;124;43m\"\"\"\u001b[39;49m\u001b[38;5;124;43m SELECT * FROM match; \u001b[39;49m\u001b[38;5;124;43m\"\"\"\u001b[39;49m\u001b[43m,\u001b[49m\u001b[43m \u001b[49m\u001b[43mconn\u001b[49m\u001b[43m)\u001b[49m\n\u001b[0;32m      2\u001b[0m player[:\u001b[38;5;241m10\u001b[39m]\n",
      "File \u001b[1;32m~\\Languages\\Lib\\site-packages\\pandas\\io\\sql.py:706\u001b[0m, in \u001b[0;36mread_sql\u001b[1;34m(sql, con, index_col, coerce_float, params, parse_dates, columns, chunksize, dtype_backend, dtype)\u001b[0m\n\u001b[0;32m    704\u001b[0m \u001b[38;5;28;01mwith\u001b[39;00m pandasSQL_builder(con) \u001b[38;5;28;01mas\u001b[39;00m pandas_sql:\n\u001b[0;32m    705\u001b[0m     \u001b[38;5;28;01mif\u001b[39;00m \u001b[38;5;28misinstance\u001b[39m(pandas_sql, SQLiteDatabase):\n\u001b[1;32m--> 706\u001b[0m         \u001b[38;5;28;01mreturn\u001b[39;00m \u001b[43mpandas_sql\u001b[49m\u001b[38;5;241;43m.\u001b[39;49m\u001b[43mread_query\u001b[49m\u001b[43m(\u001b[49m\n\u001b[0;32m    707\u001b[0m \u001b[43m            \u001b[49m\u001b[43msql\u001b[49m\u001b[43m,\u001b[49m\n\u001b[0;32m    708\u001b[0m \u001b[43m            \u001b[49m\u001b[43mindex_col\u001b[49m\u001b[38;5;241;43m=\u001b[39;49m\u001b[43mindex_col\u001b[49m\u001b[43m,\u001b[49m\n\u001b[0;32m    709\u001b[0m \u001b[43m            \u001b[49m\u001b[43mparams\u001b[49m\u001b[38;5;241;43m=\u001b[39;49m\u001b[43mparams\u001b[49m\u001b[43m,\u001b[49m\n\u001b[0;32m    710\u001b[0m \u001b[43m            \u001b[49m\u001b[43mcoerce_float\u001b[49m\u001b[38;5;241;43m=\u001b[39;49m\u001b[43mcoerce_float\u001b[49m\u001b[43m,\u001b[49m\n\u001b[0;32m    711\u001b[0m \u001b[43m            \u001b[49m\u001b[43mparse_dates\u001b[49m\u001b[38;5;241;43m=\u001b[39;49m\u001b[43mparse_dates\u001b[49m\u001b[43m,\u001b[49m\n\u001b[0;32m    712\u001b[0m \u001b[43m            \u001b[49m\u001b[43mchunksize\u001b[49m\u001b[38;5;241;43m=\u001b[39;49m\u001b[43mchunksize\u001b[49m\u001b[43m,\u001b[49m\n\u001b[0;32m    713\u001b[0m \u001b[43m            \u001b[49m\u001b[43mdtype_backend\u001b[49m\u001b[38;5;241;43m=\u001b[39;49m\u001b[43mdtype_backend\u001b[49m\u001b[43m,\u001b[49m\n\u001b[0;32m    714\u001b[0m \u001b[43m            \u001b[49m\u001b[43mdtype\u001b[49m\u001b[38;5;241;43m=\u001b[39;49m\u001b[43mdtype\u001b[49m\u001b[43m,\u001b[49m\n\u001b[0;32m    715\u001b[0m \u001b[43m        \u001b[49m\u001b[43m)\u001b[49m\n\u001b[0;32m    717\u001b[0m     \u001b[38;5;28;01mtry\u001b[39;00m:\n\u001b[0;32m    718\u001b[0m         _is_table_name \u001b[38;5;241m=\u001b[39m pandas_sql\u001b[38;5;241m.\u001b[39mhas_table(sql)\n",
      "File \u001b[1;32m~\\Languages\\Lib\\site-packages\\pandas\\io\\sql.py:2753\u001b[0m, in \u001b[0;36mSQLiteDatabase.read_query\u001b[1;34m(self, sql, index_col, coerce_float, parse_dates, params, chunksize, dtype, dtype_backend)\u001b[0m\n\u001b[0;32m   2742\u001b[0m     \u001b[38;5;28;01mreturn\u001b[39;00m \u001b[38;5;28mself\u001b[39m\u001b[38;5;241m.\u001b[39m_query_iterator(\n\u001b[0;32m   2743\u001b[0m         cursor,\n\u001b[0;32m   2744\u001b[0m         chunksize,\n\u001b[1;32m   (...)\u001b[0m\n\u001b[0;32m   2750\u001b[0m         dtype_backend\u001b[38;5;241m=\u001b[39mdtype_backend,\n\u001b[0;32m   2751\u001b[0m     )\n\u001b[0;32m   2752\u001b[0m \u001b[38;5;28;01melse\u001b[39;00m:\n\u001b[1;32m-> 2753\u001b[0m     data \u001b[38;5;241m=\u001b[39m \u001b[38;5;28;43mself\u001b[39;49m\u001b[38;5;241;43m.\u001b[39;49m\u001b[43m_fetchall_as_list\u001b[49m\u001b[43m(\u001b[49m\u001b[43mcursor\u001b[49m\u001b[43m)\u001b[49m\n\u001b[0;32m   2754\u001b[0m     cursor\u001b[38;5;241m.\u001b[39mclose()\n\u001b[0;32m   2756\u001b[0m     frame \u001b[38;5;241m=\u001b[39m _wrap_result(\n\u001b[0;32m   2757\u001b[0m         data,\n\u001b[0;32m   2758\u001b[0m         columns,\n\u001b[1;32m   (...)\u001b[0m\n\u001b[0;32m   2763\u001b[0m         dtype_backend\u001b[38;5;241m=\u001b[39mdtype_backend,\n\u001b[0;32m   2764\u001b[0m     )\n",
      "File \u001b[1;32m~\\Languages\\Lib\\site-packages\\pandas\\io\\sql.py:2768\u001b[0m, in \u001b[0;36mSQLiteDatabase._fetchall_as_list\u001b[1;34m(self, cur)\u001b[0m\n\u001b[0;32m   2767\u001b[0m \u001b[38;5;28;01mdef\u001b[39;00m \u001b[38;5;21m_fetchall_as_list\u001b[39m(\u001b[38;5;28mself\u001b[39m, cur):\n\u001b[1;32m-> 2768\u001b[0m     result \u001b[38;5;241m=\u001b[39m \u001b[43mcur\u001b[49m\u001b[38;5;241;43m.\u001b[39;49m\u001b[43mfetchall\u001b[49m\u001b[43m(\u001b[49m\u001b[43m)\u001b[49m\n\u001b[0;32m   2769\u001b[0m     \u001b[38;5;28;01mif\u001b[39;00m \u001b[38;5;129;01mnot\u001b[39;00m \u001b[38;5;28misinstance\u001b[39m(result, \u001b[38;5;28mlist\u001b[39m):\n\u001b[0;32m   2770\u001b[0m         result \u001b[38;5;241m=\u001b[39m \u001b[38;5;28mlist\u001b[39m(result)\n",
      "\u001b[1;31mKeyboardInterrupt\u001b[0m: "
     ]
    }
   ],
   "source": [
    "player = pd.read_sql(\"\"\" SELECT * FROM match; \"\"\", conn)\n",
    "player[:10]"
   ]
  }
 ],
 "metadata": {
  "kernelspec": {
   "display_name": "Python 3 (ipykernel)",
   "language": "python",
   "name": "python3"
  },
  "language_info": {
   "codemirror_mode": {
    "name": "ipython",
    "version": 3
   },
   "file_extension": ".py",
   "mimetype": "text/x-python",
   "name": "python",
   "nbconvert_exporter": "python",
   "pygments_lexer": "ipython3",
   "version": "3.12.6"
  }
 },
 "nbformat": 4,
 "nbformat_minor": 5
}
