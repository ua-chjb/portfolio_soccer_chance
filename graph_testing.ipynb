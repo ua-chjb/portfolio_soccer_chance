{
 "cells": [
  {
   "cell_type": "code",
   "execution_count": 1,
   "id": "ef109453-ae92-4428-8929-6645806ffd52",
   "metadata": {},
   "outputs": [],
   "source": [
    "import pandas as pd\n",
    "import numpy as np\n",
    "\n",
    "pd.set_option('display.max_rows', None)\n",
    "pd.set_option('display.max_columns', None)\n",
    "pd.set_option('mode.chained_assignment',None)\n",
    "np.set_printoptions(threshold=np.inf)"
   ]
  },
  {
   "cell_type": "code",
   "execution_count": 2,
   "id": "675a6570-2a7b-4812-a4f6-eaca366871f1",
   "metadata": {},
   "outputs": [],
   "source": [
    "home = pd.read_csv(\"https://raw.githubusercontent.com/ua-chjb/soccer_chance/refs/heads/main/assets/data/home.csv\")\n",
    "away = pd.read_csv(\"https://raw.githubusercontent.com/ua-chjb/soccer_chance/refs/heads/main/assets/data/away.csv\")\n",
    "\n",
    "cols = ['buildUpPlaySpeed', 'buildUpPlayDribbling', 'buildUpPlayPassing', \n",
    "        'chanceCreationPassing', 'chanceCreationCrossing', 'chanceCreationShooting', \n",
    "        'defencePressure', 'defenceAggression', 'defenceTeamWidth']\n",
    "\n",
    "home = home.sort_values(by=[\"buildUpPlaySpeed\"], ascending=False)\n",
    "away = away.sort_values(by=[\"buildUpPlaySpeed\"], ascending=False)"
   ]
  },
  {
   "cell_type": "code",
   "execution_count": 3,
   "id": "7e7c6353-f3cd-4961-81e5-133f86a6e7b8",
   "metadata": {},
   "outputs": [
    {
     "data": {
      "text/html": [
       "<div>\n",
       "<style scoped>\n",
       "    .dataframe tbody tr th:only-of-type {\n",
       "        vertical-align: middle;\n",
       "    }\n",
       "\n",
       "    .dataframe tbody tr th {\n",
       "        vertical-align: top;\n",
       "    }\n",
       "\n",
       "    .dataframe thead th {\n",
       "        text-align: right;\n",
       "    }\n",
       "</style>\n",
       "<table border=\"1\" class=\"dataframe\">\n",
       "  <thead>\n",
       "    <tr style=\"text-align: right;\">\n",
       "      <th></th>\n",
       "      <th>home_team_api_id</th>\n",
       "      <th>home_team_goal</th>\n",
       "      <th>away_team_goal</th>\n",
       "      <th>team_long_name</th>\n",
       "      <th>team_short_name</th>\n",
       "      <th>country_name</th>\n",
       "      <th>league_name</th>\n",
       "      <th>country_id</th>\n",
       "      <th>league_id</th>\n",
       "      <th>match_api_id</th>\n",
       "      <th>buildUpPlaySpeedClass</th>\n",
       "      <th>buildUpPlayDribblingClass</th>\n",
       "      <th>buildUpPlayPassingClass</th>\n",
       "      <th>buildUpPlayPositioningClass</th>\n",
       "      <th>chanceCreationCrossingClass</th>\n",
       "      <th>chanceCreationShootingClass</th>\n",
       "      <th>chanceCreationPositioningClass</th>\n",
       "      <th>chanceCreationPassingClass</th>\n",
       "      <th>defencePressureClass</th>\n",
       "      <th>defenceAggressionClass</th>\n",
       "      <th>defenceTeamWidthClass</th>\n",
       "      <th>buildUpPlaySpeed</th>\n",
       "      <th>buildUpPlayDribbling</th>\n",
       "      <th>buildUpPlayPassing</th>\n",
       "      <th>chanceCreationPassing</th>\n",
       "      <th>chanceCreationCrossing</th>\n",
       "      <th>chanceCreationShooting</th>\n",
       "      <th>defencePressure</th>\n",
       "      <th>defenceAggression</th>\n",
       "      <th>defenceTeamWidth</th>\n",
       "    </tr>\n",
       "  </thead>\n",
       "  <tbody>\n",
       "    <tr>\n",
       "      <th>35</th>\n",
       "      <td>8654</td>\n",
       "      <td>2</td>\n",
       "      <td>1</td>\n",
       "      <td>West Ham United</td>\n",
       "      <td>WHU</td>\n",
       "      <td>England</td>\n",
       "      <td>England Premier League</td>\n",
       "      <td>1729</td>\n",
       "      <td>1729</td>\n",
       "      <td>1724071</td>\n",
       "      <td>Fast</td>\n",
       "      <td>Normal</td>\n",
       "      <td>Mixed</td>\n",
       "      <td>Organised</td>\n",
       "      <td>Lots</td>\n",
       "      <td>Little</td>\n",
       "      <td>Organised</td>\n",
       "      <td>Risky</td>\n",
       "      <td>Deep</td>\n",
       "      <td>Press</td>\n",
       "      <td>Normal</td>\n",
       "      <td>77</td>\n",
       "      <td>37</td>\n",
       "      <td>57</td>\n",
       "      <td>68</td>\n",
       "      <td>73</td>\n",
       "      <td>29</td>\n",
       "      <td>30</td>\n",
       "      <td>37</td>\n",
       "      <td>41</td>\n",
       "    </tr>\n",
       "    <tr>\n",
       "      <th>66</th>\n",
       "      <td>8178</td>\n",
       "      <td>1</td>\n",
       "      <td>0</td>\n",
       "      <td>Bayer 04 Leverkusen</td>\n",
       "      <td>LEV</td>\n",
       "      <td>Germany</td>\n",
       "      <td>Germany 1. Bundesliga</td>\n",
       "      <td>7809</td>\n",
       "      <td>7809</td>\n",
       "      <td>1732788</td>\n",
       "      <td>Fast</td>\n",
       "      <td>Little</td>\n",
       "      <td>Mixed</td>\n",
       "      <td>Organised</td>\n",
       "      <td>Normal</td>\n",
       "      <td>Normal</td>\n",
       "      <td>Organised</td>\n",
       "      <td>Risky</td>\n",
       "      <td>Medium</td>\n",
       "      <td>Double</td>\n",
       "      <td>Normal</td>\n",
       "      <td>73</td>\n",
       "      <td>29</td>\n",
       "      <td>55</td>\n",
       "      <td>77</td>\n",
       "      <td>54</td>\n",
       "      <td>61</td>\n",
       "      <td>61</td>\n",
       "      <td>72</td>\n",
       "      <td>50</td>\n",
       "    </tr>\n",
       "    <tr>\n",
       "      <th>65</th>\n",
       "      <td>9789</td>\n",
       "      <td>0</td>\n",
       "      <td>1</td>\n",
       "      <td>Borussia Dortmund</td>\n",
       "      <td>DOR</td>\n",
       "      <td>Germany</td>\n",
       "      <td>Germany 1. Bundesliga</td>\n",
       "      <td>7809</td>\n",
       "      <td>7809</td>\n",
       "      <td>1732787</td>\n",
       "      <td>Fast</td>\n",
       "      <td>Normal</td>\n",
       "      <td>Mixed</td>\n",
       "      <td>Organised</td>\n",
       "      <td>Normal</td>\n",
       "      <td>Normal</td>\n",
       "      <td>Free Form</td>\n",
       "      <td>Risky</td>\n",
       "      <td>Medium</td>\n",
       "      <td>Double</td>\n",
       "      <td>Normal</td>\n",
       "      <td>71</td>\n",
       "      <td>37</td>\n",
       "      <td>40</td>\n",
       "      <td>70</td>\n",
       "      <td>44</td>\n",
       "      <td>49</td>\n",
       "      <td>65</td>\n",
       "      <td>71</td>\n",
       "      <td>40</td>\n",
       "    </tr>\n",
       "    <tr>\n",
       "      <th>145</th>\n",
       "      <td>9773</td>\n",
       "      <td>2</td>\n",
       "      <td>0</td>\n",
       "      <td>FC Porto</td>\n",
       "      <td>POR</td>\n",
       "      <td>Portugal</td>\n",
       "      <td>Portugal Liga ZON Sagres</td>\n",
       "      <td>17642</td>\n",
       "      <td>17642</td>\n",
       "      <td>1748797</td>\n",
       "      <td>Fast</td>\n",
       "      <td>Normal</td>\n",
       "      <td>Mixed</td>\n",
       "      <td>Organised</td>\n",
       "      <td>Normal</td>\n",
       "      <td>Lots</td>\n",
       "      <td>Organised</td>\n",
       "      <td>Normal</td>\n",
       "      <td>Medium</td>\n",
       "      <td>Press</td>\n",
       "      <td>Normal</td>\n",
       "      <td>70</td>\n",
       "      <td>50</td>\n",
       "      <td>53</td>\n",
       "      <td>56</td>\n",
       "      <td>66</td>\n",
       "      <td>68</td>\n",
       "      <td>58</td>\n",
       "      <td>60</td>\n",
       "      <td>60</td>\n",
       "    </tr>\n",
       "    <tr>\n",
       "      <th>70</th>\n",
       "      <td>8226</td>\n",
       "      <td>1</td>\n",
       "      <td>0</td>\n",
       "      <td>TSG 1899 Hoffenheim</td>\n",
       "      <td>HOF</td>\n",
       "      <td>Germany</td>\n",
       "      <td>Germany 1. Bundesliga</td>\n",
       "      <td>7809</td>\n",
       "      <td>7809</td>\n",
       "      <td>1732792</td>\n",
       "      <td>Fast</td>\n",
       "      <td>Normal</td>\n",
       "      <td>Mixed</td>\n",
       "      <td>Organised</td>\n",
       "      <td>Normal</td>\n",
       "      <td>Normal</td>\n",
       "      <td>Organised</td>\n",
       "      <td>Normal</td>\n",
       "      <td>Medium</td>\n",
       "      <td>Press</td>\n",
       "      <td>Normal</td>\n",
       "      <td>69</td>\n",
       "      <td>49</td>\n",
       "      <td>53</td>\n",
       "      <td>66</td>\n",
       "      <td>62</td>\n",
       "      <td>59</td>\n",
       "      <td>63</td>\n",
       "      <td>61</td>\n",
       "      <td>38</td>\n",
       "    </tr>\n",
       "  </tbody>\n",
       "</table>\n",
       "</div>"
      ],
      "text/plain": [
       "     home_team_api_id  home_team_goal  away_team_goal       team_long_name  \\\n",
       "35               8654               2               1      West Ham United   \n",
       "66               8178               1               0  Bayer 04 Leverkusen   \n",
       "65               9789               0               1    Borussia Dortmund   \n",
       "145              9773               2               0             FC Porto   \n",
       "70               8226               1               0  TSG 1899 Hoffenheim   \n",
       "\n",
       "    team_short_name country_name               league_name  country_id  \\\n",
       "35              WHU      England    England Premier League        1729   \n",
       "66              LEV      Germany     Germany 1. Bundesliga        7809   \n",
       "65              DOR      Germany     Germany 1. Bundesliga        7809   \n",
       "145             POR     Portugal  Portugal Liga ZON Sagres       17642   \n",
       "70              HOF      Germany     Germany 1. Bundesliga        7809   \n",
       "\n",
       "     league_id  match_api_id buildUpPlaySpeedClass buildUpPlayDribblingClass  \\\n",
       "35        1729       1724071                  Fast                    Normal   \n",
       "66        7809       1732788                  Fast                    Little   \n",
       "65        7809       1732787                  Fast                    Normal   \n",
       "145      17642       1748797                  Fast                    Normal   \n",
       "70        7809       1732792                  Fast                    Normal   \n",
       "\n",
       "    buildUpPlayPassingClass buildUpPlayPositioningClass  \\\n",
       "35                    Mixed                   Organised   \n",
       "66                    Mixed                   Organised   \n",
       "65                    Mixed                   Organised   \n",
       "145                   Mixed                   Organised   \n",
       "70                    Mixed                   Organised   \n",
       "\n",
       "    chanceCreationCrossingClass chanceCreationShootingClass  \\\n",
       "35                         Lots                      Little   \n",
       "66                       Normal                      Normal   \n",
       "65                       Normal                      Normal   \n",
       "145                      Normal                        Lots   \n",
       "70                       Normal                      Normal   \n",
       "\n",
       "    chanceCreationPositioningClass chanceCreationPassingClass  \\\n",
       "35                       Organised                      Risky   \n",
       "66                       Organised                      Risky   \n",
       "65                       Free Form                      Risky   \n",
       "145                      Organised                     Normal   \n",
       "70                       Organised                     Normal   \n",
       "\n",
       "    defencePressureClass defenceAggressionClass defenceTeamWidthClass  \\\n",
       "35                  Deep                  Press                Normal   \n",
       "66                Medium                 Double                Normal   \n",
       "65                Medium                 Double                Normal   \n",
       "145               Medium                  Press                Normal   \n",
       "70                Medium                  Press                Normal   \n",
       "\n",
       "     buildUpPlaySpeed  buildUpPlayDribbling  buildUpPlayPassing  \\\n",
       "35                 77                    37                  57   \n",
       "66                 73                    29                  55   \n",
       "65                 71                    37                  40   \n",
       "145                70                    50                  53   \n",
       "70                 69                    49                  53   \n",
       "\n",
       "     chanceCreationPassing  chanceCreationCrossing  chanceCreationShooting  \\\n",
       "35                      68                      73                      29   \n",
       "66                      77                      54                      61   \n",
       "65                      70                      44                      49   \n",
       "145                     56                      66                      68   \n",
       "70                      66                      62                      59   \n",
       "\n",
       "     defencePressure  defenceAggression  defenceTeamWidth  \n",
       "35                30                 37                41  \n",
       "66                61                 72                50  \n",
       "65                65                 71                40  \n",
       "145               58                 60                60  \n",
       "70                63                 61                38  "
      ]
     },
     "execution_count": 3,
     "metadata": {},
     "output_type": "execute_result"
    }
   ],
   "source": [
    "home[:5]"
   ]
  },
  {
   "cell_type": "code",
   "execution_count": 4,
   "id": "8862d587-d8ad-4452-b648-75f081c99ead",
   "metadata": {},
   "outputs": [
    {
     "data": {
      "text/html": [
       "<div>\n",
       "<style scoped>\n",
       "    .dataframe tbody tr th:only-of-type {\n",
       "        vertical-align: middle;\n",
       "    }\n",
       "\n",
       "    .dataframe tbody tr th {\n",
       "        vertical-align: top;\n",
       "    }\n",
       "\n",
       "    .dataframe thead th {\n",
       "        text-align: right;\n",
       "    }\n",
       "</style>\n",
       "<table border=\"1\" class=\"dataframe\">\n",
       "  <thead>\n",
       "    <tr style=\"text-align: right;\">\n",
       "      <th></th>\n",
       "      <th>away_team_api_id</th>\n",
       "      <th>away_team_goal</th>\n",
       "      <th>home_team_goal</th>\n",
       "      <th>team_long_name</th>\n",
       "      <th>team_short_name</th>\n",
       "      <th>country_name</th>\n",
       "      <th>league_name</th>\n",
       "      <th>country_id</th>\n",
       "      <th>league_id</th>\n",
       "      <th>match_api_id</th>\n",
       "      <th>buildUpPlaySpeedClass</th>\n",
       "      <th>buildUpPlayDribblingClass</th>\n",
       "      <th>buildUpPlayPassingClass</th>\n",
       "      <th>buildUpPlayPositioningClass</th>\n",
       "      <th>chanceCreationCrossingClass</th>\n",
       "      <th>chanceCreationShootingClass</th>\n",
       "      <th>chanceCreationPositioningClass</th>\n",
       "      <th>chanceCreationPassingClass</th>\n",
       "      <th>defencePressureClass</th>\n",
       "      <th>defenceAggressionClass</th>\n",
       "      <th>defenceTeamWidthClass</th>\n",
       "      <th>buildUpPlaySpeed</th>\n",
       "      <th>buildUpPlayDribbling</th>\n",
       "      <th>buildUpPlayPassing</th>\n",
       "      <th>chanceCreationPassing</th>\n",
       "      <th>chanceCreationCrossing</th>\n",
       "      <th>chanceCreationShooting</th>\n",
       "      <th>defencePressure</th>\n",
       "      <th>defenceAggression</th>\n",
       "      <th>defenceTeamWidth</th>\n",
       "    </tr>\n",
       "  </thead>\n",
       "  <tbody>\n",
       "    <tr>\n",
       "      <th>20</th>\n",
       "      <td>8654</td>\n",
       "      <td>3</td>\n",
       "      <td>1</td>\n",
       "      <td>West Ham United</td>\n",
       "      <td>WHU</td>\n",
       "      <td>England</td>\n",
       "      <td>England Premier League</td>\n",
       "      <td>1729</td>\n",
       "      <td>1729</td>\n",
       "      <td>1724053</td>\n",
       "      <td>Fast</td>\n",
       "      <td>Normal</td>\n",
       "      <td>Mixed</td>\n",
       "      <td>Organised</td>\n",
       "      <td>Lots</td>\n",
       "      <td>Little</td>\n",
       "      <td>Organised</td>\n",
       "      <td>Risky</td>\n",
       "      <td>Deep</td>\n",
       "      <td>Press</td>\n",
       "      <td>Normal</td>\n",
       "      <td>77</td>\n",
       "      <td>37.0</td>\n",
       "      <td>57</td>\n",
       "      <td>68</td>\n",
       "      <td>73</td>\n",
       "      <td>29</td>\n",
       "      <td>30</td>\n",
       "      <td>37</td>\n",
       "      <td>41</td>\n",
       "    </tr>\n",
       "    <tr>\n",
       "      <th>61</th>\n",
       "      <td>8178</td>\n",
       "      <td>3</td>\n",
       "      <td>3</td>\n",
       "      <td>Bayer 04 Leverkusen</td>\n",
       "      <td>LEV</td>\n",
       "      <td>Germany</td>\n",
       "      <td>Germany 1. Bundesliga</td>\n",
       "      <td>7809</td>\n",
       "      <td>7809</td>\n",
       "      <td>1732783</td>\n",
       "      <td>Fast</td>\n",
       "      <td>Little</td>\n",
       "      <td>Mixed</td>\n",
       "      <td>Organised</td>\n",
       "      <td>Normal</td>\n",
       "      <td>Normal</td>\n",
       "      <td>Organised</td>\n",
       "      <td>Risky</td>\n",
       "      <td>Medium</td>\n",
       "      <td>Double</td>\n",
       "      <td>Normal</td>\n",
       "      <td>73</td>\n",
       "      <td>29.0</td>\n",
       "      <td>55</td>\n",
       "      <td>77</td>\n",
       "      <td>54</td>\n",
       "      <td>61</td>\n",
       "      <td>61</td>\n",
       "      <td>72</td>\n",
       "      <td>50</td>\n",
       "    </tr>\n",
       "    <tr>\n",
       "      <th>63</th>\n",
       "      <td>9789</td>\n",
       "      <td>1</td>\n",
       "      <td>2</td>\n",
       "      <td>Borussia Dortmund</td>\n",
       "      <td>DOR</td>\n",
       "      <td>Germany</td>\n",
       "      <td>Germany 1. Bundesliga</td>\n",
       "      <td>7809</td>\n",
       "      <td>7809</td>\n",
       "      <td>1732785</td>\n",
       "      <td>Fast</td>\n",
       "      <td>Normal</td>\n",
       "      <td>Mixed</td>\n",
       "      <td>Organised</td>\n",
       "      <td>Normal</td>\n",
       "      <td>Normal</td>\n",
       "      <td>Free Form</td>\n",
       "      <td>Risky</td>\n",
       "      <td>Medium</td>\n",
       "      <td>Double</td>\n",
       "      <td>Normal</td>\n",
       "      <td>71</td>\n",
       "      <td>37.0</td>\n",
       "      <td>40</td>\n",
       "      <td>70</td>\n",
       "      <td>44</td>\n",
       "      <td>49</td>\n",
       "      <td>65</td>\n",
       "      <td>71</td>\n",
       "      <td>40</td>\n",
       "    </tr>\n",
       "    <tr>\n",
       "      <th>128</th>\n",
       "      <td>9773</td>\n",
       "      <td>5</td>\n",
       "      <td>0</td>\n",
       "      <td>FC Porto</td>\n",
       "      <td>POR</td>\n",
       "      <td>Portugal</td>\n",
       "      <td>Portugal Liga ZON Sagres</td>\n",
       "      <td>17642</td>\n",
       "      <td>17642</td>\n",
       "      <td>1748780</td>\n",
       "      <td>Fast</td>\n",
       "      <td>Normal</td>\n",
       "      <td>Mixed</td>\n",
       "      <td>Organised</td>\n",
       "      <td>Normal</td>\n",
       "      <td>Lots</td>\n",
       "      <td>Organised</td>\n",
       "      <td>Normal</td>\n",
       "      <td>Medium</td>\n",
       "      <td>Press</td>\n",
       "      <td>Normal</td>\n",
       "      <td>70</td>\n",
       "      <td>50.0</td>\n",
       "      <td>53</td>\n",
       "      <td>56</td>\n",
       "      <td>66</td>\n",
       "      <td>68</td>\n",
       "      <td>58</td>\n",
       "      <td>60</td>\n",
       "      <td>60</td>\n",
       "    </tr>\n",
       "    <tr>\n",
       "      <th>62</th>\n",
       "      <td>8226</td>\n",
       "      <td>1</td>\n",
       "      <td>1</td>\n",
       "      <td>TSG 1899 Hoffenheim</td>\n",
       "      <td>HOF</td>\n",
       "      <td>Germany</td>\n",
       "      <td>Germany 1. Bundesliga</td>\n",
       "      <td>7809</td>\n",
       "      <td>7809</td>\n",
       "      <td>1732784</td>\n",
       "      <td>Fast</td>\n",
       "      <td>Normal</td>\n",
       "      <td>Mixed</td>\n",
       "      <td>Organised</td>\n",
       "      <td>Normal</td>\n",
       "      <td>Normal</td>\n",
       "      <td>Organised</td>\n",
       "      <td>Normal</td>\n",
       "      <td>Medium</td>\n",
       "      <td>Press</td>\n",
       "      <td>Normal</td>\n",
       "      <td>69</td>\n",
       "      <td>49.0</td>\n",
       "      <td>53</td>\n",
       "      <td>66</td>\n",
       "      <td>62</td>\n",
       "      <td>59</td>\n",
       "      <td>63</td>\n",
       "      <td>61</td>\n",
       "      <td>38</td>\n",
       "    </tr>\n",
       "  </tbody>\n",
       "</table>\n",
       "</div>"
      ],
      "text/plain": [
       "     away_team_api_id  away_team_goal  home_team_goal       team_long_name  \\\n",
       "20               8654               3               1      West Ham United   \n",
       "61               8178               3               3  Bayer 04 Leverkusen   \n",
       "63               9789               1               2    Borussia Dortmund   \n",
       "128              9773               5               0             FC Porto   \n",
       "62               8226               1               1  TSG 1899 Hoffenheim   \n",
       "\n",
       "    team_short_name country_name               league_name  country_id  \\\n",
       "20              WHU      England    England Premier League        1729   \n",
       "61              LEV      Germany     Germany 1. Bundesliga        7809   \n",
       "63              DOR      Germany     Germany 1. Bundesliga        7809   \n",
       "128             POR     Portugal  Portugal Liga ZON Sagres       17642   \n",
       "62              HOF      Germany     Germany 1. Bundesliga        7809   \n",
       "\n",
       "     league_id  match_api_id buildUpPlaySpeedClass buildUpPlayDribblingClass  \\\n",
       "20        1729       1724053                  Fast                    Normal   \n",
       "61        7809       1732783                  Fast                    Little   \n",
       "63        7809       1732785                  Fast                    Normal   \n",
       "128      17642       1748780                  Fast                    Normal   \n",
       "62        7809       1732784                  Fast                    Normal   \n",
       "\n",
       "    buildUpPlayPassingClass buildUpPlayPositioningClass  \\\n",
       "20                    Mixed                   Organised   \n",
       "61                    Mixed                   Organised   \n",
       "63                    Mixed                   Organised   \n",
       "128                   Mixed                   Organised   \n",
       "62                    Mixed                   Organised   \n",
       "\n",
       "    chanceCreationCrossingClass chanceCreationShootingClass  \\\n",
       "20                         Lots                      Little   \n",
       "61                       Normal                      Normal   \n",
       "63                       Normal                      Normal   \n",
       "128                      Normal                        Lots   \n",
       "62                       Normal                      Normal   \n",
       "\n",
       "    chanceCreationPositioningClass chanceCreationPassingClass  \\\n",
       "20                       Organised                      Risky   \n",
       "61                       Organised                      Risky   \n",
       "63                       Free Form                      Risky   \n",
       "128                      Organised                     Normal   \n",
       "62                       Organised                     Normal   \n",
       "\n",
       "    defencePressureClass defenceAggressionClass defenceTeamWidthClass  \\\n",
       "20                  Deep                  Press                Normal   \n",
       "61                Medium                 Double                Normal   \n",
       "63                Medium                 Double                Normal   \n",
       "128               Medium                  Press                Normal   \n",
       "62                Medium                  Press                Normal   \n",
       "\n",
       "     buildUpPlaySpeed  buildUpPlayDribbling  buildUpPlayPassing  \\\n",
       "20                 77                  37.0                  57   \n",
       "61                 73                  29.0                  55   \n",
       "63                 71                  37.0                  40   \n",
       "128                70                  50.0                  53   \n",
       "62                 69                  49.0                  53   \n",
       "\n",
       "     chanceCreationPassing  chanceCreationCrossing  chanceCreationShooting  \\\n",
       "20                      68                      73                      29   \n",
       "61                      77                      54                      61   \n",
       "63                      70                      44                      49   \n",
       "128                     56                      66                      68   \n",
       "62                      66                      62                      59   \n",
       "\n",
       "     defencePressure  defenceAggression  defenceTeamWidth  \n",
       "20                30                 37                41  \n",
       "61                61                 72                50  \n",
       "63                65                 71                40  \n",
       "128               58                 60                60  \n",
       "62                63                 61                38  "
      ]
     },
     "execution_count": 4,
     "metadata": {},
     "output_type": "execute_result"
    }
   ],
   "source": [
    "away[:5]"
   ]
  },
  {
   "cell_type": "code",
   "execution_count": 47,
   "id": "0757e22e-6286-442a-bb42-60993ab157cd",
   "metadata": {},
   "outputs": [
    {
     "data": {
      "text/html": [
       "<div>\n",
       "<style scoped>\n",
       "    .dataframe tbody tr th:only-of-type {\n",
       "        vertical-align: middle;\n",
       "    }\n",
       "\n",
       "    .dataframe tbody tr th {\n",
       "        vertical-align: top;\n",
       "    }\n",
       "\n",
       "    .dataframe thead th {\n",
       "        text-align: right;\n",
       "    }\n",
       "</style>\n",
       "<table border=\"1\" class=\"dataframe\">\n",
       "  <thead>\n",
       "    <tr style=\"text-align: right;\">\n",
       "      <th></th>\n",
       "      <th>away_team_api_id</th>\n",
       "      <th>away_team_goal</th>\n",
       "      <th>home_team_goal</th>\n",
       "      <th>team_long_name</th>\n",
       "      <th>team_short_name</th>\n",
       "      <th>country_name</th>\n",
       "      <th>league_name</th>\n",
       "      <th>country_id</th>\n",
       "      <th>league_id</th>\n",
       "      <th>match_api_id</th>\n",
       "      <th>buildUpPlaySpeedClass</th>\n",
       "      <th>buildUpPlayDribblingClass</th>\n",
       "      <th>buildUpPlayPassingClass</th>\n",
       "      <th>buildUpPlayPositioningClass</th>\n",
       "      <th>chanceCreationCrossingClass</th>\n",
       "      <th>chanceCreationShootingClass</th>\n",
       "      <th>chanceCreationPositioningClass</th>\n",
       "      <th>chanceCreationPassingClass</th>\n",
       "      <th>defencePressureClass</th>\n",
       "      <th>defenceAggressionClass</th>\n",
       "      <th>defenceTeamWidthClass</th>\n",
       "      <th>buildUpPlaySpeed</th>\n",
       "      <th>buildUpPlayDribbling</th>\n",
       "      <th>buildUpPlayPassing</th>\n",
       "      <th>chanceCreationPassing</th>\n",
       "      <th>chanceCreationCrossing</th>\n",
       "      <th>chanceCreationShooting</th>\n",
       "      <th>defencePressure</th>\n",
       "      <th>defenceAggression</th>\n",
       "      <th>defenceTeamWidth</th>\n",
       "    </tr>\n",
       "  </thead>\n",
       "  <tbody>\n",
       "    <tr>\n",
       "      <th>22</th>\n",
       "      <td>8650</td>\n",
       "      <td>3</td>\n",
       "      <td>2</td>\n",
       "      <td>Liverpool</td>\n",
       "      <td>LIV</td>\n",
       "      <td>England</td>\n",
       "      <td>England Premier League</td>\n",
       "      <td>1729</td>\n",
       "      <td>1729</td>\n",
       "      <td>1724058</td>\n",
       "      <td>Balanced</td>\n",
       "      <td>Normal</td>\n",
       "      <td>Mixed</td>\n",
       "      <td>Organised</td>\n",
       "      <td>Normal</td>\n",
       "      <td>Normal</td>\n",
       "      <td>Organised</td>\n",
       "      <td>Normal</td>\n",
       "      <td>Medium</td>\n",
       "      <td>Press</td>\n",
       "      <td>Normal</td>\n",
       "      <td>66</td>\n",
       "      <td>60.0</td>\n",
       "      <td>45</td>\n",
       "      <td>34</td>\n",
       "      <td>34</td>\n",
       "      <td>46</td>\n",
       "      <td>51</td>\n",
       "      <td>52</td>\n",
       "      <td>61</td>\n",
       "    </tr>\n",
       "  </tbody>\n",
       "</table>\n",
       "</div>"
      ],
      "text/plain": [
       "    away_team_api_id  away_team_goal  home_team_goal team_long_name  \\\n",
       "22              8650               3               2      Liverpool   \n",
       "\n",
       "   team_short_name country_name             league_name  country_id  \\\n",
       "22             LIV      England  England Premier League        1729   \n",
       "\n",
       "    league_id  match_api_id buildUpPlaySpeedClass buildUpPlayDribblingClass  \\\n",
       "22       1729       1724058              Balanced                    Normal   \n",
       "\n",
       "   buildUpPlayPassingClass buildUpPlayPositioningClass  \\\n",
       "22                   Mixed                   Organised   \n",
       "\n",
       "   chanceCreationCrossingClass chanceCreationShootingClass  \\\n",
       "22                      Normal                      Normal   \n",
       "\n",
       "   chanceCreationPositioningClass chanceCreationPassingClass  \\\n",
       "22                      Organised                     Normal   \n",
       "\n",
       "   defencePressureClass defenceAggressionClass defenceTeamWidthClass  \\\n",
       "22               Medium                  Press                Normal   \n",
       "\n",
       "    buildUpPlaySpeed  buildUpPlayDribbling  buildUpPlayPassing  \\\n",
       "22                66                  60.0                  45   \n",
       "\n",
       "    chanceCreationPassing  chanceCreationCrossing  chanceCreationShooting  \\\n",
       "22                     34                      34                      46   \n",
       "\n",
       "    defencePressure  defenceAggression  defenceTeamWidth  \n",
       "22               51                 52                61  "
      ]
     },
     "execution_count": 47,
     "metadata": {},
     "output_type": "execute_result"
    }
   ],
   "source": [
    "away[mask2]"
   ]
  },
  {
   "cell_type": "code",
   "execution_count": 48,
   "id": "62c83592-fa20-4888-831e-946727191b54",
   "metadata": {},
   "outputs": [],
   "source": [
    "import plotly.graph_objs as go\n",
    "\n",
    "def score_output(df1, df2, mask1, mask2):\n",
    "\n",
    "    x =[\"A\"]\n",
    "    y1 = home[mask1][\"home_team_goal\"].values\n",
    "    y2 = away[mask2][\"away_team_goal\"].values\n",
    "\n",
    "    name_home = str(home[mask1][\"team_long_name\"].values[0]) + \", home\"\n",
    "    name_away = str(away[mask2][\"team_long_name\"].values[0]) + \", away\"\n",
    "\n",
    "    customdata1 = np.array([[h*1] for h in [y1]])\n",
    "    customdata2 = np.array([[h*1] for h in [y2]])\n",
    "    print(\"y1 is\", y1)\n",
    "    print(\"y2 is\", y2)\n",
    "\n",
    "    maximum = list(customdata1) + list(customdata2)\n",
    "\n",
    "\n",
    "    trace1 = go.Bar(y=x, \n",
    "                    x=-1 * y1, \n",
    "                    orientation=\"h\", \n",
    "                    name=name_home,\n",
    "                    marker={\"color\": [\"teal\"]},\n",
    "                    customdata=customdata1,\n",
    "                    hovertemplate=\n",
    "                    \"Goals: %{customdata}\"\n",
    "                   )\n",
    "    trace2 = go.Bar(y=x, \n",
    "                    x=y2, \n",
    "                    orientation=\"h\", \n",
    "                    name=name_away,\n",
    "                    marker={\"color\": [\"darkblue\"]},\n",
    "                    customdata=customdata2,\n",
    "                    hovertemplate=\n",
    "                    \"Goals: %{customdata}\"\n",
    "                   )\n",
    "    \n",
    "    traces = [trace1, \n",
    "              trace2\n",
    "             ]\n",
    "    \n",
    "    fig = go.Figure(traces).update_layout({\"barmode\": \"relative\", \n",
    "                                           \"xaxis\": {\"range\": [(y1[0]*-1)-2, y2[0]+2]},\n",
    "                                     \"title\": {\"text\": \"goals, home v away\", \"x\": 0.5},\n",
    "                                     \"legend\": {\"title\": \"legend\", \"orientation\": \"h\",},\n",
    "                                    }).update_xaxes({\"zerolinewidth\":5, \"zerolinecolor\": \"lightgreen\", \"showticklabels\": False\n",
    "                                    }).update_yaxes({\"showticklabels\": False})\n",
    "    return fig"
   ]
  },
  {
   "cell_type": "code",
   "execution_count": 49,
   "id": "30153292-db9f-46b7-b25f-5a1f04f21231",
   "metadata": {},
   "outputs": [
    {
     "name": "stdout",
     "output_type": "stream",
     "text": [
      "y1 is [2]\n",
      "y2 is [3]\n"
     ]
    },
    {
     "data": {
      "application/vnd.plotly.v1+json": {
       "config": {
        "plotlyServerURL": "https://plot.ly"
       },
       "data": [
        {
         "customdata": [
          [
           [
            2
           ]
          ]
         ],
         "hovertemplate": "Goals: %{customdata}",
         "marker": {
          "color": [
           "teal"
          ]
         },
         "name": "Chelsea, home",
         "orientation": "h",
         "type": "bar",
         "x": [
          -2
         ],
         "y": [
          "A"
         ]
        },
        {
         "customdata": [
          [
           [
            3
           ]
          ]
         ],
         "hovertemplate": "Goals: %{customdata}",
         "marker": {
          "color": [
           "darkblue"
          ]
         },
         "name": "Liverpool, away",
         "orientation": "h",
         "type": "bar",
         "x": [
          3
         ],
         "y": [
          "A"
         ]
        }
       ],
       "layout": {
        "autosize": true,
        "barmode": "relative",
        "legend": {
         "orientation": "h",
         "title": {
          "text": "legend"
         }
        },
        "template": {
         "data": {
          "bar": [
           {
            "error_x": {
             "color": "#2a3f5f"
            },
            "error_y": {
             "color": "#2a3f5f"
            },
            "marker": {
             "line": {
              "color": "#E5ECF6",
              "width": 0.5
             },
             "pattern": {
              "fillmode": "overlay",
              "size": 10,
              "solidity": 0.2
             }
            },
            "type": "bar"
           }
          ],
          "barpolar": [
           {
            "marker": {
             "line": {
              "color": "#E5ECF6",
              "width": 0.5
             },
             "pattern": {
              "fillmode": "overlay",
              "size": 10,
              "solidity": 0.2
             }
            },
            "type": "barpolar"
           }
          ],
          "carpet": [
           {
            "aaxis": {
             "endlinecolor": "#2a3f5f",
             "gridcolor": "white",
             "linecolor": "white",
             "minorgridcolor": "white",
             "startlinecolor": "#2a3f5f"
            },
            "baxis": {
             "endlinecolor": "#2a3f5f",
             "gridcolor": "white",
             "linecolor": "white",
             "minorgridcolor": "white",
             "startlinecolor": "#2a3f5f"
            },
            "type": "carpet"
           }
          ],
          "choropleth": [
           {
            "colorbar": {
             "outlinewidth": 0,
             "ticks": ""
            },
            "type": "choropleth"
           }
          ],
          "contour": [
           {
            "colorbar": {
             "outlinewidth": 0,
             "ticks": ""
            },
            "colorscale": [
             [
              0,
              "#0d0887"
             ],
             [
              0.1111111111111111,
              "#46039f"
             ],
             [
              0.2222222222222222,
              "#7201a8"
             ],
             [
              0.3333333333333333,
              "#9c179e"
             ],
             [
              0.4444444444444444,
              "#bd3786"
             ],
             [
              0.5555555555555556,
              "#d8576b"
             ],
             [
              0.6666666666666666,
              "#ed7953"
             ],
             [
              0.7777777777777778,
              "#fb9f3a"
             ],
             [
              0.8888888888888888,
              "#fdca26"
             ],
             [
              1,
              "#f0f921"
             ]
            ],
            "type": "contour"
           }
          ],
          "contourcarpet": [
           {
            "colorbar": {
             "outlinewidth": 0,
             "ticks": ""
            },
            "type": "contourcarpet"
           }
          ],
          "heatmap": [
           {
            "colorbar": {
             "outlinewidth": 0,
             "ticks": ""
            },
            "colorscale": [
             [
              0,
              "#0d0887"
             ],
             [
              0.1111111111111111,
              "#46039f"
             ],
             [
              0.2222222222222222,
              "#7201a8"
             ],
             [
              0.3333333333333333,
              "#9c179e"
             ],
             [
              0.4444444444444444,
              "#bd3786"
             ],
             [
              0.5555555555555556,
              "#d8576b"
             ],
             [
              0.6666666666666666,
              "#ed7953"
             ],
             [
              0.7777777777777778,
              "#fb9f3a"
             ],
             [
              0.8888888888888888,
              "#fdca26"
             ],
             [
              1,
              "#f0f921"
             ]
            ],
            "type": "heatmap"
           }
          ],
          "heatmapgl": [
           {
            "colorbar": {
             "outlinewidth": 0,
             "ticks": ""
            },
            "colorscale": [
             [
              0,
              "#0d0887"
             ],
             [
              0.1111111111111111,
              "#46039f"
             ],
             [
              0.2222222222222222,
              "#7201a8"
             ],
             [
              0.3333333333333333,
              "#9c179e"
             ],
             [
              0.4444444444444444,
              "#bd3786"
             ],
             [
              0.5555555555555556,
              "#d8576b"
             ],
             [
              0.6666666666666666,
              "#ed7953"
             ],
             [
              0.7777777777777778,
              "#fb9f3a"
             ],
             [
              0.8888888888888888,
              "#fdca26"
             ],
             [
              1,
              "#f0f921"
             ]
            ],
            "type": "heatmapgl"
           }
          ],
          "histogram": [
           {
            "marker": {
             "pattern": {
              "fillmode": "overlay",
              "size": 10,
              "solidity": 0.2
             }
            },
            "type": "histogram"
           }
          ],
          "histogram2d": [
           {
            "colorbar": {
             "outlinewidth": 0,
             "ticks": ""
            },
            "colorscale": [
             [
              0,
              "#0d0887"
             ],
             [
              0.1111111111111111,
              "#46039f"
             ],
             [
              0.2222222222222222,
              "#7201a8"
             ],
             [
              0.3333333333333333,
              "#9c179e"
             ],
             [
              0.4444444444444444,
              "#bd3786"
             ],
             [
              0.5555555555555556,
              "#d8576b"
             ],
             [
              0.6666666666666666,
              "#ed7953"
             ],
             [
              0.7777777777777778,
              "#fb9f3a"
             ],
             [
              0.8888888888888888,
              "#fdca26"
             ],
             [
              1,
              "#f0f921"
             ]
            ],
            "type": "histogram2d"
           }
          ],
          "histogram2dcontour": [
           {
            "colorbar": {
             "outlinewidth": 0,
             "ticks": ""
            },
            "colorscale": [
             [
              0,
              "#0d0887"
             ],
             [
              0.1111111111111111,
              "#46039f"
             ],
             [
              0.2222222222222222,
              "#7201a8"
             ],
             [
              0.3333333333333333,
              "#9c179e"
             ],
             [
              0.4444444444444444,
              "#bd3786"
             ],
             [
              0.5555555555555556,
              "#d8576b"
             ],
             [
              0.6666666666666666,
              "#ed7953"
             ],
             [
              0.7777777777777778,
              "#fb9f3a"
             ],
             [
              0.8888888888888888,
              "#fdca26"
             ],
             [
              1,
              "#f0f921"
             ]
            ],
            "type": "histogram2dcontour"
           }
          ],
          "mesh3d": [
           {
            "colorbar": {
             "outlinewidth": 0,
             "ticks": ""
            },
            "type": "mesh3d"
           }
          ],
          "parcoords": [
           {
            "line": {
             "colorbar": {
              "outlinewidth": 0,
              "ticks": ""
             }
            },
            "type": "parcoords"
           }
          ],
          "pie": [
           {
            "automargin": true,
            "type": "pie"
           }
          ],
          "scatter": [
           {
            "fillpattern": {
             "fillmode": "overlay",
             "size": 10,
             "solidity": 0.2
            },
            "type": "scatter"
           }
          ],
          "scatter3d": [
           {
            "line": {
             "colorbar": {
              "outlinewidth": 0,
              "ticks": ""
             }
            },
            "marker": {
             "colorbar": {
              "outlinewidth": 0,
              "ticks": ""
             }
            },
            "type": "scatter3d"
           }
          ],
          "scattercarpet": [
           {
            "marker": {
             "colorbar": {
              "outlinewidth": 0,
              "ticks": ""
             }
            },
            "type": "scattercarpet"
           }
          ],
          "scattergeo": [
           {
            "marker": {
             "colorbar": {
              "outlinewidth": 0,
              "ticks": ""
             }
            },
            "type": "scattergeo"
           }
          ],
          "scattergl": [
           {
            "marker": {
             "colorbar": {
              "outlinewidth": 0,
              "ticks": ""
             }
            },
            "type": "scattergl"
           }
          ],
          "scattermapbox": [
           {
            "marker": {
             "colorbar": {
              "outlinewidth": 0,
              "ticks": ""
             }
            },
            "type": "scattermapbox"
           }
          ],
          "scatterpolar": [
           {
            "marker": {
             "colorbar": {
              "outlinewidth": 0,
              "ticks": ""
             }
            },
            "type": "scatterpolar"
           }
          ],
          "scatterpolargl": [
           {
            "marker": {
             "colorbar": {
              "outlinewidth": 0,
              "ticks": ""
             }
            },
            "type": "scatterpolargl"
           }
          ],
          "scatterternary": [
           {
            "marker": {
             "colorbar": {
              "outlinewidth": 0,
              "ticks": ""
             }
            },
            "type": "scatterternary"
           }
          ],
          "surface": [
           {
            "colorbar": {
             "outlinewidth": 0,
             "ticks": ""
            },
            "colorscale": [
             [
              0,
              "#0d0887"
             ],
             [
              0.1111111111111111,
              "#46039f"
             ],
             [
              0.2222222222222222,
              "#7201a8"
             ],
             [
              0.3333333333333333,
              "#9c179e"
             ],
             [
              0.4444444444444444,
              "#bd3786"
             ],
             [
              0.5555555555555556,
              "#d8576b"
             ],
             [
              0.6666666666666666,
              "#ed7953"
             ],
             [
              0.7777777777777778,
              "#fb9f3a"
             ],
             [
              0.8888888888888888,
              "#fdca26"
             ],
             [
              1,
              "#f0f921"
             ]
            ],
            "type": "surface"
           }
          ],
          "table": [
           {
            "cells": {
             "fill": {
              "color": "#EBF0F8"
             },
             "line": {
              "color": "white"
             }
            },
            "header": {
             "fill": {
              "color": "#C8D4E3"
             },
             "line": {
              "color": "white"
             }
            },
            "type": "table"
           }
          ]
         },
         "layout": {
          "annotationdefaults": {
           "arrowcolor": "#2a3f5f",
           "arrowhead": 0,
           "arrowwidth": 1
          },
          "autotypenumbers": "strict",
          "coloraxis": {
           "colorbar": {
            "outlinewidth": 0,
            "ticks": ""
           }
          },
          "colorscale": {
           "diverging": [
            [
             0,
             "#8e0152"
            ],
            [
             0.1,
             "#c51b7d"
            ],
            [
             0.2,
             "#de77ae"
            ],
            [
             0.3,
             "#f1b6da"
            ],
            [
             0.4,
             "#fde0ef"
            ],
            [
             0.5,
             "#f7f7f7"
            ],
            [
             0.6,
             "#e6f5d0"
            ],
            [
             0.7,
             "#b8e186"
            ],
            [
             0.8,
             "#7fbc41"
            ],
            [
             0.9,
             "#4d9221"
            ],
            [
             1,
             "#276419"
            ]
           ],
           "sequential": [
            [
             0,
             "#0d0887"
            ],
            [
             0.1111111111111111,
             "#46039f"
            ],
            [
             0.2222222222222222,
             "#7201a8"
            ],
            [
             0.3333333333333333,
             "#9c179e"
            ],
            [
             0.4444444444444444,
             "#bd3786"
            ],
            [
             0.5555555555555556,
             "#d8576b"
            ],
            [
             0.6666666666666666,
             "#ed7953"
            ],
            [
             0.7777777777777778,
             "#fb9f3a"
            ],
            [
             0.8888888888888888,
             "#fdca26"
            ],
            [
             1,
             "#f0f921"
            ]
           ],
           "sequentialminus": [
            [
             0,
             "#0d0887"
            ],
            [
             0.1111111111111111,
             "#46039f"
            ],
            [
             0.2222222222222222,
             "#7201a8"
            ],
            [
             0.3333333333333333,
             "#9c179e"
            ],
            [
             0.4444444444444444,
             "#bd3786"
            ],
            [
             0.5555555555555556,
             "#d8576b"
            ],
            [
             0.6666666666666666,
             "#ed7953"
            ],
            [
             0.7777777777777778,
             "#fb9f3a"
            ],
            [
             0.8888888888888888,
             "#fdca26"
            ],
            [
             1,
             "#f0f921"
            ]
           ]
          },
          "colorway": [
           "#636efa",
           "#EF553B",
           "#00cc96",
           "#ab63fa",
           "#FFA15A",
           "#19d3f3",
           "#FF6692",
           "#B6E880",
           "#FF97FF",
           "#FECB52"
          ],
          "font": {
           "color": "#2a3f5f"
          },
          "geo": {
           "bgcolor": "white",
           "lakecolor": "white",
           "landcolor": "#E5ECF6",
           "showlakes": true,
           "showland": true,
           "subunitcolor": "white"
          },
          "hoverlabel": {
           "align": "left"
          },
          "hovermode": "closest",
          "mapbox": {
           "style": "light"
          },
          "paper_bgcolor": "white",
          "plot_bgcolor": "#E5ECF6",
          "polar": {
           "angularaxis": {
            "gridcolor": "white",
            "linecolor": "white",
            "ticks": ""
           },
           "bgcolor": "#E5ECF6",
           "radialaxis": {
            "gridcolor": "white",
            "linecolor": "white",
            "ticks": ""
           }
          },
          "scene": {
           "xaxis": {
            "backgroundcolor": "#E5ECF6",
            "gridcolor": "white",
            "gridwidth": 2,
            "linecolor": "white",
            "showbackground": true,
            "ticks": "",
            "zerolinecolor": "white"
           },
           "yaxis": {
            "backgroundcolor": "#E5ECF6",
            "gridcolor": "white",
            "gridwidth": 2,
            "linecolor": "white",
            "showbackground": true,
            "ticks": "",
            "zerolinecolor": "white"
           },
           "zaxis": {
            "backgroundcolor": "#E5ECF6",
            "gridcolor": "white",
            "gridwidth": 2,
            "linecolor": "white",
            "showbackground": true,
            "ticks": "",
            "zerolinecolor": "white"
           }
          },
          "shapedefaults": {
           "line": {
            "color": "#2a3f5f"
           }
          },
          "ternary": {
           "aaxis": {
            "gridcolor": "white",
            "linecolor": "white",
            "ticks": ""
           },
           "baxis": {
            "gridcolor": "white",
            "linecolor": "white",
            "ticks": ""
           },
           "bgcolor": "#E5ECF6",
           "caxis": {
            "gridcolor": "white",
            "linecolor": "white",
            "ticks": ""
           }
          },
          "title": {
           "x": 0.05
          },
          "xaxis": {
           "automargin": true,
           "gridcolor": "white",
           "linecolor": "white",
           "ticks": "",
           "title": {
            "standoff": 15
           },
           "zerolinecolor": "white",
           "zerolinewidth": 2
          },
          "yaxis": {
           "automargin": true,
           "gridcolor": "white",
           "linecolor": "white",
           "ticks": "",
           "title": {
            "standoff": 15
           },
           "zerolinecolor": "white",
           "zerolinewidth": 2
          }
         }
        },
        "title": {
         "text": "goals, home v away",
         "x": 0.5
        },
        "xaxis": {
         "range": [
          -4,
          5
         ],
         "showticklabels": false,
         "type": "linear",
         "zerolinecolor": "lightgreen",
         "zerolinewidth": 5
        },
        "yaxis": {
         "autorange": true,
         "range": [
          -0.5,
          0.5
         ],
         "showticklabels": false,
         "type": "category"
        }
       }
      },
      "image/png": "[encoded data removed]",
      "text/html": [
       "<div>                            <div id=\"319f0d1d-053a-4629-ba90-5105841de685\" class=\"plotly-graph-div\" style=\"height:525px; width:100%;\"></div>            <script type=\"text/javascript\">                require([\"plotly\"], function(Plotly) {                    window.PLOTLYENV=window.PLOTLYENV || {};                                    if (document.getElementById(\"319f0d1d-053a-4629-ba90-5105841de685\")) {                    Plotly.newPlot(                        \"319f0d1d-053a-4629-ba90-5105841de685\",                        [{\"customdata\":[[[2]]],\"hovertemplate\":\"Goals: %{customdata}\",\"marker\":{\"color\":[\"teal\"]},\"name\":\"Chelsea, home\",\"orientation\":\"h\",\"x\":[-2],\"y\":[\"A\"],\"type\":\"bar\"},{\"customdata\":[[[3]]],\"hovertemplate\":\"Goals: %{customdata}\",\"marker\":{\"color\":[\"darkblue\"]},\"name\":\"Liverpool, away\",\"orientation\":\"h\",\"x\":[3],\"y\":[\"A\"],\"type\":\"bar\"}],                        {\"template\":{\"data\":{\"histogram2dcontour\":[{\"type\":\"histogram2dcontour\",\"colorbar\":{\"outlinewidth\":0,\"ticks\":\"\"},\"colorscale\":[[0.0,\"#0d0887\"],[0.1111111111111111,\"#46039f\"],[0.2222222222222222,\"#7201a8\"],[0.3333333333333333,\"#9c179e\"],[0.4444444444444444,\"#bd3786\"],[0.5555555555555556,\"#d8576b\"],[0.6666666666666666,\"#ed7953\"],[0.7777777777777778,\"#fb9f3a\"],[0.8888888888888888,\"#fdca26\"],[1.0,\"#f0f921\"]]}],\"choropleth\":[{\"type\":\"choropleth\",\"colorbar\":{\"outlinewidth\":0,\"ticks\":\"\"}}],\"histogram2d\":[{\"type\":\"histogram2d\",\"colorbar\":{\"outlinewidth\":0,\"ticks\":\"\"},\"colorscale\":[[0.0,\"#0d0887\"],[0.1111111111111111,\"#46039f\"],[0.2222222222222222,\"#7201a8\"],[0.3333333333333333,\"#9c179e\"],[0.4444444444444444,\"#bd3786\"],[0.5555555555555556,\"#d8576b\"],[0.6666666666666666,\"#ed7953\"],[0.7777777777777778,\"#fb9f3a\"],[0.8888888888888888,\"#fdca26\"],[1.0,\"#f0f921\"]]}],\"heatmap\":[{\"type\":\"heatmap\",\"colorbar\":{\"outlinewidth\":0,\"ticks\":\"\"},\"colorscale\":[[0.0,\"#0d0887\"],[0.1111111111111111,\"#46039f\"],[0.2222222222222222,\"#7201a8\"],[0.3333333333333333,\"#9c179e\"],[0.4444444444444444,\"#bd3786\"],[0.5555555555555556,\"#d8576b\"],[0.6666666666666666,\"#ed7953\"],[0.7777777777777778,\"#fb9f3a\"],[0.8888888888888888,\"#fdca26\"],[1.0,\"#f0f921\"]]}],\"heatmapgl\":[{\"type\":\"heatmapgl\",\"colorbar\":{\"outlinewidth\":0,\"ticks\":\"\"},\"colorscale\":[[0.0,\"#0d0887\"],[0.1111111111111111,\"#46039f\"],[0.2222222222222222,\"#7201a8\"],[0.3333333333333333,\"#9c179e\"],[0.4444444444444444,\"#bd3786\"],[0.5555555555555556,\"#d8576b\"],[0.6666666666666666,\"#ed7953\"],[0.7777777777777778,\"#fb9f3a\"],[0.8888888888888888,\"#fdca26\"],[1.0,\"#f0f921\"]]}],\"contourcarpet\":[{\"type\":\"contourcarpet\",\"colorbar\":{\"outlinewidth\":0,\"ticks\":\"\"}}],\"contour\":[{\"type\":\"contour\",\"colorbar\":{\"outlinewidth\":0,\"ticks\":\"\"},\"colorscale\":[[0.0,\"#0d0887\"],[0.1111111111111111,\"#46039f\"],[0.2222222222222222,\"#7201a8\"],[0.3333333333333333,\"#9c179e\"],[0.4444444444444444,\"#bd3786\"],[0.5555555555555556,\"#d8576b\"],[0.6666666666666666,\"#ed7953\"],[0.7777777777777778,\"#fb9f3a\"],[0.8888888888888888,\"#fdca26\"],[1.0,\"#f0f921\"]]}],\"surface\":[{\"type\":\"surface\",\"colorbar\":{\"outlinewidth\":0,\"ticks\":\"\"},\"colorscale\":[[0.0,\"#0d0887\"],[0.1111111111111111,\"#46039f\"],[0.2222222222222222,\"#7201a8\"],[0.3333333333333333,\"#9c179e\"],[0.4444444444444444,\"#bd3786\"],[0.5555555555555556,\"#d8576b\"],[0.6666666666666666,\"#ed7953\"],[0.7777777777777778,\"#fb9f3a\"],[0.8888888888888888,\"#fdca26\"],[1.0,\"#f0f921\"]]}],\"mesh3d\":[{\"type\":\"mesh3d\",\"colorbar\":{\"outlinewidth\":0,\"ticks\":\"\"}}],\"scatter\":[{\"fillpattern\":{\"fillmode\":\"overlay\",\"size\":10,\"solidity\":0.2},\"type\":\"scatter\"}],\"parcoords\":[{\"type\":\"parcoords\",\"line\":{\"colorbar\":{\"outlinewidth\":0,\"ticks\":\"\"}}}],\"scatterpolargl\":[{\"type\":\"scatterpolargl\",\"marker\":{\"colorbar\":{\"outlinewidth\":0,\"ticks\":\"\"}}}],\"bar\":[{\"error_x\":{\"color\":\"#2a3f5f\"},\"error_y\":{\"color\":\"#2a3f5f\"},\"marker\":{\"line\":{\"color\":\"#E5ECF6\",\"width\":0.5},\"pattern\":{\"fillmode\":\"overlay\",\"size\":10,\"solidity\":0.2}},\"type\":\"bar\"}],\"scattergeo\":[{\"type\":\"scattergeo\",\"marker\":{\"colorbar\":{\"outlinewidth\":0,\"ticks\":\"\"}}}],\"scatterpolar\":[{\"type\":\"scatterpolar\",\"marker\":{\"colorbar\":{\"outlinewidth\":0,\"ticks\":\"\"}}}],\"histogram\":[{\"marker\":{\"pattern\":{\"fillmode\":\"overlay\",\"size\":10,\"solidity\":0.2}},\"type\":\"histogram\"}],\"scattergl\":[{\"type\":\"scattergl\",\"marker\":{\"colorbar\":{\"outlinewidth\":0,\"ticks\":\"\"}}}],\"scatter3d\":[{\"type\":\"scatter3d\",\"line\":{\"colorbar\":{\"outlinewidth\":0,\"ticks\":\"\"}},\"marker\":{\"colorbar\":{\"outlinewidth\":0,\"ticks\":\"\"}}}],\"scattermapbox\":[{\"type\":\"scattermapbox\",\"marker\":{\"colorbar\":{\"outlinewidth\":0,\"ticks\":\"\"}}}],\"scatterternary\":[{\"type\":\"scatterternary\",\"marker\":{\"colorbar\":{\"outlinewidth\":0,\"ticks\":\"\"}}}],\"scattercarpet\":[{\"type\":\"scattercarpet\",\"marker\":{\"colorbar\":{\"outlinewidth\":0,\"ticks\":\"\"}}}],\"carpet\":[{\"aaxis\":{\"endlinecolor\":\"#2a3f5f\",\"gridcolor\":\"white\",\"linecolor\":\"white\",\"minorgridcolor\":\"white\",\"startlinecolor\":\"#2a3f5f\"},\"baxis\":{\"endlinecolor\":\"#2a3f5f\",\"gridcolor\":\"white\",\"linecolor\":\"white\",\"minorgridcolor\":\"white\",\"startlinecolor\":\"#2a3f5f\"},\"type\":\"carpet\"}],\"table\":[{\"cells\":{\"fill\":{\"color\":\"#EBF0F8\"},\"line\":{\"color\":\"white\"}},\"header\":{\"fill\":{\"color\":\"#C8D4E3\"},\"line\":{\"color\":\"white\"}},\"type\":\"table\"}],\"barpolar\":[{\"marker\":{\"line\":{\"color\":\"#E5ECF6\",\"width\":0.5},\"pattern\":{\"fillmode\":\"overlay\",\"size\":10,\"solidity\":0.2}},\"type\":\"barpolar\"}],\"pie\":[{\"automargin\":true,\"type\":\"pie\"}]},\"layout\":{\"autotypenumbers\":\"strict\",\"colorway\":[\"#636efa\",\"#EF553B\",\"#00cc96\",\"#ab63fa\",\"#FFA15A\",\"#19d3f3\",\"#FF6692\",\"#B6E880\",\"#FF97FF\",\"#FECB52\"],\"font\":{\"color\":\"#2a3f5f\"},\"hovermode\":\"closest\",\"hoverlabel\":{\"align\":\"left\"},\"paper_bgcolor\":\"white\",\"plot_bgcolor\":\"#E5ECF6\",\"polar\":{\"bgcolor\":\"#E5ECF6\",\"angularaxis\":{\"gridcolor\":\"white\",\"linecolor\":\"white\",\"ticks\":\"\"},\"radialaxis\":{\"gridcolor\":\"white\",\"linecolor\":\"white\",\"ticks\":\"\"}},\"ternary\":{\"bgcolor\":\"#E5ECF6\",\"aaxis\":{\"gridcolor\":\"white\",\"linecolor\":\"white\",\"ticks\":\"\"},\"baxis\":{\"gridcolor\":\"white\",\"linecolor\":\"white\",\"ticks\":\"\"},\"caxis\":{\"gridcolor\":\"white\",\"linecolor\":\"white\",\"ticks\":\"\"}},\"coloraxis\":{\"colorbar\":{\"outlinewidth\":0,\"ticks\":\"\"}},\"colorscale\":{\"sequential\":[[0.0,\"#0d0887\"],[0.1111111111111111,\"#46039f\"],[0.2222222222222222,\"#7201a8\"],[0.3333333333333333,\"#9c179e\"],[0.4444444444444444,\"#bd3786\"],[0.5555555555555556,\"#d8576b\"],[0.6666666666666666,\"#ed7953\"],[0.7777777777777778,\"#fb9f3a\"],[0.8888888888888888,\"#fdca26\"],[1.0,\"#f0f921\"]],\"sequentialminus\":[[0.0,\"#0d0887\"],[0.1111111111111111,\"#46039f\"],[0.2222222222222222,\"#7201a8\"],[0.3333333333333333,\"#9c179e\"],[0.4444444444444444,\"#bd3786\"],[0.5555555555555556,\"#d8576b\"],[0.6666666666666666,\"#ed7953\"],[0.7777777777777778,\"#fb9f3a\"],[0.8888888888888888,\"#fdca26\"],[1.0,\"#f0f921\"]],\"diverging\":[[0,\"#8e0152\"],[0.1,\"#c51b7d\"],[0.2,\"#de77ae\"],[0.3,\"#f1b6da\"],[0.4,\"#fde0ef\"],[0.5,\"#f7f7f7\"],[0.6,\"#e6f5d0\"],[0.7,\"#b8e186\"],[0.8,\"#7fbc41\"],[0.9,\"#4d9221\"],[1,\"#276419\"]]},\"xaxis\":{\"gridcolor\":\"white\",\"linecolor\":\"white\",\"ticks\":\"\",\"title\":{\"standoff\":15},\"zerolinecolor\":\"white\",\"automargin\":true,\"zerolinewidth\":2},\"yaxis\":{\"gridcolor\":\"white\",\"linecolor\":\"white\",\"ticks\":\"\",\"title\":{\"standoff\":15},\"zerolinecolor\":\"white\",\"automargin\":true,\"zerolinewidth\":2},\"scene\":{\"xaxis\":{\"backgroundcolor\":\"#E5ECF6\",\"gridcolor\":\"white\",\"linecolor\":\"white\",\"showbackground\":true,\"ticks\":\"\",\"zerolinecolor\":\"white\",\"gridwidth\":2},\"yaxis\":{\"backgroundcolor\":\"#E5ECF6\",\"gridcolor\":\"white\",\"linecolor\":\"white\",\"showbackground\":true,\"ticks\":\"\",\"zerolinecolor\":\"white\",\"gridwidth\":2},\"zaxis\":{\"backgroundcolor\":\"#E5ECF6\",\"gridcolor\":\"white\",\"linecolor\":\"white\",\"showbackground\":true,\"ticks\":\"\",\"zerolinecolor\":\"white\",\"gridwidth\":2}},\"shapedefaults\":{\"line\":{\"color\":\"#2a3f5f\"}},\"annotationdefaults\":{\"arrowcolor\":\"#2a3f5f\",\"arrowhead\":0,\"arrowwidth\":1},\"geo\":{\"bgcolor\":\"white\",\"landcolor\":\"#E5ECF6\",\"subunitcolor\":\"white\",\"showland\":true,\"showlakes\":true,\"lakecolor\":\"white\"},\"title\":{\"x\":0.05},\"mapbox\":{\"style\":\"light\"}}},\"xaxis\":{\"range\":[-4,5],\"zerolinewidth\":5,\"zerolinecolor\":\"lightgreen\",\"showticklabels\":false},\"title\":{\"text\":\"goals, home v away\",\"x\":0.5},\"legend\":{\"title\":{\"text\":\"legend\"},\"orientation\":\"h\"},\"barmode\":\"relative\",\"yaxis\":{\"showticklabels\":false}},                        {\"responsive\": true}                    ).then(function(){\n",
       "                            \n",
       "var gd = document.getElementById('319f0d1d-053a-4629-ba90-5105841de685');\n",
       "var x = new MutationObserver(function (mutations, observer) {{\n",
       "        var display = window.getComputedStyle(gd).display;\n",
       "        if (!display || display === 'none') {{\n",
       "            console.log([gd, 'removed!']);\n",
       "            Plotly.purge(gd);\n",
       "            observer.disconnect();\n",
       "        }}\n",
       "}});\n",
       "\n",
       "// Listen for the removal of the full notebook cells\n",
       "var notebookContainer = gd.closest('#notebook-container');\n",
       "if (notebookContainer) {{\n",
       "    x.observe(notebookContainer, {childList: true});\n",
       "}}\n",
       "\n",
       "// Listen for the clearing of the current output cell\n",
       "var outputEl = gd.closest('.output');\n",
       "if (outputEl) {{\n",
       "    x.observe(outputEl, {childList: true});\n",
       "}}\n",
       "\n",
       "                        })                };                });            </script>        </div>"
      ]
     },
     "metadata": {},
     "output_type": "display_data"
    }
   ],
   "source": [
    "mask1 = ( home[\"team_long_name\"]==\"Chelsea\" )\n",
    "mask2 = ( away[\"team_long_name\"]==\"Liverpool\" )\n",
    "\n",
    "score_output(home, away, mask1, mask2)"
   ]
  }
 ],
 "metadata": {
  "kernelspec": {
   "display_name": "Python 3 (ipykernel)",
   "language": "python",
   "name": "python3"
  },
  "language_info": {
   "codemirror_mode": {
    "name": "ipython",
    "version": 3
   },
   "file_extension": ".py",
   "mimetype": "text/x-python",
   "name": "python",
   "nbconvert_exporter": "python",
   "pygments_lexer": "ipython3",
   "version": "3.12.6"
  }
 },
 "nbformat": 4,
 "nbformat_minor": 5
}
